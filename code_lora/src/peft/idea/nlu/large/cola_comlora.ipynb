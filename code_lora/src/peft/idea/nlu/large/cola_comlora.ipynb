{
 "cells": [
  {
   "cell_type": "code",
   "id": "initial_id",
   "metadata": {
    "collapsed": true,
    "ExecuteTime": {
     "end_time": "2025-01-17T02:29:28.083813Z",
     "start_time": "2025-01-17T02:29:24.705327Z"
    }
   },
   "source": [
    "import argparse\n",
    "import os\n",
    "\n",
    "import torch\n",
    "from torch.optim import AdamW\n",
    "from torch.utils.data import DataLoader\n",
    "from peft import (\n",
    "    get_peft_config,\n",
    "    get_peft_model,\n",
    "    get_peft_model_state_dict,\n",
    "    set_peft_model_state_dict,\n",
    "    LoraConfig,\n",
    "    PeftType,\n",
    "    PrefixTuningConfig,\n",
    "    PromptEncoderConfig,\n",
    "    TaskType,\n",
    ")\n",
    "\n",
    "import evaluate\n",
    "from datasets import load_dataset\n",
    "from transformers import AutoModelForSequenceClassification, AutoTokenizer, get_linear_schedule_with_warmup, set_seed\n",
    "from tqdm import tqdm\n",
    "\n",
    "\n",
    "import warnings\n",
    "\n",
    "warnings.filterwarnings(\"ignore\")"
   ],
   "outputs": [],
   "execution_count": 1
  },
  {
   "metadata": {
    "ExecuteTime": {
     "end_time": "2025-01-17T02:29:28.093187Z",
     "start_time": "2025-01-17T02:29:28.083813Z"
    }
   },
   "cell_type": "code",
   "source": [
    "import numpy as np\n",
    "import random\n",
    "\n",
    "# def set_seed(seed):\n",
    "#     random.seed(seed)\n",
    "#     np.random.seed(seed)\n",
    "#     torch.manual_seed(seed)\n",
    "#     if torch.cuda.is_available():\n",
    "#         torch.cuda.manual_seed_all(seed)\n",
    "# \n",
    "# set_seed(7957)  # 设置固定随机种子"
   ],
   "id": "b82530914c2a63a0",
   "outputs": [],
   "execution_count": 2
  },
  {
   "metadata": {
    "ExecuteTime": {
     "end_time": "2025-01-17T02:29:28.139653Z",
     "start_time": "2025-01-17T02:29:28.136974Z"
    }
   },
   "cell_type": "code",
   "source": "torch.cuda.empty_cache()",
   "id": "b0fb96a9ac42b7d3",
   "outputs": [],
   "execution_count": 3
  },
  {
   "metadata": {
    "ExecuteTime": {
     "end_time": "2025-01-17T02:29:28.145623Z",
     "start_time": "2025-01-17T02:29:28.142820Z"
    }
   },
   "cell_type": "code",
   "source": [
    "device = \"cuda\"\n",
    "batch_size = 4\n",
    "model_name_or_path = \"FacebookAI/roberta-large\"\n",
    "task = \"cola\"\n",
    "peft_type = PeftType.LORA\n",
    "num_epochs = 20\n",
    "lr = 2e-4"
   ],
   "id": "3fe5642f0bb31436",
   "outputs": [],
   "execution_count": 4
  },
  {
   "metadata": {
    "ExecuteTime": {
     "end_time": "2025-01-17T02:29:50.546684Z",
     "start_time": "2025-01-17T02:29:28.149082Z"
    }
   },
   "cell_type": "code",
   "source": [
    "if any(k in model_name_or_path for k in (\"gpt\", \"opt\", \"bloom\")):\n",
    "    padding_side = \"left\"\n",
    "else:\n",
    "    padding_side = \"right\"\n",
    "\n",
    "tokenizer = AutoTokenizer.from_pretrained(model_name_or_path, padding_side=padding_side)\n",
    "if getattr(tokenizer, \"pad_token_id\") is None:\n",
    "    tokenizer.pad_token_id = tokenizer.eos_token_id\n",
    "\n",
    "datasets = load_dataset(\"glue\", task)\n",
    "metric = evaluate.load(\"glue\", task)\n",
    "\n",
    "\n",
    "def tokenize_function(examples):\n",
    "    # max_length=None => use the model max length (it's actually the default)\n",
    "    outputs = tokenizer(examples[\"sentence\"], truncation=True, max_length=128)\n",
    "    return outputs\n",
    "\n",
    "\n",
    "tokenized_datasets = datasets.map(\n",
    "    tokenize_function,\n",
    "    batched=True,\n",
    "    remove_columns=[\"idx\", \"sentence\"],\n",
    ")\n",
    "\n",
    "tokenized_datasets = tokenized_datasets.rename_column(\"label\", \"labels\")\n",
    "\n",
    "\n",
    "def collate_fn(examples):\n",
    "    return tokenizer.pad(examples, padding=\"longest\", return_tensors=\"pt\")\n",
    "\n",
    "\n",
    "# Instantiate dataloaders.\n",
    "train_dataloader = DataLoader(tokenized_datasets[\"train\"], shuffle=True, collate_fn=collate_fn, batch_size=batch_size)\n",
    "eval_dataloader = DataLoader(\n",
    "    tokenized_datasets[\"validation\"], shuffle=False, collate_fn=collate_fn, batch_size=batch_size\n",
    ")"
   ],
   "id": "9edd0e911f7e0693",
   "outputs": [],
   "execution_count": 5
  },
  {
   "metadata": {
    "ExecuteTime": {
     "end_time": "2025-01-17T02:29:50.555985Z",
     "start_time": "2025-01-17T02:29:50.553566Z"
    }
   },
   "cell_type": "code",
   "source": "torch.cuda.empty_cache()",
   "id": "83a305dfcf8cc4ea",
   "outputs": [],
   "execution_count": 6
  },
  {
   "metadata": {
    "ExecuteTime": {
     "end_time": "2025-01-17T02:29:50.570527Z",
     "start_time": "2025-01-17T02:29:50.561939Z"
    }
   },
   "cell_type": "code",
   "source": [
    "peft_config = LoraConfig(task_type=TaskType.SEQ_CLS, inference_mode=False, r=8, lora_alpha=16, lora_dropout=0.1)\n",
    "# target_modules = [\"query\", \"value\"]\n",
    "chain_epoch = 5"
   ],
   "id": "77837772defbf8c9",
   "outputs": [],
   "execution_count": 7
  },
  {
   "metadata": {
    "ExecuteTime": {
     "end_time": "2025-01-17T02:29:51.201506Z",
     "start_time": "2025-01-17T02:29:50.577005Z"
    }
   },
   "cell_type": "code",
   "source": [
    "model = AutoModelForSequenceClassification.from_pretrained(model_name_or_path, return_dict=True, num_labels=2)\n",
    "# model.config.problem_type = \"regression\"\n",
    "model = get_peft_model(model, peft_config)\n",
    "model.print_trainable_parameters()\n",
    "model"
   ],
   "id": "5b1227ae85d6741c",
   "outputs": [
    {
     "name": "stderr",
     "output_type": "stream",
     "text": [
      "Some weights of RobertaForSequenceClassification were not initialized from the model checkpoint at FacebookAI/roberta-large and are newly initialized: ['classifier.dense.bias', 'classifier.dense.weight', 'classifier.out_proj.bias', 'classifier.out_proj.weight']\n",
      "You should probably TRAIN this model on a down-stream task to be able to use it for predictions and inference.\n"
     ]
    },
    {
     "name": "stdout",
     "output_type": "stream",
     "text": [
      "trainable params: 1,838,082 || all params: 357,199,876 || trainable%: 0.5146\n"
     ]
    },
    {
     "data": {
      "text/plain": [
       "PeftModelForSequenceClassification(\n",
       "  (base_model): LoraModel(\n",
       "    (model): RobertaForSequenceClassification(\n",
       "      (roberta): RobertaModel(\n",
       "        (embeddings): RobertaEmbeddings(\n",
       "          (word_embeddings): Embedding(50265, 1024, padding_idx=1)\n",
       "          (position_embeddings): Embedding(514, 1024, padding_idx=1)\n",
       "          (token_type_embeddings): Embedding(1, 1024)\n",
       "          (LayerNorm): LayerNorm((1024,), eps=1e-05, elementwise_affine=True)\n",
       "          (dropout): Dropout(p=0.1, inplace=False)\n",
       "        )\n",
       "        (encoder): RobertaEncoder(\n",
       "          (layer): ModuleList(\n",
       "            (0-23): 24 x RobertaLayer(\n",
       "              (attention): RobertaAttention(\n",
       "                (self): RobertaSdpaSelfAttention(\n",
       "                  (query): lora.Linear(\n",
       "                    (base_layer): Linear(in_features=1024, out_features=1024, bias=True)\n",
       "                    (lora_dropout): ModuleDict(\n",
       "                      (default): Dropout(p=0.1, inplace=False)\n",
       "                    )\n",
       "                    (lora_A): ModuleDict(\n",
       "                      (default): Linear(in_features=1024, out_features=8, bias=False)\n",
       "                    )\n",
       "                    (lora_B): ModuleDict(\n",
       "                      (default): Linear(in_features=8, out_features=1024, bias=False)\n",
       "                    )\n",
       "                    (lora_embedding_A): ParameterDict()\n",
       "                    (lora_embedding_B): ParameterDict()\n",
       "                    (lora_magnitude_vector): ModuleDict()\n",
       "                  )\n",
       "                  (key): Linear(in_features=1024, out_features=1024, bias=True)\n",
       "                  (value): lora.Linear(\n",
       "                    (base_layer): Linear(in_features=1024, out_features=1024, bias=True)\n",
       "                    (lora_dropout): ModuleDict(\n",
       "                      (default): Dropout(p=0.1, inplace=False)\n",
       "                    )\n",
       "                    (lora_A): ModuleDict(\n",
       "                      (default): Linear(in_features=1024, out_features=8, bias=False)\n",
       "                    )\n",
       "                    (lora_B): ModuleDict(\n",
       "                      (default): Linear(in_features=8, out_features=1024, bias=False)\n",
       "                    )\n",
       "                    (lora_embedding_A): ParameterDict()\n",
       "                    (lora_embedding_B): ParameterDict()\n",
       "                    (lora_magnitude_vector): ModuleDict()\n",
       "                  )\n",
       "                  (dropout): Dropout(p=0.1, inplace=False)\n",
       "                )\n",
       "                (output): RobertaSelfOutput(\n",
       "                  (dense): Linear(in_features=1024, out_features=1024, bias=True)\n",
       "                  (LayerNorm): LayerNorm((1024,), eps=1e-05, elementwise_affine=True)\n",
       "                  (dropout): Dropout(p=0.1, inplace=False)\n",
       "                )\n",
       "              )\n",
       "              (intermediate): RobertaIntermediate(\n",
       "                (dense): Linear(in_features=1024, out_features=4096, bias=True)\n",
       "                (intermediate_act_fn): GELUActivation()\n",
       "              )\n",
       "              (output): RobertaOutput(\n",
       "                (dense): Linear(in_features=4096, out_features=1024, bias=True)\n",
       "                (LayerNorm): LayerNorm((1024,), eps=1e-05, elementwise_affine=True)\n",
       "                (dropout): Dropout(p=0.1, inplace=False)\n",
       "              )\n",
       "            )\n",
       "          )\n",
       "        )\n",
       "      )\n",
       "      (classifier): ModulesToSaveWrapper(\n",
       "        (original_module): RobertaClassificationHead(\n",
       "          (dense): Linear(in_features=1024, out_features=1024, bias=True)\n",
       "          (dropout): Dropout(p=0.1, inplace=False)\n",
       "          (out_proj): Linear(in_features=1024, out_features=2, bias=True)\n",
       "        )\n",
       "        (modules_to_save): ModuleDict(\n",
       "          (default): RobertaClassificationHead(\n",
       "            (dense): Linear(in_features=1024, out_features=1024, bias=True)\n",
       "            (dropout): Dropout(p=0.1, inplace=False)\n",
       "            (out_proj): Linear(in_features=1024, out_features=2, bias=True)\n",
       "          )\n",
       "        )\n",
       "      )\n",
       "    )\n",
       "  )\n",
       ")"
      ]
     },
     "execution_count": 8,
     "metadata": {},
     "output_type": "execute_result"
    }
   ],
   "execution_count": 8
  },
  {
   "metadata": {
    "ExecuteTime": {
     "end_time": "2025-01-17T02:29:51.213526Z",
     "start_time": "2025-01-17T02:29:51.210566Z"
    }
   },
   "cell_type": "code",
   "source": [
    "# lambda_orth = 0.02\n",
    "lambda_orth = 0.5\n",
    "# lr_b = lambda_lr * lr_a\n",
    "lambda_lr = 2.0\n",
    "# 每隔 ？ step 计算一次正交性损失\n",
    "orth_interval = 5  "
   ],
   "id": "edcb11f21572ebc9",
   "outputs": [],
   "execution_count": 9
  },
  {
   "metadata": {
    "ExecuteTime": {
     "end_time": "2025-01-17T02:29:51.227928Z",
     "start_time": "2025-01-17T02:29:51.223085Z"
    }
   },
   "cell_type": "code",
   "source": [
    "# 获取LoRA参数\n",
    "lora_params = {n: p for n, p in model.named_parameters() if 'lora' in n}\n",
    "# 分组LoRA参数\n",
    "param_groups = [\n",
    "    {\"params\": [p for n, p in lora_params.items() if 'lora_A' in n], \"lr\": lr},  # A矩阵的学习率\n",
    "    {\"params\": [p for n, p in lora_params.items() if 'lora_B' in n], \"lr\": lambda_lr * lr},  # B矩阵的学习率\n",
    "]\n",
    "optimizer = AdamW(param_groups)\n",
    "\n",
    "#optimizer = AdamW(params=model.parameters(), lr=lr)\n",
    "\n",
    "# Instantiate scheduler\n",
    "lr_scheduler = get_linear_schedule_with_warmup(\n",
    "    optimizer=optimizer,\n",
    "    num_warmup_steps=0.06 * (len(train_dataloader) * chain_epoch),\n",
    "    num_training_steps=(len(train_dataloader) * chain_epoch),\n",
    ")"
   ],
   "id": "e4227e739def5046",
   "outputs": [],
   "execution_count": 10
  },
  {
   "metadata": {
    "ExecuteTime": {
     "end_time": "2025-01-17T02:29:51.243219Z",
     "start_time": "2025-01-17T02:29:51.239947Z"
    }
   },
   "cell_type": "code",
   "source": [
    "saved_lora_a_matrices = []  # 用于保存之前训练的 LoRA 模块的 A 矩阵\n",
    "saved_lora_b_matrices = []  # 用于保存之前训练的 LoRA 模块的 B 矩阵\n",
    "\n",
    "def extract_lora_a_matrices(model):\n",
    "    \"\"\"提取 LoRA 的 A 矩阵\"\"\"\n",
    "    lora_matrices = []\n",
    "    for name, param in model.named_parameters():\n",
    "        if \"lora_A\" in name:  # 识别 LoRA 的 A 矩阵\n",
    "            lora_matrices.append(param.detach().clone())  # 保存当前 A 矩阵\n",
    "    return lora_matrices\n",
    "\n",
    "def extract_lora_b_matrices(model):\n",
    "    \"\"\"提取 LoRA 的 B 矩阵\"\"\"\n",
    "    lora_matrices = []\n",
    "    for name, param in model.named_parameters():\n",
    "        if \"lora_B\" in name:  # 识别 LoRA 的 B 矩阵\n",
    "            lora_matrices.append(param.detach().clone())  # 保存当前 B 矩阵\n",
    "    return lora_matrices"
   ],
   "id": "8bad30b7d78d4a01",
   "outputs": [],
   "execution_count": 11
  },
  {
   "metadata": {
    "ExecuteTime": {
     "end_time": "2025-01-17T02:29:51.256955Z",
     "start_time": "2025-01-17T02:29:51.254012Z"
    }
   },
   "cell_type": "code",
   "source": [
    "def orthogonality_loss(current_matrices, saved_matrices):\n",
    "    \"\"\"计算当前 LoRA 和之前所有 LoRA 的正交性损失\"\"\"\n",
    "    loss = 0\n",
    "    for B_t in current_matrices:\n",
    "        for B_i in saved_matrices:\n",
    "            # 计算 B_t 和 B_i 的正交性\n",
    "            product = torch.matmul(B_t.T, B_i)  # 矩阵乘积\n",
    "            loss += torch.norm(product, p=\"fro\") # Frobenius 范数\n",
    "    return loss\n"
   ],
   "id": "80f6f2c7e205d15e",
   "outputs": [],
   "execution_count": 12
  },
  {
   "metadata": {
    "ExecuteTime": {
     "end_time": "2025-01-17T02:29:51.271511Z",
     "start_time": "2025-01-17T02:29:51.268167Z"
    }
   },
   "cell_type": "code",
   "source": [
    "import re\n",
    "\n",
    "def apply_shared_lora_a_matrices(model, saved_lora_a_matrices):\n",
    "    \"\"\"\n",
    "    将保存的 LoRA A 矩阵应用到当前模型中，并冻结这些参数。\n",
    "    \"\"\"\n",
    "    lora_idx = 0\n",
    "    for name, param in model.named_parameters():\n",
    "        if 'lora_A' in name:  #  A 矩阵的名称包含 'lora_A'\n",
    "            # 提取层和注意力头的信息，例如 \"encoder.layer.0.attention.self.query.lora_A\"\n",
    "            layer_match = re.match(r'.*encoder.layer.(\\d+)\\.attention.self\\.(query|value)\\.lora_A', name)\n",
    "            if layer_match:\n",
    "                layer_num = int(layer_match.group(1))\n",
    "                if layer_num < len(saved_lora_a_matrices) // 2:\n",
    "                    shared_a = saved_lora_a_matrices[lora_idx]\n",
    "                    param.data = shared_a.data.clone() \n",
    "                    # param.requires_grad = False\n",
    "                    print(f\"Applied shared LoRA A matrix for {name}\")\n",
    "                    \n",
    "                    lora_idx += 1\n",
    "                    "
   ],
   "id": "298dbf6259b52d22",
   "outputs": [],
   "execution_count": 13
  },
  {
   "metadata": {
    "ExecuteTime": {
     "end_time": "2025-01-17T02:29:51.286545Z",
     "start_time": "2025-01-17T02:29:51.283508Z"
    }
   },
   "cell_type": "code",
   "source": "print(torch.initial_seed())",
   "id": "6c9d3d9d5ad24e57",
   "outputs": [
    {
     "name": "stdout",
     "output_type": "stream",
     "text": [
      "143958534825700\n"
     ]
    }
   ],
   "execution_count": 14
  },
  {
   "metadata": {
    "ExecuteTime": {
     "end_time": "2025-01-17T02:58:24.538131Z",
     "start_time": "2025-01-17T02:29:51.297849Z"
    }
   },
   "cell_type": "code",
   "source": [
    "model.to(device)\n",
    "for epoch in range(num_epochs):\n",
    "    if epoch != 0 and epoch % chain_epoch == 0:\n",
    "        # 第一组lora的 A 矩阵作为共享 A 矩阵\n",
    "        # epoch == chain_epoch // epoch % chain_epoch == 0\n",
    "        if epoch == chain_epoch:\n",
    "            saved_lora_a_matrices = extract_lora_a_matrices(model)\n",
    "            print(f\"Saved LoRA A matrices at epoch {epoch}\")\n",
    "        \n",
    "        # 提取当前 LoRA 的 B 矩阵\n",
    "        current_lora_b_matrices = extract_lora_b_matrices(model)\n",
    "        # 将当前 B 矩阵保存到列表中\n",
    "        saved_lora_b_matrices.extend(current_lora_b_matrices)\n",
    "        orth_loss = 0.0\n",
    "        \n",
    "        # 合并\n",
    "        model.merge_and_unload()\n",
    "        peft_config.r = 8\n",
    "        \n",
    "        # 拓展\n",
    "        model = get_peft_model(model, peft_config)\n",
    "        # 共享 A\n",
    "        if saved_lora_a_matrices:\n",
    "            apply_shared_lora_a_matrices(model, saved_lora_a_matrices)\n",
    "            # for name, param in model.named_parameters():\n",
    "            #     print(f\"{name}: requires_grad={param.requires_grad}\")\n",
    "            for name, param in model.named_parameters():\n",
    "                if param.requires_grad:\n",
    "                    print(f\"Active parameter: {name}\")\n",
    "\n",
    "        \n",
    "        #重新实例化优化器\n",
    "        # 获取LoRA参数\n",
    "        lora_params = {n: p for n, p in model.named_parameters() if 'lora' in n}\n",
    "        # 分组LoRA参数\n",
    "        param_groups = [\n",
    "            {\"params\": [p for n, p in lora_params.items() if 'lora_A' in n], \"lr\": lr},  # A矩阵的学习率\n",
    "            {\"params\": [p for n, p in lora_params.items() if 'lora_B' in n], \"lr\": lambda_lr * lr},  # B矩阵的学习率\n",
    "        ]\n",
    "        optimizer = AdamW(param_groups)\n",
    "        # optimizer = AdamW(params=model.parameters(), lr=lr)\n",
    "        lr_scheduler = get_linear_schedule_with_warmup(\n",
    "            optimizer=optimizer,\n",
    "            num_warmup_steps=0.06 * (len(train_dataloader) * chain_epoch),\n",
    "            num_training_steps=(len(train_dataloader) * chain_epoch),\n",
    "        )\n",
    "        print(f\"new lora, r = {peft_config.r}:\")\n",
    "        torch.cuda.empty_cache()\n",
    "        \n",
    "        \n",
    "    model.train()\n",
    "    for step, batch in enumerate(tqdm(train_dataloader)):\n",
    "        batch.to(device)\n",
    "        outputs = model(**batch)\n",
    "        \n",
    "        loss = outputs.loss\n",
    "        # task_loss = outputs.loss\n",
    "        if saved_lora_b_matrices and step % orth_interval == 0 and step != 0:\n",
    "            current_lora_b_matrices = extract_lora_b_matrices(model)\n",
    "            orth_loss = orthogonality_loss(current_lora_b_matrices, saved_lora_b_matrices)\n",
    "        else:\n",
    "            orth_loss = 0.0\n",
    "        # 总损失\n",
    "        loss = loss + lambda_orth * orth_loss\n",
    "        \n",
    "        loss.backward()\n",
    "        torch.nn.utils.clip_grad_norm_(model.parameters(), 1.0)\n",
    "        \n",
    "        optimizer.step()\n",
    "        lr_scheduler.step()\n",
    "        optimizer.zero_grad()\n",
    "\n",
    "    model.eval()\n",
    "    for step, batch in enumerate(tqdm(eval_dataloader)):\n",
    "        batch.to(device)\n",
    "        with torch.no_grad():\n",
    "            outputs = model(**batch)\n",
    "        predictions = outputs.logits.argmax(dim=-1)\n",
    "        predictions, references = predictions, batch[\"labels\"]\n",
    "        # predictions = outputs.logits.squeeze().cpu().numpy()\n",
    "        # references = batch[\"labels\"].cpu().numpy() \n",
    "        metric.add_batch(\n",
    "            predictions=predictions,\n",
    "            references=references,\n",
    "        )\n",
    "\n",
    "    eval_metric = metric.compute()\n",
    "    print(f\"epoch {epoch}:\", eval_metric)"
   ],
   "id": "a6b25309e9222f86",
   "outputs": [
    {
     "name": "stderr",
     "output_type": "stream",
     "text": [
      "  0%|          | 0/2138 [00:00<?, ?it/s]You're using a RobertaTokenizerFast tokenizer. Please note that with a fast tokenizer, using the `__call__` method is faster than using a method to encode the text followed by a call to the `pad` method to get a padded encoding.\n",
      "100%|██████████| 2138/2138 [00:51<00:00, 41.29it/s]\n",
      "100%|██████████| 261/261 [00:02<00:00, 110.26it/s]\n"
     ]
    },
    {
     "name": "stdout",
     "output_type": "stream",
     "text": [
      "epoch 0: {'matthews_correlation': 0.5732541217080575}\n"
     ]
    },
    {
     "name": "stderr",
     "output_type": "stream",
     "text": [
      "100%|██████████| 2138/2138 [00:51<00:00, 41.37it/s]\n",
      "100%|██████████| 261/261 [00:02<00:00, 105.05it/s]\n"
     ]
    },
    {
     "name": "stdout",
     "output_type": "stream",
     "text": [
      "epoch 1: {'matthews_correlation': 0.5685115636716958}\n"
     ]
    },
    {
     "name": "stderr",
     "output_type": "stream",
     "text": [
      "100%|██████████| 2138/2138 [00:52<00:00, 40.37it/s]\n",
      "100%|██████████| 261/261 [00:02<00:00, 107.30it/s]\n"
     ]
    },
    {
     "name": "stdout",
     "output_type": "stream",
     "text": [
      "epoch 2: {'matthews_correlation': 0.6082315244746964}\n"
     ]
    },
    {
     "name": "stderr",
     "output_type": "stream",
     "text": [
      "100%|██████████| 2138/2138 [00:52<00:00, 40.58it/s]\n",
      "100%|██████████| 261/261 [00:02<00:00, 102.25it/s]\n"
     ]
    },
    {
     "name": "stdout",
     "output_type": "stream",
     "text": [
      "epoch 3: {'matthews_correlation': 0.6138859958577028}\n"
     ]
    },
    {
     "name": "stderr",
     "output_type": "stream",
     "text": [
      "100%|██████████| 2138/2138 [00:54<00:00, 38.89it/s]\n",
      "100%|██████████| 261/261 [00:02<00:00, 104.00it/s]\n"
     ]
    },
    {
     "name": "stdout",
     "output_type": "stream",
     "text": [
      "epoch 4: {'matthews_correlation': 0.6232164195970928}\n",
      "Saved LoRA A matrices at epoch 5\n",
      "Applied shared LoRA A matrix for base_model.model.base_model.model.roberta.encoder.layer.0.attention.self.query.lora_A.default.weight\n",
      "Applied shared LoRA A matrix for base_model.model.base_model.model.roberta.encoder.layer.0.attention.self.value.lora_A.default.weight\n",
      "Applied shared LoRA A matrix for base_model.model.base_model.model.roberta.encoder.layer.1.attention.self.query.lora_A.default.weight\n",
      "Applied shared LoRA A matrix for base_model.model.base_model.model.roberta.encoder.layer.1.attention.self.value.lora_A.default.weight\n",
      "Applied shared LoRA A matrix for base_model.model.base_model.model.roberta.encoder.layer.2.attention.self.query.lora_A.default.weight\n",
      "Applied shared LoRA A matrix for base_model.model.base_model.model.roberta.encoder.layer.2.attention.self.value.lora_A.default.weight\n",
      "Applied shared LoRA A matrix for base_model.model.base_model.model.roberta.encoder.layer.3.attention.self.query.lora_A.default.weight\n",
      "Applied shared LoRA A matrix for base_model.model.base_model.model.roberta.encoder.layer.3.attention.self.value.lora_A.default.weight\n",
      "Applied shared LoRA A matrix for base_model.model.base_model.model.roberta.encoder.layer.4.attention.self.query.lora_A.default.weight\n",
      "Applied shared LoRA A matrix for base_model.model.base_model.model.roberta.encoder.layer.4.attention.self.value.lora_A.default.weight\n",
      "Applied shared LoRA A matrix for base_model.model.base_model.model.roberta.encoder.layer.5.attention.self.query.lora_A.default.weight\n",
      "Applied shared LoRA A matrix for base_model.model.base_model.model.roberta.encoder.layer.5.attention.self.value.lora_A.default.weight\n",
      "Applied shared LoRA A matrix for base_model.model.base_model.model.roberta.encoder.layer.6.attention.self.query.lora_A.default.weight\n",
      "Applied shared LoRA A matrix for base_model.model.base_model.model.roberta.encoder.layer.6.attention.self.value.lora_A.default.weight\n",
      "Applied shared LoRA A matrix for base_model.model.base_model.model.roberta.encoder.layer.7.attention.self.query.lora_A.default.weight\n",
      "Applied shared LoRA A matrix for base_model.model.base_model.model.roberta.encoder.layer.7.attention.self.value.lora_A.default.weight\n",
      "Applied shared LoRA A matrix for base_model.model.base_model.model.roberta.encoder.layer.8.attention.self.query.lora_A.default.weight\n",
      "Applied shared LoRA A matrix for base_model.model.base_model.model.roberta.encoder.layer.8.attention.self.value.lora_A.default.weight\n",
      "Applied shared LoRA A matrix for base_model.model.base_model.model.roberta.encoder.layer.9.attention.self.query.lora_A.default.weight\n",
      "Applied shared LoRA A matrix for base_model.model.base_model.model.roberta.encoder.layer.9.attention.self.value.lora_A.default.weight\n",
      "Applied shared LoRA A matrix for base_model.model.base_model.model.roberta.encoder.layer.10.attention.self.query.lora_A.default.weight\n",
      "Applied shared LoRA A matrix for base_model.model.base_model.model.roberta.encoder.layer.10.attention.self.value.lora_A.default.weight\n",
      "Applied shared LoRA A matrix for base_model.model.base_model.model.roberta.encoder.layer.11.attention.self.query.lora_A.default.weight\n",
      "Applied shared LoRA A matrix for base_model.model.base_model.model.roberta.encoder.layer.11.attention.self.value.lora_A.default.weight\n",
      "Applied shared LoRA A matrix for base_model.model.base_model.model.roberta.encoder.layer.12.attention.self.query.lora_A.default.weight\n",
      "Applied shared LoRA A matrix for base_model.model.base_model.model.roberta.encoder.layer.12.attention.self.value.lora_A.default.weight\n",
      "Applied shared LoRA A matrix for base_model.model.base_model.model.roberta.encoder.layer.13.attention.self.query.lora_A.default.weight\n",
      "Applied shared LoRA A matrix for base_model.model.base_model.model.roberta.encoder.layer.13.attention.self.value.lora_A.default.weight\n",
      "Applied shared LoRA A matrix for base_model.model.base_model.model.roberta.encoder.layer.14.attention.self.query.lora_A.default.weight\n",
      "Applied shared LoRA A matrix for base_model.model.base_model.model.roberta.encoder.layer.14.attention.self.value.lora_A.default.weight\n",
      "Applied shared LoRA A matrix for base_model.model.base_model.model.roberta.encoder.layer.15.attention.self.query.lora_A.default.weight\n",
      "Applied shared LoRA A matrix for base_model.model.base_model.model.roberta.encoder.layer.15.attention.self.value.lora_A.default.weight\n",
      "Applied shared LoRA A matrix for base_model.model.base_model.model.roberta.encoder.layer.16.attention.self.query.lora_A.default.weight\n",
      "Applied shared LoRA A matrix for base_model.model.base_model.model.roberta.encoder.layer.16.attention.self.value.lora_A.default.weight\n",
      "Applied shared LoRA A matrix for base_model.model.base_model.model.roberta.encoder.layer.17.attention.self.query.lora_A.default.weight\n",
      "Applied shared LoRA A matrix for base_model.model.base_model.model.roberta.encoder.layer.17.attention.self.value.lora_A.default.weight\n",
      "Applied shared LoRA A matrix for base_model.model.base_model.model.roberta.encoder.layer.18.attention.self.query.lora_A.default.weight\n",
      "Applied shared LoRA A matrix for base_model.model.base_model.model.roberta.encoder.layer.18.attention.self.value.lora_A.default.weight\n",
      "Applied shared LoRA A matrix for base_model.model.base_model.model.roberta.encoder.layer.19.attention.self.query.lora_A.default.weight\n",
      "Applied shared LoRA A matrix for base_model.model.base_model.model.roberta.encoder.layer.19.attention.self.value.lora_A.default.weight\n",
      "Applied shared LoRA A matrix for base_model.model.base_model.model.roberta.encoder.layer.20.attention.self.query.lora_A.default.weight\n",
      "Applied shared LoRA A matrix for base_model.model.base_model.model.roberta.encoder.layer.20.attention.self.value.lora_A.default.weight\n",
      "Applied shared LoRA A matrix for base_model.model.base_model.model.roberta.encoder.layer.21.attention.self.query.lora_A.default.weight\n",
      "Applied shared LoRA A matrix for base_model.model.base_model.model.roberta.encoder.layer.21.attention.self.value.lora_A.default.weight\n",
      "Applied shared LoRA A matrix for base_model.model.base_model.model.roberta.encoder.layer.22.attention.self.query.lora_A.default.weight\n",
      "Applied shared LoRA A matrix for base_model.model.base_model.model.roberta.encoder.layer.22.attention.self.value.lora_A.default.weight\n",
      "Applied shared LoRA A matrix for base_model.model.base_model.model.roberta.encoder.layer.23.attention.self.query.lora_A.default.weight\n",
      "Applied shared LoRA A matrix for base_model.model.base_model.model.roberta.encoder.layer.23.attention.self.value.lora_A.default.weight\n",
      "Active parameter: base_model.model.base_model.model.roberta.encoder.layer.0.attention.self.query.lora_A.default.weight\n",
      "Active parameter: base_model.model.base_model.model.roberta.encoder.layer.0.attention.self.query.lora_B.default.weight\n",
      "Active parameter: base_model.model.base_model.model.roberta.encoder.layer.0.attention.self.value.lora_A.default.weight\n",
      "Active parameter: base_model.model.base_model.model.roberta.encoder.layer.0.attention.self.value.lora_B.default.weight\n",
      "Active parameter: base_model.model.base_model.model.roberta.encoder.layer.1.attention.self.query.lora_A.default.weight\n",
      "Active parameter: base_model.model.base_model.model.roberta.encoder.layer.1.attention.self.query.lora_B.default.weight\n",
      "Active parameter: base_model.model.base_model.model.roberta.encoder.layer.1.attention.self.value.lora_A.default.weight\n",
      "Active parameter: base_model.model.base_model.model.roberta.encoder.layer.1.attention.self.value.lora_B.default.weight\n",
      "Active parameter: base_model.model.base_model.model.roberta.encoder.layer.2.attention.self.query.lora_A.default.weight\n",
      "Active parameter: base_model.model.base_model.model.roberta.encoder.layer.2.attention.self.query.lora_B.default.weight\n",
      "Active parameter: base_model.model.base_model.model.roberta.encoder.layer.2.attention.self.value.lora_A.default.weight\n",
      "Active parameter: base_model.model.base_model.model.roberta.encoder.layer.2.attention.self.value.lora_B.default.weight\n",
      "Active parameter: base_model.model.base_model.model.roberta.encoder.layer.3.attention.self.query.lora_A.default.weight\n",
      "Active parameter: base_model.model.base_model.model.roberta.encoder.layer.3.attention.self.query.lora_B.default.weight\n",
      "Active parameter: base_model.model.base_model.model.roberta.encoder.layer.3.attention.self.value.lora_A.default.weight\n",
      "Active parameter: base_model.model.base_model.model.roberta.encoder.layer.3.attention.self.value.lora_B.default.weight\n",
      "Active parameter: base_model.model.base_model.model.roberta.encoder.layer.4.attention.self.query.lora_A.default.weight\n",
      "Active parameter: base_model.model.base_model.model.roberta.encoder.layer.4.attention.self.query.lora_B.default.weight\n",
      "Active parameter: base_model.model.base_model.model.roberta.encoder.layer.4.attention.self.value.lora_A.default.weight\n",
      "Active parameter: base_model.model.base_model.model.roberta.encoder.layer.4.attention.self.value.lora_B.default.weight\n",
      "Active parameter: base_model.model.base_model.model.roberta.encoder.layer.5.attention.self.query.lora_A.default.weight\n",
      "Active parameter: base_model.model.base_model.model.roberta.encoder.layer.5.attention.self.query.lora_B.default.weight\n",
      "Active parameter: base_model.model.base_model.model.roberta.encoder.layer.5.attention.self.value.lora_A.default.weight\n",
      "Active parameter: base_model.model.base_model.model.roberta.encoder.layer.5.attention.self.value.lora_B.default.weight\n",
      "Active parameter: base_model.model.base_model.model.roberta.encoder.layer.6.attention.self.query.lora_A.default.weight\n",
      "Active parameter: base_model.model.base_model.model.roberta.encoder.layer.6.attention.self.query.lora_B.default.weight\n",
      "Active parameter: base_model.model.base_model.model.roberta.encoder.layer.6.attention.self.value.lora_A.default.weight\n",
      "Active parameter: base_model.model.base_model.model.roberta.encoder.layer.6.attention.self.value.lora_B.default.weight\n",
      "Active parameter: base_model.model.base_model.model.roberta.encoder.layer.7.attention.self.query.lora_A.default.weight\n",
      "Active parameter: base_model.model.base_model.model.roberta.encoder.layer.7.attention.self.query.lora_B.default.weight\n",
      "Active parameter: base_model.model.base_model.model.roberta.encoder.layer.7.attention.self.value.lora_A.default.weight\n",
      "Active parameter: base_model.model.base_model.model.roberta.encoder.layer.7.attention.self.value.lora_B.default.weight\n",
      "Active parameter: base_model.model.base_model.model.roberta.encoder.layer.8.attention.self.query.lora_A.default.weight\n",
      "Active parameter: base_model.model.base_model.model.roberta.encoder.layer.8.attention.self.query.lora_B.default.weight\n",
      "Active parameter: base_model.model.base_model.model.roberta.encoder.layer.8.attention.self.value.lora_A.default.weight\n",
      "Active parameter: base_model.model.base_model.model.roberta.encoder.layer.8.attention.self.value.lora_B.default.weight\n",
      "Active parameter: base_model.model.base_model.model.roberta.encoder.layer.9.attention.self.query.lora_A.default.weight\n",
      "Active parameter: base_model.model.base_model.model.roberta.encoder.layer.9.attention.self.query.lora_B.default.weight\n",
      "Active parameter: base_model.model.base_model.model.roberta.encoder.layer.9.attention.self.value.lora_A.default.weight\n",
      "Active parameter: base_model.model.base_model.model.roberta.encoder.layer.9.attention.self.value.lora_B.default.weight\n",
      "Active parameter: base_model.model.base_model.model.roberta.encoder.layer.10.attention.self.query.lora_A.default.weight\n",
      "Active parameter: base_model.model.base_model.model.roberta.encoder.layer.10.attention.self.query.lora_B.default.weight\n",
      "Active parameter: base_model.model.base_model.model.roberta.encoder.layer.10.attention.self.value.lora_A.default.weight\n",
      "Active parameter: base_model.model.base_model.model.roberta.encoder.layer.10.attention.self.value.lora_B.default.weight\n",
      "Active parameter: base_model.model.base_model.model.roberta.encoder.layer.11.attention.self.query.lora_A.default.weight\n",
      "Active parameter: base_model.model.base_model.model.roberta.encoder.layer.11.attention.self.query.lora_B.default.weight\n",
      "Active parameter: base_model.model.base_model.model.roberta.encoder.layer.11.attention.self.value.lora_A.default.weight\n",
      "Active parameter: base_model.model.base_model.model.roberta.encoder.layer.11.attention.self.value.lora_B.default.weight\n",
      "Active parameter: base_model.model.base_model.model.roberta.encoder.layer.12.attention.self.query.lora_A.default.weight\n",
      "Active parameter: base_model.model.base_model.model.roberta.encoder.layer.12.attention.self.query.lora_B.default.weight\n",
      "Active parameter: base_model.model.base_model.model.roberta.encoder.layer.12.attention.self.value.lora_A.default.weight\n",
      "Active parameter: base_model.model.base_model.model.roberta.encoder.layer.12.attention.self.value.lora_B.default.weight\n",
      "Active parameter: base_model.model.base_model.model.roberta.encoder.layer.13.attention.self.query.lora_A.default.weight\n",
      "Active parameter: base_model.model.base_model.model.roberta.encoder.layer.13.attention.self.query.lora_B.default.weight\n",
      "Active parameter: base_model.model.base_model.model.roberta.encoder.layer.13.attention.self.value.lora_A.default.weight\n",
      "Active parameter: base_model.model.base_model.model.roberta.encoder.layer.13.attention.self.value.lora_B.default.weight\n",
      "Active parameter: base_model.model.base_model.model.roberta.encoder.layer.14.attention.self.query.lora_A.default.weight\n",
      "Active parameter: base_model.model.base_model.model.roberta.encoder.layer.14.attention.self.query.lora_B.default.weight\n",
      "Active parameter: base_model.model.base_model.model.roberta.encoder.layer.14.attention.self.value.lora_A.default.weight\n",
      "Active parameter: base_model.model.base_model.model.roberta.encoder.layer.14.attention.self.value.lora_B.default.weight\n",
      "Active parameter: base_model.model.base_model.model.roberta.encoder.layer.15.attention.self.query.lora_A.default.weight\n",
      "Active parameter: base_model.model.base_model.model.roberta.encoder.layer.15.attention.self.query.lora_B.default.weight\n",
      "Active parameter: base_model.model.base_model.model.roberta.encoder.layer.15.attention.self.value.lora_A.default.weight\n",
      "Active parameter: base_model.model.base_model.model.roberta.encoder.layer.15.attention.self.value.lora_B.default.weight\n",
      "Active parameter: base_model.model.base_model.model.roberta.encoder.layer.16.attention.self.query.lora_A.default.weight\n",
      "Active parameter: base_model.model.base_model.model.roberta.encoder.layer.16.attention.self.query.lora_B.default.weight\n",
      "Active parameter: base_model.model.base_model.model.roberta.encoder.layer.16.attention.self.value.lora_A.default.weight\n",
      "Active parameter: base_model.model.base_model.model.roberta.encoder.layer.16.attention.self.value.lora_B.default.weight\n",
      "Active parameter: base_model.model.base_model.model.roberta.encoder.layer.17.attention.self.query.lora_A.default.weight\n",
      "Active parameter: base_model.model.base_model.model.roberta.encoder.layer.17.attention.self.query.lora_B.default.weight\n",
      "Active parameter: base_model.model.base_model.model.roberta.encoder.layer.17.attention.self.value.lora_A.default.weight\n",
      "Active parameter: base_model.model.base_model.model.roberta.encoder.layer.17.attention.self.value.lora_B.default.weight\n",
      "Active parameter: base_model.model.base_model.model.roberta.encoder.layer.18.attention.self.query.lora_A.default.weight\n",
      "Active parameter: base_model.model.base_model.model.roberta.encoder.layer.18.attention.self.query.lora_B.default.weight\n",
      "Active parameter: base_model.model.base_model.model.roberta.encoder.layer.18.attention.self.value.lora_A.default.weight\n",
      "Active parameter: base_model.model.base_model.model.roberta.encoder.layer.18.attention.self.value.lora_B.default.weight\n",
      "Active parameter: base_model.model.base_model.model.roberta.encoder.layer.19.attention.self.query.lora_A.default.weight\n",
      "Active parameter: base_model.model.base_model.model.roberta.encoder.layer.19.attention.self.query.lora_B.default.weight\n",
      "Active parameter: base_model.model.base_model.model.roberta.encoder.layer.19.attention.self.value.lora_A.default.weight\n",
      "Active parameter: base_model.model.base_model.model.roberta.encoder.layer.19.attention.self.value.lora_B.default.weight\n",
      "Active parameter: base_model.model.base_model.model.roberta.encoder.layer.20.attention.self.query.lora_A.default.weight\n",
      "Active parameter: base_model.model.base_model.model.roberta.encoder.layer.20.attention.self.query.lora_B.default.weight\n",
      "Active parameter: base_model.model.base_model.model.roberta.encoder.layer.20.attention.self.value.lora_A.default.weight\n",
      "Active parameter: base_model.model.base_model.model.roberta.encoder.layer.20.attention.self.value.lora_B.default.weight\n",
      "Active parameter: base_model.model.base_model.model.roberta.encoder.layer.21.attention.self.query.lora_A.default.weight\n",
      "Active parameter: base_model.model.base_model.model.roberta.encoder.layer.21.attention.self.query.lora_B.default.weight\n",
      "Active parameter: base_model.model.base_model.model.roberta.encoder.layer.21.attention.self.value.lora_A.default.weight\n",
      "Active parameter: base_model.model.base_model.model.roberta.encoder.layer.21.attention.self.value.lora_B.default.weight\n",
      "Active parameter: base_model.model.base_model.model.roberta.encoder.layer.22.attention.self.query.lora_A.default.weight\n",
      "Active parameter: base_model.model.base_model.model.roberta.encoder.layer.22.attention.self.query.lora_B.default.weight\n",
      "Active parameter: base_model.model.base_model.model.roberta.encoder.layer.22.attention.self.value.lora_A.default.weight\n",
      "Active parameter: base_model.model.base_model.model.roberta.encoder.layer.22.attention.self.value.lora_B.default.weight\n",
      "Active parameter: base_model.model.base_model.model.roberta.encoder.layer.23.attention.self.query.lora_A.default.weight\n",
      "Active parameter: base_model.model.base_model.model.roberta.encoder.layer.23.attention.self.query.lora_B.default.weight\n",
      "Active parameter: base_model.model.base_model.model.roberta.encoder.layer.23.attention.self.value.lora_A.default.weight\n",
      "Active parameter: base_model.model.base_model.model.roberta.encoder.layer.23.attention.self.value.lora_B.default.weight\n",
      "Active parameter: base_model.model.base_model.model.classifier.modules_to_save.default.dense.weight\n",
      "Active parameter: base_model.model.base_model.model.classifier.modules_to_save.default.dense.bias\n",
      "Active parameter: base_model.model.base_model.model.classifier.modules_to_save.default.out_proj.weight\n",
      "Active parameter: base_model.model.base_model.model.classifier.modules_to_save.default.out_proj.bias\n",
      "new lora, r = 8:\n"
     ]
    },
    {
     "name": "stderr",
     "output_type": "stream",
     "text": [
      "100%|██████████| 2138/2138 [01:12<00:00, 29.67it/s]\n",
      "100%|██████████| 261/261 [00:02<00:00, 101.35it/s]\n"
     ]
    },
    {
     "name": "stdout",
     "output_type": "stream",
     "text": [
      "epoch 5: {'matthews_correlation': 0.6007621359415751}\n"
     ]
    },
    {
     "name": "stderr",
     "output_type": "stream",
     "text": [
      "100%|██████████| 2138/2138 [01:13<00:00, 29.02it/s]\n",
      "100%|██████████| 261/261 [00:02<00:00, 102.61it/s]\n"
     ]
    },
    {
     "name": "stdout",
     "output_type": "stream",
     "text": [
      "epoch 6: {'matthews_correlation': 0.6456336879168435}\n"
     ]
    },
    {
     "name": "stderr",
     "output_type": "stream",
     "text": [
      "100%|██████████| 2138/2138 [01:14<00:00, 28.83it/s]\n",
      "100%|██████████| 261/261 [00:02<00:00, 104.38it/s]\n"
     ]
    },
    {
     "name": "stdout",
     "output_type": "stream",
     "text": [
      "epoch 7: {'matthews_correlation': 0.6157026456344282}\n"
     ]
    },
    {
     "name": "stderr",
     "output_type": "stream",
     "text": [
      "100%|██████████| 2138/2138 [01:11<00:00, 29.73it/s]\n",
      "100%|██████████| 261/261 [00:02<00:00, 108.52it/s]\n"
     ]
    },
    {
     "name": "stdout",
     "output_type": "stream",
     "text": [
      "epoch 8: {'matthews_correlation': 0.6211792102998565}\n"
     ]
    },
    {
     "name": "stderr",
     "output_type": "stream",
     "text": [
      "100%|██████████| 2138/2138 [01:13<00:00, 29.08it/s]\n",
      "100%|██████████| 261/261 [00:02<00:00, 110.94it/s]\n"
     ]
    },
    {
     "name": "stdout",
     "output_type": "stream",
     "text": [
      "epoch 9: {'matthews_correlation': 0.6308492465006725}\n",
      "Applied shared LoRA A matrix for base_model.model.base_model.model.base_model.model.roberta.encoder.layer.0.attention.self.query.lora_A.default.weight\n",
      "Applied shared LoRA A matrix for base_model.model.base_model.model.base_model.model.roberta.encoder.layer.0.attention.self.value.lora_A.default.weight\n",
      "Applied shared LoRA A matrix for base_model.model.base_model.model.base_model.model.roberta.encoder.layer.1.attention.self.query.lora_A.default.weight\n",
      "Applied shared LoRA A matrix for base_model.model.base_model.model.base_model.model.roberta.encoder.layer.1.attention.self.value.lora_A.default.weight\n",
      "Applied shared LoRA A matrix for base_model.model.base_model.model.base_model.model.roberta.encoder.layer.2.attention.self.query.lora_A.default.weight\n",
      "Applied shared LoRA A matrix for base_model.model.base_model.model.base_model.model.roberta.encoder.layer.2.attention.self.value.lora_A.default.weight\n",
      "Applied shared LoRA A matrix for base_model.model.base_model.model.base_model.model.roberta.encoder.layer.3.attention.self.query.lora_A.default.weight\n",
      "Applied shared LoRA A matrix for base_model.model.base_model.model.base_model.model.roberta.encoder.layer.3.attention.self.value.lora_A.default.weight\n",
      "Applied shared LoRA A matrix for base_model.model.base_model.model.base_model.model.roberta.encoder.layer.4.attention.self.query.lora_A.default.weight\n",
      "Applied shared LoRA A matrix for base_model.model.base_model.model.base_model.model.roberta.encoder.layer.4.attention.self.value.lora_A.default.weight\n",
      "Applied shared LoRA A matrix for base_model.model.base_model.model.base_model.model.roberta.encoder.layer.5.attention.self.query.lora_A.default.weight\n",
      "Applied shared LoRA A matrix for base_model.model.base_model.model.base_model.model.roberta.encoder.layer.5.attention.self.value.lora_A.default.weight\n",
      "Applied shared LoRA A matrix for base_model.model.base_model.model.base_model.model.roberta.encoder.layer.6.attention.self.query.lora_A.default.weight\n",
      "Applied shared LoRA A matrix for base_model.model.base_model.model.base_model.model.roberta.encoder.layer.6.attention.self.value.lora_A.default.weight\n",
      "Applied shared LoRA A matrix for base_model.model.base_model.model.base_model.model.roberta.encoder.layer.7.attention.self.query.lora_A.default.weight\n",
      "Applied shared LoRA A matrix for base_model.model.base_model.model.base_model.model.roberta.encoder.layer.7.attention.self.value.lora_A.default.weight\n",
      "Applied shared LoRA A matrix for base_model.model.base_model.model.base_model.model.roberta.encoder.layer.8.attention.self.query.lora_A.default.weight\n",
      "Applied shared LoRA A matrix for base_model.model.base_model.model.base_model.model.roberta.encoder.layer.8.attention.self.value.lora_A.default.weight\n",
      "Applied shared LoRA A matrix for base_model.model.base_model.model.base_model.model.roberta.encoder.layer.9.attention.self.query.lora_A.default.weight\n",
      "Applied shared LoRA A matrix for base_model.model.base_model.model.base_model.model.roberta.encoder.layer.9.attention.self.value.lora_A.default.weight\n",
      "Applied shared LoRA A matrix for base_model.model.base_model.model.base_model.model.roberta.encoder.layer.10.attention.self.query.lora_A.default.weight\n",
      "Applied shared LoRA A matrix for base_model.model.base_model.model.base_model.model.roberta.encoder.layer.10.attention.self.value.lora_A.default.weight\n",
      "Applied shared LoRA A matrix for base_model.model.base_model.model.base_model.model.roberta.encoder.layer.11.attention.self.query.lora_A.default.weight\n",
      "Applied shared LoRA A matrix for base_model.model.base_model.model.base_model.model.roberta.encoder.layer.11.attention.self.value.lora_A.default.weight\n",
      "Applied shared LoRA A matrix for base_model.model.base_model.model.base_model.model.roberta.encoder.layer.12.attention.self.query.lora_A.default.weight\n",
      "Applied shared LoRA A matrix for base_model.model.base_model.model.base_model.model.roberta.encoder.layer.12.attention.self.value.lora_A.default.weight\n",
      "Applied shared LoRA A matrix for base_model.model.base_model.model.base_model.model.roberta.encoder.layer.13.attention.self.query.lora_A.default.weight\n",
      "Applied shared LoRA A matrix for base_model.model.base_model.model.base_model.model.roberta.encoder.layer.13.attention.self.value.lora_A.default.weight\n",
      "Applied shared LoRA A matrix for base_model.model.base_model.model.base_model.model.roberta.encoder.layer.14.attention.self.query.lora_A.default.weight\n",
      "Applied shared LoRA A matrix for base_model.model.base_model.model.base_model.model.roberta.encoder.layer.14.attention.self.value.lora_A.default.weight\n",
      "Applied shared LoRA A matrix for base_model.model.base_model.model.base_model.model.roberta.encoder.layer.15.attention.self.query.lora_A.default.weight\n",
      "Applied shared LoRA A matrix for base_model.model.base_model.model.base_model.model.roberta.encoder.layer.15.attention.self.value.lora_A.default.weight\n",
      "Applied shared LoRA A matrix for base_model.model.base_model.model.base_model.model.roberta.encoder.layer.16.attention.self.query.lora_A.default.weight\n",
      "Applied shared LoRA A matrix for base_model.model.base_model.model.base_model.model.roberta.encoder.layer.16.attention.self.value.lora_A.default.weight\n",
      "Applied shared LoRA A matrix for base_model.model.base_model.model.base_model.model.roberta.encoder.layer.17.attention.self.query.lora_A.default.weight\n",
      "Applied shared LoRA A matrix for base_model.model.base_model.model.base_model.model.roberta.encoder.layer.17.attention.self.value.lora_A.default.weight\n",
      "Applied shared LoRA A matrix for base_model.model.base_model.model.base_model.model.roberta.encoder.layer.18.attention.self.query.lora_A.default.weight\n",
      "Applied shared LoRA A matrix for base_model.model.base_model.model.base_model.model.roberta.encoder.layer.18.attention.self.value.lora_A.default.weight\n",
      "Applied shared LoRA A matrix for base_model.model.base_model.model.base_model.model.roberta.encoder.layer.19.attention.self.query.lora_A.default.weight\n",
      "Applied shared LoRA A matrix for base_model.model.base_model.model.base_model.model.roberta.encoder.layer.19.attention.self.value.lora_A.default.weight\n",
      "Applied shared LoRA A matrix for base_model.model.base_model.model.base_model.model.roberta.encoder.layer.20.attention.self.query.lora_A.default.weight\n",
      "Applied shared LoRA A matrix for base_model.model.base_model.model.base_model.model.roberta.encoder.layer.20.attention.self.value.lora_A.default.weight\n",
      "Applied shared LoRA A matrix for base_model.model.base_model.model.base_model.model.roberta.encoder.layer.21.attention.self.query.lora_A.default.weight\n",
      "Applied shared LoRA A matrix for base_model.model.base_model.model.base_model.model.roberta.encoder.layer.21.attention.self.value.lora_A.default.weight\n",
      "Applied shared LoRA A matrix for base_model.model.base_model.model.base_model.model.roberta.encoder.layer.22.attention.self.query.lora_A.default.weight\n",
      "Applied shared LoRA A matrix for base_model.model.base_model.model.base_model.model.roberta.encoder.layer.22.attention.self.value.lora_A.default.weight\n",
      "Applied shared LoRA A matrix for base_model.model.base_model.model.base_model.model.roberta.encoder.layer.23.attention.self.query.lora_A.default.weight\n",
      "Applied shared LoRA A matrix for base_model.model.base_model.model.base_model.model.roberta.encoder.layer.23.attention.self.value.lora_A.default.weight\n",
      "Active parameter: base_model.model.base_model.model.base_model.model.roberta.encoder.layer.0.attention.self.query.lora_A.default.weight\n",
      "Active parameter: base_model.model.base_model.model.base_model.model.roberta.encoder.layer.0.attention.self.query.lora_B.default.weight\n",
      "Active parameter: base_model.model.base_model.model.base_model.model.roberta.encoder.layer.0.attention.self.value.lora_A.default.weight\n",
      "Active parameter: base_model.model.base_model.model.base_model.model.roberta.encoder.layer.0.attention.self.value.lora_B.default.weight\n",
      "Active parameter: base_model.model.base_model.model.base_model.model.roberta.encoder.layer.1.attention.self.query.lora_A.default.weight\n",
      "Active parameter: base_model.model.base_model.model.base_model.model.roberta.encoder.layer.1.attention.self.query.lora_B.default.weight\n",
      "Active parameter: base_model.model.base_model.model.base_model.model.roberta.encoder.layer.1.attention.self.value.lora_A.default.weight\n",
      "Active parameter: base_model.model.base_model.model.base_model.model.roberta.encoder.layer.1.attention.self.value.lora_B.default.weight\n",
      "Active parameter: base_model.model.base_model.model.base_model.model.roberta.encoder.layer.2.attention.self.query.lora_A.default.weight\n",
      "Active parameter: base_model.model.base_model.model.base_model.model.roberta.encoder.layer.2.attention.self.query.lora_B.default.weight\n",
      "Active parameter: base_model.model.base_model.model.base_model.model.roberta.encoder.layer.2.attention.self.value.lora_A.default.weight\n",
      "Active parameter: base_model.model.base_model.model.base_model.model.roberta.encoder.layer.2.attention.self.value.lora_B.default.weight\n",
      "Active parameter: base_model.model.base_model.model.base_model.model.roberta.encoder.layer.3.attention.self.query.lora_A.default.weight\n",
      "Active parameter: base_model.model.base_model.model.base_model.model.roberta.encoder.layer.3.attention.self.query.lora_B.default.weight\n",
      "Active parameter: base_model.model.base_model.model.base_model.model.roberta.encoder.layer.3.attention.self.value.lora_A.default.weight\n",
      "Active parameter: base_model.model.base_model.model.base_model.model.roberta.encoder.layer.3.attention.self.value.lora_B.default.weight\n",
      "Active parameter: base_model.model.base_model.model.base_model.model.roberta.encoder.layer.4.attention.self.query.lora_A.default.weight\n",
      "Active parameter: base_model.model.base_model.model.base_model.model.roberta.encoder.layer.4.attention.self.query.lora_B.default.weight\n",
      "Active parameter: base_model.model.base_model.model.base_model.model.roberta.encoder.layer.4.attention.self.value.lora_A.default.weight\n",
      "Active parameter: base_model.model.base_model.model.base_model.model.roberta.encoder.layer.4.attention.self.value.lora_B.default.weight\n",
      "Active parameter: base_model.model.base_model.model.base_model.model.roberta.encoder.layer.5.attention.self.query.lora_A.default.weight\n",
      "Active parameter: base_model.model.base_model.model.base_model.model.roberta.encoder.layer.5.attention.self.query.lora_B.default.weight\n",
      "Active parameter: base_model.model.base_model.model.base_model.model.roberta.encoder.layer.5.attention.self.value.lora_A.default.weight\n",
      "Active parameter: base_model.model.base_model.model.base_model.model.roberta.encoder.layer.5.attention.self.value.lora_B.default.weight\n",
      "Active parameter: base_model.model.base_model.model.base_model.model.roberta.encoder.layer.6.attention.self.query.lora_A.default.weight\n",
      "Active parameter: base_model.model.base_model.model.base_model.model.roberta.encoder.layer.6.attention.self.query.lora_B.default.weight\n",
      "Active parameter: base_model.model.base_model.model.base_model.model.roberta.encoder.layer.6.attention.self.value.lora_A.default.weight\n",
      "Active parameter: base_model.model.base_model.model.base_model.model.roberta.encoder.layer.6.attention.self.value.lora_B.default.weight\n",
      "Active parameter: base_model.model.base_model.model.base_model.model.roberta.encoder.layer.7.attention.self.query.lora_A.default.weight\n",
      "Active parameter: base_model.model.base_model.model.base_model.model.roberta.encoder.layer.7.attention.self.query.lora_B.default.weight\n",
      "Active parameter: base_model.model.base_model.model.base_model.model.roberta.encoder.layer.7.attention.self.value.lora_A.default.weight\n",
      "Active parameter: base_model.model.base_model.model.base_model.model.roberta.encoder.layer.7.attention.self.value.lora_B.default.weight\n",
      "Active parameter: base_model.model.base_model.model.base_model.model.roberta.encoder.layer.8.attention.self.query.lora_A.default.weight\n",
      "Active parameter: base_model.model.base_model.model.base_model.model.roberta.encoder.layer.8.attention.self.query.lora_B.default.weight\n",
      "Active parameter: base_model.model.base_model.model.base_model.model.roberta.encoder.layer.8.attention.self.value.lora_A.default.weight\n",
      "Active parameter: base_model.model.base_model.model.base_model.model.roberta.encoder.layer.8.attention.self.value.lora_B.default.weight\n",
      "Active parameter: base_model.model.base_model.model.base_model.model.roberta.encoder.layer.9.attention.self.query.lora_A.default.weight\n",
      "Active parameter: base_model.model.base_model.model.base_model.model.roberta.encoder.layer.9.attention.self.query.lora_B.default.weight\n",
      "Active parameter: base_model.model.base_model.model.base_model.model.roberta.encoder.layer.9.attention.self.value.lora_A.default.weight\n",
      "Active parameter: base_model.model.base_model.model.base_model.model.roberta.encoder.layer.9.attention.self.value.lora_B.default.weight\n",
      "Active parameter: base_model.model.base_model.model.base_model.model.roberta.encoder.layer.10.attention.self.query.lora_A.default.weight\n",
      "Active parameter: base_model.model.base_model.model.base_model.model.roberta.encoder.layer.10.attention.self.query.lora_B.default.weight\n",
      "Active parameter: base_model.model.base_model.model.base_model.model.roberta.encoder.layer.10.attention.self.value.lora_A.default.weight\n",
      "Active parameter: base_model.model.base_model.model.base_model.model.roberta.encoder.layer.10.attention.self.value.lora_B.default.weight\n",
      "Active parameter: base_model.model.base_model.model.base_model.model.roberta.encoder.layer.11.attention.self.query.lora_A.default.weight\n",
      "Active parameter: base_model.model.base_model.model.base_model.model.roberta.encoder.layer.11.attention.self.query.lora_B.default.weight\n",
      "Active parameter: base_model.model.base_model.model.base_model.model.roberta.encoder.layer.11.attention.self.value.lora_A.default.weight\n",
      "Active parameter: base_model.model.base_model.model.base_model.model.roberta.encoder.layer.11.attention.self.value.lora_B.default.weight\n",
      "Active parameter: base_model.model.base_model.model.base_model.model.roberta.encoder.layer.12.attention.self.query.lora_A.default.weight\n",
      "Active parameter: base_model.model.base_model.model.base_model.model.roberta.encoder.layer.12.attention.self.query.lora_B.default.weight\n",
      "Active parameter: base_model.model.base_model.model.base_model.model.roberta.encoder.layer.12.attention.self.value.lora_A.default.weight\n",
      "Active parameter: base_model.model.base_model.model.base_model.model.roberta.encoder.layer.12.attention.self.value.lora_B.default.weight\n",
      "Active parameter: base_model.model.base_model.model.base_model.model.roberta.encoder.layer.13.attention.self.query.lora_A.default.weight\n",
      "Active parameter: base_model.model.base_model.model.base_model.model.roberta.encoder.layer.13.attention.self.query.lora_B.default.weight\n",
      "Active parameter: base_model.model.base_model.model.base_model.model.roberta.encoder.layer.13.attention.self.value.lora_A.default.weight\n",
      "Active parameter: base_model.model.base_model.model.base_model.model.roberta.encoder.layer.13.attention.self.value.lora_B.default.weight\n",
      "Active parameter: base_model.model.base_model.model.base_model.model.roberta.encoder.layer.14.attention.self.query.lora_A.default.weight\n",
      "Active parameter: base_model.model.base_model.model.base_model.model.roberta.encoder.layer.14.attention.self.query.lora_B.default.weight\n",
      "Active parameter: base_model.model.base_model.model.base_model.model.roberta.encoder.layer.14.attention.self.value.lora_A.default.weight\n",
      "Active parameter: base_model.model.base_model.model.base_model.model.roberta.encoder.layer.14.attention.self.value.lora_B.default.weight\n",
      "Active parameter: base_model.model.base_model.model.base_model.model.roberta.encoder.layer.15.attention.self.query.lora_A.default.weight\n",
      "Active parameter: base_model.model.base_model.model.base_model.model.roberta.encoder.layer.15.attention.self.query.lora_B.default.weight\n",
      "Active parameter: base_model.model.base_model.model.base_model.model.roberta.encoder.layer.15.attention.self.value.lora_A.default.weight\n",
      "Active parameter: base_model.model.base_model.model.base_model.model.roberta.encoder.layer.15.attention.self.value.lora_B.default.weight\n",
      "Active parameter: base_model.model.base_model.model.base_model.model.roberta.encoder.layer.16.attention.self.query.lora_A.default.weight\n",
      "Active parameter: base_model.model.base_model.model.base_model.model.roberta.encoder.layer.16.attention.self.query.lora_B.default.weight\n",
      "Active parameter: base_model.model.base_model.model.base_model.model.roberta.encoder.layer.16.attention.self.value.lora_A.default.weight\n",
      "Active parameter: base_model.model.base_model.model.base_model.model.roberta.encoder.layer.16.attention.self.value.lora_B.default.weight\n",
      "Active parameter: base_model.model.base_model.model.base_model.model.roberta.encoder.layer.17.attention.self.query.lora_A.default.weight\n",
      "Active parameter: base_model.model.base_model.model.base_model.model.roberta.encoder.layer.17.attention.self.query.lora_B.default.weight\n",
      "Active parameter: base_model.model.base_model.model.base_model.model.roberta.encoder.layer.17.attention.self.value.lora_A.default.weight\n",
      "Active parameter: base_model.model.base_model.model.base_model.model.roberta.encoder.layer.17.attention.self.value.lora_B.default.weight\n",
      "Active parameter: base_model.model.base_model.model.base_model.model.roberta.encoder.layer.18.attention.self.query.lora_A.default.weight\n",
      "Active parameter: base_model.model.base_model.model.base_model.model.roberta.encoder.layer.18.attention.self.query.lora_B.default.weight\n",
      "Active parameter: base_model.model.base_model.model.base_model.model.roberta.encoder.layer.18.attention.self.value.lora_A.default.weight\n",
      "Active parameter: base_model.model.base_model.model.base_model.model.roberta.encoder.layer.18.attention.self.value.lora_B.default.weight\n",
      "Active parameter: base_model.model.base_model.model.base_model.model.roberta.encoder.layer.19.attention.self.query.lora_A.default.weight\n",
      "Active parameter: base_model.model.base_model.model.base_model.model.roberta.encoder.layer.19.attention.self.query.lora_B.default.weight\n",
      "Active parameter: base_model.model.base_model.model.base_model.model.roberta.encoder.layer.19.attention.self.value.lora_A.default.weight\n",
      "Active parameter: base_model.model.base_model.model.base_model.model.roberta.encoder.layer.19.attention.self.value.lora_B.default.weight\n",
      "Active parameter: base_model.model.base_model.model.base_model.model.roberta.encoder.layer.20.attention.self.query.lora_A.default.weight\n",
      "Active parameter: base_model.model.base_model.model.base_model.model.roberta.encoder.layer.20.attention.self.query.lora_B.default.weight\n",
      "Active parameter: base_model.model.base_model.model.base_model.model.roberta.encoder.layer.20.attention.self.value.lora_A.default.weight\n",
      "Active parameter: base_model.model.base_model.model.base_model.model.roberta.encoder.layer.20.attention.self.value.lora_B.default.weight\n",
      "Active parameter: base_model.model.base_model.model.base_model.model.roberta.encoder.layer.21.attention.self.query.lora_A.default.weight\n",
      "Active parameter: base_model.model.base_model.model.base_model.model.roberta.encoder.layer.21.attention.self.query.lora_B.default.weight\n",
      "Active parameter: base_model.model.base_model.model.base_model.model.roberta.encoder.layer.21.attention.self.value.lora_A.default.weight\n",
      "Active parameter: base_model.model.base_model.model.base_model.model.roberta.encoder.layer.21.attention.self.value.lora_B.default.weight\n",
      "Active parameter: base_model.model.base_model.model.base_model.model.roberta.encoder.layer.22.attention.self.query.lora_A.default.weight\n",
      "Active parameter: base_model.model.base_model.model.base_model.model.roberta.encoder.layer.22.attention.self.query.lora_B.default.weight\n",
      "Active parameter: base_model.model.base_model.model.base_model.model.roberta.encoder.layer.22.attention.self.value.lora_A.default.weight\n",
      "Active parameter: base_model.model.base_model.model.base_model.model.roberta.encoder.layer.22.attention.self.value.lora_B.default.weight\n",
      "Active parameter: base_model.model.base_model.model.base_model.model.roberta.encoder.layer.23.attention.self.query.lora_A.default.weight\n",
      "Active parameter: base_model.model.base_model.model.base_model.model.roberta.encoder.layer.23.attention.self.query.lora_B.default.weight\n",
      "Active parameter: base_model.model.base_model.model.base_model.model.roberta.encoder.layer.23.attention.self.value.lora_A.default.weight\n",
      "Active parameter: base_model.model.base_model.model.base_model.model.roberta.encoder.layer.23.attention.self.value.lora_B.default.weight\n",
      "Active parameter: base_model.model.base_model.model.base_model.model.classifier.modules_to_save.default.dense.weight\n",
      "Active parameter: base_model.model.base_model.model.base_model.model.classifier.modules_to_save.default.dense.bias\n",
      "Active parameter: base_model.model.base_model.model.base_model.model.classifier.modules_to_save.default.out_proj.weight\n",
      "Active parameter: base_model.model.base_model.model.base_model.model.classifier.modules_to_save.default.out_proj.bias\n",
      "new lora, r = 8:\n"
     ]
    },
    {
     "name": "stderr",
     "output_type": "stream",
     "text": [
      "100%|██████████| 2138/2138 [01:32<00:00, 23.14it/s]\n",
      "100%|██████████| 261/261 [00:02<00:00, 102.00it/s]\n"
     ]
    },
    {
     "name": "stdout",
     "output_type": "stream",
     "text": [
      "epoch 10: {'matthews_correlation': 0.6556164214917042}\n"
     ]
    },
    {
     "name": "stderr",
     "output_type": "stream",
     "text": [
      "100%|██████████| 2138/2138 [01:32<00:00, 23.17it/s]\n",
      "100%|██████████| 261/261 [00:02<00:00, 103.12it/s]\n"
     ]
    },
    {
     "name": "stdout",
     "output_type": "stream",
     "text": [
      "epoch 11: {'matthews_correlation': 0.6282910036185689}\n"
     ]
    },
    {
     "name": "stderr",
     "output_type": "stream",
     "text": [
      "100%|██████████| 2138/2138 [01:33<00:00, 22.88it/s]\n",
      "100%|██████████| 261/261 [00:02<00:00, 108.84it/s]\n"
     ]
    },
    {
     "name": "stdout",
     "output_type": "stream",
     "text": [
      "epoch 12: {'matthews_correlation': 0.645568857149829}\n"
     ]
    },
    {
     "name": "stderr",
     "output_type": "stream",
     "text": [
      "100%|██████████| 2138/2138 [01:33<00:00, 22.79it/s]\n",
      "100%|██████████| 261/261 [00:02<00:00, 108.39it/s]\n"
     ]
    },
    {
     "name": "stdout",
     "output_type": "stream",
     "text": [
      "epoch 13: {'matthews_correlation': 0.6381799162684562}\n"
     ]
    },
    {
     "name": "stderr",
     "output_type": "stream",
     "text": [
      "100%|██████████| 2138/2138 [01:33<00:00, 22.96it/s]\n",
      "100%|██████████| 261/261 [00:02<00:00, 112.08it/s]\n"
     ]
    },
    {
     "name": "stdout",
     "output_type": "stream",
     "text": [
      "epoch 14: {'matthews_correlation': 0.6356548691438597}\n",
      "Applied shared LoRA A matrix for base_model.model.base_model.model.base_model.model.base_model.model.roberta.encoder.layer.0.attention.self.query.lora_A.default.weight\n",
      "Applied shared LoRA A matrix for base_model.model.base_model.model.base_model.model.base_model.model.roberta.encoder.layer.0.attention.self.value.lora_A.default.weight\n",
      "Applied shared LoRA A matrix for base_model.model.base_model.model.base_model.model.base_model.model.roberta.encoder.layer.1.attention.self.query.lora_A.default.weight\n",
      "Applied shared LoRA A matrix for base_model.model.base_model.model.base_model.model.base_model.model.roberta.encoder.layer.1.attention.self.value.lora_A.default.weight\n",
      "Applied shared LoRA A matrix for base_model.model.base_model.model.base_model.model.base_model.model.roberta.encoder.layer.2.attention.self.query.lora_A.default.weight\n",
      "Applied shared LoRA A matrix for base_model.model.base_model.model.base_model.model.base_model.model.roberta.encoder.layer.2.attention.self.value.lora_A.default.weight\n",
      "Applied shared LoRA A matrix for base_model.model.base_model.model.base_model.model.base_model.model.roberta.encoder.layer.3.attention.self.query.lora_A.default.weight\n",
      "Applied shared LoRA A matrix for base_model.model.base_model.model.base_model.model.base_model.model.roberta.encoder.layer.3.attention.self.value.lora_A.default.weight\n",
      "Applied shared LoRA A matrix for base_model.model.base_model.model.base_model.model.base_model.model.roberta.encoder.layer.4.attention.self.query.lora_A.default.weight\n",
      "Applied shared LoRA A matrix for base_model.model.base_model.model.base_model.model.base_model.model.roberta.encoder.layer.4.attention.self.value.lora_A.default.weight\n",
      "Applied shared LoRA A matrix for base_model.model.base_model.model.base_model.model.base_model.model.roberta.encoder.layer.5.attention.self.query.lora_A.default.weight\n",
      "Applied shared LoRA A matrix for base_model.model.base_model.model.base_model.model.base_model.model.roberta.encoder.layer.5.attention.self.value.lora_A.default.weight\n",
      "Applied shared LoRA A matrix for base_model.model.base_model.model.base_model.model.base_model.model.roberta.encoder.layer.6.attention.self.query.lora_A.default.weight\n",
      "Applied shared LoRA A matrix for base_model.model.base_model.model.base_model.model.base_model.model.roberta.encoder.layer.6.attention.self.value.lora_A.default.weight\n",
      "Applied shared LoRA A matrix for base_model.model.base_model.model.base_model.model.base_model.model.roberta.encoder.layer.7.attention.self.query.lora_A.default.weight\n",
      "Applied shared LoRA A matrix for base_model.model.base_model.model.base_model.model.base_model.model.roberta.encoder.layer.7.attention.self.value.lora_A.default.weight\n",
      "Applied shared LoRA A matrix for base_model.model.base_model.model.base_model.model.base_model.model.roberta.encoder.layer.8.attention.self.query.lora_A.default.weight\n",
      "Applied shared LoRA A matrix for base_model.model.base_model.model.base_model.model.base_model.model.roberta.encoder.layer.8.attention.self.value.lora_A.default.weight\n",
      "Applied shared LoRA A matrix for base_model.model.base_model.model.base_model.model.base_model.model.roberta.encoder.layer.9.attention.self.query.lora_A.default.weight\n",
      "Applied shared LoRA A matrix for base_model.model.base_model.model.base_model.model.base_model.model.roberta.encoder.layer.9.attention.self.value.lora_A.default.weight\n",
      "Applied shared LoRA A matrix for base_model.model.base_model.model.base_model.model.base_model.model.roberta.encoder.layer.10.attention.self.query.lora_A.default.weight\n",
      "Applied shared LoRA A matrix for base_model.model.base_model.model.base_model.model.base_model.model.roberta.encoder.layer.10.attention.self.value.lora_A.default.weight\n",
      "Applied shared LoRA A matrix for base_model.model.base_model.model.base_model.model.base_model.model.roberta.encoder.layer.11.attention.self.query.lora_A.default.weight\n",
      "Applied shared LoRA A matrix for base_model.model.base_model.model.base_model.model.base_model.model.roberta.encoder.layer.11.attention.self.value.lora_A.default.weight\n",
      "Applied shared LoRA A matrix for base_model.model.base_model.model.base_model.model.base_model.model.roberta.encoder.layer.12.attention.self.query.lora_A.default.weight\n",
      "Applied shared LoRA A matrix for base_model.model.base_model.model.base_model.model.base_model.model.roberta.encoder.layer.12.attention.self.value.lora_A.default.weight\n",
      "Applied shared LoRA A matrix for base_model.model.base_model.model.base_model.model.base_model.model.roberta.encoder.layer.13.attention.self.query.lora_A.default.weight\n",
      "Applied shared LoRA A matrix for base_model.model.base_model.model.base_model.model.base_model.model.roberta.encoder.layer.13.attention.self.value.lora_A.default.weight\n",
      "Applied shared LoRA A matrix for base_model.model.base_model.model.base_model.model.base_model.model.roberta.encoder.layer.14.attention.self.query.lora_A.default.weight\n",
      "Applied shared LoRA A matrix for base_model.model.base_model.model.base_model.model.base_model.model.roberta.encoder.layer.14.attention.self.value.lora_A.default.weight\n",
      "Applied shared LoRA A matrix for base_model.model.base_model.model.base_model.model.base_model.model.roberta.encoder.layer.15.attention.self.query.lora_A.default.weight\n",
      "Applied shared LoRA A matrix for base_model.model.base_model.model.base_model.model.base_model.model.roberta.encoder.layer.15.attention.self.value.lora_A.default.weight\n",
      "Applied shared LoRA A matrix for base_model.model.base_model.model.base_model.model.base_model.model.roberta.encoder.layer.16.attention.self.query.lora_A.default.weight\n",
      "Applied shared LoRA A matrix for base_model.model.base_model.model.base_model.model.base_model.model.roberta.encoder.layer.16.attention.self.value.lora_A.default.weight\n",
      "Applied shared LoRA A matrix for base_model.model.base_model.model.base_model.model.base_model.model.roberta.encoder.layer.17.attention.self.query.lora_A.default.weight\n",
      "Applied shared LoRA A matrix for base_model.model.base_model.model.base_model.model.base_model.model.roberta.encoder.layer.17.attention.self.value.lora_A.default.weight\n",
      "Applied shared LoRA A matrix for base_model.model.base_model.model.base_model.model.base_model.model.roberta.encoder.layer.18.attention.self.query.lora_A.default.weight\n",
      "Applied shared LoRA A matrix for base_model.model.base_model.model.base_model.model.base_model.model.roberta.encoder.layer.18.attention.self.value.lora_A.default.weight\n",
      "Applied shared LoRA A matrix for base_model.model.base_model.model.base_model.model.base_model.model.roberta.encoder.layer.19.attention.self.query.lora_A.default.weight\n",
      "Applied shared LoRA A matrix for base_model.model.base_model.model.base_model.model.base_model.model.roberta.encoder.layer.19.attention.self.value.lora_A.default.weight\n",
      "Applied shared LoRA A matrix for base_model.model.base_model.model.base_model.model.base_model.model.roberta.encoder.layer.20.attention.self.query.lora_A.default.weight\n",
      "Applied shared LoRA A matrix for base_model.model.base_model.model.base_model.model.base_model.model.roberta.encoder.layer.20.attention.self.value.lora_A.default.weight\n",
      "Applied shared LoRA A matrix for base_model.model.base_model.model.base_model.model.base_model.model.roberta.encoder.layer.21.attention.self.query.lora_A.default.weight\n",
      "Applied shared LoRA A matrix for base_model.model.base_model.model.base_model.model.base_model.model.roberta.encoder.layer.21.attention.self.value.lora_A.default.weight\n",
      "Applied shared LoRA A matrix for base_model.model.base_model.model.base_model.model.base_model.model.roberta.encoder.layer.22.attention.self.query.lora_A.default.weight\n",
      "Applied shared LoRA A matrix for base_model.model.base_model.model.base_model.model.base_model.model.roberta.encoder.layer.22.attention.self.value.lora_A.default.weight\n",
      "Applied shared LoRA A matrix for base_model.model.base_model.model.base_model.model.base_model.model.roberta.encoder.layer.23.attention.self.query.lora_A.default.weight\n",
      "Applied shared LoRA A matrix for base_model.model.base_model.model.base_model.model.base_model.model.roberta.encoder.layer.23.attention.self.value.lora_A.default.weight\n",
      "Active parameter: base_model.model.base_model.model.base_model.model.base_model.model.roberta.encoder.layer.0.attention.self.query.lora_A.default.weight\n",
      "Active parameter: base_model.model.base_model.model.base_model.model.base_model.model.roberta.encoder.layer.0.attention.self.query.lora_B.default.weight\n",
      "Active parameter: base_model.model.base_model.model.base_model.model.base_model.model.roberta.encoder.layer.0.attention.self.value.lora_A.default.weight\n",
      "Active parameter: base_model.model.base_model.model.base_model.model.base_model.model.roberta.encoder.layer.0.attention.self.value.lora_B.default.weight\n",
      "Active parameter: base_model.model.base_model.model.base_model.model.base_model.model.roberta.encoder.layer.1.attention.self.query.lora_A.default.weight\n",
      "Active parameter: base_model.model.base_model.model.base_model.model.base_model.model.roberta.encoder.layer.1.attention.self.query.lora_B.default.weight\n",
      "Active parameter: base_model.model.base_model.model.base_model.model.base_model.model.roberta.encoder.layer.1.attention.self.value.lora_A.default.weight\n",
      "Active parameter: base_model.model.base_model.model.base_model.model.base_model.model.roberta.encoder.layer.1.attention.self.value.lora_B.default.weight\n",
      "Active parameter: base_model.model.base_model.model.base_model.model.base_model.model.roberta.encoder.layer.2.attention.self.query.lora_A.default.weight\n",
      "Active parameter: base_model.model.base_model.model.base_model.model.base_model.model.roberta.encoder.layer.2.attention.self.query.lora_B.default.weight\n",
      "Active parameter: base_model.model.base_model.model.base_model.model.base_model.model.roberta.encoder.layer.2.attention.self.value.lora_A.default.weight\n",
      "Active parameter: base_model.model.base_model.model.base_model.model.base_model.model.roberta.encoder.layer.2.attention.self.value.lora_B.default.weight\n",
      "Active parameter: base_model.model.base_model.model.base_model.model.base_model.model.roberta.encoder.layer.3.attention.self.query.lora_A.default.weight\n",
      "Active parameter: base_model.model.base_model.model.base_model.model.base_model.model.roberta.encoder.layer.3.attention.self.query.lora_B.default.weight\n",
      "Active parameter: base_model.model.base_model.model.base_model.model.base_model.model.roberta.encoder.layer.3.attention.self.value.lora_A.default.weight\n",
      "Active parameter: base_model.model.base_model.model.base_model.model.base_model.model.roberta.encoder.layer.3.attention.self.value.lora_B.default.weight\n",
      "Active parameter: base_model.model.base_model.model.base_model.model.base_model.model.roberta.encoder.layer.4.attention.self.query.lora_A.default.weight\n",
      "Active parameter: base_model.model.base_model.model.base_model.model.base_model.model.roberta.encoder.layer.4.attention.self.query.lora_B.default.weight\n",
      "Active parameter: base_model.model.base_model.model.base_model.model.base_model.model.roberta.encoder.layer.4.attention.self.value.lora_A.default.weight\n",
      "Active parameter: base_model.model.base_model.model.base_model.model.base_model.model.roberta.encoder.layer.4.attention.self.value.lora_B.default.weight\n",
      "Active parameter: base_model.model.base_model.model.base_model.model.base_model.model.roberta.encoder.layer.5.attention.self.query.lora_A.default.weight\n",
      "Active parameter: base_model.model.base_model.model.base_model.model.base_model.model.roberta.encoder.layer.5.attention.self.query.lora_B.default.weight\n",
      "Active parameter: base_model.model.base_model.model.base_model.model.base_model.model.roberta.encoder.layer.5.attention.self.value.lora_A.default.weight\n",
      "Active parameter: base_model.model.base_model.model.base_model.model.base_model.model.roberta.encoder.layer.5.attention.self.value.lora_B.default.weight\n",
      "Active parameter: base_model.model.base_model.model.base_model.model.base_model.model.roberta.encoder.layer.6.attention.self.query.lora_A.default.weight\n",
      "Active parameter: base_model.model.base_model.model.base_model.model.base_model.model.roberta.encoder.layer.6.attention.self.query.lora_B.default.weight\n",
      "Active parameter: base_model.model.base_model.model.base_model.model.base_model.model.roberta.encoder.layer.6.attention.self.value.lora_A.default.weight\n",
      "Active parameter: base_model.model.base_model.model.base_model.model.base_model.model.roberta.encoder.layer.6.attention.self.value.lora_B.default.weight\n",
      "Active parameter: base_model.model.base_model.model.base_model.model.base_model.model.roberta.encoder.layer.7.attention.self.query.lora_A.default.weight\n",
      "Active parameter: base_model.model.base_model.model.base_model.model.base_model.model.roberta.encoder.layer.7.attention.self.query.lora_B.default.weight\n",
      "Active parameter: base_model.model.base_model.model.base_model.model.base_model.model.roberta.encoder.layer.7.attention.self.value.lora_A.default.weight\n",
      "Active parameter: base_model.model.base_model.model.base_model.model.base_model.model.roberta.encoder.layer.7.attention.self.value.lora_B.default.weight\n",
      "Active parameter: base_model.model.base_model.model.base_model.model.base_model.model.roberta.encoder.layer.8.attention.self.query.lora_A.default.weight\n",
      "Active parameter: base_model.model.base_model.model.base_model.model.base_model.model.roberta.encoder.layer.8.attention.self.query.lora_B.default.weight\n",
      "Active parameter: base_model.model.base_model.model.base_model.model.base_model.model.roberta.encoder.layer.8.attention.self.value.lora_A.default.weight\n",
      "Active parameter: base_model.model.base_model.model.base_model.model.base_model.model.roberta.encoder.layer.8.attention.self.value.lora_B.default.weight\n",
      "Active parameter: base_model.model.base_model.model.base_model.model.base_model.model.roberta.encoder.layer.9.attention.self.query.lora_A.default.weight\n",
      "Active parameter: base_model.model.base_model.model.base_model.model.base_model.model.roberta.encoder.layer.9.attention.self.query.lora_B.default.weight\n",
      "Active parameter: base_model.model.base_model.model.base_model.model.base_model.model.roberta.encoder.layer.9.attention.self.value.lora_A.default.weight\n",
      "Active parameter: base_model.model.base_model.model.base_model.model.base_model.model.roberta.encoder.layer.9.attention.self.value.lora_B.default.weight\n",
      "Active parameter: base_model.model.base_model.model.base_model.model.base_model.model.roberta.encoder.layer.10.attention.self.query.lora_A.default.weight\n",
      "Active parameter: base_model.model.base_model.model.base_model.model.base_model.model.roberta.encoder.layer.10.attention.self.query.lora_B.default.weight\n",
      "Active parameter: base_model.model.base_model.model.base_model.model.base_model.model.roberta.encoder.layer.10.attention.self.value.lora_A.default.weight\n",
      "Active parameter: base_model.model.base_model.model.base_model.model.base_model.model.roberta.encoder.layer.10.attention.self.value.lora_B.default.weight\n",
      "Active parameter: base_model.model.base_model.model.base_model.model.base_model.model.roberta.encoder.layer.11.attention.self.query.lora_A.default.weight\n",
      "Active parameter: base_model.model.base_model.model.base_model.model.base_model.model.roberta.encoder.layer.11.attention.self.query.lora_B.default.weight\n",
      "Active parameter: base_model.model.base_model.model.base_model.model.base_model.model.roberta.encoder.layer.11.attention.self.value.lora_A.default.weight\n",
      "Active parameter: base_model.model.base_model.model.base_model.model.base_model.model.roberta.encoder.layer.11.attention.self.value.lora_B.default.weight\n",
      "Active parameter: base_model.model.base_model.model.base_model.model.base_model.model.roberta.encoder.layer.12.attention.self.query.lora_A.default.weight\n",
      "Active parameter: base_model.model.base_model.model.base_model.model.base_model.model.roberta.encoder.layer.12.attention.self.query.lora_B.default.weight\n",
      "Active parameter: base_model.model.base_model.model.base_model.model.base_model.model.roberta.encoder.layer.12.attention.self.value.lora_A.default.weight\n",
      "Active parameter: base_model.model.base_model.model.base_model.model.base_model.model.roberta.encoder.layer.12.attention.self.value.lora_B.default.weight\n",
      "Active parameter: base_model.model.base_model.model.base_model.model.base_model.model.roberta.encoder.layer.13.attention.self.query.lora_A.default.weight\n",
      "Active parameter: base_model.model.base_model.model.base_model.model.base_model.model.roberta.encoder.layer.13.attention.self.query.lora_B.default.weight\n",
      "Active parameter: base_model.model.base_model.model.base_model.model.base_model.model.roberta.encoder.layer.13.attention.self.value.lora_A.default.weight\n",
      "Active parameter: base_model.model.base_model.model.base_model.model.base_model.model.roberta.encoder.layer.13.attention.self.value.lora_B.default.weight\n",
      "Active parameter: base_model.model.base_model.model.base_model.model.base_model.model.roberta.encoder.layer.14.attention.self.query.lora_A.default.weight\n",
      "Active parameter: base_model.model.base_model.model.base_model.model.base_model.model.roberta.encoder.layer.14.attention.self.query.lora_B.default.weight\n",
      "Active parameter: base_model.model.base_model.model.base_model.model.base_model.model.roberta.encoder.layer.14.attention.self.value.lora_A.default.weight\n",
      "Active parameter: base_model.model.base_model.model.base_model.model.base_model.model.roberta.encoder.layer.14.attention.self.value.lora_B.default.weight\n",
      "Active parameter: base_model.model.base_model.model.base_model.model.base_model.model.roberta.encoder.layer.15.attention.self.query.lora_A.default.weight\n",
      "Active parameter: base_model.model.base_model.model.base_model.model.base_model.model.roberta.encoder.layer.15.attention.self.query.lora_B.default.weight\n",
      "Active parameter: base_model.model.base_model.model.base_model.model.base_model.model.roberta.encoder.layer.15.attention.self.value.lora_A.default.weight\n",
      "Active parameter: base_model.model.base_model.model.base_model.model.base_model.model.roberta.encoder.layer.15.attention.self.value.lora_B.default.weight\n",
      "Active parameter: base_model.model.base_model.model.base_model.model.base_model.model.roberta.encoder.layer.16.attention.self.query.lora_A.default.weight\n",
      "Active parameter: base_model.model.base_model.model.base_model.model.base_model.model.roberta.encoder.layer.16.attention.self.query.lora_B.default.weight\n",
      "Active parameter: base_model.model.base_model.model.base_model.model.base_model.model.roberta.encoder.layer.16.attention.self.value.lora_A.default.weight\n",
      "Active parameter: base_model.model.base_model.model.base_model.model.base_model.model.roberta.encoder.layer.16.attention.self.value.lora_B.default.weight\n",
      "Active parameter: base_model.model.base_model.model.base_model.model.base_model.model.roberta.encoder.layer.17.attention.self.query.lora_A.default.weight\n",
      "Active parameter: base_model.model.base_model.model.base_model.model.base_model.model.roberta.encoder.layer.17.attention.self.query.lora_B.default.weight\n",
      "Active parameter: base_model.model.base_model.model.base_model.model.base_model.model.roberta.encoder.layer.17.attention.self.value.lora_A.default.weight\n",
      "Active parameter: base_model.model.base_model.model.base_model.model.base_model.model.roberta.encoder.layer.17.attention.self.value.lora_B.default.weight\n",
      "Active parameter: base_model.model.base_model.model.base_model.model.base_model.model.roberta.encoder.layer.18.attention.self.query.lora_A.default.weight\n",
      "Active parameter: base_model.model.base_model.model.base_model.model.base_model.model.roberta.encoder.layer.18.attention.self.query.lora_B.default.weight\n",
      "Active parameter: base_model.model.base_model.model.base_model.model.base_model.model.roberta.encoder.layer.18.attention.self.value.lora_A.default.weight\n",
      "Active parameter: base_model.model.base_model.model.base_model.model.base_model.model.roberta.encoder.layer.18.attention.self.value.lora_B.default.weight\n",
      "Active parameter: base_model.model.base_model.model.base_model.model.base_model.model.roberta.encoder.layer.19.attention.self.query.lora_A.default.weight\n",
      "Active parameter: base_model.model.base_model.model.base_model.model.base_model.model.roberta.encoder.layer.19.attention.self.query.lora_B.default.weight\n",
      "Active parameter: base_model.model.base_model.model.base_model.model.base_model.model.roberta.encoder.layer.19.attention.self.value.lora_A.default.weight\n",
      "Active parameter: base_model.model.base_model.model.base_model.model.base_model.model.roberta.encoder.layer.19.attention.self.value.lora_B.default.weight\n",
      "Active parameter: base_model.model.base_model.model.base_model.model.base_model.model.roberta.encoder.layer.20.attention.self.query.lora_A.default.weight\n",
      "Active parameter: base_model.model.base_model.model.base_model.model.base_model.model.roberta.encoder.layer.20.attention.self.query.lora_B.default.weight\n",
      "Active parameter: base_model.model.base_model.model.base_model.model.base_model.model.roberta.encoder.layer.20.attention.self.value.lora_A.default.weight\n",
      "Active parameter: base_model.model.base_model.model.base_model.model.base_model.model.roberta.encoder.layer.20.attention.self.value.lora_B.default.weight\n",
      "Active parameter: base_model.model.base_model.model.base_model.model.base_model.model.roberta.encoder.layer.21.attention.self.query.lora_A.default.weight\n",
      "Active parameter: base_model.model.base_model.model.base_model.model.base_model.model.roberta.encoder.layer.21.attention.self.query.lora_B.default.weight\n",
      "Active parameter: base_model.model.base_model.model.base_model.model.base_model.model.roberta.encoder.layer.21.attention.self.value.lora_A.default.weight\n",
      "Active parameter: base_model.model.base_model.model.base_model.model.base_model.model.roberta.encoder.layer.21.attention.self.value.lora_B.default.weight\n",
      "Active parameter: base_model.model.base_model.model.base_model.model.base_model.model.roberta.encoder.layer.22.attention.self.query.lora_A.default.weight\n",
      "Active parameter: base_model.model.base_model.model.base_model.model.base_model.model.roberta.encoder.layer.22.attention.self.query.lora_B.default.weight\n",
      "Active parameter: base_model.model.base_model.model.base_model.model.base_model.model.roberta.encoder.layer.22.attention.self.value.lora_A.default.weight\n",
      "Active parameter: base_model.model.base_model.model.base_model.model.base_model.model.roberta.encoder.layer.22.attention.self.value.lora_B.default.weight\n",
      "Active parameter: base_model.model.base_model.model.base_model.model.base_model.model.roberta.encoder.layer.23.attention.self.query.lora_A.default.weight\n",
      "Active parameter: base_model.model.base_model.model.base_model.model.base_model.model.roberta.encoder.layer.23.attention.self.query.lora_B.default.weight\n",
      "Active parameter: base_model.model.base_model.model.base_model.model.base_model.model.roberta.encoder.layer.23.attention.self.value.lora_A.default.weight\n",
      "Active parameter: base_model.model.base_model.model.base_model.model.base_model.model.roberta.encoder.layer.23.attention.self.value.lora_B.default.weight\n",
      "Active parameter: base_model.model.base_model.model.base_model.model.base_model.model.classifier.modules_to_save.default.dense.weight\n",
      "Active parameter: base_model.model.base_model.model.base_model.model.base_model.model.classifier.modules_to_save.default.dense.bias\n",
      "Active parameter: base_model.model.base_model.model.base_model.model.base_model.model.classifier.modules_to_save.default.out_proj.weight\n",
      "Active parameter: base_model.model.base_model.model.base_model.model.base_model.model.classifier.modules_to_save.default.out_proj.bias\n",
      "new lora, r = 8:\n"
     ]
    },
    {
     "name": "stderr",
     "output_type": "stream",
     "text": [
      "100%|██████████| 2138/2138 [01:53<00:00, 18.77it/s]\n",
      "100%|██████████| 261/261 [00:02<00:00, 108.63it/s]\n"
     ]
    },
    {
     "name": "stdout",
     "output_type": "stream",
     "text": [
      "epoch 15: {'matthews_correlation': 0.6430241506749478}\n"
     ]
    },
    {
     "name": "stderr",
     "output_type": "stream",
     "text": [
      "100%|██████████| 2138/2138 [01:54<00:00, 18.75it/s]\n",
      "100%|██████████| 261/261 [00:02<00:00, 106.40it/s]\n"
     ]
    },
    {
     "name": "stdout",
     "output_type": "stream",
     "text": [
      "epoch 16: {'matthews_correlation': 0.638254769958794}\n"
     ]
    },
    {
     "name": "stderr",
     "output_type": "stream",
     "text": [
      "100%|██████████| 2138/2138 [01:53<00:00, 18.83it/s]\n",
      "100%|██████████| 261/261 [00:02<00:00, 108.16it/s]\n"
     ]
    },
    {
     "name": "stdout",
     "output_type": "stream",
     "text": [
      "epoch 17: {'matthews_correlation': 0.6008475155631261}\n"
     ]
    },
    {
     "name": "stderr",
     "output_type": "stream",
     "text": [
      "100%|██████████| 2138/2138 [01:52<00:00, 18.94it/s]\n",
      "100%|██████████| 261/261 [00:02<00:00, 100.00it/s]\n"
     ]
    },
    {
     "name": "stdout",
     "output_type": "stream",
     "text": [
      "epoch 18: {'matthews_correlation': 0.610871836940491}\n"
     ]
    },
    {
     "name": "stderr",
     "output_type": "stream",
     "text": [
      "100%|██████████| 2138/2138 [01:53<00:00, 18.82it/s]\n",
      "100%|██████████| 261/261 [00:02<00:00, 100.01it/s]\n"
     ]
    },
    {
     "name": "stdout",
     "output_type": "stream",
     "text": [
      "epoch 19: {'matthews_correlation': 0.6281597157868146}\n"
     ]
    }
   ],
   "execution_count": 15
  },
  {
   "metadata": {
    "ExecuteTime": {
     "end_time": "2025-01-17T02:58:24.663281Z",
     "start_time": "2025-01-17T02:58:24.660981Z"
    }
   },
   "cell_type": "code",
   "source": [
    "# seed 3407\n",
    "# bz 4\n",
    "# num_epochs 20\n",
    "# chain_epoch 5\n",
    "# lambda_lora = 2.0\n",
    "# lambda_orth = 0.5\n",
    "# orth_interval = 5 \n",
    "# lr = 2e-4\n",
    "# 第一组lora A矩阵训练好后共享,但不冻结 A\n",
    "# best score 0.69986"
   ],
   "id": "5821a3ffd5a92eb8",
   "outputs": [],
   "execution_count": 16
  },
  {
   "metadata": {
    "ExecuteTime": {
     "end_time": "2025-01-17T02:58:24.668465Z",
     "start_time": "2025-01-17T02:58:24.663281Z"
    }
   },
   "cell_type": "code",
   "source": [
    "# seed 77\n",
    "# bz 4\n",
    "# num_epochs 20\n",
    "# chain_epoch 5\n",
    "# lambda_lora = 2.0\n",
    "# lambda_orth = 0.5\n",
    "# orth_interval = 5 \n",
    "# lr = 2e-4\n",
    "# 第一组lora A矩阵训练好后共享,但不冻结 A\n",
    "# best score 0.67494"
   ],
   "id": "2588f7068e94c41a",
   "outputs": [],
   "execution_count": 17
  },
  {
   "metadata": {
    "ExecuteTime": {
     "end_time": "2025-01-17T02:58:24.714177Z",
     "start_time": "2025-01-17T02:58:24.711608Z"
    }
   },
   "cell_type": "code",
   "source": [
    "# seed 3074\n",
    "# bz 4\n",
    "# num_epochs 20\n",
    "# chain_epoch 5\n",
    "# lambda_lora = 2.0\n",
    "# lambda_orth = 0.5\n",
    "# orth_interval = 5 \n",
    "# lr = 2e-4\n",
    "# 第一组lora A矩阵训练好后共享,但不冻结 A\n",
    "# best score 0.684678"
   ],
   "id": "2e689e3686f87348",
   "outputs": [],
   "execution_count": 18
  },
  {
   "metadata": {
    "ExecuteTime": {
     "end_time": "2025-01-17T02:58:24.760132Z",
     "start_time": "2025-01-17T02:58:24.757540Z"
    }
   },
   "cell_type": "code",
   "source": [
    "# seed 4546\n",
    "# bz 4\n",
    "# num_epochs 20\n",
    "# chain_epoch 5\n",
    "# lambda_lora = 2.0\n",
    "# lambda_orth = 0.5\n",
    "# orth_interval = 5 \n",
    "# lr = 2e-4\n",
    "# 第一组lora A矩阵训练好后共享,但不冻结 A\n",
    "# best score 0.677331"
   ],
   "id": "a3cde09aed3e63fe",
   "outputs": [],
   "execution_count": 19
  },
  {
   "metadata": {
    "ExecuteTime": {
     "end_time": "2025-01-17T02:58:24.806324Z",
     "start_time": "2025-01-17T02:58:24.803425Z"
    }
   },
   "cell_type": "code",
   "source": [
    "# seed 2986000641258500\n",
    "# bz 4\n",
    "# num_epochs 20\n",
    "# chain_epoch 5\n",
    "# lambda_lora = 2.0\n",
    "# lambda_orth = 0.5\n",
    "# orth_interval = 5 \n",
    "# lr = 2e-4\n",
    "# 第一组lora A矩阵训练好后共享,但不冻结 A\n",
    "# best score 0.6808"
   ],
   "id": "423d39d3484ef8af",
   "outputs": [],
   "execution_count": 20
  },
  {
   "metadata": {
    "ExecuteTime": {
     "end_time": "2025-01-17T02:58:24.860872Z",
     "start_time": "2025-01-17T02:58:24.858774Z"
    }
   },
   "cell_type": "code",
   "source": "",
   "id": "8d0bcded2df0fb61",
   "outputs": [],
   "execution_count": null
  },
  {
   "metadata": {
    "ExecuteTime": {
     "end_time": "2025-01-17T02:58:24.913981Z",
     "start_time": "2025-01-17T02:58:24.911786Z"
    }
   },
   "cell_type": "code",
   "source": "",
   "id": "7e1a4c09a4d13ad2",
   "outputs": [],
   "execution_count": null
  }
 ],
 "metadata": {
  "kernelspec": {
   "display_name": "Python 3",
   "language": "python",
   "name": "python3"
  },
  "language_info": {
   "codemirror_mode": {
    "name": "ipython",
    "version": 2
   },
   "file_extension": ".py",
   "mimetype": "text/x-python",
   "name": "python",
   "nbconvert_exporter": "python",
   "pygments_lexer": "ipython2",
   "version": "2.7.6"
  }
 },
 "nbformat": 4,
 "nbformat_minor": 5
}
