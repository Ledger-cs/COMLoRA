{
 "cells": [
  {
   "cell_type": "code",
   "id": "initial_id",
   "metadata": {
    "collapsed": true,
    "ExecuteTime": {
     "end_time": "2025-02-12T08:44:57.414813Z",
     "start_time": "2025-02-12T08:44:57.411813Z"
    }
   },
   "source": [
    "import argparse\n",
    "import os\n",
    "\n",
    "import torch\n",
    "from torch.optim import AdamW\n",
    "from torch.utils.data import DataLoader\n",
    "from peft import (\n",
    "    get_peft_config,\n",
    "    get_peft_model,\n",
    "    get_peft_model_state_dict,\n",
    "    set_peft_model_state_dict,\n",
    "    LoraConfig,\n",
    "    PeftType,\n",
    "    PrefixTuningConfig,\n",
    "    PromptEncoderConfig,\n",
    "    TaskType,\n",
    ")\n",
    "\n",
    "import evaluate\n",
    "from datasets import load_dataset\n",
    "from transformers import AutoModelForSequenceClassification, AutoTokenizer, get_linear_schedule_with_warmup, set_seed\n",
    "from tqdm import tqdm\n",
    "\n",
    "\n",
    "import warnings\n",
    "\n",
    "warnings.filterwarnings(\"ignore\")"
   ],
   "outputs": [],
   "execution_count": 35
  },
  {
   "metadata": {
    "ExecuteTime": {
     "end_time": "2025-02-12T08:44:57.444419Z",
     "start_time": "2025-02-12T08:44:57.440903Z"
    }
   },
   "cell_type": "code",
   "source": [
    "import numpy as np\n",
    "import random\n",
    "\n",
    "def set_seed(seed):\n",
    "    random.seed(seed)\n",
    "    np.random.seed(seed)\n",
    "    torch.manual_seed(seed)\n",
    "    if torch.cuda.is_available():\n",
    "        torch.cuda.manual_seed_all(seed)\n",
    "\n",
    "set_seed(3074)  # 设置固定随机种子"
   ],
   "id": "98c77c405c162b75",
   "outputs": [],
   "execution_count": 36
  },
  {
   "metadata": {
    "ExecuteTime": {
     "end_time": "2025-02-12T08:44:57.521999Z",
     "start_time": "2025-02-12T08:44:57.497124Z"
    }
   },
   "cell_type": "code",
   "source": "torch.cuda.empty_cache()",
   "id": "9b07968ed867d330",
   "outputs": [],
   "execution_count": 37
  },
  {
   "metadata": {
    "ExecuteTime": {
     "end_time": "2025-02-12T08:44:57.577644Z",
     "start_time": "2025-02-12T08:44:57.574334Z"
    }
   },
   "cell_type": "code",
   "source": [
    "device = \"cuda\"\n",
    "batch_size = 16\n",
    "model_name_or_path = \"FacebookAI/roberta-large\"\n",
    "task = \"rte\"\n",
    "peft_type = PeftType.LORA\n",
    "num_epochs = 20\n",
    "lr = 4e-4"
   ],
   "id": "4539679d8808ca6",
   "outputs": [],
   "execution_count": 38
  },
  {
   "metadata": {
    "ExecuteTime": {
     "end_time": "2025-02-12T08:45:12.577513Z",
     "start_time": "2025-02-12T08:44:57.640505Z"
    }
   },
   "cell_type": "code",
   "source": [
    "if any(k in model_name_or_path for k in (\"gpt\", \"opt\", \"bloom\")):\n",
    "    padding_side = \"left\"\n",
    "else:\n",
    "    padding_side = \"right\"\n",
    "\n",
    "tokenizer = AutoTokenizer.from_pretrained(model_name_or_path, padding_side=padding_side)\n",
    "if getattr(tokenizer, \"pad_token_id\") is None:\n",
    "    tokenizer.pad_token_id = tokenizer.eos_token_id\n",
    "\n",
    "datasets = load_dataset(\"glue\", task)\n",
    "metric = evaluate.load(\"glue\", task)\n",
    "\n",
    "\n",
    "def tokenize_function(examples):\n",
    "    # max_length=None => use the model max length (it's actually the default)\n",
    "    outputs = tokenizer(examples[\"sentence1\"], examples[\"sentence2\"], truncation=True, max_length=512)\n",
    "    return outputs\n",
    "\n",
    "\n",
    "tokenized_datasets = datasets.map(\n",
    "    tokenize_function,\n",
    "    batched=True,\n",
    "    remove_columns=[\"idx\", \"sentence1\", \"sentence2\"],\n",
    ")\n",
    "\n",
    "tokenized_datasets = tokenized_datasets.rename_column(\"label\", \"labels\")\n",
    "\n",
    "\n",
    "def collate_fn(examples):\n",
    "    return tokenizer.pad(examples, padding=\"longest\", return_tensors=\"pt\")\n",
    "\n",
    "\n",
    "# Instantiate dataloaders.\n",
    "train_dataloader = DataLoader(tokenized_datasets[\"train\"], shuffle=True, collate_fn=collate_fn, batch_size=batch_size)\n",
    "eval_dataloader = DataLoader(\n",
    "    tokenized_datasets[\"validation\"], shuffle=False, collate_fn=collate_fn, batch_size=batch_size\n",
    ")"
   ],
   "id": "241e6fb502a4be2c",
   "outputs": [],
   "execution_count": 39
  },
  {
   "metadata": {
    "ExecuteTime": {
     "end_time": "2025-02-12T08:45:12.654592Z",
     "start_time": "2025-02-12T08:45:12.651513Z"
    }
   },
   "cell_type": "code",
   "source": "torch.cuda.empty_cache()",
   "id": "92bbf159c76b021f",
   "outputs": [],
   "execution_count": 40
  },
  {
   "metadata": {
    "ExecuteTime": {
     "end_time": "2025-02-12T08:45:12.726727Z",
     "start_time": "2025-02-12T08:45:12.723495Z"
    }
   },
   "cell_type": "code",
   "source": [
    "peft_config = LoraConfig(task_type=TaskType.SEQ_CLS, inference_mode=False, r=8, lora_alpha=16, lora_dropout=0.1)\n",
    "# target_modules = [\"query\", \"value\"]\n",
    "chain_epoch = 5"
   ],
   "id": "8428f9a04c889844",
   "outputs": [],
   "execution_count": 41
  },
  {
   "metadata": {
    "ExecuteTime": {
     "end_time": "2025-02-12T08:45:13.316855Z",
     "start_time": "2025-02-12T08:45:12.821538Z"
    }
   },
   "cell_type": "code",
   "source": [
    "model = AutoModelForSequenceClassification.from_pretrained(model_name_or_path, return_dict=True, num_labels=2)\n",
    "model = get_peft_model(model, peft_config)\n",
    "model.print_trainable_parameters()\n",
    "model"
   ],
   "id": "2b26a59ebe1d2518",
   "outputs": [
    {
     "name": "stderr",
     "output_type": "stream",
     "text": [
      "Some weights of RobertaForSequenceClassification were not initialized from the model checkpoint at FacebookAI/roberta-large and are newly initialized: ['classifier.dense.bias', 'classifier.dense.weight', 'classifier.out_proj.bias', 'classifier.out_proj.weight']\n",
      "You should probably TRAIN this model on a down-stream task to be able to use it for predictions and inference.\n"
     ]
    },
    {
     "name": "stdout",
     "output_type": "stream",
     "text": [
      "trainable params: 1,838,082 || all params: 357,199,876 || trainable%: 0.5146\n"
     ]
    },
    {
     "data": {
      "text/plain": [
       "PeftModelForSequenceClassification(\n",
       "  (base_model): LoraModel(\n",
       "    (model): RobertaForSequenceClassification(\n",
       "      (roberta): RobertaModel(\n",
       "        (embeddings): RobertaEmbeddings(\n",
       "          (word_embeddings): Embedding(50265, 1024, padding_idx=1)\n",
       "          (position_embeddings): Embedding(514, 1024, padding_idx=1)\n",
       "          (token_type_embeddings): Embedding(1, 1024)\n",
       "          (LayerNorm): LayerNorm((1024,), eps=1e-05, elementwise_affine=True)\n",
       "          (dropout): Dropout(p=0.1, inplace=False)\n",
       "        )\n",
       "        (encoder): RobertaEncoder(\n",
       "          (layer): ModuleList(\n",
       "            (0-23): 24 x RobertaLayer(\n",
       "              (attention): RobertaAttention(\n",
       "                (self): RobertaSdpaSelfAttention(\n",
       "                  (query): lora.Linear(\n",
       "                    (base_layer): Linear(in_features=1024, out_features=1024, bias=True)\n",
       "                    (lora_dropout): ModuleDict(\n",
       "                      (default): Dropout(p=0.1, inplace=False)\n",
       "                    )\n",
       "                    (lora_A): ModuleDict(\n",
       "                      (default): Linear(in_features=1024, out_features=8, bias=False)\n",
       "                    )\n",
       "                    (lora_B): ModuleDict(\n",
       "                      (default): Linear(in_features=8, out_features=1024, bias=False)\n",
       "                    )\n",
       "                    (lora_embedding_A): ParameterDict()\n",
       "                    (lora_embedding_B): ParameterDict()\n",
       "                    (lora_magnitude_vector): ModuleDict()\n",
       "                  )\n",
       "                  (key): Linear(in_features=1024, out_features=1024, bias=True)\n",
       "                  (value): lora.Linear(\n",
       "                    (base_layer): Linear(in_features=1024, out_features=1024, bias=True)\n",
       "                    (lora_dropout): ModuleDict(\n",
       "                      (default): Dropout(p=0.1, inplace=False)\n",
       "                    )\n",
       "                    (lora_A): ModuleDict(\n",
       "                      (default): Linear(in_features=1024, out_features=8, bias=False)\n",
       "                    )\n",
       "                    (lora_B): ModuleDict(\n",
       "                      (default): Linear(in_features=8, out_features=1024, bias=False)\n",
       "                    )\n",
       "                    (lora_embedding_A): ParameterDict()\n",
       "                    (lora_embedding_B): ParameterDict()\n",
       "                    (lora_magnitude_vector): ModuleDict()\n",
       "                  )\n",
       "                  (dropout): Dropout(p=0.1, inplace=False)\n",
       "                )\n",
       "                (output): RobertaSelfOutput(\n",
       "                  (dense): Linear(in_features=1024, out_features=1024, bias=True)\n",
       "                  (LayerNorm): LayerNorm((1024,), eps=1e-05, elementwise_affine=True)\n",
       "                  (dropout): Dropout(p=0.1, inplace=False)\n",
       "                )\n",
       "              )\n",
       "              (intermediate): RobertaIntermediate(\n",
       "                (dense): Linear(in_features=1024, out_features=4096, bias=True)\n",
       "                (intermediate_act_fn): GELUActivation()\n",
       "              )\n",
       "              (output): RobertaOutput(\n",
       "                (dense): Linear(in_features=4096, out_features=1024, bias=True)\n",
       "                (LayerNorm): LayerNorm((1024,), eps=1e-05, elementwise_affine=True)\n",
       "                (dropout): Dropout(p=0.1, inplace=False)\n",
       "              )\n",
       "            )\n",
       "          )\n",
       "        )\n",
       "      )\n",
       "      (classifier): ModulesToSaveWrapper(\n",
       "        (original_module): RobertaClassificationHead(\n",
       "          (dense): Linear(in_features=1024, out_features=1024, bias=True)\n",
       "          (dropout): Dropout(p=0.1, inplace=False)\n",
       "          (out_proj): Linear(in_features=1024, out_features=2, bias=True)\n",
       "        )\n",
       "        (modules_to_save): ModuleDict(\n",
       "          (default): RobertaClassificationHead(\n",
       "            (dense): Linear(in_features=1024, out_features=1024, bias=True)\n",
       "            (dropout): Dropout(p=0.1, inplace=False)\n",
       "            (out_proj): Linear(in_features=1024, out_features=2, bias=True)\n",
       "          )\n",
       "        )\n",
       "      )\n",
       "    )\n",
       "  )\n",
       ")"
      ]
     },
     "execution_count": 42,
     "metadata": {},
     "output_type": "execute_result"
    }
   ],
   "execution_count": 42
  },
  {
   "metadata": {
    "ExecuteTime": {
     "end_time": "2025-02-12T08:45:13.417567Z",
     "start_time": "2025-02-12T08:45:13.412073Z"
    }
   },
   "cell_type": "code",
   "source": [
    "# lambda_orth = 0.02\n",
    "lambda_orth = 0.5\n",
    "# lr_b = lambad_lr * lr_a\n",
    "lambad_lr = 2.0\n",
    "# 每隔 ？ step 计算一次正交性损失\n",
    "orth_interval = 1  "
   ],
   "id": "6cef8da0b9c110b8",
   "outputs": [],
   "execution_count": 43
  },
  {
   "metadata": {
    "ExecuteTime": {
     "end_time": "2025-02-12T08:45:13.492055Z",
     "start_time": "2025-02-12T08:45:13.487012Z"
    }
   },
   "cell_type": "code",
   "source": [
    "# 获取LoRA参数\n",
    "lora_params = {n: p for n, p in model.named_parameters() if 'lora' in n}\n",
    "# 分组LoRA参数\n",
    "param_groups = [\n",
    "    {\"params\": [p for n, p in lora_params.items() if 'lora_A' in n], \"lr\": lr},  # A矩阵的学习率\n",
    "    {\"params\": [p for n, p in lora_params.items() if 'lora_B' in n], \"lr\": lambad_lr * lr},  # B矩阵的学习率\n",
    "]\n",
    "\n",
    "beta1 = 0.9\n",
    "beta2 = 0.99\n",
    "\n",
    "optimizer = AdamW(param_groups, betas=(beta1, beta2))\n",
    "\n",
    "#optimizer = AdamW(params=model.parameters(), lr=lr)\n",
    "\n",
    "# Instantiate scheduler\n",
    "lr_scheduler = get_linear_schedule_with_warmup(\n",
    "    optimizer=optimizer,\n",
    "    num_warmup_steps=0.06 * (len(train_dataloader) * num_epochs),\n",
    "    num_training_steps=(len(train_dataloader) * num_epochs),\n",
    ")"
   ],
   "id": "63c889f83184d727",
   "outputs": [],
   "execution_count": 44
  },
  {
   "metadata": {
    "ExecuteTime": {
     "end_time": "2025-02-12T08:45:13.549599Z",
     "start_time": "2025-02-12T08:45:13.545324Z"
    }
   },
   "cell_type": "code",
   "source": [
    "saved_lora_a_matrices = []  # 用于保存之前训练的 LoRA 模块的 A 矩阵\n",
    "saved_lora_b_matrices = []  # 用于保存之前训练的 LoRA 模块的 B 矩阵\n",
    "\n",
    "def extract_lora_a_matrices(model):\n",
    "    \"\"\"提取 LoRA 的 A 矩阵\"\"\"\n",
    "    lora_matrices = []\n",
    "    for name, param in model.named_parameters():\n",
    "        if \"lora_A\" in name:  # 识别 LoRA 的 A 矩阵\n",
    "            lora_matrices.append(param.detach().clone())  # 保存当前 A 矩阵\n",
    "    return lora_matrices\n",
    "\n",
    "def extract_lora_b_matrices(model):\n",
    "    \"\"\"提取 LoRA 的 B 矩阵\"\"\"\n",
    "    lora_matrices = []\n",
    "    for name, param in model.named_parameters():\n",
    "        if \"lora_B\" in name:  # 识别 LoRA 的 B 矩阵\n",
    "            lora_matrices.append(param.detach().clone())  # 保存当前 B 矩阵\n",
    "    return lora_matrices"
   ],
   "id": "18677e44473e010f",
   "outputs": [],
   "execution_count": 45
  },
  {
   "metadata": {
    "ExecuteTime": {
     "end_time": "2025-02-12T08:45:13.586678Z",
     "start_time": "2025-02-12T08:45:13.583510Z"
    }
   },
   "cell_type": "code",
   "source": [
    "def orthogonality_loss(current_matrices, saved_matrices):\n",
    "    \"\"\"计算当前 LoRA 和之前所有 LoRA 的正交性损失\"\"\"\n",
    "    loss = 0\n",
    "    for B_t in current_matrices:\n",
    "        for B_i in saved_matrices:\n",
    "            # 计算 A_t 和 A_i 的正交性\n",
    "            product = torch.matmul(B_t.T, B_i)  # 矩阵乘积\n",
    "            loss += torch.norm(product, p=\"fro\")  # Frobenius 范数\n",
    "    return loss"
   ],
   "id": "598a2933868dfb44",
   "outputs": [],
   "execution_count": 46
  },
  {
   "metadata": {
    "ExecuteTime": {
     "end_time": "2025-02-12T08:45:13.627762Z",
     "start_time": "2025-02-12T08:45:13.624820Z"
    }
   },
   "cell_type": "code",
   "source": [
    "import re\n",
    "\n",
    "def apply_shared_lora_a_matrices(model, saved_lora_a_matrices):\n",
    "    \"\"\"\n",
    "    将保存的 LoRA A 矩阵应用到当前模型中，并冻结这些参数。\n",
    "    \"\"\"\n",
    "    lora_idx = 0\n",
    "    for name, param in model.named_parameters():\n",
    "        if 'lora_A' in name:  #  A 矩阵的名称包含 'lora_A'\n",
    "            # 提取层和注意力头的信息，例如 \"encoder.layer.0.attention.self.query.lora_A\"\n",
    "            layer_match = re.match(r'.*encoder.layer.(\\d+)\\.attention.self\\.(query|value)\\.lora_A', name)\n",
    "            if layer_match:\n",
    "                layer_num = int(layer_match.group(1))\n",
    "                if layer_num < len(saved_lora_a_matrices) // 2:\n",
    "                    shared_a = saved_lora_a_matrices[lora_idx]\n",
    "                    param.data = shared_a.data.clone() \n",
    "                    # param.requires_grad = False\n",
    "                    print(f\"Applied shared LoRA A matrix for {name}\")\n",
    "                    \n",
    "                    lora_idx += 1"
   ],
   "id": "34206ab25f7b8cfc",
   "outputs": [],
   "execution_count": 47
  },
  {
   "metadata": {
    "ExecuteTime": {
     "end_time": "2025-02-12T08:45:13.682776Z",
     "start_time": "2025-02-12T08:45:13.679777Z"
    }
   },
   "cell_type": "code",
   "source": "print(torch.initial_seed())",
   "id": "9bfaf94fcd0848d",
   "outputs": [
    {
     "name": "stdout",
     "output_type": "stream",
     "text": [
      "3074\n"
     ]
    }
   ],
   "execution_count": 48
  },
  {
   "metadata": {
    "ExecuteTime": {
     "end_time": "2025-02-12T08:55:01.812254Z",
     "start_time": "2025-02-12T08:45:13.742107Z"
    }
   },
   "cell_type": "code",
   "source": [
    "model.to(device)\n",
    "# accumulation_steps = 2\n",
    "for epoch in range(num_epochs):\n",
    "    if epoch != 0 and epoch % chain_epoch == 0:\n",
    "        # 第一组lora的 A 矩阵作为共享 A 矩阵\n",
    "        # epoch == chain_epoch // epoch % chain_epoch == 0\n",
    "        if epoch == chain_epoch:\n",
    "            saved_lora_a_matrices = extract_lora_a_matrices(model)\n",
    "            print(f\"Saved LoRA A matrices at epoch {epoch}\")\n",
    "        \n",
    "        # 提取当前 LoRA 的 B 矩阵\n",
    "        current_lora_b_matrices = extract_lora_b_matrices(model)\n",
    "        # 将当前 B 矩阵保存到列表中\n",
    "        saved_lora_b_matrices.extend(current_lora_b_matrices)\n",
    "        orth_loss = 0.0\n",
    "        \n",
    "        # 合并\n",
    "        model.merge_and_unload()\n",
    "        peft_config.r = 8\n",
    "        \n",
    "        # 拓展\n",
    "        model = get_peft_model(model, peft_config)\n",
    "        # 共享 A\n",
    "        if saved_lora_a_matrices:\n",
    "            apply_shared_lora_a_matrices(model, saved_lora_a_matrices)\n",
    "            # for name, param in model.named_parameters():\n",
    "            #     print(f\"{name}: requires_grad={param.requires_grad}\")\n",
    "            for name, param in model.named_parameters():\n",
    "                if param.requires_grad:\n",
    "                    print(f\"Active parameter: {name}\")\n",
    "\n",
    "        \n",
    "        #重新实例化优化器\n",
    "        # 获取LoRA参数\n",
    "        lora_params = {n: p for n, p in model.named_parameters() if 'lora' in n}\n",
    "        # 分组LoRA参数\n",
    "        param_groups = [\n",
    "            {\"params\": [p for n, p in lora_params.items() if 'lora_A' in n], \"lr\": lr},  # A矩阵的学习率\n",
    "            {\"params\": [p for n, p in lora_params.items() if 'lora_B' in n], \"lr\": lambad_lr * lr},  # B矩阵的学习率\n",
    "        ]\n",
    "        optimizer = AdamW(param_groups, betas=(beta1, beta2))\n",
    "        # optimizer = AdamW(params=model.parameters(), lr=lr)\n",
    "        lr_scheduler = get_linear_schedule_with_warmup(\n",
    "            optimizer=optimizer,\n",
    "            num_warmup_steps=0.06 * (len(train_dataloader) * num_epochs),\n",
    "            num_training_steps=(len(train_dataloader) * num_epochs),\n",
    "        )\n",
    "        print(f\"new lora, r = {peft_config.r}:\")\n",
    "        torch.cuda.empty_cache()\n",
    "        \n",
    "        \n",
    "    model.train()\n",
    "    for step, batch in enumerate(tqdm(train_dataloader)):\n",
    "        batch.to(device)\n",
    "        outputs = model(**batch)\n",
    "        \n",
    "        loss = outputs.loss\n",
    "        # task_loss = outputs.loss\n",
    "        if saved_lora_b_matrices and step % orth_interval == 0 and step != 0:\n",
    "            current_lora_b_matrices = extract_lora_b_matrices(model)\n",
    "            orth_loss = orthogonality_loss(current_lora_b_matrices, saved_lora_b_matrices)\n",
    "        else:\n",
    "            orth_loss = 0.0\n",
    "        # 总损失\n",
    "        loss = loss + lambda_orth * orth_loss\n",
    "        \n",
    "        loss.backward()\n",
    "        torch.nn.utils.clip_grad_norm_(model.parameters(), 1.0)\n",
    "        \n",
    "        # if (step + 1) % accumulation_steps == 0:\n",
    "        optimizer.step()\n",
    "        lr_scheduler.step()\n",
    "        optimizer.zero_grad()\n",
    "\n",
    "    model.eval()\n",
    "    for step, batch in enumerate(tqdm(eval_dataloader)):\n",
    "        batch.to(device)\n",
    "        with torch.no_grad():\n",
    "            outputs = model(**batch)\n",
    "        predictions = outputs.logits.argmax(dim=-1)\n",
    "        predictions, references = predictions, batch[\"labels\"]\n",
    "        # predictions = outputs.logits.squeeze().cpu().numpy()\n",
    "        # references = batch[\"labels\"].cpu().numpy() \n",
    "        metric.add_batch(\n",
    "            predictions=predictions,\n",
    "            references=references,\n",
    "        )\n",
    "\n",
    "    eval_metric = metric.compute()\n",
    "    print(f\"epoch {epoch}:\", eval_metric)"
   ],
   "id": "8c5e420cd6859359",
   "outputs": [
    {
     "name": "stderr",
     "output_type": "stream",
     "text": [
      "  0%|          | 0/156 [00:00<?, ?it/s]You're using a RobertaTokenizerFast tokenizer. Please note that with a fast tokenizer, using the `__call__` method is faster than using a method to encode the text followed by a call to the `pad` method to get a padded encoding.\n",
      "100%|██████████| 156/156 [00:16<00:00,  9.22it/s]\n",
      "100%|██████████| 18/18 [00:00<00:00, 18.39it/s]\n"
     ]
    },
    {
     "name": "stdout",
     "output_type": "stream",
     "text": [
      "epoch 0: {'accuracy': 0.4729241877256318}\n"
     ]
    },
    {
     "name": "stderr",
     "output_type": "stream",
     "text": [
      "100%|██████████| 156/156 [00:17<00:00,  9.10it/s]\n",
      "100%|██████████| 18/18 [00:00<00:00, 18.15it/s]\n"
     ]
    },
    {
     "name": "stdout",
     "output_type": "stream",
     "text": [
      "epoch 1: {'accuracy': 0.7184115523465704}\n"
     ]
    },
    {
     "name": "stderr",
     "output_type": "stream",
     "text": [
      "100%|██████████| 156/156 [00:17<00:00,  9.07it/s]\n",
      "100%|██████████| 18/18 [00:00<00:00, 18.21it/s]\n"
     ]
    },
    {
     "name": "stdout",
     "output_type": "stream",
     "text": [
      "epoch 2: {'accuracy': 0.7220216606498195}\n"
     ]
    },
    {
     "name": "stderr",
     "output_type": "stream",
     "text": [
      "100%|██████████| 156/156 [00:17<00:00,  9.16it/s]\n",
      "100%|██████████| 18/18 [00:01<00:00, 15.78it/s]\n"
     ]
    },
    {
     "name": "stdout",
     "output_type": "stream",
     "text": [
      "epoch 3: {'accuracy': 0.8086642599277978}\n"
     ]
    },
    {
     "name": "stderr",
     "output_type": "stream",
     "text": [
      "100%|██████████| 156/156 [00:17<00:00,  8.98it/s]\n",
      "100%|██████████| 18/18 [00:00<00:00, 18.31it/s]\n"
     ]
    },
    {
     "name": "stdout",
     "output_type": "stream",
     "text": [
      "epoch 4: {'accuracy': 0.8267148014440433}\n",
      "Saved LoRA A matrices at epoch 5\n",
      "Applied shared LoRA A matrix for base_model.model.base_model.model.roberta.encoder.layer.0.attention.self.query.lora_A.default.weight\n",
      "Applied shared LoRA A matrix for base_model.model.base_model.model.roberta.encoder.layer.0.attention.self.value.lora_A.default.weight\n",
      "Applied shared LoRA A matrix for base_model.model.base_model.model.roberta.encoder.layer.1.attention.self.query.lora_A.default.weight\n",
      "Applied shared LoRA A matrix for base_model.model.base_model.model.roberta.encoder.layer.1.attention.self.value.lora_A.default.weight\n",
      "Applied shared LoRA A matrix for base_model.model.base_model.model.roberta.encoder.layer.2.attention.self.query.lora_A.default.weight\n",
      "Applied shared LoRA A matrix for base_model.model.base_model.model.roberta.encoder.layer.2.attention.self.value.lora_A.default.weight\n",
      "Applied shared LoRA A matrix for base_model.model.base_model.model.roberta.encoder.layer.3.attention.self.query.lora_A.default.weight\n",
      "Applied shared LoRA A matrix for base_model.model.base_model.model.roberta.encoder.layer.3.attention.self.value.lora_A.default.weight\n",
      "Applied shared LoRA A matrix for base_model.model.base_model.model.roberta.encoder.layer.4.attention.self.query.lora_A.default.weight\n",
      "Applied shared LoRA A matrix for base_model.model.base_model.model.roberta.encoder.layer.4.attention.self.value.lora_A.default.weight\n",
      "Applied shared LoRA A matrix for base_model.model.base_model.model.roberta.encoder.layer.5.attention.self.query.lora_A.default.weight\n",
      "Applied shared LoRA A matrix for base_model.model.base_model.model.roberta.encoder.layer.5.attention.self.value.lora_A.default.weight\n",
      "Applied shared LoRA A matrix for base_model.model.base_model.model.roberta.encoder.layer.6.attention.self.query.lora_A.default.weight\n",
      "Applied shared LoRA A matrix for base_model.model.base_model.model.roberta.encoder.layer.6.attention.self.value.lora_A.default.weight\n",
      "Applied shared LoRA A matrix for base_model.model.base_model.model.roberta.encoder.layer.7.attention.self.query.lora_A.default.weight\n",
      "Applied shared LoRA A matrix for base_model.model.base_model.model.roberta.encoder.layer.7.attention.self.value.lora_A.default.weight\n",
      "Applied shared LoRA A matrix for base_model.model.base_model.model.roberta.encoder.layer.8.attention.self.query.lora_A.default.weight\n",
      "Applied shared LoRA A matrix for base_model.model.base_model.model.roberta.encoder.layer.8.attention.self.value.lora_A.default.weight\n",
      "Applied shared LoRA A matrix for base_model.model.base_model.model.roberta.encoder.layer.9.attention.self.query.lora_A.default.weight\n",
      "Applied shared LoRA A matrix for base_model.model.base_model.model.roberta.encoder.layer.9.attention.self.value.lora_A.default.weight\n",
      "Applied shared LoRA A matrix for base_model.model.base_model.model.roberta.encoder.layer.10.attention.self.query.lora_A.default.weight\n",
      "Applied shared LoRA A matrix for base_model.model.base_model.model.roberta.encoder.layer.10.attention.self.value.lora_A.default.weight\n",
      "Applied shared LoRA A matrix for base_model.model.base_model.model.roberta.encoder.layer.11.attention.self.query.lora_A.default.weight\n",
      "Applied shared LoRA A matrix for base_model.model.base_model.model.roberta.encoder.layer.11.attention.self.value.lora_A.default.weight\n",
      "Applied shared LoRA A matrix for base_model.model.base_model.model.roberta.encoder.layer.12.attention.self.query.lora_A.default.weight\n",
      "Applied shared LoRA A matrix for base_model.model.base_model.model.roberta.encoder.layer.12.attention.self.value.lora_A.default.weight\n",
      "Applied shared LoRA A matrix for base_model.model.base_model.model.roberta.encoder.layer.13.attention.self.query.lora_A.default.weight\n",
      "Applied shared LoRA A matrix for base_model.model.base_model.model.roberta.encoder.layer.13.attention.self.value.lora_A.default.weight\n",
      "Applied shared LoRA A matrix for base_model.model.base_model.model.roberta.encoder.layer.14.attention.self.query.lora_A.default.weight\n",
      "Applied shared LoRA A matrix for base_model.model.base_model.model.roberta.encoder.layer.14.attention.self.value.lora_A.default.weight\n",
      "Applied shared LoRA A matrix for base_model.model.base_model.model.roberta.encoder.layer.15.attention.self.query.lora_A.default.weight\n",
      "Applied shared LoRA A matrix for base_model.model.base_model.model.roberta.encoder.layer.15.attention.self.value.lora_A.default.weight\n",
      "Applied shared LoRA A matrix for base_model.model.base_model.model.roberta.encoder.layer.16.attention.self.query.lora_A.default.weight\n",
      "Applied shared LoRA A matrix for base_model.model.base_model.model.roberta.encoder.layer.16.attention.self.value.lora_A.default.weight\n",
      "Applied shared LoRA A matrix for base_model.model.base_model.model.roberta.encoder.layer.17.attention.self.query.lora_A.default.weight\n",
      "Applied shared LoRA A matrix for base_model.model.base_model.model.roberta.encoder.layer.17.attention.self.value.lora_A.default.weight\n",
      "Applied shared LoRA A matrix for base_model.model.base_model.model.roberta.encoder.layer.18.attention.self.query.lora_A.default.weight\n",
      "Applied shared LoRA A matrix for base_model.model.base_model.model.roberta.encoder.layer.18.attention.self.value.lora_A.default.weight\n",
      "Applied shared LoRA A matrix for base_model.model.base_model.model.roberta.encoder.layer.19.attention.self.query.lora_A.default.weight\n",
      "Applied shared LoRA A matrix for base_model.model.base_model.model.roberta.encoder.layer.19.attention.self.value.lora_A.default.weight\n",
      "Applied shared LoRA A matrix for base_model.model.base_model.model.roberta.encoder.layer.20.attention.self.query.lora_A.default.weight\n",
      "Applied shared LoRA A matrix for base_model.model.base_model.model.roberta.encoder.layer.20.attention.self.value.lora_A.default.weight\n",
      "Applied shared LoRA A matrix for base_model.model.base_model.model.roberta.encoder.layer.21.attention.self.query.lora_A.default.weight\n",
      "Applied shared LoRA A matrix for base_model.model.base_model.model.roberta.encoder.layer.21.attention.self.value.lora_A.default.weight\n",
      "Applied shared LoRA A matrix for base_model.model.base_model.model.roberta.encoder.layer.22.attention.self.query.lora_A.default.weight\n",
      "Applied shared LoRA A matrix for base_model.model.base_model.model.roberta.encoder.layer.22.attention.self.value.lora_A.default.weight\n",
      "Applied shared LoRA A matrix for base_model.model.base_model.model.roberta.encoder.layer.23.attention.self.query.lora_A.default.weight\n",
      "Applied shared LoRA A matrix for base_model.model.base_model.model.roberta.encoder.layer.23.attention.self.value.lora_A.default.weight\n",
      "Active parameter: base_model.model.base_model.model.roberta.encoder.layer.0.attention.self.query.lora_A.default.weight\n",
      "Active parameter: base_model.model.base_model.model.roberta.encoder.layer.0.attention.self.query.lora_B.default.weight\n",
      "Active parameter: base_model.model.base_model.model.roberta.encoder.layer.0.attention.self.value.lora_A.default.weight\n",
      "Active parameter: base_model.model.base_model.model.roberta.encoder.layer.0.attention.self.value.lora_B.default.weight\n",
      "Active parameter: base_model.model.base_model.model.roberta.encoder.layer.1.attention.self.query.lora_A.default.weight\n",
      "Active parameter: base_model.model.base_model.model.roberta.encoder.layer.1.attention.self.query.lora_B.default.weight\n",
      "Active parameter: base_model.model.base_model.model.roberta.encoder.layer.1.attention.self.value.lora_A.default.weight\n",
      "Active parameter: base_model.model.base_model.model.roberta.encoder.layer.1.attention.self.value.lora_B.default.weight\n",
      "Active parameter: base_model.model.base_model.model.roberta.encoder.layer.2.attention.self.query.lora_A.default.weight\n",
      "Active parameter: base_model.model.base_model.model.roberta.encoder.layer.2.attention.self.query.lora_B.default.weight\n",
      "Active parameter: base_model.model.base_model.model.roberta.encoder.layer.2.attention.self.value.lora_A.default.weight\n",
      "Active parameter: base_model.model.base_model.model.roberta.encoder.layer.2.attention.self.value.lora_B.default.weight\n",
      "Active parameter: base_model.model.base_model.model.roberta.encoder.layer.3.attention.self.query.lora_A.default.weight\n",
      "Active parameter: base_model.model.base_model.model.roberta.encoder.layer.3.attention.self.query.lora_B.default.weight\n",
      "Active parameter: base_model.model.base_model.model.roberta.encoder.layer.3.attention.self.value.lora_A.default.weight\n",
      "Active parameter: base_model.model.base_model.model.roberta.encoder.layer.3.attention.self.value.lora_B.default.weight\n",
      "Active parameter: base_model.model.base_model.model.roberta.encoder.layer.4.attention.self.query.lora_A.default.weight\n",
      "Active parameter: base_model.model.base_model.model.roberta.encoder.layer.4.attention.self.query.lora_B.default.weight\n",
      "Active parameter: base_model.model.base_model.model.roberta.encoder.layer.4.attention.self.value.lora_A.default.weight\n",
      "Active parameter: base_model.model.base_model.model.roberta.encoder.layer.4.attention.self.value.lora_B.default.weight\n",
      "Active parameter: base_model.model.base_model.model.roberta.encoder.layer.5.attention.self.query.lora_A.default.weight\n",
      "Active parameter: base_model.model.base_model.model.roberta.encoder.layer.5.attention.self.query.lora_B.default.weight\n",
      "Active parameter: base_model.model.base_model.model.roberta.encoder.layer.5.attention.self.value.lora_A.default.weight\n",
      "Active parameter: base_model.model.base_model.model.roberta.encoder.layer.5.attention.self.value.lora_B.default.weight\n",
      "Active parameter: base_model.model.base_model.model.roberta.encoder.layer.6.attention.self.query.lora_A.default.weight\n",
      "Active parameter: base_model.model.base_model.model.roberta.encoder.layer.6.attention.self.query.lora_B.default.weight\n",
      "Active parameter: base_model.model.base_model.model.roberta.encoder.layer.6.attention.self.value.lora_A.default.weight\n",
      "Active parameter: base_model.model.base_model.model.roberta.encoder.layer.6.attention.self.value.lora_B.default.weight\n",
      "Active parameter: base_model.model.base_model.model.roberta.encoder.layer.7.attention.self.query.lora_A.default.weight\n",
      "Active parameter: base_model.model.base_model.model.roberta.encoder.layer.7.attention.self.query.lora_B.default.weight\n",
      "Active parameter: base_model.model.base_model.model.roberta.encoder.layer.7.attention.self.value.lora_A.default.weight\n",
      "Active parameter: base_model.model.base_model.model.roberta.encoder.layer.7.attention.self.value.lora_B.default.weight\n",
      "Active parameter: base_model.model.base_model.model.roberta.encoder.layer.8.attention.self.query.lora_A.default.weight\n",
      "Active parameter: base_model.model.base_model.model.roberta.encoder.layer.8.attention.self.query.lora_B.default.weight\n",
      "Active parameter: base_model.model.base_model.model.roberta.encoder.layer.8.attention.self.value.lora_A.default.weight\n",
      "Active parameter: base_model.model.base_model.model.roberta.encoder.layer.8.attention.self.value.lora_B.default.weight\n",
      "Active parameter: base_model.model.base_model.model.roberta.encoder.layer.9.attention.self.query.lora_A.default.weight\n",
      "Active parameter: base_model.model.base_model.model.roberta.encoder.layer.9.attention.self.query.lora_B.default.weight\n",
      "Active parameter: base_model.model.base_model.model.roberta.encoder.layer.9.attention.self.value.lora_A.default.weight\n",
      "Active parameter: base_model.model.base_model.model.roberta.encoder.layer.9.attention.self.value.lora_B.default.weight\n",
      "Active parameter: base_model.model.base_model.model.roberta.encoder.layer.10.attention.self.query.lora_A.default.weight\n",
      "Active parameter: base_model.model.base_model.model.roberta.encoder.layer.10.attention.self.query.lora_B.default.weight\n",
      "Active parameter: base_model.model.base_model.model.roberta.encoder.layer.10.attention.self.value.lora_A.default.weight\n",
      "Active parameter: base_model.model.base_model.model.roberta.encoder.layer.10.attention.self.value.lora_B.default.weight\n",
      "Active parameter: base_model.model.base_model.model.roberta.encoder.layer.11.attention.self.query.lora_A.default.weight\n",
      "Active parameter: base_model.model.base_model.model.roberta.encoder.layer.11.attention.self.query.lora_B.default.weight\n",
      "Active parameter: base_model.model.base_model.model.roberta.encoder.layer.11.attention.self.value.lora_A.default.weight\n",
      "Active parameter: base_model.model.base_model.model.roberta.encoder.layer.11.attention.self.value.lora_B.default.weight\n",
      "Active parameter: base_model.model.base_model.model.roberta.encoder.layer.12.attention.self.query.lora_A.default.weight\n",
      "Active parameter: base_model.model.base_model.model.roberta.encoder.layer.12.attention.self.query.lora_B.default.weight\n",
      "Active parameter: base_model.model.base_model.model.roberta.encoder.layer.12.attention.self.value.lora_A.default.weight\n",
      "Active parameter: base_model.model.base_model.model.roberta.encoder.layer.12.attention.self.value.lora_B.default.weight\n",
      "Active parameter: base_model.model.base_model.model.roberta.encoder.layer.13.attention.self.query.lora_A.default.weight\n",
      "Active parameter: base_model.model.base_model.model.roberta.encoder.layer.13.attention.self.query.lora_B.default.weight\n",
      "Active parameter: base_model.model.base_model.model.roberta.encoder.layer.13.attention.self.value.lora_A.default.weight\n",
      "Active parameter: base_model.model.base_model.model.roberta.encoder.layer.13.attention.self.value.lora_B.default.weight\n",
      "Active parameter: base_model.model.base_model.model.roberta.encoder.layer.14.attention.self.query.lora_A.default.weight\n",
      "Active parameter: base_model.model.base_model.model.roberta.encoder.layer.14.attention.self.query.lora_B.default.weight\n",
      "Active parameter: base_model.model.base_model.model.roberta.encoder.layer.14.attention.self.value.lora_A.default.weight\n",
      "Active parameter: base_model.model.base_model.model.roberta.encoder.layer.14.attention.self.value.lora_B.default.weight\n",
      "Active parameter: base_model.model.base_model.model.roberta.encoder.layer.15.attention.self.query.lora_A.default.weight\n",
      "Active parameter: base_model.model.base_model.model.roberta.encoder.layer.15.attention.self.query.lora_B.default.weight\n",
      "Active parameter: base_model.model.base_model.model.roberta.encoder.layer.15.attention.self.value.lora_A.default.weight\n",
      "Active parameter: base_model.model.base_model.model.roberta.encoder.layer.15.attention.self.value.lora_B.default.weight\n",
      "Active parameter: base_model.model.base_model.model.roberta.encoder.layer.16.attention.self.query.lora_A.default.weight\n",
      "Active parameter: base_model.model.base_model.model.roberta.encoder.layer.16.attention.self.query.lora_B.default.weight\n",
      "Active parameter: base_model.model.base_model.model.roberta.encoder.layer.16.attention.self.value.lora_A.default.weight\n",
      "Active parameter: base_model.model.base_model.model.roberta.encoder.layer.16.attention.self.value.lora_B.default.weight\n",
      "Active parameter: base_model.model.base_model.model.roberta.encoder.layer.17.attention.self.query.lora_A.default.weight\n",
      "Active parameter: base_model.model.base_model.model.roberta.encoder.layer.17.attention.self.query.lora_B.default.weight\n",
      "Active parameter: base_model.model.base_model.model.roberta.encoder.layer.17.attention.self.value.lora_A.default.weight\n",
      "Active parameter: base_model.model.base_model.model.roberta.encoder.layer.17.attention.self.value.lora_B.default.weight\n",
      "Active parameter: base_model.model.base_model.model.roberta.encoder.layer.18.attention.self.query.lora_A.default.weight\n",
      "Active parameter: base_model.model.base_model.model.roberta.encoder.layer.18.attention.self.query.lora_B.default.weight\n",
      "Active parameter: base_model.model.base_model.model.roberta.encoder.layer.18.attention.self.value.lora_A.default.weight\n",
      "Active parameter: base_model.model.base_model.model.roberta.encoder.layer.18.attention.self.value.lora_B.default.weight\n",
      "Active parameter: base_model.model.base_model.model.roberta.encoder.layer.19.attention.self.query.lora_A.default.weight\n",
      "Active parameter: base_model.model.base_model.model.roberta.encoder.layer.19.attention.self.query.lora_B.default.weight\n",
      "Active parameter: base_model.model.base_model.model.roberta.encoder.layer.19.attention.self.value.lora_A.default.weight\n",
      "Active parameter: base_model.model.base_model.model.roberta.encoder.layer.19.attention.self.value.lora_B.default.weight\n",
      "Active parameter: base_model.model.base_model.model.roberta.encoder.layer.20.attention.self.query.lora_A.default.weight\n",
      "Active parameter: base_model.model.base_model.model.roberta.encoder.layer.20.attention.self.query.lora_B.default.weight\n",
      "Active parameter: base_model.model.base_model.model.roberta.encoder.layer.20.attention.self.value.lora_A.default.weight\n",
      "Active parameter: base_model.model.base_model.model.roberta.encoder.layer.20.attention.self.value.lora_B.default.weight\n",
      "Active parameter: base_model.model.base_model.model.roberta.encoder.layer.21.attention.self.query.lora_A.default.weight\n",
      "Active parameter: base_model.model.base_model.model.roberta.encoder.layer.21.attention.self.query.lora_B.default.weight\n",
      "Active parameter: base_model.model.base_model.model.roberta.encoder.layer.21.attention.self.value.lora_A.default.weight\n",
      "Active parameter: base_model.model.base_model.model.roberta.encoder.layer.21.attention.self.value.lora_B.default.weight\n",
      "Active parameter: base_model.model.base_model.model.roberta.encoder.layer.22.attention.self.query.lora_A.default.weight\n",
      "Active parameter: base_model.model.base_model.model.roberta.encoder.layer.22.attention.self.query.lora_B.default.weight\n",
      "Active parameter: base_model.model.base_model.model.roberta.encoder.layer.22.attention.self.value.lora_A.default.weight\n",
      "Active parameter: base_model.model.base_model.model.roberta.encoder.layer.22.attention.self.value.lora_B.default.weight\n",
      "Active parameter: base_model.model.base_model.model.roberta.encoder.layer.23.attention.self.query.lora_A.default.weight\n",
      "Active parameter: base_model.model.base_model.model.roberta.encoder.layer.23.attention.self.query.lora_B.default.weight\n",
      "Active parameter: base_model.model.base_model.model.roberta.encoder.layer.23.attention.self.value.lora_A.default.weight\n",
      "Active parameter: base_model.model.base_model.model.roberta.encoder.layer.23.attention.self.value.lora_B.default.weight\n",
      "Active parameter: base_model.model.base_model.model.classifier.modules_to_save.default.dense.weight\n",
      "Active parameter: base_model.model.base_model.model.classifier.modules_to_save.default.dense.bias\n",
      "Active parameter: base_model.model.base_model.model.classifier.modules_to_save.default.out_proj.weight\n",
      "Active parameter: base_model.model.base_model.model.classifier.modules_to_save.default.out_proj.bias\n",
      "new lora, r = 8:\n"
     ]
    },
    {
     "name": "stderr",
     "output_type": "stream",
     "text": [
      "100%|██████████| 156/156 [00:25<00:00,  6.15it/s]\n",
      "100%|██████████| 18/18 [00:00<00:00, 18.46it/s]\n"
     ]
    },
    {
     "name": "stdout",
     "output_type": "stream",
     "text": [
      "epoch 5: {'accuracy': 0.8592057761732852}\n"
     ]
    },
    {
     "name": "stderr",
     "output_type": "stream",
     "text": [
      "100%|██████████| 156/156 [00:24<00:00,  6.34it/s]\n",
      "100%|██████████| 18/18 [00:00<00:00, 18.98it/s]\n"
     ]
    },
    {
     "name": "stdout",
     "output_type": "stream",
     "text": [
      "epoch 6: {'accuracy': 0.8483754512635379}\n"
     ]
    },
    {
     "name": "stderr",
     "output_type": "stream",
     "text": [
      "100%|██████████| 156/156 [00:24<00:00,  6.35it/s]\n",
      "100%|██████████| 18/18 [00:00<00:00, 18.53it/s]\n"
     ]
    },
    {
     "name": "stdout",
     "output_type": "stream",
     "text": [
      "epoch 7: {'accuracy': 0.8592057761732852}\n"
     ]
    },
    {
     "name": "stderr",
     "output_type": "stream",
     "text": [
      "100%|██████████| 156/156 [00:25<00:00,  6.20it/s]\n",
      "100%|██████████| 18/18 [00:00<00:00, 18.89it/s]\n"
     ]
    },
    {
     "name": "stdout",
     "output_type": "stream",
     "text": [
      "epoch 8: {'accuracy': 0.851985559566787}\n"
     ]
    },
    {
     "name": "stderr",
     "output_type": "stream",
     "text": [
      "100%|██████████| 156/156 [00:24<00:00,  6.28it/s]\n",
      "100%|██████████| 18/18 [00:01<00:00, 17.92it/s]\n"
     ]
    },
    {
     "name": "stdout",
     "output_type": "stream",
     "text": [
      "epoch 9: {'accuracy': 0.8411552346570397}\n",
      "Applied shared LoRA A matrix for base_model.model.base_model.model.base_model.model.roberta.encoder.layer.0.attention.self.query.lora_A.default.weight\n",
      "Applied shared LoRA A matrix for base_model.model.base_model.model.base_model.model.roberta.encoder.layer.0.attention.self.value.lora_A.default.weight\n",
      "Applied shared LoRA A matrix for base_model.model.base_model.model.base_model.model.roberta.encoder.layer.1.attention.self.query.lora_A.default.weight\n",
      "Applied shared LoRA A matrix for base_model.model.base_model.model.base_model.model.roberta.encoder.layer.1.attention.self.value.lora_A.default.weight\n",
      "Applied shared LoRA A matrix for base_model.model.base_model.model.base_model.model.roberta.encoder.layer.2.attention.self.query.lora_A.default.weight\n",
      "Applied shared LoRA A matrix for base_model.model.base_model.model.base_model.model.roberta.encoder.layer.2.attention.self.value.lora_A.default.weight\n",
      "Applied shared LoRA A matrix for base_model.model.base_model.model.base_model.model.roberta.encoder.layer.3.attention.self.query.lora_A.default.weight\n",
      "Applied shared LoRA A matrix for base_model.model.base_model.model.base_model.model.roberta.encoder.layer.3.attention.self.value.lora_A.default.weight\n",
      "Applied shared LoRA A matrix for base_model.model.base_model.model.base_model.model.roberta.encoder.layer.4.attention.self.query.lora_A.default.weight\n",
      "Applied shared LoRA A matrix for base_model.model.base_model.model.base_model.model.roberta.encoder.layer.4.attention.self.value.lora_A.default.weight\n",
      "Applied shared LoRA A matrix for base_model.model.base_model.model.base_model.model.roberta.encoder.layer.5.attention.self.query.lora_A.default.weight\n",
      "Applied shared LoRA A matrix for base_model.model.base_model.model.base_model.model.roberta.encoder.layer.5.attention.self.value.lora_A.default.weight\n",
      "Applied shared LoRA A matrix for base_model.model.base_model.model.base_model.model.roberta.encoder.layer.6.attention.self.query.lora_A.default.weight\n",
      "Applied shared LoRA A matrix for base_model.model.base_model.model.base_model.model.roberta.encoder.layer.6.attention.self.value.lora_A.default.weight\n",
      "Applied shared LoRA A matrix for base_model.model.base_model.model.base_model.model.roberta.encoder.layer.7.attention.self.query.lora_A.default.weight\n",
      "Applied shared LoRA A matrix for base_model.model.base_model.model.base_model.model.roberta.encoder.layer.7.attention.self.value.lora_A.default.weight\n",
      "Applied shared LoRA A matrix for base_model.model.base_model.model.base_model.model.roberta.encoder.layer.8.attention.self.query.lora_A.default.weight\n",
      "Applied shared LoRA A matrix for base_model.model.base_model.model.base_model.model.roberta.encoder.layer.8.attention.self.value.lora_A.default.weight\n",
      "Applied shared LoRA A matrix for base_model.model.base_model.model.base_model.model.roberta.encoder.layer.9.attention.self.query.lora_A.default.weight\n",
      "Applied shared LoRA A matrix for base_model.model.base_model.model.base_model.model.roberta.encoder.layer.9.attention.self.value.lora_A.default.weight\n",
      "Applied shared LoRA A matrix for base_model.model.base_model.model.base_model.model.roberta.encoder.layer.10.attention.self.query.lora_A.default.weight\n",
      "Applied shared LoRA A matrix for base_model.model.base_model.model.base_model.model.roberta.encoder.layer.10.attention.self.value.lora_A.default.weight\n",
      "Applied shared LoRA A matrix for base_model.model.base_model.model.base_model.model.roberta.encoder.layer.11.attention.self.query.lora_A.default.weight\n",
      "Applied shared LoRA A matrix for base_model.model.base_model.model.base_model.model.roberta.encoder.layer.11.attention.self.value.lora_A.default.weight\n",
      "Applied shared LoRA A matrix for base_model.model.base_model.model.base_model.model.roberta.encoder.layer.12.attention.self.query.lora_A.default.weight\n",
      "Applied shared LoRA A matrix for base_model.model.base_model.model.base_model.model.roberta.encoder.layer.12.attention.self.value.lora_A.default.weight\n",
      "Applied shared LoRA A matrix for base_model.model.base_model.model.base_model.model.roberta.encoder.layer.13.attention.self.query.lora_A.default.weight\n",
      "Applied shared LoRA A matrix for base_model.model.base_model.model.base_model.model.roberta.encoder.layer.13.attention.self.value.lora_A.default.weight\n",
      "Applied shared LoRA A matrix for base_model.model.base_model.model.base_model.model.roberta.encoder.layer.14.attention.self.query.lora_A.default.weight\n",
      "Applied shared LoRA A matrix for base_model.model.base_model.model.base_model.model.roberta.encoder.layer.14.attention.self.value.lora_A.default.weight\n",
      "Applied shared LoRA A matrix for base_model.model.base_model.model.base_model.model.roberta.encoder.layer.15.attention.self.query.lora_A.default.weight\n",
      "Applied shared LoRA A matrix for base_model.model.base_model.model.base_model.model.roberta.encoder.layer.15.attention.self.value.lora_A.default.weight\n",
      "Applied shared LoRA A matrix for base_model.model.base_model.model.base_model.model.roberta.encoder.layer.16.attention.self.query.lora_A.default.weight\n",
      "Applied shared LoRA A matrix for base_model.model.base_model.model.base_model.model.roberta.encoder.layer.16.attention.self.value.lora_A.default.weight\n",
      "Applied shared LoRA A matrix for base_model.model.base_model.model.base_model.model.roberta.encoder.layer.17.attention.self.query.lora_A.default.weight\n",
      "Applied shared LoRA A matrix for base_model.model.base_model.model.base_model.model.roberta.encoder.layer.17.attention.self.value.lora_A.default.weight\n",
      "Applied shared LoRA A matrix for base_model.model.base_model.model.base_model.model.roberta.encoder.layer.18.attention.self.query.lora_A.default.weight\n",
      "Applied shared LoRA A matrix for base_model.model.base_model.model.base_model.model.roberta.encoder.layer.18.attention.self.value.lora_A.default.weight\n",
      "Applied shared LoRA A matrix for base_model.model.base_model.model.base_model.model.roberta.encoder.layer.19.attention.self.query.lora_A.default.weight\n",
      "Applied shared LoRA A matrix for base_model.model.base_model.model.base_model.model.roberta.encoder.layer.19.attention.self.value.lora_A.default.weight\n",
      "Applied shared LoRA A matrix for base_model.model.base_model.model.base_model.model.roberta.encoder.layer.20.attention.self.query.lora_A.default.weight\n",
      "Applied shared LoRA A matrix for base_model.model.base_model.model.base_model.model.roberta.encoder.layer.20.attention.self.value.lora_A.default.weight\n",
      "Applied shared LoRA A matrix for base_model.model.base_model.model.base_model.model.roberta.encoder.layer.21.attention.self.query.lora_A.default.weight\n",
      "Applied shared LoRA A matrix for base_model.model.base_model.model.base_model.model.roberta.encoder.layer.21.attention.self.value.lora_A.default.weight\n",
      "Applied shared LoRA A matrix for base_model.model.base_model.model.base_model.model.roberta.encoder.layer.22.attention.self.query.lora_A.default.weight\n",
      "Applied shared LoRA A matrix for base_model.model.base_model.model.base_model.model.roberta.encoder.layer.22.attention.self.value.lora_A.default.weight\n",
      "Applied shared LoRA A matrix for base_model.model.base_model.model.base_model.model.roberta.encoder.layer.23.attention.self.query.lora_A.default.weight\n",
      "Applied shared LoRA A matrix for base_model.model.base_model.model.base_model.model.roberta.encoder.layer.23.attention.self.value.lora_A.default.weight\n",
      "Active parameter: base_model.model.base_model.model.base_model.model.roberta.encoder.layer.0.attention.self.query.lora_A.default.weight\n",
      "Active parameter: base_model.model.base_model.model.base_model.model.roberta.encoder.layer.0.attention.self.query.lora_B.default.weight\n",
      "Active parameter: base_model.model.base_model.model.base_model.model.roberta.encoder.layer.0.attention.self.value.lora_A.default.weight\n",
      "Active parameter: base_model.model.base_model.model.base_model.model.roberta.encoder.layer.0.attention.self.value.lora_B.default.weight\n",
      "Active parameter: base_model.model.base_model.model.base_model.model.roberta.encoder.layer.1.attention.self.query.lora_A.default.weight\n",
      "Active parameter: base_model.model.base_model.model.base_model.model.roberta.encoder.layer.1.attention.self.query.lora_B.default.weight\n",
      "Active parameter: base_model.model.base_model.model.base_model.model.roberta.encoder.layer.1.attention.self.value.lora_A.default.weight\n",
      "Active parameter: base_model.model.base_model.model.base_model.model.roberta.encoder.layer.1.attention.self.value.lora_B.default.weight\n",
      "Active parameter: base_model.model.base_model.model.base_model.model.roberta.encoder.layer.2.attention.self.query.lora_A.default.weight\n",
      "Active parameter: base_model.model.base_model.model.base_model.model.roberta.encoder.layer.2.attention.self.query.lora_B.default.weight\n",
      "Active parameter: base_model.model.base_model.model.base_model.model.roberta.encoder.layer.2.attention.self.value.lora_A.default.weight\n",
      "Active parameter: base_model.model.base_model.model.base_model.model.roberta.encoder.layer.2.attention.self.value.lora_B.default.weight\n",
      "Active parameter: base_model.model.base_model.model.base_model.model.roberta.encoder.layer.3.attention.self.query.lora_A.default.weight\n",
      "Active parameter: base_model.model.base_model.model.base_model.model.roberta.encoder.layer.3.attention.self.query.lora_B.default.weight\n",
      "Active parameter: base_model.model.base_model.model.base_model.model.roberta.encoder.layer.3.attention.self.value.lora_A.default.weight\n",
      "Active parameter: base_model.model.base_model.model.base_model.model.roberta.encoder.layer.3.attention.self.value.lora_B.default.weight\n",
      "Active parameter: base_model.model.base_model.model.base_model.model.roberta.encoder.layer.4.attention.self.query.lora_A.default.weight\n",
      "Active parameter: base_model.model.base_model.model.base_model.model.roberta.encoder.layer.4.attention.self.query.lora_B.default.weight\n",
      "Active parameter: base_model.model.base_model.model.base_model.model.roberta.encoder.layer.4.attention.self.value.lora_A.default.weight\n",
      "Active parameter: base_model.model.base_model.model.base_model.model.roberta.encoder.layer.4.attention.self.value.lora_B.default.weight\n",
      "Active parameter: base_model.model.base_model.model.base_model.model.roberta.encoder.layer.5.attention.self.query.lora_A.default.weight\n",
      "Active parameter: base_model.model.base_model.model.base_model.model.roberta.encoder.layer.5.attention.self.query.lora_B.default.weight\n",
      "Active parameter: base_model.model.base_model.model.base_model.model.roberta.encoder.layer.5.attention.self.value.lora_A.default.weight\n",
      "Active parameter: base_model.model.base_model.model.base_model.model.roberta.encoder.layer.5.attention.self.value.lora_B.default.weight\n",
      "Active parameter: base_model.model.base_model.model.base_model.model.roberta.encoder.layer.6.attention.self.query.lora_A.default.weight\n",
      "Active parameter: base_model.model.base_model.model.base_model.model.roberta.encoder.layer.6.attention.self.query.lora_B.default.weight\n",
      "Active parameter: base_model.model.base_model.model.base_model.model.roberta.encoder.layer.6.attention.self.value.lora_A.default.weight\n",
      "Active parameter: base_model.model.base_model.model.base_model.model.roberta.encoder.layer.6.attention.self.value.lora_B.default.weight\n",
      "Active parameter: base_model.model.base_model.model.base_model.model.roberta.encoder.layer.7.attention.self.query.lora_A.default.weight\n",
      "Active parameter: base_model.model.base_model.model.base_model.model.roberta.encoder.layer.7.attention.self.query.lora_B.default.weight\n",
      "Active parameter: base_model.model.base_model.model.base_model.model.roberta.encoder.layer.7.attention.self.value.lora_A.default.weight\n",
      "Active parameter: base_model.model.base_model.model.base_model.model.roberta.encoder.layer.7.attention.self.value.lora_B.default.weight\n",
      "Active parameter: base_model.model.base_model.model.base_model.model.roberta.encoder.layer.8.attention.self.query.lora_A.default.weight\n",
      "Active parameter: base_model.model.base_model.model.base_model.model.roberta.encoder.layer.8.attention.self.query.lora_B.default.weight\n",
      "Active parameter: base_model.model.base_model.model.base_model.model.roberta.encoder.layer.8.attention.self.value.lora_A.default.weight\n",
      "Active parameter: base_model.model.base_model.model.base_model.model.roberta.encoder.layer.8.attention.self.value.lora_B.default.weight\n",
      "Active parameter: base_model.model.base_model.model.base_model.model.roberta.encoder.layer.9.attention.self.query.lora_A.default.weight\n",
      "Active parameter: base_model.model.base_model.model.base_model.model.roberta.encoder.layer.9.attention.self.query.lora_B.default.weight\n",
      "Active parameter: base_model.model.base_model.model.base_model.model.roberta.encoder.layer.9.attention.self.value.lora_A.default.weight\n",
      "Active parameter: base_model.model.base_model.model.base_model.model.roberta.encoder.layer.9.attention.self.value.lora_B.default.weight\n",
      "Active parameter: base_model.model.base_model.model.base_model.model.roberta.encoder.layer.10.attention.self.query.lora_A.default.weight\n",
      "Active parameter: base_model.model.base_model.model.base_model.model.roberta.encoder.layer.10.attention.self.query.lora_B.default.weight\n",
      "Active parameter: base_model.model.base_model.model.base_model.model.roberta.encoder.layer.10.attention.self.value.lora_A.default.weight\n",
      "Active parameter: base_model.model.base_model.model.base_model.model.roberta.encoder.layer.10.attention.self.value.lora_B.default.weight\n",
      "Active parameter: base_model.model.base_model.model.base_model.model.roberta.encoder.layer.11.attention.self.query.lora_A.default.weight\n",
      "Active parameter: base_model.model.base_model.model.base_model.model.roberta.encoder.layer.11.attention.self.query.lora_B.default.weight\n",
      "Active parameter: base_model.model.base_model.model.base_model.model.roberta.encoder.layer.11.attention.self.value.lora_A.default.weight\n",
      "Active parameter: base_model.model.base_model.model.base_model.model.roberta.encoder.layer.11.attention.self.value.lora_B.default.weight\n",
      "Active parameter: base_model.model.base_model.model.base_model.model.roberta.encoder.layer.12.attention.self.query.lora_A.default.weight\n",
      "Active parameter: base_model.model.base_model.model.base_model.model.roberta.encoder.layer.12.attention.self.query.lora_B.default.weight\n",
      "Active parameter: base_model.model.base_model.model.base_model.model.roberta.encoder.layer.12.attention.self.value.lora_A.default.weight\n",
      "Active parameter: base_model.model.base_model.model.base_model.model.roberta.encoder.layer.12.attention.self.value.lora_B.default.weight\n",
      "Active parameter: base_model.model.base_model.model.base_model.model.roberta.encoder.layer.13.attention.self.query.lora_A.default.weight\n",
      "Active parameter: base_model.model.base_model.model.base_model.model.roberta.encoder.layer.13.attention.self.query.lora_B.default.weight\n",
      "Active parameter: base_model.model.base_model.model.base_model.model.roberta.encoder.layer.13.attention.self.value.lora_A.default.weight\n",
      "Active parameter: base_model.model.base_model.model.base_model.model.roberta.encoder.layer.13.attention.self.value.lora_B.default.weight\n",
      "Active parameter: base_model.model.base_model.model.base_model.model.roberta.encoder.layer.14.attention.self.query.lora_A.default.weight\n",
      "Active parameter: base_model.model.base_model.model.base_model.model.roberta.encoder.layer.14.attention.self.query.lora_B.default.weight\n",
      "Active parameter: base_model.model.base_model.model.base_model.model.roberta.encoder.layer.14.attention.self.value.lora_A.default.weight\n",
      "Active parameter: base_model.model.base_model.model.base_model.model.roberta.encoder.layer.14.attention.self.value.lora_B.default.weight\n",
      "Active parameter: base_model.model.base_model.model.base_model.model.roberta.encoder.layer.15.attention.self.query.lora_A.default.weight\n",
      "Active parameter: base_model.model.base_model.model.base_model.model.roberta.encoder.layer.15.attention.self.query.lora_B.default.weight\n",
      "Active parameter: base_model.model.base_model.model.base_model.model.roberta.encoder.layer.15.attention.self.value.lora_A.default.weight\n",
      "Active parameter: base_model.model.base_model.model.base_model.model.roberta.encoder.layer.15.attention.self.value.lora_B.default.weight\n",
      "Active parameter: base_model.model.base_model.model.base_model.model.roberta.encoder.layer.16.attention.self.query.lora_A.default.weight\n",
      "Active parameter: base_model.model.base_model.model.base_model.model.roberta.encoder.layer.16.attention.self.query.lora_B.default.weight\n",
      "Active parameter: base_model.model.base_model.model.base_model.model.roberta.encoder.layer.16.attention.self.value.lora_A.default.weight\n",
      "Active parameter: base_model.model.base_model.model.base_model.model.roberta.encoder.layer.16.attention.self.value.lora_B.default.weight\n",
      "Active parameter: base_model.model.base_model.model.base_model.model.roberta.encoder.layer.17.attention.self.query.lora_A.default.weight\n",
      "Active parameter: base_model.model.base_model.model.base_model.model.roberta.encoder.layer.17.attention.self.query.lora_B.default.weight\n",
      "Active parameter: base_model.model.base_model.model.base_model.model.roberta.encoder.layer.17.attention.self.value.lora_A.default.weight\n",
      "Active parameter: base_model.model.base_model.model.base_model.model.roberta.encoder.layer.17.attention.self.value.lora_B.default.weight\n",
      "Active parameter: base_model.model.base_model.model.base_model.model.roberta.encoder.layer.18.attention.self.query.lora_A.default.weight\n",
      "Active parameter: base_model.model.base_model.model.base_model.model.roberta.encoder.layer.18.attention.self.query.lora_B.default.weight\n",
      "Active parameter: base_model.model.base_model.model.base_model.model.roberta.encoder.layer.18.attention.self.value.lora_A.default.weight\n",
      "Active parameter: base_model.model.base_model.model.base_model.model.roberta.encoder.layer.18.attention.self.value.lora_B.default.weight\n",
      "Active parameter: base_model.model.base_model.model.base_model.model.roberta.encoder.layer.19.attention.self.query.lora_A.default.weight\n",
      "Active parameter: base_model.model.base_model.model.base_model.model.roberta.encoder.layer.19.attention.self.query.lora_B.default.weight\n",
      "Active parameter: base_model.model.base_model.model.base_model.model.roberta.encoder.layer.19.attention.self.value.lora_A.default.weight\n",
      "Active parameter: base_model.model.base_model.model.base_model.model.roberta.encoder.layer.19.attention.self.value.lora_B.default.weight\n",
      "Active parameter: base_model.model.base_model.model.base_model.model.roberta.encoder.layer.20.attention.self.query.lora_A.default.weight\n",
      "Active parameter: base_model.model.base_model.model.base_model.model.roberta.encoder.layer.20.attention.self.query.lora_B.default.weight\n",
      "Active parameter: base_model.model.base_model.model.base_model.model.roberta.encoder.layer.20.attention.self.value.lora_A.default.weight\n",
      "Active parameter: base_model.model.base_model.model.base_model.model.roberta.encoder.layer.20.attention.self.value.lora_B.default.weight\n",
      "Active parameter: base_model.model.base_model.model.base_model.model.roberta.encoder.layer.21.attention.self.query.lora_A.default.weight\n",
      "Active parameter: base_model.model.base_model.model.base_model.model.roberta.encoder.layer.21.attention.self.query.lora_B.default.weight\n",
      "Active parameter: base_model.model.base_model.model.base_model.model.roberta.encoder.layer.21.attention.self.value.lora_A.default.weight\n",
      "Active parameter: base_model.model.base_model.model.base_model.model.roberta.encoder.layer.21.attention.self.value.lora_B.default.weight\n",
      "Active parameter: base_model.model.base_model.model.base_model.model.roberta.encoder.layer.22.attention.self.query.lora_A.default.weight\n",
      "Active parameter: base_model.model.base_model.model.base_model.model.roberta.encoder.layer.22.attention.self.query.lora_B.default.weight\n",
      "Active parameter: base_model.model.base_model.model.base_model.model.roberta.encoder.layer.22.attention.self.value.lora_A.default.weight\n",
      "Active parameter: base_model.model.base_model.model.base_model.model.roberta.encoder.layer.22.attention.self.value.lora_B.default.weight\n",
      "Active parameter: base_model.model.base_model.model.base_model.model.roberta.encoder.layer.23.attention.self.query.lora_A.default.weight\n",
      "Active parameter: base_model.model.base_model.model.base_model.model.roberta.encoder.layer.23.attention.self.query.lora_B.default.weight\n",
      "Active parameter: base_model.model.base_model.model.base_model.model.roberta.encoder.layer.23.attention.self.value.lora_A.default.weight\n",
      "Active parameter: base_model.model.base_model.model.base_model.model.roberta.encoder.layer.23.attention.self.value.lora_B.default.weight\n",
      "Active parameter: base_model.model.base_model.model.base_model.model.classifier.modules_to_save.default.dense.weight\n",
      "Active parameter: base_model.model.base_model.model.base_model.model.classifier.modules_to_save.default.dense.bias\n",
      "Active parameter: base_model.model.base_model.model.base_model.model.classifier.modules_to_save.default.out_proj.weight\n",
      "Active parameter: base_model.model.base_model.model.base_model.model.classifier.modules_to_save.default.out_proj.bias\n",
      "new lora, r = 8:\n"
     ]
    },
    {
     "name": "stderr",
     "output_type": "stream",
     "text": [
      "100%|██████████| 156/156 [00:32<00:00,  4.83it/s]\n",
      "100%|██████████| 18/18 [00:00<00:00, 18.80it/s]\n"
     ]
    },
    {
     "name": "stdout",
     "output_type": "stream",
     "text": [
      "epoch 10: {'accuracy': 0.851985559566787}\n"
     ]
    },
    {
     "name": "stderr",
     "output_type": "stream",
     "text": [
      "100%|██████████| 156/156 [00:32<00:00,  4.77it/s]\n",
      "100%|██████████| 18/18 [00:00<00:00, 18.84it/s]\n"
     ]
    },
    {
     "name": "stdout",
     "output_type": "stream",
     "text": [
      "epoch 11: {'accuracy': 0.8267148014440433}\n"
     ]
    },
    {
     "name": "stderr",
     "output_type": "stream",
     "text": [
      "100%|██████████| 156/156 [00:32<00:00,  4.83it/s]\n",
      "100%|██████████| 18/18 [00:00<00:00, 18.86it/s]\n"
     ]
    },
    {
     "name": "stdout",
     "output_type": "stream",
     "text": [
      "epoch 12: {'accuracy': 0.8736462093862816}\n"
     ]
    },
    {
     "name": "stderr",
     "output_type": "stream",
     "text": [
      "100%|██████████| 156/156 [00:32<00:00,  4.87it/s]\n",
      "100%|██████████| 18/18 [00:00<00:00, 19.16it/s]\n"
     ]
    },
    {
     "name": "stdout",
     "output_type": "stream",
     "text": [
      "epoch 13: {'accuracy': 0.8483754512635379}\n"
     ]
    },
    {
     "name": "stderr",
     "output_type": "stream",
     "text": [
      "100%|██████████| 156/156 [00:31<00:00,  4.92it/s]\n",
      "100%|██████████| 18/18 [00:00<00:00, 18.74it/s]\n"
     ]
    },
    {
     "name": "stdout",
     "output_type": "stream",
     "text": [
      "epoch 14: {'accuracy': 0.8447653429602888}\n",
      "Applied shared LoRA A matrix for base_model.model.base_model.model.base_model.model.base_model.model.roberta.encoder.layer.0.attention.self.query.lora_A.default.weight\n",
      "Applied shared LoRA A matrix for base_model.model.base_model.model.base_model.model.base_model.model.roberta.encoder.layer.0.attention.self.value.lora_A.default.weight\n",
      "Applied shared LoRA A matrix for base_model.model.base_model.model.base_model.model.base_model.model.roberta.encoder.layer.1.attention.self.query.lora_A.default.weight\n",
      "Applied shared LoRA A matrix for base_model.model.base_model.model.base_model.model.base_model.model.roberta.encoder.layer.1.attention.self.value.lora_A.default.weight\n",
      "Applied shared LoRA A matrix for base_model.model.base_model.model.base_model.model.base_model.model.roberta.encoder.layer.2.attention.self.query.lora_A.default.weight\n",
      "Applied shared LoRA A matrix for base_model.model.base_model.model.base_model.model.base_model.model.roberta.encoder.layer.2.attention.self.value.lora_A.default.weight\n",
      "Applied shared LoRA A matrix for base_model.model.base_model.model.base_model.model.base_model.model.roberta.encoder.layer.3.attention.self.query.lora_A.default.weight\n",
      "Applied shared LoRA A matrix for base_model.model.base_model.model.base_model.model.base_model.model.roberta.encoder.layer.3.attention.self.value.lora_A.default.weight\n",
      "Applied shared LoRA A matrix for base_model.model.base_model.model.base_model.model.base_model.model.roberta.encoder.layer.4.attention.self.query.lora_A.default.weight\n",
      "Applied shared LoRA A matrix for base_model.model.base_model.model.base_model.model.base_model.model.roberta.encoder.layer.4.attention.self.value.lora_A.default.weight\n",
      "Applied shared LoRA A matrix for base_model.model.base_model.model.base_model.model.base_model.model.roberta.encoder.layer.5.attention.self.query.lora_A.default.weight\n",
      "Applied shared LoRA A matrix for base_model.model.base_model.model.base_model.model.base_model.model.roberta.encoder.layer.5.attention.self.value.lora_A.default.weight\n",
      "Applied shared LoRA A matrix for base_model.model.base_model.model.base_model.model.base_model.model.roberta.encoder.layer.6.attention.self.query.lora_A.default.weight\n",
      "Applied shared LoRA A matrix for base_model.model.base_model.model.base_model.model.base_model.model.roberta.encoder.layer.6.attention.self.value.lora_A.default.weight\n",
      "Applied shared LoRA A matrix for base_model.model.base_model.model.base_model.model.base_model.model.roberta.encoder.layer.7.attention.self.query.lora_A.default.weight\n",
      "Applied shared LoRA A matrix for base_model.model.base_model.model.base_model.model.base_model.model.roberta.encoder.layer.7.attention.self.value.lora_A.default.weight\n",
      "Applied shared LoRA A matrix for base_model.model.base_model.model.base_model.model.base_model.model.roberta.encoder.layer.8.attention.self.query.lora_A.default.weight\n",
      "Applied shared LoRA A matrix for base_model.model.base_model.model.base_model.model.base_model.model.roberta.encoder.layer.8.attention.self.value.lora_A.default.weight\n",
      "Applied shared LoRA A matrix for base_model.model.base_model.model.base_model.model.base_model.model.roberta.encoder.layer.9.attention.self.query.lora_A.default.weight\n",
      "Applied shared LoRA A matrix for base_model.model.base_model.model.base_model.model.base_model.model.roberta.encoder.layer.9.attention.self.value.lora_A.default.weight\n",
      "Applied shared LoRA A matrix for base_model.model.base_model.model.base_model.model.base_model.model.roberta.encoder.layer.10.attention.self.query.lora_A.default.weight\n",
      "Applied shared LoRA A matrix for base_model.model.base_model.model.base_model.model.base_model.model.roberta.encoder.layer.10.attention.self.value.lora_A.default.weight\n",
      "Applied shared LoRA A matrix for base_model.model.base_model.model.base_model.model.base_model.model.roberta.encoder.layer.11.attention.self.query.lora_A.default.weight\n",
      "Applied shared LoRA A matrix for base_model.model.base_model.model.base_model.model.base_model.model.roberta.encoder.layer.11.attention.self.value.lora_A.default.weight\n",
      "Applied shared LoRA A matrix for base_model.model.base_model.model.base_model.model.base_model.model.roberta.encoder.layer.12.attention.self.query.lora_A.default.weight\n",
      "Applied shared LoRA A matrix for base_model.model.base_model.model.base_model.model.base_model.model.roberta.encoder.layer.12.attention.self.value.lora_A.default.weight\n",
      "Applied shared LoRA A matrix for base_model.model.base_model.model.base_model.model.base_model.model.roberta.encoder.layer.13.attention.self.query.lora_A.default.weight\n",
      "Applied shared LoRA A matrix for base_model.model.base_model.model.base_model.model.base_model.model.roberta.encoder.layer.13.attention.self.value.lora_A.default.weight\n",
      "Applied shared LoRA A matrix for base_model.model.base_model.model.base_model.model.base_model.model.roberta.encoder.layer.14.attention.self.query.lora_A.default.weight\n",
      "Applied shared LoRA A matrix for base_model.model.base_model.model.base_model.model.base_model.model.roberta.encoder.layer.14.attention.self.value.lora_A.default.weight\n",
      "Applied shared LoRA A matrix for base_model.model.base_model.model.base_model.model.base_model.model.roberta.encoder.layer.15.attention.self.query.lora_A.default.weight\n",
      "Applied shared LoRA A matrix for base_model.model.base_model.model.base_model.model.base_model.model.roberta.encoder.layer.15.attention.self.value.lora_A.default.weight\n",
      "Applied shared LoRA A matrix for base_model.model.base_model.model.base_model.model.base_model.model.roberta.encoder.layer.16.attention.self.query.lora_A.default.weight\n",
      "Applied shared LoRA A matrix for base_model.model.base_model.model.base_model.model.base_model.model.roberta.encoder.layer.16.attention.self.value.lora_A.default.weight\n",
      "Applied shared LoRA A matrix for base_model.model.base_model.model.base_model.model.base_model.model.roberta.encoder.layer.17.attention.self.query.lora_A.default.weight\n",
      "Applied shared LoRA A matrix for base_model.model.base_model.model.base_model.model.base_model.model.roberta.encoder.layer.17.attention.self.value.lora_A.default.weight\n",
      "Applied shared LoRA A matrix for base_model.model.base_model.model.base_model.model.base_model.model.roberta.encoder.layer.18.attention.self.query.lora_A.default.weight\n",
      "Applied shared LoRA A matrix for base_model.model.base_model.model.base_model.model.base_model.model.roberta.encoder.layer.18.attention.self.value.lora_A.default.weight\n",
      "Applied shared LoRA A matrix for base_model.model.base_model.model.base_model.model.base_model.model.roberta.encoder.layer.19.attention.self.query.lora_A.default.weight\n",
      "Applied shared LoRA A matrix for base_model.model.base_model.model.base_model.model.base_model.model.roberta.encoder.layer.19.attention.self.value.lora_A.default.weight\n",
      "Applied shared LoRA A matrix for base_model.model.base_model.model.base_model.model.base_model.model.roberta.encoder.layer.20.attention.self.query.lora_A.default.weight\n",
      "Applied shared LoRA A matrix for base_model.model.base_model.model.base_model.model.base_model.model.roberta.encoder.layer.20.attention.self.value.lora_A.default.weight\n",
      "Applied shared LoRA A matrix for base_model.model.base_model.model.base_model.model.base_model.model.roberta.encoder.layer.21.attention.self.query.lora_A.default.weight\n",
      "Applied shared LoRA A matrix for base_model.model.base_model.model.base_model.model.base_model.model.roberta.encoder.layer.21.attention.self.value.lora_A.default.weight\n",
      "Applied shared LoRA A matrix for base_model.model.base_model.model.base_model.model.base_model.model.roberta.encoder.layer.22.attention.self.query.lora_A.default.weight\n",
      "Applied shared LoRA A matrix for base_model.model.base_model.model.base_model.model.base_model.model.roberta.encoder.layer.22.attention.self.value.lora_A.default.weight\n",
      "Applied shared LoRA A matrix for base_model.model.base_model.model.base_model.model.base_model.model.roberta.encoder.layer.23.attention.self.query.lora_A.default.weight\n",
      "Applied shared LoRA A matrix for base_model.model.base_model.model.base_model.model.base_model.model.roberta.encoder.layer.23.attention.self.value.lora_A.default.weight\n",
      "Active parameter: base_model.model.base_model.model.base_model.model.base_model.model.roberta.encoder.layer.0.attention.self.query.lora_A.default.weight\n",
      "Active parameter: base_model.model.base_model.model.base_model.model.base_model.model.roberta.encoder.layer.0.attention.self.query.lora_B.default.weight\n",
      "Active parameter: base_model.model.base_model.model.base_model.model.base_model.model.roberta.encoder.layer.0.attention.self.value.lora_A.default.weight\n",
      "Active parameter: base_model.model.base_model.model.base_model.model.base_model.model.roberta.encoder.layer.0.attention.self.value.lora_B.default.weight\n",
      "Active parameter: base_model.model.base_model.model.base_model.model.base_model.model.roberta.encoder.layer.1.attention.self.query.lora_A.default.weight\n",
      "Active parameter: base_model.model.base_model.model.base_model.model.base_model.model.roberta.encoder.layer.1.attention.self.query.lora_B.default.weight\n",
      "Active parameter: base_model.model.base_model.model.base_model.model.base_model.model.roberta.encoder.layer.1.attention.self.value.lora_A.default.weight\n",
      "Active parameter: base_model.model.base_model.model.base_model.model.base_model.model.roberta.encoder.layer.1.attention.self.value.lora_B.default.weight\n",
      "Active parameter: base_model.model.base_model.model.base_model.model.base_model.model.roberta.encoder.layer.2.attention.self.query.lora_A.default.weight\n",
      "Active parameter: base_model.model.base_model.model.base_model.model.base_model.model.roberta.encoder.layer.2.attention.self.query.lora_B.default.weight\n",
      "Active parameter: base_model.model.base_model.model.base_model.model.base_model.model.roberta.encoder.layer.2.attention.self.value.lora_A.default.weight\n",
      "Active parameter: base_model.model.base_model.model.base_model.model.base_model.model.roberta.encoder.layer.2.attention.self.value.lora_B.default.weight\n",
      "Active parameter: base_model.model.base_model.model.base_model.model.base_model.model.roberta.encoder.layer.3.attention.self.query.lora_A.default.weight\n",
      "Active parameter: base_model.model.base_model.model.base_model.model.base_model.model.roberta.encoder.layer.3.attention.self.query.lora_B.default.weight\n",
      "Active parameter: base_model.model.base_model.model.base_model.model.base_model.model.roberta.encoder.layer.3.attention.self.value.lora_A.default.weight\n",
      "Active parameter: base_model.model.base_model.model.base_model.model.base_model.model.roberta.encoder.layer.3.attention.self.value.lora_B.default.weight\n",
      "Active parameter: base_model.model.base_model.model.base_model.model.base_model.model.roberta.encoder.layer.4.attention.self.query.lora_A.default.weight\n",
      "Active parameter: base_model.model.base_model.model.base_model.model.base_model.model.roberta.encoder.layer.4.attention.self.query.lora_B.default.weight\n",
      "Active parameter: base_model.model.base_model.model.base_model.model.base_model.model.roberta.encoder.layer.4.attention.self.value.lora_A.default.weight\n",
      "Active parameter: base_model.model.base_model.model.base_model.model.base_model.model.roberta.encoder.layer.4.attention.self.value.lora_B.default.weight\n",
      "Active parameter: base_model.model.base_model.model.base_model.model.base_model.model.roberta.encoder.layer.5.attention.self.query.lora_A.default.weight\n",
      "Active parameter: base_model.model.base_model.model.base_model.model.base_model.model.roberta.encoder.layer.5.attention.self.query.lora_B.default.weight\n",
      "Active parameter: base_model.model.base_model.model.base_model.model.base_model.model.roberta.encoder.layer.5.attention.self.value.lora_A.default.weight\n",
      "Active parameter: base_model.model.base_model.model.base_model.model.base_model.model.roberta.encoder.layer.5.attention.self.value.lora_B.default.weight\n",
      "Active parameter: base_model.model.base_model.model.base_model.model.base_model.model.roberta.encoder.layer.6.attention.self.query.lora_A.default.weight\n",
      "Active parameter: base_model.model.base_model.model.base_model.model.base_model.model.roberta.encoder.layer.6.attention.self.query.lora_B.default.weight\n",
      "Active parameter: base_model.model.base_model.model.base_model.model.base_model.model.roberta.encoder.layer.6.attention.self.value.lora_A.default.weight\n",
      "Active parameter: base_model.model.base_model.model.base_model.model.base_model.model.roberta.encoder.layer.6.attention.self.value.lora_B.default.weight\n",
      "Active parameter: base_model.model.base_model.model.base_model.model.base_model.model.roberta.encoder.layer.7.attention.self.query.lora_A.default.weight\n",
      "Active parameter: base_model.model.base_model.model.base_model.model.base_model.model.roberta.encoder.layer.7.attention.self.query.lora_B.default.weight\n",
      "Active parameter: base_model.model.base_model.model.base_model.model.base_model.model.roberta.encoder.layer.7.attention.self.value.lora_A.default.weight\n",
      "Active parameter: base_model.model.base_model.model.base_model.model.base_model.model.roberta.encoder.layer.7.attention.self.value.lora_B.default.weight\n",
      "Active parameter: base_model.model.base_model.model.base_model.model.base_model.model.roberta.encoder.layer.8.attention.self.query.lora_A.default.weight\n",
      "Active parameter: base_model.model.base_model.model.base_model.model.base_model.model.roberta.encoder.layer.8.attention.self.query.lora_B.default.weight\n",
      "Active parameter: base_model.model.base_model.model.base_model.model.base_model.model.roberta.encoder.layer.8.attention.self.value.lora_A.default.weight\n",
      "Active parameter: base_model.model.base_model.model.base_model.model.base_model.model.roberta.encoder.layer.8.attention.self.value.lora_B.default.weight\n",
      "Active parameter: base_model.model.base_model.model.base_model.model.base_model.model.roberta.encoder.layer.9.attention.self.query.lora_A.default.weight\n",
      "Active parameter: base_model.model.base_model.model.base_model.model.base_model.model.roberta.encoder.layer.9.attention.self.query.lora_B.default.weight\n",
      "Active parameter: base_model.model.base_model.model.base_model.model.base_model.model.roberta.encoder.layer.9.attention.self.value.lora_A.default.weight\n",
      "Active parameter: base_model.model.base_model.model.base_model.model.base_model.model.roberta.encoder.layer.9.attention.self.value.lora_B.default.weight\n",
      "Active parameter: base_model.model.base_model.model.base_model.model.base_model.model.roberta.encoder.layer.10.attention.self.query.lora_A.default.weight\n",
      "Active parameter: base_model.model.base_model.model.base_model.model.base_model.model.roberta.encoder.layer.10.attention.self.query.lora_B.default.weight\n",
      "Active parameter: base_model.model.base_model.model.base_model.model.base_model.model.roberta.encoder.layer.10.attention.self.value.lora_A.default.weight\n",
      "Active parameter: base_model.model.base_model.model.base_model.model.base_model.model.roberta.encoder.layer.10.attention.self.value.lora_B.default.weight\n",
      "Active parameter: base_model.model.base_model.model.base_model.model.base_model.model.roberta.encoder.layer.11.attention.self.query.lora_A.default.weight\n",
      "Active parameter: base_model.model.base_model.model.base_model.model.base_model.model.roberta.encoder.layer.11.attention.self.query.lora_B.default.weight\n",
      "Active parameter: base_model.model.base_model.model.base_model.model.base_model.model.roberta.encoder.layer.11.attention.self.value.lora_A.default.weight\n",
      "Active parameter: base_model.model.base_model.model.base_model.model.base_model.model.roberta.encoder.layer.11.attention.self.value.lora_B.default.weight\n",
      "Active parameter: base_model.model.base_model.model.base_model.model.base_model.model.roberta.encoder.layer.12.attention.self.query.lora_A.default.weight\n",
      "Active parameter: base_model.model.base_model.model.base_model.model.base_model.model.roberta.encoder.layer.12.attention.self.query.lora_B.default.weight\n",
      "Active parameter: base_model.model.base_model.model.base_model.model.base_model.model.roberta.encoder.layer.12.attention.self.value.lora_A.default.weight\n",
      "Active parameter: base_model.model.base_model.model.base_model.model.base_model.model.roberta.encoder.layer.12.attention.self.value.lora_B.default.weight\n",
      "Active parameter: base_model.model.base_model.model.base_model.model.base_model.model.roberta.encoder.layer.13.attention.self.query.lora_A.default.weight\n",
      "Active parameter: base_model.model.base_model.model.base_model.model.base_model.model.roberta.encoder.layer.13.attention.self.query.lora_B.default.weight\n",
      "Active parameter: base_model.model.base_model.model.base_model.model.base_model.model.roberta.encoder.layer.13.attention.self.value.lora_A.default.weight\n",
      "Active parameter: base_model.model.base_model.model.base_model.model.base_model.model.roberta.encoder.layer.13.attention.self.value.lora_B.default.weight\n",
      "Active parameter: base_model.model.base_model.model.base_model.model.base_model.model.roberta.encoder.layer.14.attention.self.query.lora_A.default.weight\n",
      "Active parameter: base_model.model.base_model.model.base_model.model.base_model.model.roberta.encoder.layer.14.attention.self.query.lora_B.default.weight\n",
      "Active parameter: base_model.model.base_model.model.base_model.model.base_model.model.roberta.encoder.layer.14.attention.self.value.lora_A.default.weight\n",
      "Active parameter: base_model.model.base_model.model.base_model.model.base_model.model.roberta.encoder.layer.14.attention.self.value.lora_B.default.weight\n",
      "Active parameter: base_model.model.base_model.model.base_model.model.base_model.model.roberta.encoder.layer.15.attention.self.query.lora_A.default.weight\n",
      "Active parameter: base_model.model.base_model.model.base_model.model.base_model.model.roberta.encoder.layer.15.attention.self.query.lora_B.default.weight\n",
      "Active parameter: base_model.model.base_model.model.base_model.model.base_model.model.roberta.encoder.layer.15.attention.self.value.lora_A.default.weight\n",
      "Active parameter: base_model.model.base_model.model.base_model.model.base_model.model.roberta.encoder.layer.15.attention.self.value.lora_B.default.weight\n",
      "Active parameter: base_model.model.base_model.model.base_model.model.base_model.model.roberta.encoder.layer.16.attention.self.query.lora_A.default.weight\n",
      "Active parameter: base_model.model.base_model.model.base_model.model.base_model.model.roberta.encoder.layer.16.attention.self.query.lora_B.default.weight\n",
      "Active parameter: base_model.model.base_model.model.base_model.model.base_model.model.roberta.encoder.layer.16.attention.self.value.lora_A.default.weight\n",
      "Active parameter: base_model.model.base_model.model.base_model.model.base_model.model.roberta.encoder.layer.16.attention.self.value.lora_B.default.weight\n",
      "Active parameter: base_model.model.base_model.model.base_model.model.base_model.model.roberta.encoder.layer.17.attention.self.query.lora_A.default.weight\n",
      "Active parameter: base_model.model.base_model.model.base_model.model.base_model.model.roberta.encoder.layer.17.attention.self.query.lora_B.default.weight\n",
      "Active parameter: base_model.model.base_model.model.base_model.model.base_model.model.roberta.encoder.layer.17.attention.self.value.lora_A.default.weight\n",
      "Active parameter: base_model.model.base_model.model.base_model.model.base_model.model.roberta.encoder.layer.17.attention.self.value.lora_B.default.weight\n",
      "Active parameter: base_model.model.base_model.model.base_model.model.base_model.model.roberta.encoder.layer.18.attention.self.query.lora_A.default.weight\n",
      "Active parameter: base_model.model.base_model.model.base_model.model.base_model.model.roberta.encoder.layer.18.attention.self.query.lora_B.default.weight\n",
      "Active parameter: base_model.model.base_model.model.base_model.model.base_model.model.roberta.encoder.layer.18.attention.self.value.lora_A.default.weight\n",
      "Active parameter: base_model.model.base_model.model.base_model.model.base_model.model.roberta.encoder.layer.18.attention.self.value.lora_B.default.weight\n",
      "Active parameter: base_model.model.base_model.model.base_model.model.base_model.model.roberta.encoder.layer.19.attention.self.query.lora_A.default.weight\n",
      "Active parameter: base_model.model.base_model.model.base_model.model.base_model.model.roberta.encoder.layer.19.attention.self.query.lora_B.default.weight\n",
      "Active parameter: base_model.model.base_model.model.base_model.model.base_model.model.roberta.encoder.layer.19.attention.self.value.lora_A.default.weight\n",
      "Active parameter: base_model.model.base_model.model.base_model.model.base_model.model.roberta.encoder.layer.19.attention.self.value.lora_B.default.weight\n",
      "Active parameter: base_model.model.base_model.model.base_model.model.base_model.model.roberta.encoder.layer.20.attention.self.query.lora_A.default.weight\n",
      "Active parameter: base_model.model.base_model.model.base_model.model.base_model.model.roberta.encoder.layer.20.attention.self.query.lora_B.default.weight\n",
      "Active parameter: base_model.model.base_model.model.base_model.model.base_model.model.roberta.encoder.layer.20.attention.self.value.lora_A.default.weight\n",
      "Active parameter: base_model.model.base_model.model.base_model.model.base_model.model.roberta.encoder.layer.20.attention.self.value.lora_B.default.weight\n",
      "Active parameter: base_model.model.base_model.model.base_model.model.base_model.model.roberta.encoder.layer.21.attention.self.query.lora_A.default.weight\n",
      "Active parameter: base_model.model.base_model.model.base_model.model.base_model.model.roberta.encoder.layer.21.attention.self.query.lora_B.default.weight\n",
      "Active parameter: base_model.model.base_model.model.base_model.model.base_model.model.roberta.encoder.layer.21.attention.self.value.lora_A.default.weight\n",
      "Active parameter: base_model.model.base_model.model.base_model.model.base_model.model.roberta.encoder.layer.21.attention.self.value.lora_B.default.weight\n",
      "Active parameter: base_model.model.base_model.model.base_model.model.base_model.model.roberta.encoder.layer.22.attention.self.query.lora_A.default.weight\n",
      "Active parameter: base_model.model.base_model.model.base_model.model.base_model.model.roberta.encoder.layer.22.attention.self.query.lora_B.default.weight\n",
      "Active parameter: base_model.model.base_model.model.base_model.model.base_model.model.roberta.encoder.layer.22.attention.self.value.lora_A.default.weight\n",
      "Active parameter: base_model.model.base_model.model.base_model.model.base_model.model.roberta.encoder.layer.22.attention.self.value.lora_B.default.weight\n",
      "Active parameter: base_model.model.base_model.model.base_model.model.base_model.model.roberta.encoder.layer.23.attention.self.query.lora_A.default.weight\n",
      "Active parameter: base_model.model.base_model.model.base_model.model.base_model.model.roberta.encoder.layer.23.attention.self.query.lora_B.default.weight\n",
      "Active parameter: base_model.model.base_model.model.base_model.model.base_model.model.roberta.encoder.layer.23.attention.self.value.lora_A.default.weight\n",
      "Active parameter: base_model.model.base_model.model.base_model.model.base_model.model.roberta.encoder.layer.23.attention.self.value.lora_B.default.weight\n",
      "Active parameter: base_model.model.base_model.model.base_model.model.base_model.model.classifier.modules_to_save.default.dense.weight\n",
      "Active parameter: base_model.model.base_model.model.base_model.model.base_model.model.classifier.modules_to_save.default.dense.bias\n",
      "Active parameter: base_model.model.base_model.model.base_model.model.base_model.model.classifier.modules_to_save.default.out_proj.weight\n",
      "Active parameter: base_model.model.base_model.model.base_model.model.base_model.model.classifier.modules_to_save.default.out_proj.bias\n",
      "new lora, r = 8:\n"
     ]
    },
    {
     "name": "stderr",
     "output_type": "stream",
     "text": [
      "100%|██████████| 156/156 [00:39<00:00,  3.94it/s]\n",
      "100%|██████████| 18/18 [00:00<00:00, 18.77it/s]\n"
     ]
    },
    {
     "name": "stdout",
     "output_type": "stream",
     "text": [
      "epoch 15: {'accuracy': 0.8411552346570397}\n"
     ]
    },
    {
     "name": "stderr",
     "output_type": "stream",
     "text": [
      "100%|██████████| 156/156 [00:38<00:00,  4.01it/s]\n",
      "100%|██████████| 18/18 [00:00<00:00, 18.75it/s]\n"
     ]
    },
    {
     "name": "stdout",
     "output_type": "stream",
     "text": [
      "epoch 16: {'accuracy': 0.855595667870036}\n"
     ]
    },
    {
     "name": "stderr",
     "output_type": "stream",
     "text": [
      "100%|██████████| 156/156 [00:39<00:00,  3.99it/s]\n",
      "100%|██████████| 18/18 [00:00<00:00, 18.99it/s]\n"
     ]
    },
    {
     "name": "stdout",
     "output_type": "stream",
     "text": [
      "epoch 17: {'accuracy': 0.8375451263537906}\n"
     ]
    },
    {
     "name": "stderr",
     "output_type": "stream",
     "text": [
      "100%|██████████| 156/156 [00:39<00:00,  3.98it/s]\n",
      "100%|██████████| 18/18 [00:00<00:00, 19.31it/s]\n"
     ]
    },
    {
     "name": "stdout",
     "output_type": "stream",
     "text": [
      "epoch 18: {'accuracy': 0.8122743682310469}\n"
     ]
    },
    {
     "name": "stderr",
     "output_type": "stream",
     "text": [
      "100%|██████████| 156/156 [00:39<00:00,  3.97it/s]\n",
      "100%|██████████| 18/18 [00:00<00:00, 18.95it/s]\n"
     ]
    },
    {
     "name": "stdout",
     "output_type": "stream",
     "text": [
      "epoch 19: {'accuracy': 0.855595667870036}\n"
     ]
    }
   ],
   "execution_count": 49
  },
  {
   "metadata": {
    "ExecuteTime": {
     "end_time": "2025-02-12T08:55:02.017806Z",
     "start_time": "2025-02-12T08:55:02.015929Z"
    }
   },
   "cell_type": "code",
   "source": [
    "# seed 3074\n",
    "# bz 16\n",
    "# num_epochs 20\n",
    "# chain_epoch 5\n",
    "# lambda_lora = 2.0\n",
    "# lambda_orth = 0.5\n",
    "# orth_interval = 2 / 1\n",
    "# lr = 4e-4\n",
    "# 第一组lora A矩阵训练好后冻结共享\n",
    "# best 0.8592"
   ],
   "id": "c2979e9553d11cfd",
   "outputs": [],
   "execution_count": 50
  },
  {
   "metadata": {
    "ExecuteTime": {
     "end_time": "2025-02-12T08:55:02.106181Z",
     "start_time": "2025-02-12T08:55:02.103831Z"
    }
   },
   "cell_type": "code",
   "source": [
    "# seed 3074\n",
    "# bz 16\n",
    "# num_epochs 20\n",
    "# chain_epoch 5\n",
    "# lambda_lora = 2.0\n",
    "# lambda_orth = 0.5\n",
    "# orth_interval = 1 \n",
    "# lr = 4e-4\n",
    "# 第一组lora A矩阵训练好后冻结共享\n",
    "# best 0.8736"
   ],
   "id": "798ac0b660d451c1",
   "outputs": [],
   "execution_count": 51
  },
  {
   "metadata": {
    "ExecuteTime": {
     "end_time": "2025-02-12T08:55:02.187032Z",
     "start_time": "2025-02-12T08:55:02.184455Z"
    }
   },
   "cell_type": "code",
   "source": [
    "# seed 3407\n",
    "# bz 16\n",
    "# num_epochs 20\n",
    "# chain_epoch 5\n",
    "# lambda_lora = 2.0\n",
    "# lambda_orth = 0.5\n",
    "# orth_interval = 1 \n",
    "# lr = 4e-4\n",
    "# 第一组lora A矩阵训练好后冻结共享\n",
    "# best 0.8700"
   ],
   "id": "b031a0e2524cd761",
   "outputs": [],
   "execution_count": 52
  },
  {
   "metadata": {
    "ExecuteTime": {
     "end_time": "2025-02-12T08:55:02.261737Z",
     "start_time": "2025-02-12T08:55:02.258877Z"
    }
   },
   "cell_type": "code",
   "source": [
    "# seed 3407\n",
    "# bz 16\n",
    "# num_epochs 20\n",
    "# chain_epoch 5\n",
    "# lambda_lora = 2.0\n",
    "# lambda_orth = 0.5\n",
    "# orth_interval = 1 \n",
    "# lr = 4e-4\n",
    "# 第一组lora A矩阵训练好后冻结共享\n",
    "# best 0.8628"
   ],
   "id": "1df601b3a27e20ca",
   "outputs": [],
   "execution_count": 53
  },
  {
   "metadata": {
    "ExecuteTime": {
     "end_time": "2025-02-12T08:55:02.339890Z",
     "start_time": "2025-02-12T08:55:02.338348Z"
    }
   },
   "cell_type": "code",
   "source": [
    "# seed 3407\n",
    "# bz 16\n",
    "# num_epochs 20\n",
    "# chain_epoch 5\n",
    "# lambda_lora = 2.0\n",
    "# lambda_orth = 0.5\n",
    "# orth_interval = 1 \n",
    "# lr = 4e-4\n",
    "# 第一组lora A矩阵训练好后冻结共享\n",
    "# best 0.855"
   ],
   "id": "b6a2d3892ad6b44a",
   "outputs": [],
   "execution_count": null
  },
  {
   "metadata": {
    "ExecuteTime": {
     "end_time": "2025-02-12T08:55:02.420629Z",
     "start_time": "2025-02-12T08:55:02.419055Z"
    }
   },
   "cell_type": "code",
   "source": "",
   "id": "8b1568bc402b78ec",
   "outputs": [],
   "execution_count": null
  },
  {
   "metadata": {
    "ExecuteTime": {
     "end_time": "2025-02-12T08:55:02.500947Z",
     "start_time": "2025-02-12T08:55:02.498443Z"
    }
   },
   "cell_type": "code",
   "source": "",
   "id": "ff1ef17905c06de8",
   "outputs": [],
   "execution_count": null
  }
 ],
 "metadata": {
  "kernelspec": {
   "display_name": "Python 3",
   "language": "python",
   "name": "python3"
  },
  "language_info": {
   "codemirror_mode": {
    "name": "ipython",
    "version": 2
   },
   "file_extension": ".py",
   "mimetype": "text/x-python",
   "name": "python",
   "nbconvert_exporter": "python",
   "pygments_lexer": "ipython2",
   "version": "2.7.6"
  }
 },
 "nbformat": 4,
 "nbformat_minor": 5
}
