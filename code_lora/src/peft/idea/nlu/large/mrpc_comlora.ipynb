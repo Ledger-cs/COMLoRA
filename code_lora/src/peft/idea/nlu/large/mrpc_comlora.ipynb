{
 "cells": [
  {
   "cell_type": "code",
   "execution_count": 19,
   "id": "initial_id",
   "metadata": {
    "ExecuteTime": {
     "end_time": "2025-01-17T07:18:36.703758Z",
     "start_time": "2025-01-17T07:18:36.700556Z"
    },
    "collapsed": true
   },
   "outputs": [],
   "source": [
    "import argparse\n",
    "import os\n",
    "\n",
    "import torch\n",
    "from torch.optim import AdamW\n",
    "from torch.utils.data import DataLoader\n",
    "from peft import (\n",
    "    get_peft_config,\n",
    "    get_peft_model,\n",
    "    get_peft_model_state_dict,\n",
    "    set_peft_model_state_dict,\n",
    "    LoraConfig,\n",
    "    PeftType,\n",
    "    PrefixTuningConfig,\n",
    "    PromptEncoderConfig,\n",
    "    TaskType,\n",
    ")\n",
    "\n",
    "import evaluate\n",
    "from datasets import load_dataset\n",
    "from transformers import AutoModelForSequenceClassification, AutoTokenizer, get_linear_schedule_with_warmup, set_seed\n",
    "from tqdm import tqdm\n",
    "\n",
    "\n",
    "import warnings\n",
    "\n",
    "warnings.filterwarnings(\"ignore\")"
   ]
  },
  {
   "cell_type": "code",
   "execution_count": 20,
   "id": "1077dcaebd8bab87",
   "metadata": {
    "ExecuteTime": {
     "end_time": "2025-01-17T07:18:36.735458Z",
     "start_time": "2025-01-17T07:18:36.732351Z"
    }
   },
   "outputs": [],
   "source": [
    "import numpy as np\n",
    "import random\n",
    "\n",
    "def set_seed(seed):\n",
    "    random.seed(seed)\n",
    "    np.random.seed(seed)\n",
    "    torch.manual_seed(seed)\n",
    "    if torch.cuda.is_available():\n",
    "        torch.cuda.manual_seed_all(seed)\n",
    "\n",
    "set_seed(114514)  # 设置固定随机种子"
   ]
  },
  {
   "cell_type": "code",
   "execution_count": 21,
   "id": "a98e0aa538600755",
   "metadata": {
    "ExecuteTime": {
     "end_time": "2025-01-17T07:18:36.902924Z",
     "start_time": "2025-01-17T07:18:36.866356Z"
    }
   },
   "outputs": [],
   "source": [
    "torch.cuda.empty_cache()"
   ]
  },
  {
   "cell_type": "code",
   "execution_count": 22,
   "id": "5e2e454225e9c62e",
   "metadata": {
    "ExecuteTime": {
     "end_time": "2025-01-17T07:18:37.036917Z",
     "start_time": "2025-01-17T07:18:37.034132Z"
    }
   },
   "outputs": [],
   "source": [
    "device = \"cuda\"\n",
    "batch_size = 16\n",
    "model_name_or_path = \"FacebookAI/roberta-large\"\n",
    "task = \"mrpc\"\n",
    "peft_type = PeftType.LORA\n",
    "num_epochs = 20\n",
    "lr = 3e-4"
   ]
  },
  {
   "cell_type": "code",
   "execution_count": 23,
   "id": "4694520905566cbc",
   "metadata": {
    "ExecuteTime": {
     "end_time": "2025-01-17T07:18:58.373552Z",
     "start_time": "2025-01-17T07:18:37.159770Z"
    }
   },
   "outputs": [],
   "source": [
    "if any(k in model_name_or_path for k in (\"gpt\", \"opt\", \"bloom\")):\n",
    "    padding_side = \"left\"\n",
    "else:\n",
    "    padding_side = \"right\"\n",
    "\n",
    "tokenizer = AutoTokenizer.from_pretrained(model_name_or_path, padding_side=padding_side)\n",
    "if getattr(tokenizer, \"pad_token_id\") is None:\n",
    "    tokenizer.pad_token_id = tokenizer.eos_token_id\n",
    "\n",
    "datasets = load_dataset(\"glue\", task)\n",
    "metric = evaluate.load(\"glue\", task)\n",
    "\n",
    "\n",
    "def tokenize_function(examples):\n",
    "    # max_length=None => use the model max length (it's actually the default)\n",
    "    outputs = tokenizer(examples[\"sentence1\"], examples[\"sentence2\"], truncation=True, max_length=512)\n",
    "    return outputs\n",
    "\n",
    "\n",
    "tokenized_datasets = datasets.map(\n",
    "    tokenize_function,\n",
    "    batched=True,\n",
    "    remove_columns=[\"idx\", \"sentence1\", \"sentence2\"],\n",
    ")\n",
    "\n",
    "tokenized_datasets = tokenized_datasets.rename_column(\"label\", \"labels\")\n",
    "\n",
    "\n",
    "def collate_fn(examples):\n",
    "    return tokenizer.pad(examples, padding=\"longest\", return_tensors=\"pt\")\n",
    "\n",
    "\n",
    "# Instantiate dataloaders.\n",
    "train_dataloader = DataLoader(tokenized_datasets[\"train\"], shuffle=True, collate_fn=collate_fn, batch_size=batch_size)\n",
    "eval_dataloader = DataLoader(\n",
    "    tokenized_datasets[\"validation\"], shuffle=False, collate_fn=collate_fn, batch_size=batch_size\n",
    ")"
   ]
  },
  {
   "cell_type": "code",
   "execution_count": 24,
   "id": "e61f168aa63f8098",
   "metadata": {
    "ExecuteTime": {
     "end_time": "2025-01-17T07:18:58.494405Z",
     "start_time": "2025-01-17T07:18:58.491602Z"
    }
   },
   "outputs": [],
   "source": [
    "torch.cuda.empty_cache()"
   ]
  },
  {
   "cell_type": "code",
   "execution_count": 25,
   "id": "d8a04626503bc137",
   "metadata": {
    "ExecuteTime": {
     "end_time": "2025-01-17T07:18:58.603267Z",
     "start_time": "2025-01-17T07:18:58.599853Z"
    }
   },
   "outputs": [],
   "source": [
    "peft_config = LoraConfig(task_type=TaskType.SEQ_CLS, inference_mode=False, r=8, lora_alpha=16, lora_dropout=0.1)\n",
    "# target_modules = [\"query\", \"value\"]\n",
    "chain_epoch = 5"
   ]
  },
  {
   "cell_type": "code",
   "execution_count": 26,
   "id": "f708941a34c7b1e1",
   "metadata": {
    "ExecuteTime": {
     "end_time": "2025-01-17T07:18:59.153563Z",
     "start_time": "2025-01-17T07:18:58.728761Z"
    }
   },
   "outputs": [
    {
     "name": "stderr",
     "output_type": "stream",
     "text": [
      "Some weights of RobertaForSequenceClassification were not initialized from the model checkpoint at FacebookAI/roberta-large and are newly initialized: ['classifier.dense.bias', 'classifier.dense.weight', 'classifier.out_proj.bias', 'classifier.out_proj.weight']\n",
      "You should probably TRAIN this model on a down-stream task to be able to use it for predictions and inference.\n"
     ]
    },
    {
     "name": "stdout",
     "output_type": "stream",
     "text": [
      "trainable params: 1,838,082 || all params: 357,199,876 || trainable%: 0.5146\n"
     ]
    },
    {
     "data": {
      "text/plain": [
       "PeftModelForSequenceClassification(\n",
       "  (base_model): LoraModel(\n",
       "    (model): RobertaForSequenceClassification(\n",
       "      (roberta): RobertaModel(\n",
       "        (embeddings): RobertaEmbeddings(\n",
       "          (word_embeddings): Embedding(50265, 1024, padding_idx=1)\n",
       "          (position_embeddings): Embedding(514, 1024, padding_idx=1)\n",
       "          (token_type_embeddings): Embedding(1, 1024)\n",
       "          (LayerNorm): LayerNorm((1024,), eps=1e-05, elementwise_affine=True)\n",
       "          (dropout): Dropout(p=0.1, inplace=False)\n",
       "        )\n",
       "        (encoder): RobertaEncoder(\n",
       "          (layer): ModuleList(\n",
       "            (0-23): 24 x RobertaLayer(\n",
       "              (attention): RobertaAttention(\n",
       "                (self): RobertaSdpaSelfAttention(\n",
       "                  (query): lora.Linear(\n",
       "                    (base_layer): Linear(in_features=1024, out_features=1024, bias=True)\n",
       "                    (lora_dropout): ModuleDict(\n",
       "                      (default): Dropout(p=0.1, inplace=False)\n",
       "                    )\n",
       "                    (lora_A): ModuleDict(\n",
       "                      (default): Linear(in_features=1024, out_features=8, bias=False)\n",
       "                    )\n",
       "                    (lora_B): ModuleDict(\n",
       "                      (default): Linear(in_features=8, out_features=1024, bias=False)\n",
       "                    )\n",
       "                    (lora_embedding_A): ParameterDict()\n",
       "                    (lora_embedding_B): ParameterDict()\n",
       "                    (lora_magnitude_vector): ModuleDict()\n",
       "                  )\n",
       "                  (key): Linear(in_features=1024, out_features=1024, bias=True)\n",
       "                  (value): lora.Linear(\n",
       "                    (base_layer): Linear(in_features=1024, out_features=1024, bias=True)\n",
       "                    (lora_dropout): ModuleDict(\n",
       "                      (default): Dropout(p=0.1, inplace=False)\n",
       "                    )\n",
       "                    (lora_A): ModuleDict(\n",
       "                      (default): Linear(in_features=1024, out_features=8, bias=False)\n",
       "                    )\n",
       "                    (lora_B): ModuleDict(\n",
       "                      (default): Linear(in_features=8, out_features=1024, bias=False)\n",
       "                    )\n",
       "                    (lora_embedding_A): ParameterDict()\n",
       "                    (lora_embedding_B): ParameterDict()\n",
       "                    (lora_magnitude_vector): ModuleDict()\n",
       "                  )\n",
       "                  (dropout): Dropout(p=0.1, inplace=False)\n",
       "                )\n",
       "                (output): RobertaSelfOutput(\n",
       "                  (dense): Linear(in_features=1024, out_features=1024, bias=True)\n",
       "                  (LayerNorm): LayerNorm((1024,), eps=1e-05, elementwise_affine=True)\n",
       "                  (dropout): Dropout(p=0.1, inplace=False)\n",
       "                )\n",
       "              )\n",
       "              (intermediate): RobertaIntermediate(\n",
       "                (dense): Linear(in_features=1024, out_features=4096, bias=True)\n",
       "                (intermediate_act_fn): GELUActivation()\n",
       "              )\n",
       "              (output): RobertaOutput(\n",
       "                (dense): Linear(in_features=4096, out_features=1024, bias=True)\n",
       "                (LayerNorm): LayerNorm((1024,), eps=1e-05, elementwise_affine=True)\n",
       "                (dropout): Dropout(p=0.1, inplace=False)\n",
       "              )\n",
       "            )\n",
       "          )\n",
       "        )\n",
       "      )\n",
       "      (classifier): ModulesToSaveWrapper(\n",
       "        (original_module): RobertaClassificationHead(\n",
       "          (dense): Linear(in_features=1024, out_features=1024, bias=True)\n",
       "          (dropout): Dropout(p=0.1, inplace=False)\n",
       "          (out_proj): Linear(in_features=1024, out_features=2, bias=True)\n",
       "        )\n",
       "        (modules_to_save): ModuleDict(\n",
       "          (default): RobertaClassificationHead(\n",
       "            (dense): Linear(in_features=1024, out_features=1024, bias=True)\n",
       "            (dropout): Dropout(p=0.1, inplace=False)\n",
       "            (out_proj): Linear(in_features=1024, out_features=2, bias=True)\n",
       "          )\n",
       "        )\n",
       "      )\n",
       "    )\n",
       "  )\n",
       ")"
      ]
     },
     "execution_count": 26,
     "metadata": {},
     "output_type": "execute_result"
    }
   ],
   "source": [
    "model = AutoModelForSequenceClassification.from_pretrained(model_name_or_path, return_dict=True, num_labels=2)\n",
    "# model.config.problem_type = \"regression\"\n",
    "model = get_peft_model(model, peft_config)\n",
    "model.print_trainable_parameters()\n",
    "model"
   ]
  },
  {
   "cell_type": "code",
   "execution_count": 27,
   "id": "5d4f09e93d0896fd",
   "metadata": {
    "ExecuteTime": {
     "end_time": "2025-01-17T07:18:59.290064Z",
     "start_time": "2025-01-17T07:18:59.287858Z"
    }
   },
   "outputs": [],
   "source": [
    "# lambda_orth = 0.02\n",
    "lambda_orth = 0.5\n",
    "# lr_b = lambda_lr * lr_a\n",
    "lambda_lr = 2.0\n",
    "# 每隔 ？ step 计算一次正交性损失\n",
    "orth_interval = 5  "
   ]
  },
  {
   "cell_type": "code",
   "execution_count": 28,
   "id": "32cb59a630f90555",
   "metadata": {
    "ExecuteTime": {
     "end_time": "2025-01-17T07:18:59.405658Z",
     "start_time": "2025-01-17T07:18:59.401274Z"
    }
   },
   "outputs": [],
   "source": [
    "# 获取LoRA参数\n",
    "lora_params = {n: p for n, p in model.named_parameters() if 'lora' in n}\n",
    "# 分组LoRA参数\n",
    "param_groups = [\n",
    "    {\"params\": [p for n, p in lora_params.items() if 'lora_A' in n], \"lr\": lr},  # A矩阵的学习率\n",
    "    {\"params\": [p for n, p in lora_params.items() if 'lora_B' in n], \"lr\": lambda_lr * lr},  # B矩阵的学习率\n",
    "]\n",
    "\n",
    "beta1 = 0.9\n",
    "beta2 = 0.99\n",
    "\n",
    "optimizer = AdamW(param_groups, betas=(beta1, beta2))\n",
    "\n",
    "#optimizer = AdamW(params=model.parameters(), lr=lr)\n",
    "\n",
    "# Instantiate scheduler\n",
    "lr_scheduler = get_linear_schedule_with_warmup(\n",
    "    optimizer=optimizer,\n",
    "    num_warmup_steps=0.06 * (len(train_dataloader) * chain_epoch),\n",
    "    num_training_steps=(len(train_dataloader) * chain_epoch),\n",
    ")"
   ]
  },
  {
   "cell_type": "code",
   "execution_count": 29,
   "id": "b5f8214d13dd0f19",
   "metadata": {
    "ExecuteTime": {
     "end_time": "2025-01-17T07:18:59.518379Z",
     "start_time": "2025-01-17T07:18:59.515137Z"
    }
   },
   "outputs": [],
   "source": [
    "saved_lora_a_matrices = []  # 用于保存之前训练的 LoRA 模块的 A 矩阵\n",
    "saved_lora_b_matrices = []  # 用于保存之前训练的 LoRA 模块的 B 矩阵\n",
    "\n",
    "def extract_lora_a_matrices(model):\n",
    "    \"\"\"提取 LoRA 的 A 矩阵\"\"\"\n",
    "    lora_matrices = []\n",
    "    for name, param in model.named_parameters():\n",
    "        if \"lora_A\" in name:  # 识别 LoRA 的 A 矩阵\n",
    "            lora_matrices.append(param.detach().clone())  # 保存当前 A 矩阵\n",
    "    return lora_matrices\n",
    "\n",
    "def extract_lora_b_matrices(model):\n",
    "    \"\"\"提取 LoRA 的 B 矩阵\"\"\"\n",
    "    lora_matrices = []\n",
    "    for name, param in model.named_parameters():\n",
    "        if \"lora_B\" in name:  # 识别 LoRA 的 B 矩阵\n",
    "            lora_matrices.append(param.detach().clone())  # 保存当前 B 矩阵\n",
    "    return lora_matrices"
   ]
  },
  {
   "cell_type": "code",
   "execution_count": 30,
   "id": "da01b9b3405c051d",
   "metadata": {
    "ExecuteTime": {
     "end_time": "2025-01-17T07:18:59.604958Z",
     "start_time": "2025-01-17T07:18:59.602284Z"
    }
   },
   "outputs": [],
   "source": [
    "def orthogonality_loss(current_matrices, saved_matrices):\n",
    "    \"\"\"计算当前 LoRA 和之前所有 LoRA 的正交性损失\"\"\"\n",
    "    loss = 0\n",
    "    for B_t in current_matrices:\n",
    "        for B_i in saved_matrices:\n",
    "            # 计算 B_t 和 B_i 的正交性\n",
    "            product = torch.matmul(B_t.T, B_i)  # 矩阵乘积\n",
    "            loss += torch.norm(product, p=\"fro\") # Frobenius 范数\n",
    "    return loss\n"
   ]
  },
  {
   "cell_type": "code",
   "execution_count": 31,
   "id": "63dbeef37161d9d8",
   "metadata": {
    "ExecuteTime": {
     "end_time": "2025-01-17T07:18:59.683963Z",
     "start_time": "2025-01-17T07:18:59.681430Z"
    }
   },
   "outputs": [],
   "source": [
    "import re\n",
    "\n",
    "def apply_shared_lora_a_matrices(model, saved_lora_a_matrices):\n",
    "    \"\"\"\n",
    "    将保存的 LoRA A 矩阵应用到当前模型中，并冻结这些参数。\n",
    "    \"\"\"\n",
    "    lora_idx = 0\n",
    "    for name, param in model.named_parameters():\n",
    "        if 'lora_A' in name:  #  A 矩阵的名称包含 'lora_A'\n",
    "            # 提取层和注意力头的信息，例如 \"encoder.layer.0.attention.self.query.lora_A\"\n",
    "            layer_match = re.match(r'.*encoder.layer.(\\d+)\\.attention.self\\.(query|value)\\.lora_A', name)\n",
    "            if layer_match:\n",
    "                layer_num = int(layer_match.group(1))\n",
    "                if layer_num < len(saved_lora_a_matrices) // 2:\n",
    "                    shared_a = saved_lora_a_matrices[lora_idx]\n",
    "                    param.data = shared_a.data.clone() \n",
    "                    param.requires_grad = False\n",
    "                    print(f\"Applied shared LoRA A matrix for {name}\")\n",
    "                    \n",
    "                    lora_idx += 1\n",
    "                    "
   ]
  },
  {
   "cell_type": "code",
   "execution_count": 32,
   "id": "c7d0ccf490f390f5",
   "metadata": {
    "ExecuteTime": {
     "end_time": "2025-01-17T07:18:59.774729Z",
     "start_time": "2025-01-17T07:18:59.772791Z"
    }
   },
   "outputs": [
    {
     "name": "stdout",
     "output_type": "stream",
     "text": [
      "114514\n"
     ]
    }
   ],
   "source": [
    "print(torch.initial_seed())"
   ]
  },
  {
   "cell_type": "code",
   "execution_count": 33,
   "id": "d89f15b69884794d",
   "metadata": {
    "ExecuteTime": {
     "end_time": "2025-01-17T07:24:35.287774Z",
     "start_time": "2025-01-17T07:18:59.858269Z"
    }
   },
   "outputs": [
    {
     "name": "stderr",
     "output_type": "stream",
     "text": [
      "  0%|          | 0/230 [00:00<?, ?it/s]You're using a RobertaTokenizerFast tokenizer. Please note that with a fast tokenizer, using the `__call__` method is faster than using a method to encode the text followed by a call to the `pad` method to get a padded encoding.\n",
      "100%|██████████| 230/230 [00:13<00:00, 17.61it/s]\n",
      "100%|██████████| 26/26 [00:00<00:00, 35.09it/s]\n"
     ]
    },
    {
     "name": "stdout",
     "output_type": "stream",
     "text": [
      "epoch 0: {'accuracy': 0.7867647058823529, 'f1': 0.8603531300160514}\n"
     ]
    },
    {
     "name": "stderr",
     "output_type": "stream",
     "text": [
      "100%|██████████| 230/230 [00:13<00:00, 17.40it/s]\n",
      "100%|██████████| 26/26 [00:00<00:00, 36.25it/s]\n"
     ]
    },
    {
     "name": "stdout",
     "output_type": "stream",
     "text": [
      "epoch 1: {'accuracy': 0.8578431372549019, 'f1': 0.9013605442176871}\n"
     ]
    },
    {
     "name": "stderr",
     "output_type": "stream",
     "text": [
      "100%|██████████| 230/230 [00:12<00:00, 17.78it/s]\n",
      "100%|██████████| 26/26 [00:00<00:00, 36.48it/s]\n"
     ]
    },
    {
     "name": "stdout",
     "output_type": "stream",
     "text": [
      "epoch 2: {'accuracy': 0.8676470588235294, 'f1': 0.9055944055944056}\n"
     ]
    },
    {
     "name": "stderr",
     "output_type": "stream",
     "text": [
      "100%|██████████| 230/230 [00:12<00:00, 17.93it/s]\n",
      "100%|██████████| 26/26 [00:00<00:00, 36.76it/s]\n"
     ]
    },
    {
     "name": "stdout",
     "output_type": "stream",
     "text": [
      "epoch 3: {'accuracy': 0.8602941176470589, 'f1': 0.9015544041450777}\n"
     ]
    },
    {
     "name": "stderr",
     "output_type": "stream",
     "text": [
      "100%|██████████| 230/230 [00:12<00:00, 17.79it/s]\n",
      "100%|██████████| 26/26 [00:00<00:00, 36.13it/s]\n"
     ]
    },
    {
     "name": "stdout",
     "output_type": "stream",
     "text": [
      "epoch 4: {'accuracy': 0.8774509803921569, 'f1': 0.9128919860627178}\n",
      "Saved LoRA A matrices at epoch 5\n",
      "Applied shared LoRA A matrix for base_model.model.base_model.model.roberta.encoder.layer.0.attention.self.query.lora_A.default.weight\n",
      "Applied shared LoRA A matrix for base_model.model.base_model.model.roberta.encoder.layer.0.attention.self.value.lora_A.default.weight\n",
      "Applied shared LoRA A matrix for base_model.model.base_model.model.roberta.encoder.layer.1.attention.self.query.lora_A.default.weight\n",
      "Applied shared LoRA A matrix for base_model.model.base_model.model.roberta.encoder.layer.1.attention.self.value.lora_A.default.weight\n",
      "Applied shared LoRA A matrix for base_model.model.base_model.model.roberta.encoder.layer.2.attention.self.query.lora_A.default.weight\n",
      "Applied shared LoRA A matrix for base_model.model.base_model.model.roberta.encoder.layer.2.attention.self.value.lora_A.default.weight\n",
      "Applied shared LoRA A matrix for base_model.model.base_model.model.roberta.encoder.layer.3.attention.self.query.lora_A.default.weight\n",
      "Applied shared LoRA A matrix for base_model.model.base_model.model.roberta.encoder.layer.3.attention.self.value.lora_A.default.weight\n",
      "Applied shared LoRA A matrix for base_model.model.base_model.model.roberta.encoder.layer.4.attention.self.query.lora_A.default.weight\n",
      "Applied shared LoRA A matrix for base_model.model.base_model.model.roberta.encoder.layer.4.attention.self.value.lora_A.default.weight\n",
      "Applied shared LoRA A matrix for base_model.model.base_model.model.roberta.encoder.layer.5.attention.self.query.lora_A.default.weight\n",
      "Applied shared LoRA A matrix for base_model.model.base_model.model.roberta.encoder.layer.5.attention.self.value.lora_A.default.weight\n",
      "Applied shared LoRA A matrix for base_model.model.base_model.model.roberta.encoder.layer.6.attention.self.query.lora_A.default.weight\n",
      "Applied shared LoRA A matrix for base_model.model.base_model.model.roberta.encoder.layer.6.attention.self.value.lora_A.default.weight\n",
      "Applied shared LoRA A matrix for base_model.model.base_model.model.roberta.encoder.layer.7.attention.self.query.lora_A.default.weight\n",
      "Applied shared LoRA A matrix for base_model.model.base_model.model.roberta.encoder.layer.7.attention.self.value.lora_A.default.weight\n",
      "Applied shared LoRA A matrix for base_model.model.base_model.model.roberta.encoder.layer.8.attention.self.query.lora_A.default.weight\n",
      "Applied shared LoRA A matrix for base_model.model.base_model.model.roberta.encoder.layer.8.attention.self.value.lora_A.default.weight\n",
      "Applied shared LoRA A matrix for base_model.model.base_model.model.roberta.encoder.layer.9.attention.self.query.lora_A.default.weight\n",
      "Applied shared LoRA A matrix for base_model.model.base_model.model.roberta.encoder.layer.9.attention.self.value.lora_A.default.weight\n",
      "Applied shared LoRA A matrix for base_model.model.base_model.model.roberta.encoder.layer.10.attention.self.query.lora_A.default.weight\n",
      "Applied shared LoRA A matrix for base_model.model.base_model.model.roberta.encoder.layer.10.attention.self.value.lora_A.default.weight\n",
      "Applied shared LoRA A matrix for base_model.model.base_model.model.roberta.encoder.layer.11.attention.self.query.lora_A.default.weight\n",
      "Applied shared LoRA A matrix for base_model.model.base_model.model.roberta.encoder.layer.11.attention.self.value.lora_A.default.weight\n",
      "Applied shared LoRA A matrix for base_model.model.base_model.model.roberta.encoder.layer.12.attention.self.query.lora_A.default.weight\n",
      "Applied shared LoRA A matrix for base_model.model.base_model.model.roberta.encoder.layer.12.attention.self.value.lora_A.default.weight\n",
      "Applied shared LoRA A matrix for base_model.model.base_model.model.roberta.encoder.layer.13.attention.self.query.lora_A.default.weight\n",
      "Applied shared LoRA A matrix for base_model.model.base_model.model.roberta.encoder.layer.13.attention.self.value.lora_A.default.weight\n",
      "Applied shared LoRA A matrix for base_model.model.base_model.model.roberta.encoder.layer.14.attention.self.query.lora_A.default.weight\n",
      "Applied shared LoRA A matrix for base_model.model.base_model.model.roberta.encoder.layer.14.attention.self.value.lora_A.default.weight\n",
      "Applied shared LoRA A matrix for base_model.model.base_model.model.roberta.encoder.layer.15.attention.self.query.lora_A.default.weight\n",
      "Applied shared LoRA A matrix for base_model.model.base_model.model.roberta.encoder.layer.15.attention.self.value.lora_A.default.weight\n",
      "Applied shared LoRA A matrix for base_model.model.base_model.model.roberta.encoder.layer.16.attention.self.query.lora_A.default.weight\n",
      "Applied shared LoRA A matrix for base_model.model.base_model.model.roberta.encoder.layer.16.attention.self.value.lora_A.default.weight\n",
      "Applied shared LoRA A matrix for base_model.model.base_model.model.roberta.encoder.layer.17.attention.self.query.lora_A.default.weight\n",
      "Applied shared LoRA A matrix for base_model.model.base_model.model.roberta.encoder.layer.17.attention.self.value.lora_A.default.weight\n",
      "Applied shared LoRA A matrix for base_model.model.base_model.model.roberta.encoder.layer.18.attention.self.query.lora_A.default.weight\n",
      "Applied shared LoRA A matrix for base_model.model.base_model.model.roberta.encoder.layer.18.attention.self.value.lora_A.default.weight\n",
      "Applied shared LoRA A matrix for base_model.model.base_model.model.roberta.encoder.layer.19.attention.self.query.lora_A.default.weight\n",
      "Applied shared LoRA A matrix for base_model.model.base_model.model.roberta.encoder.layer.19.attention.self.value.lora_A.default.weight\n",
      "Applied shared LoRA A matrix for base_model.model.base_model.model.roberta.encoder.layer.20.attention.self.query.lora_A.default.weight\n",
      "Applied shared LoRA A matrix for base_model.model.base_model.model.roberta.encoder.layer.20.attention.self.value.lora_A.default.weight\n",
      "Applied shared LoRA A matrix for base_model.model.base_model.model.roberta.encoder.layer.21.attention.self.query.lora_A.default.weight\n",
      "Applied shared LoRA A matrix for base_model.model.base_model.model.roberta.encoder.layer.21.attention.self.value.lora_A.default.weight\n",
      "Applied shared LoRA A matrix for base_model.model.base_model.model.roberta.encoder.layer.22.attention.self.query.lora_A.default.weight\n",
      "Applied shared LoRA A matrix for base_model.model.base_model.model.roberta.encoder.layer.22.attention.self.value.lora_A.default.weight\n",
      "Applied shared LoRA A matrix for base_model.model.base_model.model.roberta.encoder.layer.23.attention.self.query.lora_A.default.weight\n",
      "Applied shared LoRA A matrix for base_model.model.base_model.model.roberta.encoder.layer.23.attention.self.value.lora_A.default.weight\n",
      "Active parameter: base_model.model.base_model.model.roberta.encoder.layer.0.attention.self.query.lora_B.default.weight\n",
      "Active parameter: base_model.model.base_model.model.roberta.encoder.layer.0.attention.self.value.lora_B.default.weight\n",
      "Active parameter: base_model.model.base_model.model.roberta.encoder.layer.1.attention.self.query.lora_B.default.weight\n",
      "Active parameter: base_model.model.base_model.model.roberta.encoder.layer.1.attention.self.value.lora_B.default.weight\n",
      "Active parameter: base_model.model.base_model.model.roberta.encoder.layer.2.attention.self.query.lora_B.default.weight\n",
      "Active parameter: base_model.model.base_model.model.roberta.encoder.layer.2.attention.self.value.lora_B.default.weight\n",
      "Active parameter: base_model.model.base_model.model.roberta.encoder.layer.3.attention.self.query.lora_B.default.weight\n",
      "Active parameter: base_model.model.base_model.model.roberta.encoder.layer.3.attention.self.value.lora_B.default.weight\n",
      "Active parameter: base_model.model.base_model.model.roberta.encoder.layer.4.attention.self.query.lora_B.default.weight\n",
      "Active parameter: base_model.model.base_model.model.roberta.encoder.layer.4.attention.self.value.lora_B.default.weight\n",
      "Active parameter: base_model.model.base_model.model.roberta.encoder.layer.5.attention.self.query.lora_B.default.weight\n",
      "Active parameter: base_model.model.base_model.model.roberta.encoder.layer.5.attention.self.value.lora_B.default.weight\n",
      "Active parameter: base_model.model.base_model.model.roberta.encoder.layer.6.attention.self.query.lora_B.default.weight\n",
      "Active parameter: base_model.model.base_model.model.roberta.encoder.layer.6.attention.self.value.lora_B.default.weight\n",
      "Active parameter: base_model.model.base_model.model.roberta.encoder.layer.7.attention.self.query.lora_B.default.weight\n",
      "Active parameter: base_model.model.base_model.model.roberta.encoder.layer.7.attention.self.value.lora_B.default.weight\n",
      "Active parameter: base_model.model.base_model.model.roberta.encoder.layer.8.attention.self.query.lora_B.default.weight\n",
      "Active parameter: base_model.model.base_model.model.roberta.encoder.layer.8.attention.self.value.lora_B.default.weight\n",
      "Active parameter: base_model.model.base_model.model.roberta.encoder.layer.9.attention.self.query.lora_B.default.weight\n",
      "Active parameter: base_model.model.base_model.model.roberta.encoder.layer.9.attention.self.value.lora_B.default.weight\n",
      "Active parameter: base_model.model.base_model.model.roberta.encoder.layer.10.attention.self.query.lora_B.default.weight\n",
      "Active parameter: base_model.model.base_model.model.roberta.encoder.layer.10.attention.self.value.lora_B.default.weight\n",
      "Active parameter: base_model.model.base_model.model.roberta.encoder.layer.11.attention.self.query.lora_B.default.weight\n",
      "Active parameter: base_model.model.base_model.model.roberta.encoder.layer.11.attention.self.value.lora_B.default.weight\n",
      "Active parameter: base_model.model.base_model.model.roberta.encoder.layer.12.attention.self.query.lora_B.default.weight\n",
      "Active parameter: base_model.model.base_model.model.roberta.encoder.layer.12.attention.self.value.lora_B.default.weight\n",
      "Active parameter: base_model.model.base_model.model.roberta.encoder.layer.13.attention.self.query.lora_B.default.weight\n",
      "Active parameter: base_model.model.base_model.model.roberta.encoder.layer.13.attention.self.value.lora_B.default.weight\n",
      "Active parameter: base_model.model.base_model.model.roberta.encoder.layer.14.attention.self.query.lora_B.default.weight\n",
      "Active parameter: base_model.model.base_model.model.roberta.encoder.layer.14.attention.self.value.lora_B.default.weight\n",
      "Active parameter: base_model.model.base_model.model.roberta.encoder.layer.15.attention.self.query.lora_B.default.weight\n",
      "Active parameter: base_model.model.base_model.model.roberta.encoder.layer.15.attention.self.value.lora_B.default.weight\n",
      "Active parameter: base_model.model.base_model.model.roberta.encoder.layer.16.attention.self.query.lora_B.default.weight\n",
      "Active parameter: base_model.model.base_model.model.roberta.encoder.layer.16.attention.self.value.lora_B.default.weight\n",
      "Active parameter: base_model.model.base_model.model.roberta.encoder.layer.17.attention.self.query.lora_B.default.weight\n",
      "Active parameter: base_model.model.base_model.model.roberta.encoder.layer.17.attention.self.value.lora_B.default.weight\n",
      "Active parameter: base_model.model.base_model.model.roberta.encoder.layer.18.attention.self.query.lora_B.default.weight\n",
      "Active parameter: base_model.model.base_model.model.roberta.encoder.layer.18.attention.self.value.lora_B.default.weight\n",
      "Active parameter: base_model.model.base_model.model.roberta.encoder.layer.19.attention.self.query.lora_B.default.weight\n",
      "Active parameter: base_model.model.base_model.model.roberta.encoder.layer.19.attention.self.value.lora_B.default.weight\n",
      "Active parameter: base_model.model.base_model.model.roberta.encoder.layer.20.attention.self.query.lora_B.default.weight\n",
      "Active parameter: base_model.model.base_model.model.roberta.encoder.layer.20.attention.self.value.lora_B.default.weight\n",
      "Active parameter: base_model.model.base_model.model.roberta.encoder.layer.21.attention.self.query.lora_B.default.weight\n",
      "Active parameter: base_model.model.base_model.model.roberta.encoder.layer.21.attention.self.value.lora_B.default.weight\n",
      "Active parameter: base_model.model.base_model.model.roberta.encoder.layer.22.attention.self.query.lora_B.default.weight\n",
      "Active parameter: base_model.model.base_model.model.roberta.encoder.layer.22.attention.self.value.lora_B.default.weight\n",
      "Active parameter: base_model.model.base_model.model.roberta.encoder.layer.23.attention.self.query.lora_B.default.weight\n",
      "Active parameter: base_model.model.base_model.model.roberta.encoder.layer.23.attention.self.value.lora_B.default.weight\n",
      "Active parameter: base_model.model.base_model.model.classifier.modules_to_save.default.dense.weight\n",
      "Active parameter: base_model.model.base_model.model.classifier.modules_to_save.default.dense.bias\n",
      "Active parameter: base_model.model.base_model.model.classifier.modules_to_save.default.out_proj.weight\n",
      "Active parameter: base_model.model.base_model.model.classifier.modules_to_save.default.out_proj.bias\n",
      "new lora, r = 8:\n"
     ]
    },
    {
     "name": "stderr",
     "output_type": "stream",
     "text": [
      "100%|██████████| 230/230 [00:15<00:00, 15.09it/s]\n",
      "100%|██████████| 26/26 [00:00<00:00, 36.23it/s]\n"
     ]
    },
    {
     "name": "stdout",
     "output_type": "stream",
     "text": [
      "epoch 5: {'accuracy': 0.875, 'f1': 0.9094138543516874}\n"
     ]
    },
    {
     "name": "stderr",
     "output_type": "stream",
     "text": [
      "100%|██████████| 230/230 [00:15<00:00, 15.18it/s]\n",
      "100%|██████████| 26/26 [00:00<00:00, 34.77it/s]\n"
     ]
    },
    {
     "name": "stdout",
     "output_type": "stream",
     "text": [
      "epoch 6: {'accuracy': 0.8848039215686274, 'f1': 0.9193825042881647}\n"
     ]
    },
    {
     "name": "stderr",
     "output_type": "stream",
     "text": [
      "100%|██████████| 230/230 [00:15<00:00, 15.13it/s]\n",
      "100%|██████████| 26/26 [00:00<00:00, 35.78it/s]\n"
     ]
    },
    {
     "name": "stdout",
     "output_type": "stream",
     "text": [
      "epoch 7: {'accuracy': 0.8921568627450981, 'f1': 0.9230769230769231}\n"
     ]
    },
    {
     "name": "stderr",
     "output_type": "stream",
     "text": [
      "100%|██████████| 230/230 [00:15<00:00, 15.33it/s]\n",
      "100%|██████████| 26/26 [00:00<00:00, 37.40it/s]\n"
     ]
    },
    {
     "name": "stdout",
     "output_type": "stream",
     "text": [
      "epoch 8: {'accuracy': 0.8799019607843137, 'f1': 0.9156626506024096}\n"
     ]
    },
    {
     "name": "stderr",
     "output_type": "stream",
     "text": [
      "100%|██████████| 230/230 [00:14<00:00, 15.70it/s]\n",
      "100%|██████████| 26/26 [00:00<00:00, 37.45it/s]\n"
     ]
    },
    {
     "name": "stdout",
     "output_type": "stream",
     "text": [
      "epoch 9: {'accuracy': 0.8774509803921569, 'f1': 0.9134948096885813}\n",
      "Applied shared LoRA A matrix for base_model.model.base_model.model.base_model.model.roberta.encoder.layer.0.attention.self.query.lora_A.default.weight\n",
      "Applied shared LoRA A matrix for base_model.model.base_model.model.base_model.model.roberta.encoder.layer.0.attention.self.value.lora_A.default.weight\n",
      "Applied shared LoRA A matrix for base_model.model.base_model.model.base_model.model.roberta.encoder.layer.1.attention.self.query.lora_A.default.weight\n",
      "Applied shared LoRA A matrix for base_model.model.base_model.model.base_model.model.roberta.encoder.layer.1.attention.self.value.lora_A.default.weight\n",
      "Applied shared LoRA A matrix for base_model.model.base_model.model.base_model.model.roberta.encoder.layer.2.attention.self.query.lora_A.default.weight\n",
      "Applied shared LoRA A matrix for base_model.model.base_model.model.base_model.model.roberta.encoder.layer.2.attention.self.value.lora_A.default.weight\n",
      "Applied shared LoRA A matrix for base_model.model.base_model.model.base_model.model.roberta.encoder.layer.3.attention.self.query.lora_A.default.weight\n",
      "Applied shared LoRA A matrix for base_model.model.base_model.model.base_model.model.roberta.encoder.layer.3.attention.self.value.lora_A.default.weight\n",
      "Applied shared LoRA A matrix for base_model.model.base_model.model.base_model.model.roberta.encoder.layer.4.attention.self.query.lora_A.default.weight\n",
      "Applied shared LoRA A matrix for base_model.model.base_model.model.base_model.model.roberta.encoder.layer.4.attention.self.value.lora_A.default.weight\n",
      "Applied shared LoRA A matrix for base_model.model.base_model.model.base_model.model.roberta.encoder.layer.5.attention.self.query.lora_A.default.weight\n",
      "Applied shared LoRA A matrix for base_model.model.base_model.model.base_model.model.roberta.encoder.layer.5.attention.self.value.lora_A.default.weight\n",
      "Applied shared LoRA A matrix for base_model.model.base_model.model.base_model.model.roberta.encoder.layer.6.attention.self.query.lora_A.default.weight\n",
      "Applied shared LoRA A matrix for base_model.model.base_model.model.base_model.model.roberta.encoder.layer.6.attention.self.value.lora_A.default.weight\n",
      "Applied shared LoRA A matrix for base_model.model.base_model.model.base_model.model.roberta.encoder.layer.7.attention.self.query.lora_A.default.weight\n",
      "Applied shared LoRA A matrix for base_model.model.base_model.model.base_model.model.roberta.encoder.layer.7.attention.self.value.lora_A.default.weight\n",
      "Applied shared LoRA A matrix for base_model.model.base_model.model.base_model.model.roberta.encoder.layer.8.attention.self.query.lora_A.default.weight\n",
      "Applied shared LoRA A matrix for base_model.model.base_model.model.base_model.model.roberta.encoder.layer.8.attention.self.value.lora_A.default.weight\n",
      "Applied shared LoRA A matrix for base_model.model.base_model.model.base_model.model.roberta.encoder.layer.9.attention.self.query.lora_A.default.weight\n",
      "Applied shared LoRA A matrix for base_model.model.base_model.model.base_model.model.roberta.encoder.layer.9.attention.self.value.lora_A.default.weight\n",
      "Applied shared LoRA A matrix for base_model.model.base_model.model.base_model.model.roberta.encoder.layer.10.attention.self.query.lora_A.default.weight\n",
      "Applied shared LoRA A matrix for base_model.model.base_model.model.base_model.model.roberta.encoder.layer.10.attention.self.value.lora_A.default.weight\n",
      "Applied shared LoRA A matrix for base_model.model.base_model.model.base_model.model.roberta.encoder.layer.11.attention.self.query.lora_A.default.weight\n",
      "Applied shared LoRA A matrix for base_model.model.base_model.model.base_model.model.roberta.encoder.layer.11.attention.self.value.lora_A.default.weight\n",
      "Applied shared LoRA A matrix for base_model.model.base_model.model.base_model.model.roberta.encoder.layer.12.attention.self.query.lora_A.default.weight\n",
      "Applied shared LoRA A matrix for base_model.model.base_model.model.base_model.model.roberta.encoder.layer.12.attention.self.value.lora_A.default.weight\n",
      "Applied shared LoRA A matrix for base_model.model.base_model.model.base_model.model.roberta.encoder.layer.13.attention.self.query.lora_A.default.weight\n",
      "Applied shared LoRA A matrix for base_model.model.base_model.model.base_model.model.roberta.encoder.layer.13.attention.self.value.lora_A.default.weight\n",
      "Applied shared LoRA A matrix for base_model.model.base_model.model.base_model.model.roberta.encoder.layer.14.attention.self.query.lora_A.default.weight\n",
      "Applied shared LoRA A matrix for base_model.model.base_model.model.base_model.model.roberta.encoder.layer.14.attention.self.value.lora_A.default.weight\n",
      "Applied shared LoRA A matrix for base_model.model.base_model.model.base_model.model.roberta.encoder.layer.15.attention.self.query.lora_A.default.weight\n",
      "Applied shared LoRA A matrix for base_model.model.base_model.model.base_model.model.roberta.encoder.layer.15.attention.self.value.lora_A.default.weight\n",
      "Applied shared LoRA A matrix for base_model.model.base_model.model.base_model.model.roberta.encoder.layer.16.attention.self.query.lora_A.default.weight\n",
      "Applied shared LoRA A matrix for base_model.model.base_model.model.base_model.model.roberta.encoder.layer.16.attention.self.value.lora_A.default.weight\n",
      "Applied shared LoRA A matrix for base_model.model.base_model.model.base_model.model.roberta.encoder.layer.17.attention.self.query.lora_A.default.weight\n",
      "Applied shared LoRA A matrix for base_model.model.base_model.model.base_model.model.roberta.encoder.layer.17.attention.self.value.lora_A.default.weight\n",
      "Applied shared LoRA A matrix for base_model.model.base_model.model.base_model.model.roberta.encoder.layer.18.attention.self.query.lora_A.default.weight\n",
      "Applied shared LoRA A matrix for base_model.model.base_model.model.base_model.model.roberta.encoder.layer.18.attention.self.value.lora_A.default.weight\n",
      "Applied shared LoRA A matrix for base_model.model.base_model.model.base_model.model.roberta.encoder.layer.19.attention.self.query.lora_A.default.weight\n",
      "Applied shared LoRA A matrix for base_model.model.base_model.model.base_model.model.roberta.encoder.layer.19.attention.self.value.lora_A.default.weight\n",
      "Applied shared LoRA A matrix for base_model.model.base_model.model.base_model.model.roberta.encoder.layer.20.attention.self.query.lora_A.default.weight\n",
      "Applied shared LoRA A matrix for base_model.model.base_model.model.base_model.model.roberta.encoder.layer.20.attention.self.value.lora_A.default.weight\n",
      "Applied shared LoRA A matrix for base_model.model.base_model.model.base_model.model.roberta.encoder.layer.21.attention.self.query.lora_A.default.weight\n",
      "Applied shared LoRA A matrix for base_model.model.base_model.model.base_model.model.roberta.encoder.layer.21.attention.self.value.lora_A.default.weight\n",
      "Applied shared LoRA A matrix for base_model.model.base_model.model.base_model.model.roberta.encoder.layer.22.attention.self.query.lora_A.default.weight\n",
      "Applied shared LoRA A matrix for base_model.model.base_model.model.base_model.model.roberta.encoder.layer.22.attention.self.value.lora_A.default.weight\n",
      "Applied shared LoRA A matrix for base_model.model.base_model.model.base_model.model.roberta.encoder.layer.23.attention.self.query.lora_A.default.weight\n",
      "Applied shared LoRA A matrix for base_model.model.base_model.model.base_model.model.roberta.encoder.layer.23.attention.self.value.lora_A.default.weight\n",
      "Active parameter: base_model.model.base_model.model.base_model.model.roberta.encoder.layer.0.attention.self.query.lora_B.default.weight\n",
      "Active parameter: base_model.model.base_model.model.base_model.model.roberta.encoder.layer.0.attention.self.value.lora_B.default.weight\n",
      "Active parameter: base_model.model.base_model.model.base_model.model.roberta.encoder.layer.1.attention.self.query.lora_B.default.weight\n",
      "Active parameter: base_model.model.base_model.model.base_model.model.roberta.encoder.layer.1.attention.self.value.lora_B.default.weight\n",
      "Active parameter: base_model.model.base_model.model.base_model.model.roberta.encoder.layer.2.attention.self.query.lora_B.default.weight\n",
      "Active parameter: base_model.model.base_model.model.base_model.model.roberta.encoder.layer.2.attention.self.value.lora_B.default.weight\n",
      "Active parameter: base_model.model.base_model.model.base_model.model.roberta.encoder.layer.3.attention.self.query.lora_B.default.weight\n",
      "Active parameter: base_model.model.base_model.model.base_model.model.roberta.encoder.layer.3.attention.self.value.lora_B.default.weight\n",
      "Active parameter: base_model.model.base_model.model.base_model.model.roberta.encoder.layer.4.attention.self.query.lora_B.default.weight\n",
      "Active parameter: base_model.model.base_model.model.base_model.model.roberta.encoder.layer.4.attention.self.value.lora_B.default.weight\n",
      "Active parameter: base_model.model.base_model.model.base_model.model.roberta.encoder.layer.5.attention.self.query.lora_B.default.weight\n",
      "Active parameter: base_model.model.base_model.model.base_model.model.roberta.encoder.layer.5.attention.self.value.lora_B.default.weight\n",
      "Active parameter: base_model.model.base_model.model.base_model.model.roberta.encoder.layer.6.attention.self.query.lora_B.default.weight\n",
      "Active parameter: base_model.model.base_model.model.base_model.model.roberta.encoder.layer.6.attention.self.value.lora_B.default.weight\n",
      "Active parameter: base_model.model.base_model.model.base_model.model.roberta.encoder.layer.7.attention.self.query.lora_B.default.weight\n",
      "Active parameter: base_model.model.base_model.model.base_model.model.roberta.encoder.layer.7.attention.self.value.lora_B.default.weight\n",
      "Active parameter: base_model.model.base_model.model.base_model.model.roberta.encoder.layer.8.attention.self.query.lora_B.default.weight\n",
      "Active parameter: base_model.model.base_model.model.base_model.model.roberta.encoder.layer.8.attention.self.value.lora_B.default.weight\n",
      "Active parameter: base_model.model.base_model.model.base_model.model.roberta.encoder.layer.9.attention.self.query.lora_B.default.weight\n",
      "Active parameter: base_model.model.base_model.model.base_model.model.roberta.encoder.layer.9.attention.self.value.lora_B.default.weight\n",
      "Active parameter: base_model.model.base_model.model.base_model.model.roberta.encoder.layer.10.attention.self.query.lora_B.default.weight\n",
      "Active parameter: base_model.model.base_model.model.base_model.model.roberta.encoder.layer.10.attention.self.value.lora_B.default.weight\n",
      "Active parameter: base_model.model.base_model.model.base_model.model.roberta.encoder.layer.11.attention.self.query.lora_B.default.weight\n",
      "Active parameter: base_model.model.base_model.model.base_model.model.roberta.encoder.layer.11.attention.self.value.lora_B.default.weight\n",
      "Active parameter: base_model.model.base_model.model.base_model.model.roberta.encoder.layer.12.attention.self.query.lora_B.default.weight\n",
      "Active parameter: base_model.model.base_model.model.base_model.model.roberta.encoder.layer.12.attention.self.value.lora_B.default.weight\n",
      "Active parameter: base_model.model.base_model.model.base_model.model.roberta.encoder.layer.13.attention.self.query.lora_B.default.weight\n",
      "Active parameter: base_model.model.base_model.model.base_model.model.roberta.encoder.layer.13.attention.self.value.lora_B.default.weight\n",
      "Active parameter: base_model.model.base_model.model.base_model.model.roberta.encoder.layer.14.attention.self.query.lora_B.default.weight\n",
      "Active parameter: base_model.model.base_model.model.base_model.model.roberta.encoder.layer.14.attention.self.value.lora_B.default.weight\n",
      "Active parameter: base_model.model.base_model.model.base_model.model.roberta.encoder.layer.15.attention.self.query.lora_B.default.weight\n",
      "Active parameter: base_model.model.base_model.model.base_model.model.roberta.encoder.layer.15.attention.self.value.lora_B.default.weight\n",
      "Active parameter: base_model.model.base_model.model.base_model.model.roberta.encoder.layer.16.attention.self.query.lora_B.default.weight\n",
      "Active parameter: base_model.model.base_model.model.base_model.model.roberta.encoder.layer.16.attention.self.value.lora_B.default.weight\n",
      "Active parameter: base_model.model.base_model.model.base_model.model.roberta.encoder.layer.17.attention.self.query.lora_B.default.weight\n",
      "Active parameter: base_model.model.base_model.model.base_model.model.roberta.encoder.layer.17.attention.self.value.lora_B.default.weight\n",
      "Active parameter: base_model.model.base_model.model.base_model.model.roberta.encoder.layer.18.attention.self.query.lora_B.default.weight\n",
      "Active parameter: base_model.model.base_model.model.base_model.model.roberta.encoder.layer.18.attention.self.value.lora_B.default.weight\n",
      "Active parameter: base_model.model.base_model.model.base_model.model.roberta.encoder.layer.19.attention.self.query.lora_B.default.weight\n",
      "Active parameter: base_model.model.base_model.model.base_model.model.roberta.encoder.layer.19.attention.self.value.lora_B.default.weight\n",
      "Active parameter: base_model.model.base_model.model.base_model.model.roberta.encoder.layer.20.attention.self.query.lora_B.default.weight\n",
      "Active parameter: base_model.model.base_model.model.base_model.model.roberta.encoder.layer.20.attention.self.value.lora_B.default.weight\n",
      "Active parameter: base_model.model.base_model.model.base_model.model.roberta.encoder.layer.21.attention.self.query.lora_B.default.weight\n",
      "Active parameter: base_model.model.base_model.model.base_model.model.roberta.encoder.layer.21.attention.self.value.lora_B.default.weight\n",
      "Active parameter: base_model.model.base_model.model.base_model.model.roberta.encoder.layer.22.attention.self.query.lora_B.default.weight\n",
      "Active parameter: base_model.model.base_model.model.base_model.model.roberta.encoder.layer.22.attention.self.value.lora_B.default.weight\n",
      "Active parameter: base_model.model.base_model.model.base_model.model.roberta.encoder.layer.23.attention.self.query.lora_B.default.weight\n",
      "Active parameter: base_model.model.base_model.model.base_model.model.roberta.encoder.layer.23.attention.self.value.lora_B.default.weight\n",
      "Active parameter: base_model.model.base_model.model.base_model.model.classifier.modules_to_save.default.dense.weight\n",
      "Active parameter: base_model.model.base_model.model.base_model.model.classifier.modules_to_save.default.dense.bias\n",
      "Active parameter: base_model.model.base_model.model.base_model.model.classifier.modules_to_save.default.out_proj.weight\n",
      "Active parameter: base_model.model.base_model.model.base_model.model.classifier.modules_to_save.default.out_proj.bias\n",
      "new lora, r = 8:\n"
     ]
    },
    {
     "name": "stderr",
     "output_type": "stream",
     "text": [
      "100%|██████████| 230/230 [00:17<00:00, 13.48it/s]\n",
      "100%|██████████| 26/26 [00:00<00:00, 37.37it/s]\n"
     ]
    },
    {
     "name": "stdout",
     "output_type": "stream",
     "text": [
      "epoch 10: {'accuracy': 0.8848039215686274, 'f1': 0.9185441941074524}\n"
     ]
    },
    {
     "name": "stderr",
     "output_type": "stream",
     "text": [
      "100%|██████████| 230/230 [00:16<00:00, 13.66it/s]\n",
      "100%|██████████| 26/26 [00:00<00:00, 35.94it/s]\n"
     ]
    },
    {
     "name": "stdout",
     "output_type": "stream",
     "text": [
      "epoch 11: {'accuracy': 0.8627450980392157, 'f1': 0.9063545150501672}\n"
     ]
    },
    {
     "name": "stderr",
     "output_type": "stream",
     "text": [
      "100%|██████████| 230/230 [00:16<00:00, 13.62it/s]\n",
      "100%|██████████| 26/26 [00:00<00:00, 37.34it/s]\n"
     ]
    },
    {
     "name": "stdout",
     "output_type": "stream",
     "text": [
      "epoch 12: {'accuracy': 0.8897058823529411, 'f1': 0.9209138840070299}\n"
     ]
    },
    {
     "name": "stderr",
     "output_type": "stream",
     "text": [
      "100%|██████████| 230/230 [00:16<00:00, 13.68it/s]\n",
      "100%|██████████| 26/26 [00:00<00:00, 37.04it/s]\n"
     ]
    },
    {
     "name": "stdout",
     "output_type": "stream",
     "text": [
      "epoch 13: {'accuracy': 0.8995098039215687, 'f1': 0.9274336283185841}\n"
     ]
    },
    {
     "name": "stderr",
     "output_type": "stream",
     "text": [
      "100%|██████████| 230/230 [00:16<00:00, 13.63it/s]\n",
      "100%|██████████| 26/26 [00:00<00:00, 37.40it/s]\n"
     ]
    },
    {
     "name": "stdout",
     "output_type": "stream",
     "text": [
      "epoch 14: {'accuracy': 0.8995098039215687, 'f1': 0.927689594356261}\n",
      "Applied shared LoRA A matrix for base_model.model.base_model.model.base_model.model.base_model.model.roberta.encoder.layer.0.attention.self.query.lora_A.default.weight\n",
      "Applied shared LoRA A matrix for base_model.model.base_model.model.base_model.model.base_model.model.roberta.encoder.layer.0.attention.self.value.lora_A.default.weight\n",
      "Applied shared LoRA A matrix for base_model.model.base_model.model.base_model.model.base_model.model.roberta.encoder.layer.1.attention.self.query.lora_A.default.weight\n",
      "Applied shared LoRA A matrix for base_model.model.base_model.model.base_model.model.base_model.model.roberta.encoder.layer.1.attention.self.value.lora_A.default.weight\n",
      "Applied shared LoRA A matrix for base_model.model.base_model.model.base_model.model.base_model.model.roberta.encoder.layer.2.attention.self.query.lora_A.default.weight\n",
      "Applied shared LoRA A matrix for base_model.model.base_model.model.base_model.model.base_model.model.roberta.encoder.layer.2.attention.self.value.lora_A.default.weight\n",
      "Applied shared LoRA A matrix for base_model.model.base_model.model.base_model.model.base_model.model.roberta.encoder.layer.3.attention.self.query.lora_A.default.weight\n",
      "Applied shared LoRA A matrix for base_model.model.base_model.model.base_model.model.base_model.model.roberta.encoder.layer.3.attention.self.value.lora_A.default.weight\n",
      "Applied shared LoRA A matrix for base_model.model.base_model.model.base_model.model.base_model.model.roberta.encoder.layer.4.attention.self.query.lora_A.default.weight\n",
      "Applied shared LoRA A matrix for base_model.model.base_model.model.base_model.model.base_model.model.roberta.encoder.layer.4.attention.self.value.lora_A.default.weight\n",
      "Applied shared LoRA A matrix for base_model.model.base_model.model.base_model.model.base_model.model.roberta.encoder.layer.5.attention.self.query.lora_A.default.weight\n",
      "Applied shared LoRA A matrix for base_model.model.base_model.model.base_model.model.base_model.model.roberta.encoder.layer.5.attention.self.value.lora_A.default.weight\n",
      "Applied shared LoRA A matrix for base_model.model.base_model.model.base_model.model.base_model.model.roberta.encoder.layer.6.attention.self.query.lora_A.default.weight\n",
      "Applied shared LoRA A matrix for base_model.model.base_model.model.base_model.model.base_model.model.roberta.encoder.layer.6.attention.self.value.lora_A.default.weight\n",
      "Applied shared LoRA A matrix for base_model.model.base_model.model.base_model.model.base_model.model.roberta.encoder.layer.7.attention.self.query.lora_A.default.weight\n",
      "Applied shared LoRA A matrix for base_model.model.base_model.model.base_model.model.base_model.model.roberta.encoder.layer.7.attention.self.value.lora_A.default.weight\n",
      "Applied shared LoRA A matrix for base_model.model.base_model.model.base_model.model.base_model.model.roberta.encoder.layer.8.attention.self.query.lora_A.default.weight\n",
      "Applied shared LoRA A matrix for base_model.model.base_model.model.base_model.model.base_model.model.roberta.encoder.layer.8.attention.self.value.lora_A.default.weight\n",
      "Applied shared LoRA A matrix for base_model.model.base_model.model.base_model.model.base_model.model.roberta.encoder.layer.9.attention.self.query.lora_A.default.weight\n",
      "Applied shared LoRA A matrix for base_model.model.base_model.model.base_model.model.base_model.model.roberta.encoder.layer.9.attention.self.value.lora_A.default.weight\n",
      "Applied shared LoRA A matrix for base_model.model.base_model.model.base_model.model.base_model.model.roberta.encoder.layer.10.attention.self.query.lora_A.default.weight\n",
      "Applied shared LoRA A matrix for base_model.model.base_model.model.base_model.model.base_model.model.roberta.encoder.layer.10.attention.self.value.lora_A.default.weight\n",
      "Applied shared LoRA A matrix for base_model.model.base_model.model.base_model.model.base_model.model.roberta.encoder.layer.11.attention.self.query.lora_A.default.weight\n",
      "Applied shared LoRA A matrix for base_model.model.base_model.model.base_model.model.base_model.model.roberta.encoder.layer.11.attention.self.value.lora_A.default.weight\n",
      "Applied shared LoRA A matrix for base_model.model.base_model.model.base_model.model.base_model.model.roberta.encoder.layer.12.attention.self.query.lora_A.default.weight\n",
      "Applied shared LoRA A matrix for base_model.model.base_model.model.base_model.model.base_model.model.roberta.encoder.layer.12.attention.self.value.lora_A.default.weight\n",
      "Applied shared LoRA A matrix for base_model.model.base_model.model.base_model.model.base_model.model.roberta.encoder.layer.13.attention.self.query.lora_A.default.weight\n",
      "Applied shared LoRA A matrix for base_model.model.base_model.model.base_model.model.base_model.model.roberta.encoder.layer.13.attention.self.value.lora_A.default.weight\n",
      "Applied shared LoRA A matrix for base_model.model.base_model.model.base_model.model.base_model.model.roberta.encoder.layer.14.attention.self.query.lora_A.default.weight\n",
      "Applied shared LoRA A matrix for base_model.model.base_model.model.base_model.model.base_model.model.roberta.encoder.layer.14.attention.self.value.lora_A.default.weight\n",
      "Applied shared LoRA A matrix for base_model.model.base_model.model.base_model.model.base_model.model.roberta.encoder.layer.15.attention.self.query.lora_A.default.weight\n",
      "Applied shared LoRA A matrix for base_model.model.base_model.model.base_model.model.base_model.model.roberta.encoder.layer.15.attention.self.value.lora_A.default.weight\n",
      "Applied shared LoRA A matrix for base_model.model.base_model.model.base_model.model.base_model.model.roberta.encoder.layer.16.attention.self.query.lora_A.default.weight\n",
      "Applied shared LoRA A matrix for base_model.model.base_model.model.base_model.model.base_model.model.roberta.encoder.layer.16.attention.self.value.lora_A.default.weight\n",
      "Applied shared LoRA A matrix for base_model.model.base_model.model.base_model.model.base_model.model.roberta.encoder.layer.17.attention.self.query.lora_A.default.weight\n",
      "Applied shared LoRA A matrix for base_model.model.base_model.model.base_model.model.base_model.model.roberta.encoder.layer.17.attention.self.value.lora_A.default.weight\n",
      "Applied shared LoRA A matrix for base_model.model.base_model.model.base_model.model.base_model.model.roberta.encoder.layer.18.attention.self.query.lora_A.default.weight\n",
      "Applied shared LoRA A matrix for base_model.model.base_model.model.base_model.model.base_model.model.roberta.encoder.layer.18.attention.self.value.lora_A.default.weight\n",
      "Applied shared LoRA A matrix for base_model.model.base_model.model.base_model.model.base_model.model.roberta.encoder.layer.19.attention.self.query.lora_A.default.weight\n",
      "Applied shared LoRA A matrix for base_model.model.base_model.model.base_model.model.base_model.model.roberta.encoder.layer.19.attention.self.value.lora_A.default.weight\n",
      "Applied shared LoRA A matrix for base_model.model.base_model.model.base_model.model.base_model.model.roberta.encoder.layer.20.attention.self.query.lora_A.default.weight\n",
      "Applied shared LoRA A matrix for base_model.model.base_model.model.base_model.model.base_model.model.roberta.encoder.layer.20.attention.self.value.lora_A.default.weight\n",
      "Applied shared LoRA A matrix for base_model.model.base_model.model.base_model.model.base_model.model.roberta.encoder.layer.21.attention.self.query.lora_A.default.weight\n",
      "Applied shared LoRA A matrix for base_model.model.base_model.model.base_model.model.base_model.model.roberta.encoder.layer.21.attention.self.value.lora_A.default.weight\n",
      "Applied shared LoRA A matrix for base_model.model.base_model.model.base_model.model.base_model.model.roberta.encoder.layer.22.attention.self.query.lora_A.default.weight\n",
      "Applied shared LoRA A matrix for base_model.model.base_model.model.base_model.model.base_model.model.roberta.encoder.layer.22.attention.self.value.lora_A.default.weight\n",
      "Applied shared LoRA A matrix for base_model.model.base_model.model.base_model.model.base_model.model.roberta.encoder.layer.23.attention.self.query.lora_A.default.weight\n",
      "Applied shared LoRA A matrix for base_model.model.base_model.model.base_model.model.base_model.model.roberta.encoder.layer.23.attention.self.value.lora_A.default.weight\n",
      "Active parameter: base_model.model.base_model.model.base_model.model.base_model.model.roberta.encoder.layer.0.attention.self.query.lora_B.default.weight\n",
      "Active parameter: base_model.model.base_model.model.base_model.model.base_model.model.roberta.encoder.layer.0.attention.self.value.lora_B.default.weight\n",
      "Active parameter: base_model.model.base_model.model.base_model.model.base_model.model.roberta.encoder.layer.1.attention.self.query.lora_B.default.weight\n",
      "Active parameter: base_model.model.base_model.model.base_model.model.base_model.model.roberta.encoder.layer.1.attention.self.value.lora_B.default.weight\n",
      "Active parameter: base_model.model.base_model.model.base_model.model.base_model.model.roberta.encoder.layer.2.attention.self.query.lora_B.default.weight\n",
      "Active parameter: base_model.model.base_model.model.base_model.model.base_model.model.roberta.encoder.layer.2.attention.self.value.lora_B.default.weight\n",
      "Active parameter: base_model.model.base_model.model.base_model.model.base_model.model.roberta.encoder.layer.3.attention.self.query.lora_B.default.weight\n",
      "Active parameter: base_model.model.base_model.model.base_model.model.base_model.model.roberta.encoder.layer.3.attention.self.value.lora_B.default.weight\n",
      "Active parameter: base_model.model.base_model.model.base_model.model.base_model.model.roberta.encoder.layer.4.attention.self.query.lora_B.default.weight\n",
      "Active parameter: base_model.model.base_model.model.base_model.model.base_model.model.roberta.encoder.layer.4.attention.self.value.lora_B.default.weight\n",
      "Active parameter: base_model.model.base_model.model.base_model.model.base_model.model.roberta.encoder.layer.5.attention.self.query.lora_B.default.weight\n",
      "Active parameter: base_model.model.base_model.model.base_model.model.base_model.model.roberta.encoder.layer.5.attention.self.value.lora_B.default.weight\n",
      "Active parameter: base_model.model.base_model.model.base_model.model.base_model.model.roberta.encoder.layer.6.attention.self.query.lora_B.default.weight\n",
      "Active parameter: base_model.model.base_model.model.base_model.model.base_model.model.roberta.encoder.layer.6.attention.self.value.lora_B.default.weight\n",
      "Active parameter: base_model.model.base_model.model.base_model.model.base_model.model.roberta.encoder.layer.7.attention.self.query.lora_B.default.weight\n",
      "Active parameter: base_model.model.base_model.model.base_model.model.base_model.model.roberta.encoder.layer.7.attention.self.value.lora_B.default.weight\n",
      "Active parameter: base_model.model.base_model.model.base_model.model.base_model.model.roberta.encoder.layer.8.attention.self.query.lora_B.default.weight\n",
      "Active parameter: base_model.model.base_model.model.base_model.model.base_model.model.roberta.encoder.layer.8.attention.self.value.lora_B.default.weight\n",
      "Active parameter: base_model.model.base_model.model.base_model.model.base_model.model.roberta.encoder.layer.9.attention.self.query.lora_B.default.weight\n",
      "Active parameter: base_model.model.base_model.model.base_model.model.base_model.model.roberta.encoder.layer.9.attention.self.value.lora_B.default.weight\n",
      "Active parameter: base_model.model.base_model.model.base_model.model.base_model.model.roberta.encoder.layer.10.attention.self.query.lora_B.default.weight\n",
      "Active parameter: base_model.model.base_model.model.base_model.model.base_model.model.roberta.encoder.layer.10.attention.self.value.lora_B.default.weight\n",
      "Active parameter: base_model.model.base_model.model.base_model.model.base_model.model.roberta.encoder.layer.11.attention.self.query.lora_B.default.weight\n",
      "Active parameter: base_model.model.base_model.model.base_model.model.base_model.model.roberta.encoder.layer.11.attention.self.value.lora_B.default.weight\n",
      "Active parameter: base_model.model.base_model.model.base_model.model.base_model.model.roberta.encoder.layer.12.attention.self.query.lora_B.default.weight\n",
      "Active parameter: base_model.model.base_model.model.base_model.model.base_model.model.roberta.encoder.layer.12.attention.self.value.lora_B.default.weight\n",
      "Active parameter: base_model.model.base_model.model.base_model.model.base_model.model.roberta.encoder.layer.13.attention.self.query.lora_B.default.weight\n",
      "Active parameter: base_model.model.base_model.model.base_model.model.base_model.model.roberta.encoder.layer.13.attention.self.value.lora_B.default.weight\n",
      "Active parameter: base_model.model.base_model.model.base_model.model.base_model.model.roberta.encoder.layer.14.attention.self.query.lora_B.default.weight\n",
      "Active parameter: base_model.model.base_model.model.base_model.model.base_model.model.roberta.encoder.layer.14.attention.self.value.lora_B.default.weight\n",
      "Active parameter: base_model.model.base_model.model.base_model.model.base_model.model.roberta.encoder.layer.15.attention.self.query.lora_B.default.weight\n",
      "Active parameter: base_model.model.base_model.model.base_model.model.base_model.model.roberta.encoder.layer.15.attention.self.value.lora_B.default.weight\n",
      "Active parameter: base_model.model.base_model.model.base_model.model.base_model.model.roberta.encoder.layer.16.attention.self.query.lora_B.default.weight\n",
      "Active parameter: base_model.model.base_model.model.base_model.model.base_model.model.roberta.encoder.layer.16.attention.self.value.lora_B.default.weight\n",
      "Active parameter: base_model.model.base_model.model.base_model.model.base_model.model.roberta.encoder.layer.17.attention.self.query.lora_B.default.weight\n",
      "Active parameter: base_model.model.base_model.model.base_model.model.base_model.model.roberta.encoder.layer.17.attention.self.value.lora_B.default.weight\n",
      "Active parameter: base_model.model.base_model.model.base_model.model.base_model.model.roberta.encoder.layer.18.attention.self.query.lora_B.default.weight\n",
      "Active parameter: base_model.model.base_model.model.base_model.model.base_model.model.roberta.encoder.layer.18.attention.self.value.lora_B.default.weight\n",
      "Active parameter: base_model.model.base_model.model.base_model.model.base_model.model.roberta.encoder.layer.19.attention.self.query.lora_B.default.weight\n",
      "Active parameter: base_model.model.base_model.model.base_model.model.base_model.model.roberta.encoder.layer.19.attention.self.value.lora_B.default.weight\n",
      "Active parameter: base_model.model.base_model.model.base_model.model.base_model.model.roberta.encoder.layer.20.attention.self.query.lora_B.default.weight\n",
      "Active parameter: base_model.model.base_model.model.base_model.model.base_model.model.roberta.encoder.layer.20.attention.self.value.lora_B.default.weight\n",
      "Active parameter: base_model.model.base_model.model.base_model.model.base_model.model.roberta.encoder.layer.21.attention.self.query.lora_B.default.weight\n",
      "Active parameter: base_model.model.base_model.model.base_model.model.base_model.model.roberta.encoder.layer.21.attention.self.value.lora_B.default.weight\n",
      "Active parameter: base_model.model.base_model.model.base_model.model.base_model.model.roberta.encoder.layer.22.attention.self.query.lora_B.default.weight\n",
      "Active parameter: base_model.model.base_model.model.base_model.model.base_model.model.roberta.encoder.layer.22.attention.self.value.lora_B.default.weight\n",
      "Active parameter: base_model.model.base_model.model.base_model.model.base_model.model.roberta.encoder.layer.23.attention.self.query.lora_B.default.weight\n",
      "Active parameter: base_model.model.base_model.model.base_model.model.base_model.model.roberta.encoder.layer.23.attention.self.value.lora_B.default.weight\n",
      "Active parameter: base_model.model.base_model.model.base_model.model.base_model.model.classifier.modules_to_save.default.dense.weight\n",
      "Active parameter: base_model.model.base_model.model.base_model.model.base_model.model.classifier.modules_to_save.default.dense.bias\n",
      "Active parameter: base_model.model.base_model.model.base_model.model.base_model.model.classifier.modules_to_save.default.out_proj.weight\n",
      "Active parameter: base_model.model.base_model.model.base_model.model.base_model.model.classifier.modules_to_save.default.out_proj.bias\n",
      "new lora, r = 8:\n"
     ]
    },
    {
     "name": "stderr",
     "output_type": "stream",
     "text": [
      "100%|██████████| 230/230 [00:19<00:00, 12.06it/s]\n",
      "100%|██████████| 26/26 [00:00<00:00, 37.53it/s]\n"
     ]
    },
    {
     "name": "stdout",
     "output_type": "stream",
     "text": [
      "epoch 15: {'accuracy': 0.8872549019607843, 'f1': 0.9181494661921709}\n"
     ]
    },
    {
     "name": "stderr",
     "output_type": "stream",
     "text": [
      "100%|██████████| 230/230 [00:18<00:00, 12.11it/s]\n",
      "100%|██████████| 26/26 [00:00<00:00, 37.49it/s]\n"
     ]
    },
    {
     "name": "stdout",
     "output_type": "stream",
     "text": [
      "epoch 16: {'accuracy': 0.8725490196078431, 'f1': 0.9090909090909091}\n"
     ]
    },
    {
     "name": "stderr",
     "output_type": "stream",
     "text": [
      "100%|██████████| 230/230 [00:18<00:00, 12.16it/s]\n",
      "100%|██████████| 26/26 [00:00<00:00, 36.69it/s]\n"
     ]
    },
    {
     "name": "stdout",
     "output_type": "stream",
     "text": [
      "epoch 17: {'accuracy': 0.8970588235294118, 'f1': 0.926056338028169}\n"
     ]
    },
    {
     "name": "stderr",
     "output_type": "stream",
     "text": [
      "100%|██████████| 230/230 [00:19<00:00, 12.03it/s]\n",
      "100%|██████████| 26/26 [00:00<00:00, 37.43it/s]\n"
     ]
    },
    {
     "name": "stdout",
     "output_type": "stream",
     "text": [
      "epoch 18: {'accuracy': 0.8995098039215687, 'f1': 0.9281961471103327}\n"
     ]
    },
    {
     "name": "stderr",
     "output_type": "stream",
     "text": [
      "100%|██████████| 230/230 [00:19<00:00, 12.08it/s]\n",
      "100%|██████████| 26/26 [00:00<00:00, 37.24it/s]"
     ]
    },
    {
     "name": "stdout",
     "output_type": "stream",
     "text": [
      "epoch 19: {'accuracy': 0.8946078431372549, 'f1': 0.9244288224956063}\n"
     ]
    },
    {
     "name": "stderr",
     "output_type": "stream",
     "text": [
      "\n"
     ]
    }
   ],
   "source": [
    "model.to(device)\n",
    "for epoch in range(num_epochs):\n",
    "    if epoch != 0 and epoch % chain_epoch == 0:\n",
    "        # 第一组lora的 A 矩阵作为共享 A 矩阵\n",
    "        # epoch == chain_epoch // epoch % chain_epoch == 0\n",
    "        if epoch == chain_epoch:\n",
    "            saved_lora_a_matrices = extract_lora_a_matrices(model)\n",
    "            print(f\"Saved LoRA A matrices at epoch {epoch}\")\n",
    "        \n",
    "        # 提取当前 LoRA 的 B 矩阵\n",
    "        current_lora_b_matrices = extract_lora_b_matrices(model)\n",
    "        # 将当前 B 矩阵保存到列表中\n",
    "        saved_lora_b_matrices.extend(current_lora_b_matrices)\n",
    "        orth_loss = 0.0\n",
    "        \n",
    "        # 合并\n",
    "        model.merge_and_unload()\n",
    "        peft_config.r = 8\n",
    "        \n",
    "        # 拓展\n",
    "        model = get_peft_model(model, peft_config)\n",
    "        # 共享 A\n",
    "        if saved_lora_a_matrices:\n",
    "            apply_shared_lora_a_matrices(model, saved_lora_a_matrices)\n",
    "            # for name, param in model.named_parameters():\n",
    "            #     print(f\"{name}: requires_grad={param.requires_grad}\")\n",
    "            for name, param in model.named_parameters():\n",
    "                if param.requires_grad:\n",
    "                    print(f\"Active parameter: {name}\")\n",
    "\n",
    "        \n",
    "        #重新实例化优化器\n",
    "        # 获取LoRA参数\n",
    "        lora_params = {n: p for n, p in model.named_parameters() if 'lora' in n}\n",
    "        # 分组LoRA参数\n",
    "        param_groups = [\n",
    "            {\"params\": [p for n, p in lora_params.items() if 'lora_A' in n], \"lr\": lr},  # A矩阵的学习率\n",
    "            {\"params\": [p for n, p in lora_params.items() if 'lora_B' in n], \"lr\": lambda_lr * lr},  # B矩阵的学习率\n",
    "        ]\n",
    "        optimizer = AdamW(param_groups, betas=(beta1, beta2))\n",
    "        # optimizer = AdamW(params=model.parameters(), lr=lr)\n",
    "        lr_scheduler = get_linear_schedule_with_warmup(\n",
    "            optimizer=optimizer,\n",
    "            num_warmup_steps=0.06 * (len(train_dataloader) * chain_epoch),\n",
    "            num_training_steps=(len(train_dataloader) * chain_epoch),\n",
    "        )\n",
    "        print(f\"new lora, r = {peft_config.r}:\")\n",
    "        torch.cuda.empty_cache()\n",
    "        \n",
    "        \n",
    "    model.train()\n",
    "    for step, batch in enumerate(tqdm(train_dataloader)):\n",
    "        batch.to(device)\n",
    "        outputs = model(**batch)\n",
    "        \n",
    "        loss = outputs.loss\n",
    "        # task_loss = outputs.loss\n",
    "        if saved_lora_b_matrices and step % orth_interval == 0 and step != 0:\n",
    "            current_lora_b_matrices = extract_lora_b_matrices(model)\n",
    "            orth_loss = orthogonality_loss(current_lora_b_matrices, saved_lora_b_matrices)\n",
    "        else:\n",
    "            orth_loss = 0.0\n",
    "        # 总损失\n",
    "        loss = loss + lambda_orth * orth_loss\n",
    "        \n",
    "        loss.backward()\n",
    "        torch.nn.utils.clip_grad_norm_(model.parameters(), 1.0)\n",
    "        \n",
    "        optimizer.step()\n",
    "        lr_scheduler.step()\n",
    "        optimizer.zero_grad()\n",
    "\n",
    "    model.eval()\n",
    "    for step, batch in enumerate(tqdm(eval_dataloader)):\n",
    "        batch.to(device)\n",
    "        with torch.no_grad():\n",
    "            outputs = model(**batch)\n",
    "        predictions = outputs.logits.argmax(dim=-1)\n",
    "        predictions, references = predictions, batch[\"labels\"]\n",
    "        # predictions = outputs.logits.squeeze().cpu().numpy()\n",
    "        # references = batch[\"labels\"].cpu().numpy() \n",
    "        metric.add_batch(\n",
    "            predictions=predictions,\n",
    "            references=references,\n",
    "        )\n",
    "\n",
    "    eval_metric = metric.compute()\n",
    "    print(f\"epoch {epoch}:\", eval_metric)"
   ]
  },
  {
   "cell_type": "code",
   "execution_count": null,
   "id": "7fffb5f80baff819",
   "metadata": {
    "ExecuteTime": {
     "end_time": "2025-01-17T07:24:35.737400Z",
     "start_time": "2025-01-17T07:24:35.735061Z"
    }
   },
   "outputs": [],
   "source": []
  }
 ],
 "metadata": {
  "kernelspec": {
   "display_name": "Python 3",
   "language": "python",
   "name": "python3"
  },
  "language_info": {
   "codemirror_mode": {
    "name": "ipython",
    "version": 2
   },
   "file_extension": ".py",
   "mimetype": "text/x-python",
   "name": "python",
   "nbconvert_exporter": "python",
   "pygments_lexer": "ipython2",
   "version": "2.7.6"
  }
 },
 "nbformat": 4,
 "nbformat_minor": 5
}
