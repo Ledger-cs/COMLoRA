{
 "cells": [
  {
   "cell_type": "code",
   "execution_count": 55,
   "id": "ea12fc8ad65a6b3a",
   "metadata": {
    "ExecuteTime": {
     "end_time": "2025-01-13T06:54:47.407014Z",
     "start_time": "2025-01-13T06:54:47.402559Z"
    }
   },
   "outputs": [],
   "source": [
    "import argparse\n",
    "import os\n",
    "\n",
    "import torch\n",
    "from torch.optim import AdamW\n",
    "from torch.utils.data import DataLoader\n",
    "from peft import (\n",
    "    get_peft_config,\n",
    "    get_peft_model,\n",
    "    get_peft_model_state_dict,\n",
    "    set_peft_model_state_dict,\n",
    "    LoraConfig,\n",
    "    PeftType,\n",
    "    PrefixTuningConfig,\n",
    "    PromptEncoderConfig,\n",
    "    TaskType,\n",
    ")\n",
    "\n",
    "import evaluate\n",
    "from datasets import load_dataset\n",
    "from transformers import AutoModelForSequenceClassification, AutoTokenizer, get_linear_schedule_with_warmup, set_seed\n",
    "from tqdm import tqdm\n",
    "\n",
    "\n",
    "import warnings\n",
    "\n",
    "warnings.filterwarnings(\"ignore\")"
   ]
  },
  {
   "cell_type": "code",
   "execution_count": 56,
   "id": "3d0dc2c3f8b715c9",
   "metadata": {
    "ExecuteTime": {
     "end_time": "2025-01-13T06:54:47.413189Z",
     "start_time": "2025-01-13T06:54:47.407014Z"
    }
   },
   "outputs": [],
   "source": [
    "import numpy as np\n",
    "import random\n",
    "\n",
    "def set_seed(seed):\n",
    "    random.seed(seed)\n",
    "    np.random.seed(seed)\n",
    "    torch.manual_seed(seed)\n",
    "    if torch.cuda.is_available():\n",
    "        torch.cuda.manual_seed_all(seed)\n",
    "\n",
    "set_seed(3407)  # 设置固定随机种子"
   ]
  },
  {
   "cell_type": "code",
   "execution_count": 57,
   "id": "538be8524a8231a",
   "metadata": {
    "ExecuteTime": {
     "end_time": "2025-01-13T06:54:47.550792Z",
     "start_time": "2025-01-13T06:54:47.524159Z"
    }
   },
   "outputs": [],
   "source": [
    "torch.cuda.empty_cache()"
   ]
  },
  {
   "cell_type": "code",
   "execution_count": 58,
   "id": "a27aad61f320158b",
   "metadata": {
    "ExecuteTime": {
     "end_time": "2025-01-13T06:54:47.650208Z",
     "start_time": "2025-01-13T06:54:47.646853Z"
    }
   },
   "outputs": [],
   "source": [
    "device = \"cuda\"\n",
    "batch_size = 32\n",
    "model_name_or_path = \"FacebookAI/roberta-large\"\n",
    "task = \"sst2\"\n",
    "peft_type = PeftType.LORA\n",
    "num_epochs = 10\n",
    "lr = 4e-4"
   ]
  },
  {
   "cell_type": "code",
   "execution_count": 59,
   "id": "d763941963cb866c",
   "metadata": {
    "ExecuteTime": {
     "end_time": "2025-01-13T06:55:31.216737Z",
     "start_time": "2025-01-13T06:54:47.748363Z"
    }
   },
   "outputs": [
    {
     "name": "stderr",
     "output_type": "stream",
     "text": [
      "Using the latest cached version of the dataset since glue couldn't be found on the Hugging Face Hub\n",
      "Found the latest cached dataset configuration 'sst2' at C:\\Users\\shaoc\\.cache\\huggingface\\datasets\\glue\\sst2\\0.0.0\\bcdcba79d07bc864c1c254ccfcedcce55bcc9a8c (last modified on Fri Jan 10 15:21:19 2025).\n",
      "Using the latest cached version of the module from C:\\Users\\shaoc\\.cache\\huggingface\\modules\\evaluate_modules\\metrics\\evaluate-metric--glue\\05234ba7acc44554edcca0978db5fa3bc600eeee66229abe79ff9887eacaf3ed (last modified on Mon Dec  2 14:24:07 2024) since it couldn't be found locally at evaluate-metric--glue, or remotely on the Hugging Face Hub.\n"
     ]
    }
   ],
   "source": [
    "if any(k in model_name_or_path for k in (\"gpt\", \"opt\", \"bloom\")):\n",
    "    padding_side = \"left\"\n",
    "else:\n",
    "    padding_side = \"right\"\n",
    "\n",
    "tokenizer = AutoTokenizer.from_pretrained(model_name_or_path, padding_side=padding_side)\n",
    "if getattr(tokenizer, \"pad_token_id\") is None:\n",
    "    tokenizer.pad_token_id = tokenizer.eos_token_id\n",
    "\n",
    "datasets = load_dataset(\"glue\", task)\n",
    "metric = evaluate.load(\"glue\", task)\n",
    "\n",
    "\n",
    "def tokenize_function(examples):\n",
    "    # max_length=None => use the model max length (it's actually the default)\n",
    "    outputs = tokenizer(examples[\"sentence\"], truncation=True, max_length=None)\n",
    "    return outputs\n",
    "\n",
    "\n",
    "tokenized_datasets = datasets.map(\n",
    "    tokenize_function,\n",
    "    batched=True,\n",
    "    remove_columns=[\"idx\", \"sentence\"],\n",
    ")\n",
    "\n",
    "tokenized_datasets = tokenized_datasets.rename_column(\"label\", \"labels\")\n",
    "\n",
    "\n",
    "def collate_fn(examples):\n",
    "    return tokenizer.pad(examples, padding=\"longest\", return_tensors=\"pt\")\n",
    "\n",
    "\n",
    "# Instantiate dataloaders.\n",
    "train_dataloader = DataLoader(tokenized_datasets[\"train\"], shuffle=True, collate_fn=collate_fn, batch_size=batch_size)\n",
    "eval_dataloader = DataLoader(\n",
    "    tokenized_datasets[\"validation\"], shuffle=False, collate_fn=collate_fn, batch_size=batch_size\n",
    ")"
   ]
  },
  {
   "cell_type": "code",
   "execution_count": 60,
   "id": "8fb62eceb8d37ef9",
   "metadata": {
    "ExecuteTime": {
     "end_time": "2025-01-13T06:55:31.316647Z",
     "start_time": "2025-01-13T06:55:31.313780Z"
    }
   },
   "outputs": [],
   "source": [
    "torch.cuda.empty_cache()"
   ]
  },
  {
   "cell_type": "code",
   "execution_count": 61,
   "id": "57588182c1c6cc2a",
   "metadata": {
    "ExecuteTime": {
     "end_time": "2025-01-13T06:55:31.407233Z",
     "start_time": "2025-01-13T06:55:31.404114Z"
    }
   },
   "outputs": [],
   "source": [
    "peft_config = LoraConfig(task_type=TaskType.SEQ_CLS, inference_mode=False, r=8, lora_alpha=16, lora_dropout=0.1)\n",
    "# target_modules = [\"query\", \"value\"]\n",
    "chain_epoch = 3"
   ]
  },
  {
   "cell_type": "code",
   "execution_count": 62,
   "id": "d4c7288dc9f213a0",
   "metadata": {
    "ExecuteTime": {
     "end_time": "2025-01-13T06:55:31.897441Z",
     "start_time": "2025-01-13T06:55:31.502770Z"
    }
   },
   "outputs": [
    {
     "name": "stderr",
     "output_type": "stream",
     "text": [
      "Some weights of RobertaForSequenceClassification were not initialized from the model checkpoint at FacebookAI/roberta-large and are newly initialized: ['classifier.dense.bias', 'classifier.dense.weight', 'classifier.out_proj.bias', 'classifier.out_proj.weight']\n",
      "You should probably TRAIN this model on a down-stream task to be able to use it for predictions and inference.\n"
     ]
    },
    {
     "name": "stdout",
     "output_type": "stream",
     "text": [
      "trainable params: 1,838,082 || all params: 357,199,876 || trainable%: 0.5146\n"
     ]
    },
    {
     "data": {
      "text/plain": [
       "PeftModelForSequenceClassification(\n",
       "  (base_model): LoraModel(\n",
       "    (model): RobertaForSequenceClassification(\n",
       "      (roberta): RobertaModel(\n",
       "        (embeddings): RobertaEmbeddings(\n",
       "          (word_embeddings): Embedding(50265, 1024, padding_idx=1)\n",
       "          (position_embeddings): Embedding(514, 1024, padding_idx=1)\n",
       "          (token_type_embeddings): Embedding(1, 1024)\n",
       "          (LayerNorm): LayerNorm((1024,), eps=1e-05, elementwise_affine=True)\n",
       "          (dropout): Dropout(p=0.1, inplace=False)\n",
       "        )\n",
       "        (encoder): RobertaEncoder(\n",
       "          (layer): ModuleList(\n",
       "            (0-23): 24 x RobertaLayer(\n",
       "              (attention): RobertaAttention(\n",
       "                (self): RobertaSdpaSelfAttention(\n",
       "                  (query): lora.Linear(\n",
       "                    (base_layer): Linear(in_features=1024, out_features=1024, bias=True)\n",
       "                    (lora_dropout): ModuleDict(\n",
       "                      (default): Dropout(p=0.1, inplace=False)\n",
       "                    )\n",
       "                    (lora_A): ModuleDict(\n",
       "                      (default): Linear(in_features=1024, out_features=8, bias=False)\n",
       "                    )\n",
       "                    (lora_B): ModuleDict(\n",
       "                      (default): Linear(in_features=8, out_features=1024, bias=False)\n",
       "                    )\n",
       "                    (lora_embedding_A): ParameterDict()\n",
       "                    (lora_embedding_B): ParameterDict()\n",
       "                    (lora_magnitude_vector): ModuleDict()\n",
       "                  )\n",
       "                  (key): Linear(in_features=1024, out_features=1024, bias=True)\n",
       "                  (value): lora.Linear(\n",
       "                    (base_layer): Linear(in_features=1024, out_features=1024, bias=True)\n",
       "                    (lora_dropout): ModuleDict(\n",
       "                      (default): Dropout(p=0.1, inplace=False)\n",
       "                    )\n",
       "                    (lora_A): ModuleDict(\n",
       "                      (default): Linear(in_features=1024, out_features=8, bias=False)\n",
       "                    )\n",
       "                    (lora_B): ModuleDict(\n",
       "                      (default): Linear(in_features=8, out_features=1024, bias=False)\n",
       "                    )\n",
       "                    (lora_embedding_A): ParameterDict()\n",
       "                    (lora_embedding_B): ParameterDict()\n",
       "                    (lora_magnitude_vector): ModuleDict()\n",
       "                  )\n",
       "                  (dropout): Dropout(p=0.1, inplace=False)\n",
       "                )\n",
       "                (output): RobertaSelfOutput(\n",
       "                  (dense): Linear(in_features=1024, out_features=1024, bias=True)\n",
       "                  (LayerNorm): LayerNorm((1024,), eps=1e-05, elementwise_affine=True)\n",
       "                  (dropout): Dropout(p=0.1, inplace=False)\n",
       "                )\n",
       "              )\n",
       "              (intermediate): RobertaIntermediate(\n",
       "                (dense): Linear(in_features=1024, out_features=4096, bias=True)\n",
       "                (intermediate_act_fn): GELUActivation()\n",
       "              )\n",
       "              (output): RobertaOutput(\n",
       "                (dense): Linear(in_features=4096, out_features=1024, bias=True)\n",
       "                (LayerNorm): LayerNorm((1024,), eps=1e-05, elementwise_affine=True)\n",
       "                (dropout): Dropout(p=0.1, inplace=False)\n",
       "              )\n",
       "            )\n",
       "          )\n",
       "        )\n",
       "      )\n",
       "      (classifier): ModulesToSaveWrapper(\n",
       "        (original_module): RobertaClassificationHead(\n",
       "          (dense): Linear(in_features=1024, out_features=1024, bias=True)\n",
       "          (dropout): Dropout(p=0.1, inplace=False)\n",
       "          (out_proj): Linear(in_features=1024, out_features=2, bias=True)\n",
       "        )\n",
       "        (modules_to_save): ModuleDict(\n",
       "          (default): RobertaClassificationHead(\n",
       "            (dense): Linear(in_features=1024, out_features=1024, bias=True)\n",
       "            (dropout): Dropout(p=0.1, inplace=False)\n",
       "            (out_proj): Linear(in_features=1024, out_features=2, bias=True)\n",
       "          )\n",
       "        )\n",
       "      )\n",
       "    )\n",
       "  )\n",
       ")"
      ]
     },
     "execution_count": 62,
     "metadata": {},
     "output_type": "execute_result"
    }
   ],
   "source": [
    "model = AutoModelForSequenceClassification.from_pretrained(model_name_or_path, return_dict=True, num_labels=2)\n",
    "model = get_peft_model(model, peft_config)\n",
    "model.print_trainable_parameters()\n",
    "model"
   ]
  },
  {
   "cell_type": "code",
   "execution_count": 63,
   "id": "de193355aaf2cca7",
   "metadata": {
    "ExecuteTime": {
     "end_time": "2025-01-13T06:55:31.993798Z",
     "start_time": "2025-01-13T06:55:31.990842Z"
    }
   },
   "outputs": [],
   "source": [
    "# lambda_orth = 0.02\n",
    "lambda_orth = 0.5\n",
    "# lr_b = lambda_lr * lr_a\n",
    "lambda_lr = 2.0\n",
    "# 每隔 ？ step 计算一次正交性损失\n",
    "orth_interval = 5  "
   ]
  },
  {
   "cell_type": "code",
   "execution_count": 64,
   "id": "61f09f5f0cc70873",
   "metadata": {
    "ExecuteTime": {
     "end_time": "2025-01-13T06:55:32.083726Z",
     "start_time": "2025-01-13T06:55:32.078362Z"
    }
   },
   "outputs": [],
   "source": [
    "# 获取LoRA参数\n",
    "lora_params = {n: p for n, p in model.named_parameters() if 'lora' in n}\n",
    "# 分组LoRA参数\n",
    "param_groups = [\n",
    "    {\"params\": [p for n, p in lora_params.items() if 'lora_A' in n], \"lr\": lr},  # A矩阵的学习率\n",
    "    {\"params\": [p for n, p in lora_params.items() if 'lora_B' in n], \"lr\": lambda_lr * lr},  # B矩阵的学习率\n",
    "]\n",
    "\n",
    "beta1 = 0.9\n",
    "beta2 = 0.99\n",
    "\n",
    "optimizer = AdamW(param_groups, betas=(beta1, beta2))\n",
    "\n",
    "#optimizer = AdamW(params=model.parameters(), lr=lr)\n",
    "\n",
    "# Instantiate scheduler\n",
    "lr_scheduler = get_linear_schedule_with_warmup(\n",
    "    optimizer=optimizer,\n",
    "    num_warmup_steps=0.06 * (len(train_dataloader) * chain_epoch),\n",
    "    num_training_steps=(len(train_dataloader) * chain_epoch),\n",
    ")"
   ]
  },
  {
   "cell_type": "code",
   "execution_count": 65,
   "id": "ee5d8e28d131c2ee",
   "metadata": {
    "ExecuteTime": {
     "end_time": "2025-01-13T06:55:32.156574Z",
     "start_time": "2025-01-13T06:55:32.152640Z"
    }
   },
   "outputs": [],
   "source": [
    "saved_lora_a_matrices = []  # 用于保存之前训练的 LoRA 模块的 A 矩阵\n",
    "saved_lora_b_matrices = []  # 用于保存之前训练的 LoRA 模块的 B 矩阵\n",
    "\n",
    "def extract_lora_a_matrices(model):\n",
    "    \"\"\"提取 LoRA 的 A 矩阵\"\"\"\n",
    "    lora_matrices = []\n",
    "    for name, param in model.named_parameters():\n",
    "        if \"lora_A\" in name:  # 识别 LoRA 的 A 矩阵\n",
    "            lora_matrices.append(param.detach().clone())  # 保存当前 A 矩阵\n",
    "    return lora_matrices\n",
    "\n",
    "def extract_lora_b_matrices(model):\n",
    "    \"\"\"提取 LoRA 的 B 矩阵\"\"\"\n",
    "    lora_matrices = []\n",
    "    for name, param in model.named_parameters():\n",
    "        if \"lora_B\" in name:  # 识别 LoRA 的 B 矩阵\n",
    "            lora_matrices.append(param.detach().clone())  # 保存当前 B 矩阵\n",
    "    return lora_matrices"
   ]
  },
  {
   "cell_type": "code",
   "execution_count": 66,
   "id": "b4f2c6351f68a6d5",
   "metadata": {
    "ExecuteTime": {
     "end_time": "2025-01-13T06:55:32.208490Z",
     "start_time": "2025-01-13T06:55:32.204532Z"
    }
   },
   "outputs": [],
   "source": [
    "def orthogonality_loss(current_matrices, saved_matrices):\n",
    "    \"\"\"计算当前 LoRA 和之前所有 LoRA 的正交性损失\"\"\"\n",
    "    loss = 0\n",
    "    for B_t in current_matrices:\n",
    "        for B_i in saved_matrices:\n",
    "            # 计算 B_t 和 B_i 的正交性\n",
    "            product = torch.matmul(B_t.T, B_i)  # 矩阵乘积\n",
    "            loss += torch.norm(product, p=\"fro\") # Frobenius 范数\n",
    "    return loss\n"
   ]
  },
  {
   "cell_type": "code",
   "execution_count": 67,
   "id": "4bb7de65de11d752",
   "metadata": {
    "ExecuteTime": {
     "end_time": "2025-01-13T06:55:32.268525Z",
     "start_time": "2025-01-13T06:55:32.265053Z"
    }
   },
   "outputs": [],
   "source": [
    "import re\n",
    "\n",
    "def apply_shared_lora_a_matrices(model, saved_lora_a_matrices):\n",
    "    \"\"\"\n",
    "    将保存的 LoRA A 矩阵应用到当前模型中，并冻结这些参数。\n",
    "    \"\"\"\n",
    "    lora_idx = 0\n",
    "    for name, param in model.named_parameters():\n",
    "        if 'lora_A' in name:  #  A 矩阵的名称包含 'lora_A'\n",
    "            # 提取层和注意力头的信息，例如 \"encoder.layer.0.attention.self.query.lora_A\"\n",
    "            layer_match = re.match(r'.*encoder.layer.(\\d+)\\.attention.self\\.(query|value)\\.lora_A', name)\n",
    "            if layer_match:\n",
    "                layer_num = int(layer_match.group(1))\n",
    "                if layer_num < len(saved_lora_a_matrices) // 2:\n",
    "                    shared_a = saved_lora_a_matrices[lora_idx]\n",
    "                    param.data = shared_a.data.clone() \n",
    "                    param.requires_grad = False\n",
    "                    print(f\"Applied shared LoRA A matrix for {name}\")\n",
    "                    \n",
    "                    lora_idx += 1\n",
    "                    "
   ]
  },
  {
   "cell_type": "code",
   "execution_count": 68,
   "id": "3787c1b428346dbb",
   "metadata": {
    "ExecuteTime": {
     "end_time": "2025-01-13T06:55:32.334286Z",
     "start_time": "2025-01-13T06:55:32.331145Z"
    }
   },
   "outputs": [
    {
     "name": "stdout",
     "output_type": "stream",
     "text": [
      "10086\n"
     ]
    }
   ],
   "source": [
    "print(torch.initial_seed())"
   ]
  },
  {
   "cell_type": "code",
   "execution_count": 69,
   "id": "485b1877b57849fc",
   "metadata": {
    "ExecuteTime": {
     "end_time": "2025-01-13T07:19:10.839238Z",
     "start_time": "2025-01-13T06:55:32.403757Z"
    }
   },
   "outputs": [
    {
     "name": "stderr",
     "output_type": "stream",
     "text": [
      "  0%|          | 0/2105 [00:00<?, ?it/s]You're using a RobertaTokenizerFast tokenizer. Please note that with a fast tokenizer, using the `__call__` method is faster than using a method to encode the text followed by a call to the `pad` method to get a padded encoding.\n",
      "100%|██████████| 2105/2105 [01:56<00:00, 18.03it/s]\n",
      "100%|██████████| 28/28 [00:00<00:00, 30.23it/s]\n"
     ]
    },
    {
     "name": "stdout",
     "output_type": "stream",
     "text": [
      "epoch 0: {'accuracy': 0.9598623853211009}\n"
     ]
    },
    {
     "name": "stderr",
     "output_type": "stream",
     "text": [
      "100%|██████████| 2105/2105 [01:57<00:00, 17.94it/s]\n",
      "100%|██████████| 28/28 [00:00<00:00, 29.90it/s]\n"
     ]
    },
    {
     "name": "stdout",
     "output_type": "stream",
     "text": [
      "epoch 1: {'accuracy': 0.9587155963302753}\n"
     ]
    },
    {
     "name": "stderr",
     "output_type": "stream",
     "text": [
      "100%|██████████| 2105/2105 [01:57<00:00, 17.96it/s]\n",
      "100%|██████████| 28/28 [00:00<00:00, 29.51it/s]\n"
     ]
    },
    {
     "name": "stdout",
     "output_type": "stream",
     "text": [
      "epoch 2: {'accuracy': 0.9587155963302753}\n",
      "Saved LoRA A matrices at epoch 3\n",
      "Applied shared LoRA A matrix for base_model.model.base_model.model.roberta.encoder.layer.0.attention.self.query.lora_A.default.weight\n",
      "Applied shared LoRA A matrix for base_model.model.base_model.model.roberta.encoder.layer.0.attention.self.value.lora_A.default.weight\n",
      "Applied shared LoRA A matrix for base_model.model.base_model.model.roberta.encoder.layer.1.attention.self.query.lora_A.default.weight\n",
      "Applied shared LoRA A matrix for base_model.model.base_model.model.roberta.encoder.layer.1.attention.self.value.lora_A.default.weight\n",
      "Applied shared LoRA A matrix for base_model.model.base_model.model.roberta.encoder.layer.2.attention.self.query.lora_A.default.weight\n",
      "Applied shared LoRA A matrix for base_model.model.base_model.model.roberta.encoder.layer.2.attention.self.value.lora_A.default.weight\n",
      "Applied shared LoRA A matrix for base_model.model.base_model.model.roberta.encoder.layer.3.attention.self.query.lora_A.default.weight\n",
      "Applied shared LoRA A matrix for base_model.model.base_model.model.roberta.encoder.layer.3.attention.self.value.lora_A.default.weight\n",
      "Applied shared LoRA A matrix for base_model.model.base_model.model.roberta.encoder.layer.4.attention.self.query.lora_A.default.weight\n",
      "Applied shared LoRA A matrix for base_model.model.base_model.model.roberta.encoder.layer.4.attention.self.value.lora_A.default.weight\n",
      "Applied shared LoRA A matrix for base_model.model.base_model.model.roberta.encoder.layer.5.attention.self.query.lora_A.default.weight\n",
      "Applied shared LoRA A matrix for base_model.model.base_model.model.roberta.encoder.layer.5.attention.self.value.lora_A.default.weight\n",
      "Applied shared LoRA A matrix for base_model.model.base_model.model.roberta.encoder.layer.6.attention.self.query.lora_A.default.weight\n",
      "Applied shared LoRA A matrix for base_model.model.base_model.model.roberta.encoder.layer.6.attention.self.value.lora_A.default.weight\n",
      "Applied shared LoRA A matrix for base_model.model.base_model.model.roberta.encoder.layer.7.attention.self.query.lora_A.default.weight\n",
      "Applied shared LoRA A matrix for base_model.model.base_model.model.roberta.encoder.layer.7.attention.self.value.lora_A.default.weight\n",
      "Applied shared LoRA A matrix for base_model.model.base_model.model.roberta.encoder.layer.8.attention.self.query.lora_A.default.weight\n",
      "Applied shared LoRA A matrix for base_model.model.base_model.model.roberta.encoder.layer.8.attention.self.value.lora_A.default.weight\n",
      "Applied shared LoRA A matrix for base_model.model.base_model.model.roberta.encoder.layer.9.attention.self.query.lora_A.default.weight\n",
      "Applied shared LoRA A matrix for base_model.model.base_model.model.roberta.encoder.layer.9.attention.self.value.lora_A.default.weight\n",
      "Applied shared LoRA A matrix for base_model.model.base_model.model.roberta.encoder.layer.10.attention.self.query.lora_A.default.weight\n",
      "Applied shared LoRA A matrix for base_model.model.base_model.model.roberta.encoder.layer.10.attention.self.value.lora_A.default.weight\n",
      "Applied shared LoRA A matrix for base_model.model.base_model.model.roberta.encoder.layer.11.attention.self.query.lora_A.default.weight\n",
      "Applied shared LoRA A matrix for base_model.model.base_model.model.roberta.encoder.layer.11.attention.self.value.lora_A.default.weight\n",
      "Applied shared LoRA A matrix for base_model.model.base_model.model.roberta.encoder.layer.12.attention.self.query.lora_A.default.weight\n",
      "Applied shared LoRA A matrix for base_model.model.base_model.model.roberta.encoder.layer.12.attention.self.value.lora_A.default.weight\n",
      "Applied shared LoRA A matrix for base_model.model.base_model.model.roberta.encoder.layer.13.attention.self.query.lora_A.default.weight\n",
      "Applied shared LoRA A matrix for base_model.model.base_model.model.roberta.encoder.layer.13.attention.self.value.lora_A.default.weight\n",
      "Applied shared LoRA A matrix for base_model.model.base_model.model.roberta.encoder.layer.14.attention.self.query.lora_A.default.weight\n",
      "Applied shared LoRA A matrix for base_model.model.base_model.model.roberta.encoder.layer.14.attention.self.value.lora_A.default.weight\n",
      "Applied shared LoRA A matrix for base_model.model.base_model.model.roberta.encoder.layer.15.attention.self.query.lora_A.default.weight\n",
      "Applied shared LoRA A matrix for base_model.model.base_model.model.roberta.encoder.layer.15.attention.self.value.lora_A.default.weight\n",
      "Applied shared LoRA A matrix for base_model.model.base_model.model.roberta.encoder.layer.16.attention.self.query.lora_A.default.weight\n",
      "Applied shared LoRA A matrix for base_model.model.base_model.model.roberta.encoder.layer.16.attention.self.value.lora_A.default.weight\n",
      "Applied shared LoRA A matrix for base_model.model.base_model.model.roberta.encoder.layer.17.attention.self.query.lora_A.default.weight\n",
      "Applied shared LoRA A matrix for base_model.model.base_model.model.roberta.encoder.layer.17.attention.self.value.lora_A.default.weight\n",
      "Applied shared LoRA A matrix for base_model.model.base_model.model.roberta.encoder.layer.18.attention.self.query.lora_A.default.weight\n",
      "Applied shared LoRA A matrix for base_model.model.base_model.model.roberta.encoder.layer.18.attention.self.value.lora_A.default.weight\n",
      "Applied shared LoRA A matrix for base_model.model.base_model.model.roberta.encoder.layer.19.attention.self.query.lora_A.default.weight\n",
      "Applied shared LoRA A matrix for base_model.model.base_model.model.roberta.encoder.layer.19.attention.self.value.lora_A.default.weight\n",
      "Applied shared LoRA A matrix for base_model.model.base_model.model.roberta.encoder.layer.20.attention.self.query.lora_A.default.weight\n",
      "Applied shared LoRA A matrix for base_model.model.base_model.model.roberta.encoder.layer.20.attention.self.value.lora_A.default.weight\n",
      "Applied shared LoRA A matrix for base_model.model.base_model.model.roberta.encoder.layer.21.attention.self.query.lora_A.default.weight\n",
      "Applied shared LoRA A matrix for base_model.model.base_model.model.roberta.encoder.layer.21.attention.self.value.lora_A.default.weight\n",
      "Applied shared LoRA A matrix for base_model.model.base_model.model.roberta.encoder.layer.22.attention.self.query.lora_A.default.weight\n",
      "Applied shared LoRA A matrix for base_model.model.base_model.model.roberta.encoder.layer.22.attention.self.value.lora_A.default.weight\n",
      "Applied shared LoRA A matrix for base_model.model.base_model.model.roberta.encoder.layer.23.attention.self.query.lora_A.default.weight\n",
      "Applied shared LoRA A matrix for base_model.model.base_model.model.roberta.encoder.layer.23.attention.self.value.lora_A.default.weight\n",
      "Active parameter: base_model.model.base_model.model.roberta.encoder.layer.0.attention.self.query.lora_B.default.weight\n",
      "Active parameter: base_model.model.base_model.model.roberta.encoder.layer.0.attention.self.value.lora_B.default.weight\n",
      "Active parameter: base_model.model.base_model.model.roberta.encoder.layer.1.attention.self.query.lora_B.default.weight\n",
      "Active parameter: base_model.model.base_model.model.roberta.encoder.layer.1.attention.self.value.lora_B.default.weight\n",
      "Active parameter: base_model.model.base_model.model.roberta.encoder.layer.2.attention.self.query.lora_B.default.weight\n",
      "Active parameter: base_model.model.base_model.model.roberta.encoder.layer.2.attention.self.value.lora_B.default.weight\n",
      "Active parameter: base_model.model.base_model.model.roberta.encoder.layer.3.attention.self.query.lora_B.default.weight\n",
      "Active parameter: base_model.model.base_model.model.roberta.encoder.layer.3.attention.self.value.lora_B.default.weight\n",
      "Active parameter: base_model.model.base_model.model.roberta.encoder.layer.4.attention.self.query.lora_B.default.weight\n",
      "Active parameter: base_model.model.base_model.model.roberta.encoder.layer.4.attention.self.value.lora_B.default.weight\n",
      "Active parameter: base_model.model.base_model.model.roberta.encoder.layer.5.attention.self.query.lora_B.default.weight\n",
      "Active parameter: base_model.model.base_model.model.roberta.encoder.layer.5.attention.self.value.lora_B.default.weight\n",
      "Active parameter: base_model.model.base_model.model.roberta.encoder.layer.6.attention.self.query.lora_B.default.weight\n",
      "Active parameter: base_model.model.base_model.model.roberta.encoder.layer.6.attention.self.value.lora_B.default.weight\n",
      "Active parameter: base_model.model.base_model.model.roberta.encoder.layer.7.attention.self.query.lora_B.default.weight\n",
      "Active parameter: base_model.model.base_model.model.roberta.encoder.layer.7.attention.self.value.lora_B.default.weight\n",
      "Active parameter: base_model.model.base_model.model.roberta.encoder.layer.8.attention.self.query.lora_B.default.weight\n",
      "Active parameter: base_model.model.base_model.model.roberta.encoder.layer.8.attention.self.value.lora_B.default.weight\n",
      "Active parameter: base_model.model.base_model.model.roberta.encoder.layer.9.attention.self.query.lora_B.default.weight\n",
      "Active parameter: base_model.model.base_model.model.roberta.encoder.layer.9.attention.self.value.lora_B.default.weight\n",
      "Active parameter: base_model.model.base_model.model.roberta.encoder.layer.10.attention.self.query.lora_B.default.weight\n",
      "Active parameter: base_model.model.base_model.model.roberta.encoder.layer.10.attention.self.value.lora_B.default.weight\n",
      "Active parameter: base_model.model.base_model.model.roberta.encoder.layer.11.attention.self.query.lora_B.default.weight\n",
      "Active parameter: base_model.model.base_model.model.roberta.encoder.layer.11.attention.self.value.lora_B.default.weight\n",
      "Active parameter: base_model.model.base_model.model.roberta.encoder.layer.12.attention.self.query.lora_B.default.weight\n",
      "Active parameter: base_model.model.base_model.model.roberta.encoder.layer.12.attention.self.value.lora_B.default.weight\n",
      "Active parameter: base_model.model.base_model.model.roberta.encoder.layer.13.attention.self.query.lora_B.default.weight\n",
      "Active parameter: base_model.model.base_model.model.roberta.encoder.layer.13.attention.self.value.lora_B.default.weight\n",
      "Active parameter: base_model.model.base_model.model.roberta.encoder.layer.14.attention.self.query.lora_B.default.weight\n",
      "Active parameter: base_model.model.base_model.model.roberta.encoder.layer.14.attention.self.value.lora_B.default.weight\n",
      "Active parameter: base_model.model.base_model.model.roberta.encoder.layer.15.attention.self.query.lora_B.default.weight\n",
      "Active parameter: base_model.model.base_model.model.roberta.encoder.layer.15.attention.self.value.lora_B.default.weight\n",
      "Active parameter: base_model.model.base_model.model.roberta.encoder.layer.16.attention.self.query.lora_B.default.weight\n",
      "Active parameter: base_model.model.base_model.model.roberta.encoder.layer.16.attention.self.value.lora_B.default.weight\n",
      "Active parameter: base_model.model.base_model.model.roberta.encoder.layer.17.attention.self.query.lora_B.default.weight\n",
      "Active parameter: base_model.model.base_model.model.roberta.encoder.layer.17.attention.self.value.lora_B.default.weight\n",
      "Active parameter: base_model.model.base_model.model.roberta.encoder.layer.18.attention.self.query.lora_B.default.weight\n",
      "Active parameter: base_model.model.base_model.model.roberta.encoder.layer.18.attention.self.value.lora_B.default.weight\n",
      "Active parameter: base_model.model.base_model.model.roberta.encoder.layer.19.attention.self.query.lora_B.default.weight\n",
      "Active parameter: base_model.model.base_model.model.roberta.encoder.layer.19.attention.self.value.lora_B.default.weight\n",
      "Active parameter: base_model.model.base_model.model.roberta.encoder.layer.20.attention.self.query.lora_B.default.weight\n",
      "Active parameter: base_model.model.base_model.model.roberta.encoder.layer.20.attention.self.value.lora_B.default.weight\n",
      "Active parameter: base_model.model.base_model.model.roberta.encoder.layer.21.attention.self.query.lora_B.default.weight\n",
      "Active parameter: base_model.model.base_model.model.roberta.encoder.layer.21.attention.self.value.lora_B.default.weight\n",
      "Active parameter: base_model.model.base_model.model.roberta.encoder.layer.22.attention.self.query.lora_B.default.weight\n",
      "Active parameter: base_model.model.base_model.model.roberta.encoder.layer.22.attention.self.value.lora_B.default.weight\n",
      "Active parameter: base_model.model.base_model.model.roberta.encoder.layer.23.attention.self.query.lora_B.default.weight\n",
      "Active parameter: base_model.model.base_model.model.roberta.encoder.layer.23.attention.self.value.lora_B.default.weight\n",
      "Active parameter: base_model.model.base_model.model.classifier.modules_to_save.default.dense.weight\n",
      "Active parameter: base_model.model.base_model.model.classifier.modules_to_save.default.dense.bias\n",
      "Active parameter: base_model.model.base_model.model.classifier.modules_to_save.default.out_proj.weight\n",
      "Active parameter: base_model.model.base_model.model.classifier.modules_to_save.default.out_proj.bias\n",
      "new lora, r = 8:\n"
     ]
    },
    {
     "name": "stderr",
     "output_type": "stream",
     "text": [
      "100%|██████████| 2105/2105 [02:15<00:00, 15.49it/s]\n",
      "100%|██████████| 28/28 [00:00<00:00, 30.03it/s]\n"
     ]
    },
    {
     "name": "stdout",
     "output_type": "stream",
     "text": [
      "epoch 3: {'accuracy': 0.966743119266055}\n"
     ]
    },
    {
     "name": "stderr",
     "output_type": "stream",
     "text": [
      "100%|██████████| 2105/2105 [02:15<00:00, 15.49it/s]\n",
      "100%|██████████| 28/28 [00:00<00:00, 29.52it/s]\n"
     ]
    },
    {
     "name": "stdout",
     "output_type": "stream",
     "text": [
      "epoch 4: {'accuracy': 0.9621559633027523}\n"
     ]
    },
    {
     "name": "stderr",
     "output_type": "stream",
     "text": [
      "100%|██████████| 2105/2105 [02:16<00:00, 15.40it/s]\n",
      "100%|██████████| 28/28 [00:00<00:00, 29.74it/s]\n"
     ]
    },
    {
     "name": "stdout",
     "output_type": "stream",
     "text": [
      "epoch 5: {'accuracy': 0.9610091743119266}\n",
      "Applied shared LoRA A matrix for base_model.model.base_model.model.base_model.model.roberta.encoder.layer.0.attention.self.query.lora_A.default.weight\n",
      "Applied shared LoRA A matrix for base_model.model.base_model.model.base_model.model.roberta.encoder.layer.0.attention.self.value.lora_A.default.weight\n",
      "Applied shared LoRA A matrix for base_model.model.base_model.model.base_model.model.roberta.encoder.layer.1.attention.self.query.lora_A.default.weight\n",
      "Applied shared LoRA A matrix for base_model.model.base_model.model.base_model.model.roberta.encoder.layer.1.attention.self.value.lora_A.default.weight\n",
      "Applied shared LoRA A matrix for base_model.model.base_model.model.base_model.model.roberta.encoder.layer.2.attention.self.query.lora_A.default.weight\n",
      "Applied shared LoRA A matrix for base_model.model.base_model.model.base_model.model.roberta.encoder.layer.2.attention.self.value.lora_A.default.weight\n",
      "Applied shared LoRA A matrix for base_model.model.base_model.model.base_model.model.roberta.encoder.layer.3.attention.self.query.lora_A.default.weight\n",
      "Applied shared LoRA A matrix for base_model.model.base_model.model.base_model.model.roberta.encoder.layer.3.attention.self.value.lora_A.default.weight\n",
      "Applied shared LoRA A matrix for base_model.model.base_model.model.base_model.model.roberta.encoder.layer.4.attention.self.query.lora_A.default.weight\n",
      "Applied shared LoRA A matrix for base_model.model.base_model.model.base_model.model.roberta.encoder.layer.4.attention.self.value.lora_A.default.weight\n",
      "Applied shared LoRA A matrix for base_model.model.base_model.model.base_model.model.roberta.encoder.layer.5.attention.self.query.lora_A.default.weight\n",
      "Applied shared LoRA A matrix for base_model.model.base_model.model.base_model.model.roberta.encoder.layer.5.attention.self.value.lora_A.default.weight\n",
      "Applied shared LoRA A matrix for base_model.model.base_model.model.base_model.model.roberta.encoder.layer.6.attention.self.query.lora_A.default.weight\n",
      "Applied shared LoRA A matrix for base_model.model.base_model.model.base_model.model.roberta.encoder.layer.6.attention.self.value.lora_A.default.weight\n",
      "Applied shared LoRA A matrix for base_model.model.base_model.model.base_model.model.roberta.encoder.layer.7.attention.self.query.lora_A.default.weight\n",
      "Applied shared LoRA A matrix for base_model.model.base_model.model.base_model.model.roberta.encoder.layer.7.attention.self.value.lora_A.default.weight\n",
      "Applied shared LoRA A matrix for base_model.model.base_model.model.base_model.model.roberta.encoder.layer.8.attention.self.query.lora_A.default.weight\n",
      "Applied shared LoRA A matrix for base_model.model.base_model.model.base_model.model.roberta.encoder.layer.8.attention.self.value.lora_A.default.weight\n",
      "Applied shared LoRA A matrix for base_model.model.base_model.model.base_model.model.roberta.encoder.layer.9.attention.self.query.lora_A.default.weight\n",
      "Applied shared LoRA A matrix for base_model.model.base_model.model.base_model.model.roberta.encoder.layer.9.attention.self.value.lora_A.default.weight\n",
      "Applied shared LoRA A matrix for base_model.model.base_model.model.base_model.model.roberta.encoder.layer.10.attention.self.query.lora_A.default.weight\n",
      "Applied shared LoRA A matrix for base_model.model.base_model.model.base_model.model.roberta.encoder.layer.10.attention.self.value.lora_A.default.weight\n",
      "Applied shared LoRA A matrix for base_model.model.base_model.model.base_model.model.roberta.encoder.layer.11.attention.self.query.lora_A.default.weight\n",
      "Applied shared LoRA A matrix for base_model.model.base_model.model.base_model.model.roberta.encoder.layer.11.attention.self.value.lora_A.default.weight\n",
      "Applied shared LoRA A matrix for base_model.model.base_model.model.base_model.model.roberta.encoder.layer.12.attention.self.query.lora_A.default.weight\n",
      "Applied shared LoRA A matrix for base_model.model.base_model.model.base_model.model.roberta.encoder.layer.12.attention.self.value.lora_A.default.weight\n",
      "Applied shared LoRA A matrix for base_model.model.base_model.model.base_model.model.roberta.encoder.layer.13.attention.self.query.lora_A.default.weight\n",
      "Applied shared LoRA A matrix for base_model.model.base_model.model.base_model.model.roberta.encoder.layer.13.attention.self.value.lora_A.default.weight\n",
      "Applied shared LoRA A matrix for base_model.model.base_model.model.base_model.model.roberta.encoder.layer.14.attention.self.query.lora_A.default.weight\n",
      "Applied shared LoRA A matrix for base_model.model.base_model.model.base_model.model.roberta.encoder.layer.14.attention.self.value.lora_A.default.weight\n",
      "Applied shared LoRA A matrix for base_model.model.base_model.model.base_model.model.roberta.encoder.layer.15.attention.self.query.lora_A.default.weight\n",
      "Applied shared LoRA A matrix for base_model.model.base_model.model.base_model.model.roberta.encoder.layer.15.attention.self.value.lora_A.default.weight\n",
      "Applied shared LoRA A matrix for base_model.model.base_model.model.base_model.model.roberta.encoder.layer.16.attention.self.query.lora_A.default.weight\n",
      "Applied shared LoRA A matrix for base_model.model.base_model.model.base_model.model.roberta.encoder.layer.16.attention.self.value.lora_A.default.weight\n",
      "Applied shared LoRA A matrix for base_model.model.base_model.model.base_model.model.roberta.encoder.layer.17.attention.self.query.lora_A.default.weight\n",
      "Applied shared LoRA A matrix for base_model.model.base_model.model.base_model.model.roberta.encoder.layer.17.attention.self.value.lora_A.default.weight\n",
      "Applied shared LoRA A matrix for base_model.model.base_model.model.base_model.model.roberta.encoder.layer.18.attention.self.query.lora_A.default.weight\n",
      "Applied shared LoRA A matrix for base_model.model.base_model.model.base_model.model.roberta.encoder.layer.18.attention.self.value.lora_A.default.weight\n",
      "Applied shared LoRA A matrix for base_model.model.base_model.model.base_model.model.roberta.encoder.layer.19.attention.self.query.lora_A.default.weight\n",
      "Applied shared LoRA A matrix for base_model.model.base_model.model.base_model.model.roberta.encoder.layer.19.attention.self.value.lora_A.default.weight\n",
      "Applied shared LoRA A matrix for base_model.model.base_model.model.base_model.model.roberta.encoder.layer.20.attention.self.query.lora_A.default.weight\n",
      "Applied shared LoRA A matrix for base_model.model.base_model.model.base_model.model.roberta.encoder.layer.20.attention.self.value.lora_A.default.weight\n",
      "Applied shared LoRA A matrix for base_model.model.base_model.model.base_model.model.roberta.encoder.layer.21.attention.self.query.lora_A.default.weight\n",
      "Applied shared LoRA A matrix for base_model.model.base_model.model.base_model.model.roberta.encoder.layer.21.attention.self.value.lora_A.default.weight\n",
      "Applied shared LoRA A matrix for base_model.model.base_model.model.base_model.model.roberta.encoder.layer.22.attention.self.query.lora_A.default.weight\n",
      "Applied shared LoRA A matrix for base_model.model.base_model.model.base_model.model.roberta.encoder.layer.22.attention.self.value.lora_A.default.weight\n",
      "Applied shared LoRA A matrix for base_model.model.base_model.model.base_model.model.roberta.encoder.layer.23.attention.self.query.lora_A.default.weight\n",
      "Applied shared LoRA A matrix for base_model.model.base_model.model.base_model.model.roberta.encoder.layer.23.attention.self.value.lora_A.default.weight\n",
      "Active parameter: base_model.model.base_model.model.base_model.model.roberta.encoder.layer.0.attention.self.query.lora_B.default.weight\n",
      "Active parameter: base_model.model.base_model.model.base_model.model.roberta.encoder.layer.0.attention.self.value.lora_B.default.weight\n",
      "Active parameter: base_model.model.base_model.model.base_model.model.roberta.encoder.layer.1.attention.self.query.lora_B.default.weight\n",
      "Active parameter: base_model.model.base_model.model.base_model.model.roberta.encoder.layer.1.attention.self.value.lora_B.default.weight\n",
      "Active parameter: base_model.model.base_model.model.base_model.model.roberta.encoder.layer.2.attention.self.query.lora_B.default.weight\n",
      "Active parameter: base_model.model.base_model.model.base_model.model.roberta.encoder.layer.2.attention.self.value.lora_B.default.weight\n",
      "Active parameter: base_model.model.base_model.model.base_model.model.roberta.encoder.layer.3.attention.self.query.lora_B.default.weight\n",
      "Active parameter: base_model.model.base_model.model.base_model.model.roberta.encoder.layer.3.attention.self.value.lora_B.default.weight\n",
      "Active parameter: base_model.model.base_model.model.base_model.model.roberta.encoder.layer.4.attention.self.query.lora_B.default.weight\n",
      "Active parameter: base_model.model.base_model.model.base_model.model.roberta.encoder.layer.4.attention.self.value.lora_B.default.weight\n",
      "Active parameter: base_model.model.base_model.model.base_model.model.roberta.encoder.layer.5.attention.self.query.lora_B.default.weight\n",
      "Active parameter: base_model.model.base_model.model.base_model.model.roberta.encoder.layer.5.attention.self.value.lora_B.default.weight\n",
      "Active parameter: base_model.model.base_model.model.base_model.model.roberta.encoder.layer.6.attention.self.query.lora_B.default.weight\n",
      "Active parameter: base_model.model.base_model.model.base_model.model.roberta.encoder.layer.6.attention.self.value.lora_B.default.weight\n",
      "Active parameter: base_model.model.base_model.model.base_model.model.roberta.encoder.layer.7.attention.self.query.lora_B.default.weight\n",
      "Active parameter: base_model.model.base_model.model.base_model.model.roberta.encoder.layer.7.attention.self.value.lora_B.default.weight\n",
      "Active parameter: base_model.model.base_model.model.base_model.model.roberta.encoder.layer.8.attention.self.query.lora_B.default.weight\n",
      "Active parameter: base_model.model.base_model.model.base_model.model.roberta.encoder.layer.8.attention.self.value.lora_B.default.weight\n",
      "Active parameter: base_model.model.base_model.model.base_model.model.roberta.encoder.layer.9.attention.self.query.lora_B.default.weight\n",
      "Active parameter: base_model.model.base_model.model.base_model.model.roberta.encoder.layer.9.attention.self.value.lora_B.default.weight\n",
      "Active parameter: base_model.model.base_model.model.base_model.model.roberta.encoder.layer.10.attention.self.query.lora_B.default.weight\n",
      "Active parameter: base_model.model.base_model.model.base_model.model.roberta.encoder.layer.10.attention.self.value.lora_B.default.weight\n",
      "Active parameter: base_model.model.base_model.model.base_model.model.roberta.encoder.layer.11.attention.self.query.lora_B.default.weight\n",
      "Active parameter: base_model.model.base_model.model.base_model.model.roberta.encoder.layer.11.attention.self.value.lora_B.default.weight\n",
      "Active parameter: base_model.model.base_model.model.base_model.model.roberta.encoder.layer.12.attention.self.query.lora_B.default.weight\n",
      "Active parameter: base_model.model.base_model.model.base_model.model.roberta.encoder.layer.12.attention.self.value.lora_B.default.weight\n",
      "Active parameter: base_model.model.base_model.model.base_model.model.roberta.encoder.layer.13.attention.self.query.lora_B.default.weight\n",
      "Active parameter: base_model.model.base_model.model.base_model.model.roberta.encoder.layer.13.attention.self.value.lora_B.default.weight\n",
      "Active parameter: base_model.model.base_model.model.base_model.model.roberta.encoder.layer.14.attention.self.query.lora_B.default.weight\n",
      "Active parameter: base_model.model.base_model.model.base_model.model.roberta.encoder.layer.14.attention.self.value.lora_B.default.weight\n",
      "Active parameter: base_model.model.base_model.model.base_model.model.roberta.encoder.layer.15.attention.self.query.lora_B.default.weight\n",
      "Active parameter: base_model.model.base_model.model.base_model.model.roberta.encoder.layer.15.attention.self.value.lora_B.default.weight\n",
      "Active parameter: base_model.model.base_model.model.base_model.model.roberta.encoder.layer.16.attention.self.query.lora_B.default.weight\n",
      "Active parameter: base_model.model.base_model.model.base_model.model.roberta.encoder.layer.16.attention.self.value.lora_B.default.weight\n",
      "Active parameter: base_model.model.base_model.model.base_model.model.roberta.encoder.layer.17.attention.self.query.lora_B.default.weight\n",
      "Active parameter: base_model.model.base_model.model.base_model.model.roberta.encoder.layer.17.attention.self.value.lora_B.default.weight\n",
      "Active parameter: base_model.model.base_model.model.base_model.model.roberta.encoder.layer.18.attention.self.query.lora_B.default.weight\n",
      "Active parameter: base_model.model.base_model.model.base_model.model.roberta.encoder.layer.18.attention.self.value.lora_B.default.weight\n",
      "Active parameter: base_model.model.base_model.model.base_model.model.roberta.encoder.layer.19.attention.self.query.lora_B.default.weight\n",
      "Active parameter: base_model.model.base_model.model.base_model.model.roberta.encoder.layer.19.attention.self.value.lora_B.default.weight\n",
      "Active parameter: base_model.model.base_model.model.base_model.model.roberta.encoder.layer.20.attention.self.query.lora_B.default.weight\n",
      "Active parameter: base_model.model.base_model.model.base_model.model.roberta.encoder.layer.20.attention.self.value.lora_B.default.weight\n",
      "Active parameter: base_model.model.base_model.model.base_model.model.roberta.encoder.layer.21.attention.self.query.lora_B.default.weight\n",
      "Active parameter: base_model.model.base_model.model.base_model.model.roberta.encoder.layer.21.attention.self.value.lora_B.default.weight\n",
      "Active parameter: base_model.model.base_model.model.base_model.model.roberta.encoder.layer.22.attention.self.query.lora_B.default.weight\n",
      "Active parameter: base_model.model.base_model.model.base_model.model.roberta.encoder.layer.22.attention.self.value.lora_B.default.weight\n",
      "Active parameter: base_model.model.base_model.model.base_model.model.roberta.encoder.layer.23.attention.self.query.lora_B.default.weight\n",
      "Active parameter: base_model.model.base_model.model.base_model.model.roberta.encoder.layer.23.attention.self.value.lora_B.default.weight\n",
      "Active parameter: base_model.model.base_model.model.base_model.model.classifier.modules_to_save.default.dense.weight\n",
      "Active parameter: base_model.model.base_model.model.base_model.model.classifier.modules_to_save.default.dense.bias\n",
      "Active parameter: base_model.model.base_model.model.base_model.model.classifier.modules_to_save.default.out_proj.weight\n",
      "Active parameter: base_model.model.base_model.model.base_model.model.classifier.modules_to_save.default.out_proj.bias\n",
      "new lora, r = 8:\n"
     ]
    },
    {
     "name": "stderr",
     "output_type": "stream",
     "text": [
      "100%|██████████| 2105/2105 [02:36<00:00, 13.41it/s]\n",
      "100%|██████████| 28/28 [00:00<00:00, 29.27it/s]\n"
     ]
    },
    {
     "name": "stdout",
     "output_type": "stream",
     "text": [
      "epoch 6: {'accuracy': 0.9598623853211009}\n"
     ]
    },
    {
     "name": "stderr",
     "output_type": "stream",
     "text": [
      "100%|██████████| 2105/2105 [02:38<00:00, 13.29it/s]\n",
      "100%|██████████| 28/28 [00:00<00:00, 29.86it/s]\n"
     ]
    },
    {
     "name": "stdout",
     "output_type": "stream",
     "text": [
      "epoch 7: {'accuracy': 0.9552752293577982}\n"
     ]
    },
    {
     "name": "stderr",
     "output_type": "stream",
     "text": [
      "100%|██████████| 2105/2105 [02:36<00:00, 13.41it/s]\n",
      "100%|██████████| 28/28 [00:00<00:00, 29.67it/s]\n"
     ]
    },
    {
     "name": "stdout",
     "output_type": "stream",
     "text": [
      "epoch 8: {'accuracy': 0.9598623853211009}\n",
      "Applied shared LoRA A matrix for base_model.model.base_model.model.base_model.model.base_model.model.roberta.encoder.layer.0.attention.self.query.lora_A.default.weight\n",
      "Applied shared LoRA A matrix for base_model.model.base_model.model.base_model.model.base_model.model.roberta.encoder.layer.0.attention.self.value.lora_A.default.weight\n",
      "Applied shared LoRA A matrix for base_model.model.base_model.model.base_model.model.base_model.model.roberta.encoder.layer.1.attention.self.query.lora_A.default.weight\n",
      "Applied shared LoRA A matrix for base_model.model.base_model.model.base_model.model.base_model.model.roberta.encoder.layer.1.attention.self.value.lora_A.default.weight\n",
      "Applied shared LoRA A matrix for base_model.model.base_model.model.base_model.model.base_model.model.roberta.encoder.layer.2.attention.self.query.lora_A.default.weight\n",
      "Applied shared LoRA A matrix for base_model.model.base_model.model.base_model.model.base_model.model.roberta.encoder.layer.2.attention.self.value.lora_A.default.weight\n",
      "Applied shared LoRA A matrix for base_model.model.base_model.model.base_model.model.base_model.model.roberta.encoder.layer.3.attention.self.query.lora_A.default.weight\n",
      "Applied shared LoRA A matrix for base_model.model.base_model.model.base_model.model.base_model.model.roberta.encoder.layer.3.attention.self.value.lora_A.default.weight\n",
      "Applied shared LoRA A matrix for base_model.model.base_model.model.base_model.model.base_model.model.roberta.encoder.layer.4.attention.self.query.lora_A.default.weight\n",
      "Applied shared LoRA A matrix for base_model.model.base_model.model.base_model.model.base_model.model.roberta.encoder.layer.4.attention.self.value.lora_A.default.weight\n",
      "Applied shared LoRA A matrix for base_model.model.base_model.model.base_model.model.base_model.model.roberta.encoder.layer.5.attention.self.query.lora_A.default.weight\n",
      "Applied shared LoRA A matrix for base_model.model.base_model.model.base_model.model.base_model.model.roberta.encoder.layer.5.attention.self.value.lora_A.default.weight\n",
      "Applied shared LoRA A matrix for base_model.model.base_model.model.base_model.model.base_model.model.roberta.encoder.layer.6.attention.self.query.lora_A.default.weight\n",
      "Applied shared LoRA A matrix for base_model.model.base_model.model.base_model.model.base_model.model.roberta.encoder.layer.6.attention.self.value.lora_A.default.weight\n",
      "Applied shared LoRA A matrix for base_model.model.base_model.model.base_model.model.base_model.model.roberta.encoder.layer.7.attention.self.query.lora_A.default.weight\n",
      "Applied shared LoRA A matrix for base_model.model.base_model.model.base_model.model.base_model.model.roberta.encoder.layer.7.attention.self.value.lora_A.default.weight\n",
      "Applied shared LoRA A matrix for base_model.model.base_model.model.base_model.model.base_model.model.roberta.encoder.layer.8.attention.self.query.lora_A.default.weight\n",
      "Applied shared LoRA A matrix for base_model.model.base_model.model.base_model.model.base_model.model.roberta.encoder.layer.8.attention.self.value.lora_A.default.weight\n",
      "Applied shared LoRA A matrix for base_model.model.base_model.model.base_model.model.base_model.model.roberta.encoder.layer.9.attention.self.query.lora_A.default.weight\n",
      "Applied shared LoRA A matrix for base_model.model.base_model.model.base_model.model.base_model.model.roberta.encoder.layer.9.attention.self.value.lora_A.default.weight\n",
      "Applied shared LoRA A matrix for base_model.model.base_model.model.base_model.model.base_model.model.roberta.encoder.layer.10.attention.self.query.lora_A.default.weight\n",
      "Applied shared LoRA A matrix for base_model.model.base_model.model.base_model.model.base_model.model.roberta.encoder.layer.10.attention.self.value.lora_A.default.weight\n",
      "Applied shared LoRA A matrix for base_model.model.base_model.model.base_model.model.base_model.model.roberta.encoder.layer.11.attention.self.query.lora_A.default.weight\n",
      "Applied shared LoRA A matrix for base_model.model.base_model.model.base_model.model.base_model.model.roberta.encoder.layer.11.attention.self.value.lora_A.default.weight\n",
      "Applied shared LoRA A matrix for base_model.model.base_model.model.base_model.model.base_model.model.roberta.encoder.layer.12.attention.self.query.lora_A.default.weight\n",
      "Applied shared LoRA A matrix for base_model.model.base_model.model.base_model.model.base_model.model.roberta.encoder.layer.12.attention.self.value.lora_A.default.weight\n",
      "Applied shared LoRA A matrix for base_model.model.base_model.model.base_model.model.base_model.model.roberta.encoder.layer.13.attention.self.query.lora_A.default.weight\n",
      "Applied shared LoRA A matrix for base_model.model.base_model.model.base_model.model.base_model.model.roberta.encoder.layer.13.attention.self.value.lora_A.default.weight\n",
      "Applied shared LoRA A matrix for base_model.model.base_model.model.base_model.model.base_model.model.roberta.encoder.layer.14.attention.self.query.lora_A.default.weight\n",
      "Applied shared LoRA A matrix for base_model.model.base_model.model.base_model.model.base_model.model.roberta.encoder.layer.14.attention.self.value.lora_A.default.weight\n",
      "Applied shared LoRA A matrix for base_model.model.base_model.model.base_model.model.base_model.model.roberta.encoder.layer.15.attention.self.query.lora_A.default.weight\n",
      "Applied shared LoRA A matrix for base_model.model.base_model.model.base_model.model.base_model.model.roberta.encoder.layer.15.attention.self.value.lora_A.default.weight\n",
      "Applied shared LoRA A matrix for base_model.model.base_model.model.base_model.model.base_model.model.roberta.encoder.layer.16.attention.self.query.lora_A.default.weight\n",
      "Applied shared LoRA A matrix for base_model.model.base_model.model.base_model.model.base_model.model.roberta.encoder.layer.16.attention.self.value.lora_A.default.weight\n",
      "Applied shared LoRA A matrix for base_model.model.base_model.model.base_model.model.base_model.model.roberta.encoder.layer.17.attention.self.query.lora_A.default.weight\n",
      "Applied shared LoRA A matrix for base_model.model.base_model.model.base_model.model.base_model.model.roberta.encoder.layer.17.attention.self.value.lora_A.default.weight\n",
      "Applied shared LoRA A matrix for base_model.model.base_model.model.base_model.model.base_model.model.roberta.encoder.layer.18.attention.self.query.lora_A.default.weight\n",
      "Applied shared LoRA A matrix for base_model.model.base_model.model.base_model.model.base_model.model.roberta.encoder.layer.18.attention.self.value.lora_A.default.weight\n",
      "Applied shared LoRA A matrix for base_model.model.base_model.model.base_model.model.base_model.model.roberta.encoder.layer.19.attention.self.query.lora_A.default.weight\n",
      "Applied shared LoRA A matrix for base_model.model.base_model.model.base_model.model.base_model.model.roberta.encoder.layer.19.attention.self.value.lora_A.default.weight\n",
      "Applied shared LoRA A matrix for base_model.model.base_model.model.base_model.model.base_model.model.roberta.encoder.layer.20.attention.self.query.lora_A.default.weight\n",
      "Applied shared LoRA A matrix for base_model.model.base_model.model.base_model.model.base_model.model.roberta.encoder.layer.20.attention.self.value.lora_A.default.weight\n",
      "Applied shared LoRA A matrix for base_model.model.base_model.model.base_model.model.base_model.model.roberta.encoder.layer.21.attention.self.query.lora_A.default.weight\n",
      "Applied shared LoRA A matrix for base_model.model.base_model.model.base_model.model.base_model.model.roberta.encoder.layer.21.attention.self.value.lora_A.default.weight\n",
      "Applied shared LoRA A matrix for base_model.model.base_model.model.base_model.model.base_model.model.roberta.encoder.layer.22.attention.self.query.lora_A.default.weight\n",
      "Applied shared LoRA A matrix for base_model.model.base_model.model.base_model.model.base_model.model.roberta.encoder.layer.22.attention.self.value.lora_A.default.weight\n",
      "Applied shared LoRA A matrix for base_model.model.base_model.model.base_model.model.base_model.model.roberta.encoder.layer.23.attention.self.query.lora_A.default.weight\n",
      "Applied shared LoRA A matrix for base_model.model.base_model.model.base_model.model.base_model.model.roberta.encoder.layer.23.attention.self.value.lora_A.default.weight\n",
      "Active parameter: base_model.model.base_model.model.base_model.model.base_model.model.roberta.encoder.layer.0.attention.self.query.lora_B.default.weight\n",
      "Active parameter: base_model.model.base_model.model.base_model.model.base_model.model.roberta.encoder.layer.0.attention.self.value.lora_B.default.weight\n",
      "Active parameter: base_model.model.base_model.model.base_model.model.base_model.model.roberta.encoder.layer.1.attention.self.query.lora_B.default.weight\n",
      "Active parameter: base_model.model.base_model.model.base_model.model.base_model.model.roberta.encoder.layer.1.attention.self.value.lora_B.default.weight\n",
      "Active parameter: base_model.model.base_model.model.base_model.model.base_model.model.roberta.encoder.layer.2.attention.self.query.lora_B.default.weight\n",
      "Active parameter: base_model.model.base_model.model.base_model.model.base_model.model.roberta.encoder.layer.2.attention.self.value.lora_B.default.weight\n",
      "Active parameter: base_model.model.base_model.model.base_model.model.base_model.model.roberta.encoder.layer.3.attention.self.query.lora_B.default.weight\n",
      "Active parameter: base_model.model.base_model.model.base_model.model.base_model.model.roberta.encoder.layer.3.attention.self.value.lora_B.default.weight\n",
      "Active parameter: base_model.model.base_model.model.base_model.model.base_model.model.roberta.encoder.layer.4.attention.self.query.lora_B.default.weight\n",
      "Active parameter: base_model.model.base_model.model.base_model.model.base_model.model.roberta.encoder.layer.4.attention.self.value.lora_B.default.weight\n",
      "Active parameter: base_model.model.base_model.model.base_model.model.base_model.model.roberta.encoder.layer.5.attention.self.query.lora_B.default.weight\n",
      "Active parameter: base_model.model.base_model.model.base_model.model.base_model.model.roberta.encoder.layer.5.attention.self.value.lora_B.default.weight\n",
      "Active parameter: base_model.model.base_model.model.base_model.model.base_model.model.roberta.encoder.layer.6.attention.self.query.lora_B.default.weight\n",
      "Active parameter: base_model.model.base_model.model.base_model.model.base_model.model.roberta.encoder.layer.6.attention.self.value.lora_B.default.weight\n",
      "Active parameter: base_model.model.base_model.model.base_model.model.base_model.model.roberta.encoder.layer.7.attention.self.query.lora_B.default.weight\n",
      "Active parameter: base_model.model.base_model.model.base_model.model.base_model.model.roberta.encoder.layer.7.attention.self.value.lora_B.default.weight\n",
      "Active parameter: base_model.model.base_model.model.base_model.model.base_model.model.roberta.encoder.layer.8.attention.self.query.lora_B.default.weight\n",
      "Active parameter: base_model.model.base_model.model.base_model.model.base_model.model.roberta.encoder.layer.8.attention.self.value.lora_B.default.weight\n",
      "Active parameter: base_model.model.base_model.model.base_model.model.base_model.model.roberta.encoder.layer.9.attention.self.query.lora_B.default.weight\n",
      "Active parameter: base_model.model.base_model.model.base_model.model.base_model.model.roberta.encoder.layer.9.attention.self.value.lora_B.default.weight\n",
      "Active parameter: base_model.model.base_model.model.base_model.model.base_model.model.roberta.encoder.layer.10.attention.self.query.lora_B.default.weight\n",
      "Active parameter: base_model.model.base_model.model.base_model.model.base_model.model.roberta.encoder.layer.10.attention.self.value.lora_B.default.weight\n",
      "Active parameter: base_model.model.base_model.model.base_model.model.base_model.model.roberta.encoder.layer.11.attention.self.query.lora_B.default.weight\n",
      "Active parameter: base_model.model.base_model.model.base_model.model.base_model.model.roberta.encoder.layer.11.attention.self.value.lora_B.default.weight\n",
      "Active parameter: base_model.model.base_model.model.base_model.model.base_model.model.roberta.encoder.layer.12.attention.self.query.lora_B.default.weight\n",
      "Active parameter: base_model.model.base_model.model.base_model.model.base_model.model.roberta.encoder.layer.12.attention.self.value.lora_B.default.weight\n",
      "Active parameter: base_model.model.base_model.model.base_model.model.base_model.model.roberta.encoder.layer.13.attention.self.query.lora_B.default.weight\n",
      "Active parameter: base_model.model.base_model.model.base_model.model.base_model.model.roberta.encoder.layer.13.attention.self.value.lora_B.default.weight\n",
      "Active parameter: base_model.model.base_model.model.base_model.model.base_model.model.roberta.encoder.layer.14.attention.self.query.lora_B.default.weight\n",
      "Active parameter: base_model.model.base_model.model.base_model.model.base_model.model.roberta.encoder.layer.14.attention.self.value.lora_B.default.weight\n",
      "Active parameter: base_model.model.base_model.model.base_model.model.base_model.model.roberta.encoder.layer.15.attention.self.query.lora_B.default.weight\n",
      "Active parameter: base_model.model.base_model.model.base_model.model.base_model.model.roberta.encoder.layer.15.attention.self.value.lora_B.default.weight\n",
      "Active parameter: base_model.model.base_model.model.base_model.model.base_model.model.roberta.encoder.layer.16.attention.self.query.lora_B.default.weight\n",
      "Active parameter: base_model.model.base_model.model.base_model.model.base_model.model.roberta.encoder.layer.16.attention.self.value.lora_B.default.weight\n",
      "Active parameter: base_model.model.base_model.model.base_model.model.base_model.model.roberta.encoder.layer.17.attention.self.query.lora_B.default.weight\n",
      "Active parameter: base_model.model.base_model.model.base_model.model.base_model.model.roberta.encoder.layer.17.attention.self.value.lora_B.default.weight\n",
      "Active parameter: base_model.model.base_model.model.base_model.model.base_model.model.roberta.encoder.layer.18.attention.self.query.lora_B.default.weight\n",
      "Active parameter: base_model.model.base_model.model.base_model.model.base_model.model.roberta.encoder.layer.18.attention.self.value.lora_B.default.weight\n",
      "Active parameter: base_model.model.base_model.model.base_model.model.base_model.model.roberta.encoder.layer.19.attention.self.query.lora_B.default.weight\n",
      "Active parameter: base_model.model.base_model.model.base_model.model.base_model.model.roberta.encoder.layer.19.attention.self.value.lora_B.default.weight\n",
      "Active parameter: base_model.model.base_model.model.base_model.model.base_model.model.roberta.encoder.layer.20.attention.self.query.lora_B.default.weight\n",
      "Active parameter: base_model.model.base_model.model.base_model.model.base_model.model.roberta.encoder.layer.20.attention.self.value.lora_B.default.weight\n",
      "Active parameter: base_model.model.base_model.model.base_model.model.base_model.model.roberta.encoder.layer.21.attention.self.query.lora_B.default.weight\n",
      "Active parameter: base_model.model.base_model.model.base_model.model.base_model.model.roberta.encoder.layer.21.attention.self.value.lora_B.default.weight\n",
      "Active parameter: base_model.model.base_model.model.base_model.model.base_model.model.roberta.encoder.layer.22.attention.self.query.lora_B.default.weight\n",
      "Active parameter: base_model.model.base_model.model.base_model.model.base_model.model.roberta.encoder.layer.22.attention.self.value.lora_B.default.weight\n",
      "Active parameter: base_model.model.base_model.model.base_model.model.base_model.model.roberta.encoder.layer.23.attention.self.query.lora_B.default.weight\n",
      "Active parameter: base_model.model.base_model.model.base_model.model.base_model.model.roberta.encoder.layer.23.attention.self.value.lora_B.default.weight\n",
      "Active parameter: base_model.model.base_model.model.base_model.model.base_model.model.classifier.modules_to_save.default.dense.weight\n",
      "Active parameter: base_model.model.base_model.model.base_model.model.base_model.model.classifier.modules_to_save.default.dense.bias\n",
      "Active parameter: base_model.model.base_model.model.base_model.model.base_model.model.classifier.modules_to_save.default.out_proj.weight\n",
      "Active parameter: base_model.model.base_model.model.base_model.model.base_model.model.classifier.modules_to_save.default.out_proj.bias\n",
      "new lora, r = 8:\n"
     ]
    },
    {
     "name": "stderr",
     "output_type": "stream",
     "text": [
      "100%|██████████| 2105/2105 [02:55<00:00, 12.00it/s]\n",
      "100%|██████████| 28/28 [00:00<00:00, 30.64it/s]"
     ]
    },
    {
     "name": "stdout",
     "output_type": "stream",
     "text": [
      "epoch 9: {'accuracy': 0.9598623853211009}\n"
     ]
    },
    {
     "name": "stderr",
     "output_type": "stream",
     "text": [
      "\n"
     ]
    }
   ],
   "source": [
    "model.to(device)\n",
    "for epoch in range(num_epochs):\n",
    "    if epoch != 0 and epoch % chain_epoch == 0:\n",
    "        # 第一组lora的 A 矩阵作为共享 A 矩阵\n",
    "        # epoch == chain_epoch // epoch % chain_epoch == 0\n",
    "        if epoch == chain_epoch:\n",
    "            saved_lora_a_matrices = extract_lora_a_matrices(model)\n",
    "            print(f\"Saved LoRA A matrices at epoch {epoch}\")\n",
    "        \n",
    "        # 提取当前 LoRA 的 B 矩阵\n",
    "        current_lora_b_matrices = extract_lora_b_matrices(model)\n",
    "        # 将当前 B 矩阵保存到列表中\n",
    "        saved_lora_b_matrices.extend(current_lora_b_matrices)\n",
    "        orth_loss = 0.0\n",
    "        \n",
    "        # 合并\n",
    "        model.merge_and_unload()\n",
    "        peft_config.r = 8\n",
    "        \n",
    "        # 拓展\n",
    "        model = get_peft_model(model, peft_config)\n",
    "        # 共享 A\n",
    "        if saved_lora_a_matrices:\n",
    "            apply_shared_lora_a_matrices(model, saved_lora_a_matrices)\n",
    "            # for name, param in model.named_parameters():\n",
    "            #     print(f\"{name}: requires_grad={param.requires_grad}\")\n",
    "            for name, param in model.named_parameters():\n",
    "                if param.requires_grad:\n",
    "                    print(f\"Active parameter: {name}\")\n",
    "\n",
    "        \n",
    "        #重新实例化优化器\n",
    "        # 获取LoRA参数\n",
    "        lora_params = {n: p for n, p in model.named_parameters() if 'lora' in n}\n",
    "        # 分组LoRA参数\n",
    "        param_groups = [\n",
    "            {\"params\": [p for n, p in lora_params.items() if 'lora_A' in n], \"lr\": lr},  # A矩阵的学习率\n",
    "            {\"params\": [p for n, p in lora_params.items() if 'lora_B' in n], \"lr\": lambda_lr * lr},  # B矩阵的学习率\n",
    "        ]\n",
    "        optimizer = AdamW(param_groups, betas=(beta1, beta2))\n",
    "        # optimizer = AdamW(params=model.parameters(), lr=lr)\n",
    "        lr_scheduler = get_linear_schedule_with_warmup(\n",
    "            optimizer=optimizer,\n",
    "            num_warmup_steps=0.06 * (len(train_dataloader) * chain_epoch),\n",
    "            num_training_steps=(len(train_dataloader) * chain_epoch),\n",
    "        )\n",
    "        print(f\"new lora, r = {peft_config.r}:\")\n",
    "        torch.cuda.empty_cache()\n",
    "        \n",
    "        \n",
    "    model.train()\n",
    "    for step, batch in enumerate(tqdm(train_dataloader)):\n",
    "        batch.to(device)\n",
    "        outputs = model(**batch)\n",
    "        \n",
    "        loss = outputs.loss\n",
    "        # task_loss = outputs.loss\n",
    "        if saved_lora_b_matrices and step % orth_interval == 0 and step != 0:\n",
    "            current_lora_b_matrices = extract_lora_b_matrices(model)\n",
    "            orth_loss = orthogonality_loss(current_lora_b_matrices, saved_lora_b_matrices)\n",
    "        else:\n",
    "            orth_loss = 0.0\n",
    "        # 总损失\n",
    "        loss = loss + lambda_orth * orth_loss\n",
    "        \n",
    "        loss.backward()\n",
    "        torch.nn.utils.clip_grad_norm_(model.parameters(), 1.0)\n",
    "        \n",
    "        optimizer.step()\n",
    "        lr_scheduler.step()\n",
    "        optimizer.zero_grad()\n",
    "\n",
    "    model.eval()\n",
    "    for step, batch in enumerate(tqdm(eval_dataloader)):\n",
    "        batch.to(device)\n",
    "        with torch.no_grad():\n",
    "            outputs = model(**batch)\n",
    "        predictions = outputs.logits.argmax(dim=-1)\n",
    "        predictions, references = predictions, batch[\"labels\"]\n",
    "        # predictions = outputs.logits.squeeze().cpu().numpy()\n",
    "        # references = batch[\"labels\"].cpu().numpy() \n",
    "        metric.add_batch(\n",
    "            predictions=predictions,\n",
    "            references=references,\n",
    "        )\n",
    "\n",
    "    eval_metric = metric.compute()\n",
    "    print(f\"epoch {epoch}:\", eval_metric)"
   ]
  },
  {
   "cell_type": "code",
   "execution_count": null,
   "id": "d97aaf16867b8621",
   "metadata": {
    "ExecuteTime": {
     "end_time": "2025-01-13T07:19:11.253234Z",
     "start_time": "2025-01-13T07:19:11.250925Z"
    }
   },
   "outputs": [],
   "source": [
    "# 0.965"
   ]
  },
  {
   "cell_type": "code",
   "execution_count": null,
   "id": "a2b314f64d260e44",
   "metadata": {
    "ExecuteTime": {
     "end_time": "2025-01-13T07:19:11.315940Z",
     "start_time": "2025-01-13T07:19:11.314673Z"
    }
   },
   "outputs": [],
   "source": []
  }
 ],
 "metadata": {
  "kernelspec": {
   "display_name": "Python 3",
   "language": "python",
   "name": "python3"
  },
  "language_info": {
   "codemirror_mode": {
    "name": "ipython",
    "version": 2
   },
   "file_extension": ".py",
   "mimetype": "text/x-python",
   "name": "python",
   "nbconvert_exporter": "python",
   "pygments_lexer": "ipython2",
   "version": "2.7.6"
  }
 },
 "nbformat": 4,
 "nbformat_minor": 5
}
