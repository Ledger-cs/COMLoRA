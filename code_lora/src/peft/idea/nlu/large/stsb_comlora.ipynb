{
 "cells": [
  {
   "cell_type": "code",
   "id": "initial_id",
   "metadata": {
    "collapsed": true,
    "ExecuteTime": {
     "end_time": "2025-02-14T03:17:36.960080Z",
     "start_time": "2025-02-14T03:17:36.954881Z"
    }
   },
   "source": [
    "import argparse\n",
    "import os\n",
    "\n",
    "import torch\n",
    "from torch.optim import AdamW\n",
    "from torch.utils.data import DataLoader\n",
    "from peft import (\n",
    "    get_peft_config,\n",
    "    get_peft_model,\n",
    "    get_peft_model_state_dict,\n",
    "    set_peft_model_state_dict,\n",
    "    LoraConfig,\n",
    "    PeftType,\n",
    "    PrefixTuningConfig,\n",
    "    PromptEncoderConfig,\n",
    "    TaskType,\n",
    ")\n",
    "\n",
    "import evaluate\n",
    "from datasets import load_dataset\n",
    "from transformers import AutoModelForSequenceClassification, AutoTokenizer, get_linear_schedule_with_warmup, set_seed\n",
    "from tqdm import tqdm\n",
    "\n",
    "\n",
    "import warnings\n",
    "\n",
    "warnings.filterwarnings(\"ignore\")"
   ],
   "outputs": [],
   "execution_count": 16
  },
  {
   "metadata": {
    "ExecuteTime": {
     "end_time": "2025-02-14T03:17:36.975249Z",
     "start_time": "2025-02-14T03:17:36.970662Z"
    }
   },
   "cell_type": "code",
   "source": [
    "import numpy as np\n",
    "import random\n",
    "\n",
    "def set_seed(seed):\n",
    "    random.seed(seed)\n",
    "    np.random.seed(seed)\n",
    "    torch.manual_seed(seed)\n",
    "    if torch.cuda.is_available():\n",
    "        torch.cuda.manual_seed_all(seed)\n",
    "\n",
    "set_seed(2999)  # 设置固定随机种子"
   ],
   "id": "8e01e73ac5e120b",
   "outputs": [],
   "execution_count": 17
  },
  {
   "metadata": {
    "ExecuteTime": {
     "end_time": "2025-02-14T03:17:37.129844Z",
     "start_time": "2025-02-14T03:17:37.111699Z"
    }
   },
   "cell_type": "code",
   "source": "torch.cuda.empty_cache()",
   "id": "69c9d0eb10ff15e8",
   "outputs": [],
   "execution_count": 18
  },
  {
   "metadata": {
    "ExecuteTime": {
     "end_time": "2025-02-14T03:17:37.254801Z",
     "start_time": "2025-02-14T03:17:37.251727Z"
    }
   },
   "cell_type": "code",
   "source": [
    "device = \"cuda\"\n",
    "batch_size = 8\n",
    "model_name_or_path = \"FacebookAI/roberta-large\"\n",
    "task = \"stsb\"\n",
    "peft_type = PeftType.LORA\n",
    "num_epochs = 30\n",
    "lr = 2e-4"
   ],
   "id": "e838b23136714aa1",
   "outputs": [],
   "execution_count": 19
  },
  {
   "metadata": {
    "ExecuteTime": {
     "end_time": "2025-02-14T03:17:55.264717Z",
     "start_time": "2025-02-14T03:17:37.355541Z"
    }
   },
   "cell_type": "code",
   "source": [
    "if any(k in model_name_or_path for k in (\"gpt\", \"opt\", \"bloom\")):\n",
    "    padding_side = \"left\"\n",
    "else:\n",
    "    padding_side = \"right\"\n",
    "\n",
    "tokenizer = AutoTokenizer.from_pretrained(model_name_or_path, padding_side=padding_side)\n",
    "if getattr(tokenizer, \"pad_token_id\") is None:\n",
    "    tokenizer.pad_token_id = tokenizer.eos_token_id\n",
    "\n",
    "datasets = load_dataset(\"glue\", task)\n",
    "metric = evaluate.load(\"glue\", task)\n",
    "\n",
    "\n",
    "def tokenize_function(examples):\n",
    "    # max_length=None => use the model max length (it's actually the default)\n",
    "    outputs = tokenizer(examples[\"sentence1\"], examples[\"sentence2\"], truncation=True, max_length=512)\n",
    "    return outputs\n",
    "\n",
    "\n",
    "tokenized_datasets = datasets.map(\n",
    "    tokenize_function,\n",
    "    batched=True,\n",
    "    remove_columns=[\"idx\", \"sentence1\", \"sentence2\"],\n",
    ")\n",
    "\n",
    "tokenized_datasets = tokenized_datasets.rename_column(\"label\", \"labels\")\n",
    "\n",
    "\n",
    "def collate_fn(examples):\n",
    "    return tokenizer.pad(examples, padding=\"longest\", return_tensors=\"pt\")\n",
    "\n",
    "\n",
    "# Instantiate dataloaders.\n",
    "train_dataloader = DataLoader(tokenized_datasets[\"train\"], shuffle=True, collate_fn=collate_fn, batch_size=batch_size)\n",
    "eval_dataloader = DataLoader(\n",
    "    tokenized_datasets[\"validation\"], shuffle=False, collate_fn=collate_fn, batch_size=batch_size\n",
    ")"
   ],
   "id": "cf2bf4b99419f564",
   "outputs": [],
   "execution_count": 20
  },
  {
   "metadata": {
    "ExecuteTime": {
     "end_time": "2025-02-14T03:17:55.382708Z",
     "start_time": "2025-02-14T03:17:55.379644Z"
    }
   },
   "cell_type": "code",
   "source": "torch.cuda.empty_cache()",
   "id": "6f45601ddec31988",
   "outputs": [],
   "execution_count": 21
  },
  {
   "metadata": {
    "ExecuteTime": {
     "end_time": "2025-02-14T03:17:55.486839Z",
     "start_time": "2025-02-14T03:17:55.483445Z"
    }
   },
   "cell_type": "code",
   "source": [
    "peft_config = LoraConfig(task_type=TaskType.SEQ_CLS, inference_mode=False, r=8, lora_alpha=16, lora_dropout=0.1)\n",
    "# target_modules = [\"query\", \"value\"]\n",
    "chain_epoch = 8"
   ],
   "id": "10d3f78bcc694458",
   "outputs": [],
   "execution_count": 22
  },
  {
   "metadata": {
    "ExecuteTime": {
     "end_time": "2025-02-14T03:17:56.021373Z",
     "start_time": "2025-02-14T03:17:55.614416Z"
    }
   },
   "cell_type": "code",
   "source": [
    "model = AutoModelForSequenceClassification.from_pretrained(model_name_or_path, return_dict=True, num_labels=1)\n",
    "model.config.problem_type = \"regression\"\n",
    "model = get_peft_model(model, peft_config)\n",
    "model.print_trainable_parameters()\n",
    "model"
   ],
   "id": "3057542aa55cdd2b",
   "outputs": [
    {
     "name": "stderr",
     "output_type": "stream",
     "text": [
      "Some weights of RobertaForSequenceClassification were not initialized from the model checkpoint at FacebookAI/roberta-large and are newly initialized: ['classifier.dense.bias', 'classifier.dense.weight', 'classifier.out_proj.bias', 'classifier.out_proj.weight']\n",
      "You should probably TRAIN this model on a down-stream task to be able to use it for predictions and inference.\n"
     ]
    },
    {
     "name": "stdout",
     "output_type": "stream",
     "text": [
      "trainable params: 1,837,057 || all params: 357,197,826 || trainable%: 0.5143\n"
     ]
    },
    {
     "data": {
      "text/plain": [
       "PeftModelForSequenceClassification(\n",
       "  (base_model): LoraModel(\n",
       "    (model): RobertaForSequenceClassification(\n",
       "      (roberta): RobertaModel(\n",
       "        (embeddings): RobertaEmbeddings(\n",
       "          (word_embeddings): Embedding(50265, 1024, padding_idx=1)\n",
       "          (position_embeddings): Embedding(514, 1024, padding_idx=1)\n",
       "          (token_type_embeddings): Embedding(1, 1024)\n",
       "          (LayerNorm): LayerNorm((1024,), eps=1e-05, elementwise_affine=True)\n",
       "          (dropout): Dropout(p=0.1, inplace=False)\n",
       "        )\n",
       "        (encoder): RobertaEncoder(\n",
       "          (layer): ModuleList(\n",
       "            (0-23): 24 x RobertaLayer(\n",
       "              (attention): RobertaAttention(\n",
       "                (self): RobertaSdpaSelfAttention(\n",
       "                  (query): lora.Linear(\n",
       "                    (base_layer): Linear(in_features=1024, out_features=1024, bias=True)\n",
       "                    (lora_dropout): ModuleDict(\n",
       "                      (default): Dropout(p=0.1, inplace=False)\n",
       "                    )\n",
       "                    (lora_A): ModuleDict(\n",
       "                      (default): Linear(in_features=1024, out_features=8, bias=False)\n",
       "                    )\n",
       "                    (lora_B): ModuleDict(\n",
       "                      (default): Linear(in_features=8, out_features=1024, bias=False)\n",
       "                    )\n",
       "                    (lora_embedding_A): ParameterDict()\n",
       "                    (lora_embedding_B): ParameterDict()\n",
       "                    (lora_magnitude_vector): ModuleDict()\n",
       "                  )\n",
       "                  (key): Linear(in_features=1024, out_features=1024, bias=True)\n",
       "                  (value): lora.Linear(\n",
       "                    (base_layer): Linear(in_features=1024, out_features=1024, bias=True)\n",
       "                    (lora_dropout): ModuleDict(\n",
       "                      (default): Dropout(p=0.1, inplace=False)\n",
       "                    )\n",
       "                    (lora_A): ModuleDict(\n",
       "                      (default): Linear(in_features=1024, out_features=8, bias=False)\n",
       "                    )\n",
       "                    (lora_B): ModuleDict(\n",
       "                      (default): Linear(in_features=8, out_features=1024, bias=False)\n",
       "                    )\n",
       "                    (lora_embedding_A): ParameterDict()\n",
       "                    (lora_embedding_B): ParameterDict()\n",
       "                    (lora_magnitude_vector): ModuleDict()\n",
       "                  )\n",
       "                  (dropout): Dropout(p=0.1, inplace=False)\n",
       "                )\n",
       "                (output): RobertaSelfOutput(\n",
       "                  (dense): Linear(in_features=1024, out_features=1024, bias=True)\n",
       "                  (LayerNorm): LayerNorm((1024,), eps=1e-05, elementwise_affine=True)\n",
       "                  (dropout): Dropout(p=0.1, inplace=False)\n",
       "                )\n",
       "              )\n",
       "              (intermediate): RobertaIntermediate(\n",
       "                (dense): Linear(in_features=1024, out_features=4096, bias=True)\n",
       "                (intermediate_act_fn): GELUActivation()\n",
       "              )\n",
       "              (output): RobertaOutput(\n",
       "                (dense): Linear(in_features=4096, out_features=1024, bias=True)\n",
       "                (LayerNorm): LayerNorm((1024,), eps=1e-05, elementwise_affine=True)\n",
       "                (dropout): Dropout(p=0.1, inplace=False)\n",
       "              )\n",
       "            )\n",
       "          )\n",
       "        )\n",
       "      )\n",
       "      (classifier): ModulesToSaveWrapper(\n",
       "        (original_module): RobertaClassificationHead(\n",
       "          (dense): Linear(in_features=1024, out_features=1024, bias=True)\n",
       "          (dropout): Dropout(p=0.1, inplace=False)\n",
       "          (out_proj): Linear(in_features=1024, out_features=1, bias=True)\n",
       "        )\n",
       "        (modules_to_save): ModuleDict(\n",
       "          (default): RobertaClassificationHead(\n",
       "            (dense): Linear(in_features=1024, out_features=1024, bias=True)\n",
       "            (dropout): Dropout(p=0.1, inplace=False)\n",
       "            (out_proj): Linear(in_features=1024, out_features=1, bias=True)\n",
       "          )\n",
       "        )\n",
       "      )\n",
       "    )\n",
       "  )\n",
       ")"
      ]
     },
     "execution_count": 23,
     "metadata": {},
     "output_type": "execute_result"
    }
   ],
   "execution_count": 23
  },
  {
   "metadata": {
    "ExecuteTime": {
     "end_time": "2025-02-14T03:17:56.165534Z",
     "start_time": "2025-02-14T03:17:56.158812Z"
    }
   },
   "cell_type": "code",
   "source": [
    "# lambda_orth = 0.02\n",
    "lambda_orth = 0.02\n",
    "# lr_b = lambad_lr * lr_a\n",
    "lambad_lr = 8.0\n",
    "# 每隔 ？ step 计算一次正交性损失\n",
    "orth_interval = 5  "
   ],
   "id": "aaeeb69b347d7a31",
   "outputs": [],
   "execution_count": 24
  },
  {
   "metadata": {
    "ExecuteTime": {
     "end_time": "2025-02-14T03:17:56.278597Z",
     "start_time": "2025-02-14T03:17:56.273256Z"
    }
   },
   "cell_type": "code",
   "source": [
    "# 获取LoRA参数\n",
    "lora_params = {n: p for n, p in model.named_parameters() if 'lora' in n}\n",
    "# 分组LoRA参数\n",
    "param_groups = [\n",
    "    {\"params\": [p for n, p in lora_params.items() if 'lora_A' in n], \"lr\": lr},  # A矩阵的学习率\n",
    "    {\"params\": [p for n, p in lora_params.items() if 'lora_B' in n], \"lr\": lambad_lr * lr},  # B矩阵的学习率\n",
    "]\n",
    "\n",
    "beta1 = 0.9\n",
    "beta2 = 0.99\n",
    "\n",
    "optimizer = AdamW(param_groups, betas=(beta1, beta2))\n",
    "\n",
    "#optimizer = AdamW(params=model.parameters(), lr=lr)\n",
    "\n",
    "# Instantiate scheduler\n",
    "lr_scheduler = get_linear_schedule_with_warmup(\n",
    "    optimizer=optimizer,\n",
    "    num_warmup_steps=0.06 * (len(train_dataloader) * chain_epoch),\n",
    "    num_training_steps=(len(train_dataloader) * chain_epoch),\n",
    ")"
   ],
   "id": "a827e06da527060",
   "outputs": [],
   "execution_count": 25
  },
  {
   "metadata": {
    "ExecuteTime": {
     "end_time": "2025-02-14T03:17:56.371701Z",
     "start_time": "2025-02-14T03:17:56.366539Z"
    }
   },
   "cell_type": "code",
   "source": [
    "saved_lora_a_matrices = []  # 用于保存之前训练的 LoRA 模块的 A 矩阵\n",
    "saved_lora_b_matrices = []  # 用于保存之前训练的 LoRA 模块的 B 矩阵\n",
    "\n",
    "def extract_lora_a_matrices(model):\n",
    "    \"\"\"提取 LoRA 的 A 矩阵\"\"\"\n",
    "    lora_matrices = []\n",
    "    for name, param in model.named_parameters():\n",
    "        if \"lora_A\" in name:  # 识别 LoRA 的 A 矩阵\n",
    "            lora_matrices.append(param.detach().clone())  # 保存当前 A 矩阵\n",
    "    return lora_matrices\n",
    "\n",
    "def extract_lora_b_matrices(model):\n",
    "    \"\"\"提取 LoRA 的 B 矩阵\"\"\"\n",
    "    lora_matrices = []\n",
    "    for name, param in model.named_parameters():\n",
    "        if \"lora_B\" in name:  # 识别 LoRA 的 B 矩阵\n",
    "            lora_matrices.append(param.detach().clone())  # 保存当前 B 矩阵\n",
    "    return lora_matrices"
   ],
   "id": "726e0ab5fe3fa572",
   "outputs": [],
   "execution_count": 26
  },
  {
   "metadata": {
    "ExecuteTime": {
     "end_time": "2025-02-14T03:17:56.434973Z",
     "start_time": "2025-02-14T03:17:56.431300Z"
    }
   },
   "cell_type": "code",
   "source": [
    "def orthogonality_loss(current_matrices, saved_matrices):\n",
    "    \"\"\"计算当前 LoRA 和之前所有 LoRA 的正交性损失\"\"\"\n",
    "    loss = 0\n",
    "    for B_t in current_matrices:\n",
    "        for B_i in saved_matrices:\n",
    "            # 计算 A_t 和 A_i 的正交性\n",
    "            product = torch.matmul(B_t.T, B_i)  # 矩阵乘积\n",
    "            loss += torch.norm(product, p=\"fro\")  # Frobenius 范数\n",
    "    return loss\n"
   ],
   "id": "516ee01a6ca483f2",
   "outputs": [],
   "execution_count": 27
  },
  {
   "metadata": {
    "ExecuteTime": {
     "end_time": "2025-02-14T03:17:56.506443Z",
     "start_time": "2025-02-14T03:17:56.502857Z"
    }
   },
   "cell_type": "code",
   "source": [
    "import re\n",
    "\n",
    "def apply_shared_lora_a_matrices(model, saved_lora_a_matrices):\n",
    "    \"\"\"\n",
    "    将保存的 LoRA A 矩阵应用到当前模型中，并冻结这些参数。\n",
    "    \"\"\"\n",
    "    lora_idx = 0\n",
    "    for name, param in model.named_parameters():\n",
    "        if 'lora_A' in name:  #  A 矩阵的名称包含 'lora_A'\n",
    "            # 提取层和注意力头的信息，例如 \"encoder.layer.0.attention.self.query.lora_A\"\n",
    "            layer_match = re.match(r'.*encoder.layer.(\\d+)\\.attention.self\\.(query|value)\\.lora_A', name)\n",
    "            if layer_match:\n",
    "                layer_num = int(layer_match.group(1))\n",
    "                if layer_num < len(saved_lora_a_matrices) // 2:\n",
    "                    shared_a = saved_lora_a_matrices[lora_idx]\n",
    "                    param.data = shared_a.data.clone() \n",
    "                    # param.requires_grad = False\n",
    "                    print(f\"Applied shared LoRA A matrix for {name}\")\n",
    "                    \n",
    "                    lora_idx += 1\n",
    "                    "
   ],
   "id": "9e9d775840fe2c1a",
   "outputs": [],
   "execution_count": 28
  },
  {
   "metadata": {
    "ExecuteTime": {
     "end_time": "2025-02-14T03:17:56.594842Z",
     "start_time": "2025-02-14T03:17:56.591816Z"
    }
   },
   "cell_type": "code",
   "source": "print(torch.initial_seed())",
   "id": "b0cdce7817d8b4a8",
   "outputs": [
    {
     "name": "stdout",
     "output_type": "stream",
     "text": [
      "2999\n"
     ]
    }
   ],
   "execution_count": 29
  },
  {
   "metadata": {
    "ExecuteTime": {
     "end_time": "2025-02-14T03:35:21.278970Z",
     "start_time": "2025-02-14T03:17:56.679192Z"
    }
   },
   "cell_type": "code",
   "source": [
    "model.to(device)\n",
    "for epoch in range(num_epochs):\n",
    "    if epoch != 0 and epoch % chain_epoch == 0:\n",
    "        # 第一组lora的 A 矩阵作为共享 A 矩阵\n",
    "        # epoch == chain_epoch // epoch % chain_epoch == 0\n",
    "        if epoch == chain_epoch:\n",
    "            saved_lora_a_matrices = extract_lora_a_matrices(model)\n",
    "            print(f\"Saved LoRA A matrices at epoch {epoch}\")\n",
    "        \n",
    "        # 提取当前 LoRA 的 B 矩阵\n",
    "        current_lora_b_matrices = extract_lora_b_matrices(model)\n",
    "        # 将当前 B 矩阵保存到列表中\n",
    "        saved_lora_b_matrices.extend(current_lora_b_matrices)\n",
    "        orth_loss = 0.0\n",
    "        \n",
    "        # 合并\n",
    "        model.merge_and_unload()\n",
    "        peft_config.r = 8\n",
    "        \n",
    "        # 拓展\n",
    "        model = get_peft_model(model, peft_config)\n",
    "        # 共享 A\n",
    "        if saved_lora_a_matrices:\n",
    "            apply_shared_lora_a_matrices(model, saved_lora_a_matrices)\n",
    "            # for name, param in model.named_parameters():\n",
    "            #     print(f\"{name}: requires_grad={param.requires_grad}\")\n",
    "            for name, param in model.named_parameters():\n",
    "                if param.requires_grad:\n",
    "                    print(f\"Active parameter: {name}\")\n",
    "\n",
    "        \n",
    "        #重新实例化优化器\n",
    "        # 获取LoRA参数\n",
    "        lora_params = {n: p for n, p in model.named_parameters() if 'lora' in n}\n",
    "        # 分组LoRA参数\n",
    "        param_groups = [\n",
    "            {\"params\": [p for n, p in lora_params.items() if 'lora_A' in n], \"lr\": lr},  # A矩阵的学习率\n",
    "            {\"params\": [p for n, p in lora_params.items() if 'lora_B' in n], \"lr\": lambad_lr * lr},  # B矩阵的学习率\n",
    "        ]\n",
    "        optimizer = AdamW(param_groups, betas=(beta1, beta2))\n",
    "        # optimizer = AdamW(params=model.parameters(), lr=lr)\n",
    "        lr_scheduler = get_linear_schedule_with_warmup(\n",
    "            optimizer=optimizer,\n",
    "            num_warmup_steps=0.06 * (len(train_dataloader) * chain_epoch),\n",
    "            num_training_steps=(len(train_dataloader) * chain_epoch),\n",
    "        )\n",
    "        print(f\"new lora, r = {peft_config.r}:\")\n",
    "        torch.cuda.empty_cache()\n",
    "        \n",
    "        \n",
    "    model.train()\n",
    "    for step, batch in enumerate(tqdm(train_dataloader)):\n",
    "        batch.to(device)\n",
    "        outputs = model(**batch)\n",
    "        \n",
    "        loss = outputs.loss\n",
    "        # task_loss = outputs.loss\n",
    "        if saved_lora_b_matrices and step % orth_interval == 0 and step != 0:\n",
    "            current_lora_b_matrices = extract_lora_b_matrices(model)\n",
    "            orth_loss = orthogonality_loss(current_lora_b_matrices, saved_lora_b_matrices)\n",
    "        else:\n",
    "            orth_loss = 0.0\n",
    "        # 总损失\n",
    "        loss = loss + lambda_orth * orth_loss\n",
    "        \n",
    "        loss.backward()\n",
    "        torch.nn.utils.clip_grad_norm_(model.parameters(), 1.0)\n",
    "        \n",
    "        optimizer.step()\n",
    "        lr_scheduler.step()\n",
    "        optimizer.zero_grad()\n",
    "\n",
    "    model.eval()\n",
    "    for step, batch in enumerate(tqdm(eval_dataloader)):\n",
    "        batch.to(device)\n",
    "        with torch.no_grad():\n",
    "            outputs = model(**batch)\n",
    "        # predictions = outputs.logits.argmax(dim=-1)\n",
    "        # predictions, references = predictions, batch[\"labels\"]\n",
    "        predictions = outputs.logits.squeeze().cpu().numpy()\n",
    "        references = batch[\"labels\"].cpu().numpy() \n",
    "        metric.add_batch(\n",
    "            predictions=predictions,\n",
    "            references=references,\n",
    "        )\n",
    "\n",
    "    eval_metric = metric.compute()\n",
    "    print(f\"epoch {epoch}:\", eval_metric)"
   ],
   "id": "9743a42db20cb130",
   "outputs": [
    {
     "name": "stderr",
     "output_type": "stream",
     "text": [
      "  0%|          | 0/719 [00:00<?, ?it/s]You're using a RobertaTokenizerFast tokenizer. Please note that with a fast tokenizer, using the `__call__` method is faster than using a method to encode the text followed by a call to the `pad` method to get a padded encoding.\n",
      "100%|██████████| 719/719 [00:22<00:00, 31.55it/s]\n",
      "100%|██████████| 188/188 [00:02<00:00, 77.85it/s]\n"
     ]
    },
    {
     "name": "stdout",
     "output_type": "stream",
     "text": [
      "epoch 0: {'pearson': 0.9011675370298733, 'spearmanr': 0.8979504872144392}\n"
     ]
    },
    {
     "name": "stderr",
     "output_type": "stream",
     "text": [
      "100%|██████████| 719/719 [00:22<00:00, 32.39it/s]\n",
      "100%|██████████| 188/188 [00:02<00:00, 77.21it/s]\n"
     ]
    },
    {
     "name": "stdout",
     "output_type": "stream",
     "text": [
      "epoch 1: {'pearson': 0.8973321643834214, 'spearmanr': 0.9053615563792489}\n"
     ]
    },
    {
     "name": "stderr",
     "output_type": "stream",
     "text": [
      "100%|██████████| 719/719 [00:22<00:00, 32.12it/s]\n",
      "100%|██████████| 188/188 [00:02<00:00, 77.90it/s]\n"
     ]
    },
    {
     "name": "stdout",
     "output_type": "stream",
     "text": [
      "epoch 2: {'pearson': 0.8922727238960583, 'spearmanr': 0.898766359662877}\n"
     ]
    },
    {
     "name": "stderr",
     "output_type": "stream",
     "text": [
      "100%|██████████| 719/719 [00:22<00:00, 31.81it/s]\n",
      "100%|██████████| 188/188 [00:02<00:00, 78.86it/s]\n"
     ]
    },
    {
     "name": "stdout",
     "output_type": "stream",
     "text": [
      "epoch 3: {'pearson': 0.90890638276731, 'spearmanr': 0.9161167114787687}\n"
     ]
    },
    {
     "name": "stderr",
     "output_type": "stream",
     "text": [
      "100%|██████████| 719/719 [00:22<00:00, 32.58it/s]\n",
      "100%|██████████| 188/188 [00:02<00:00, 78.62it/s]\n"
     ]
    },
    {
     "name": "stdout",
     "output_type": "stream",
     "text": [
      "epoch 4: {'pearson': 0.921072718030693, 'spearmanr': 0.9185061775384523}\n"
     ]
    },
    {
     "name": "stderr",
     "output_type": "stream",
     "text": [
      "100%|██████████| 719/719 [00:22<00:00, 32.38it/s]\n",
      "100%|██████████| 188/188 [00:02<00:00, 78.50it/s]\n"
     ]
    },
    {
     "name": "stdout",
     "output_type": "stream",
     "text": [
      "epoch 5: {'pearson': 0.9208138311240046, 'spearmanr': 0.92005767682842}\n"
     ]
    },
    {
     "name": "stderr",
     "output_type": "stream",
     "text": [
      "100%|██████████| 719/719 [00:22<00:00, 32.25it/s]\n",
      "100%|██████████| 188/188 [00:02<00:00, 77.53it/s]\n"
     ]
    },
    {
     "name": "stdout",
     "output_type": "stream",
     "text": [
      "epoch 6: {'pearson': 0.9215812107710624, 'spearmanr': 0.9199664632424217}\n"
     ]
    },
    {
     "name": "stderr",
     "output_type": "stream",
     "text": [
      "100%|██████████| 719/719 [00:23<00:00, 30.99it/s]\n",
      "100%|██████████| 188/188 [00:02<00:00, 70.33it/s]\n"
     ]
    },
    {
     "name": "stdout",
     "output_type": "stream",
     "text": [
      "epoch 7: {'pearson': 0.9227243780943744, 'spearmanr': 0.9196596729953881}\n",
      "Saved LoRA A matrices at epoch 8\n",
      "Applied shared LoRA A matrix for base_model.model.base_model.model.roberta.encoder.layer.0.attention.self.query.lora_A.default.weight\n",
      "Applied shared LoRA A matrix for base_model.model.base_model.model.roberta.encoder.layer.0.attention.self.value.lora_A.default.weight\n",
      "Applied shared LoRA A matrix for base_model.model.base_model.model.roberta.encoder.layer.1.attention.self.query.lora_A.default.weight\n",
      "Applied shared LoRA A matrix for base_model.model.base_model.model.roberta.encoder.layer.1.attention.self.value.lora_A.default.weight\n",
      "Applied shared LoRA A matrix for base_model.model.base_model.model.roberta.encoder.layer.2.attention.self.query.lora_A.default.weight\n",
      "Applied shared LoRA A matrix for base_model.model.base_model.model.roberta.encoder.layer.2.attention.self.value.lora_A.default.weight\n",
      "Applied shared LoRA A matrix for base_model.model.base_model.model.roberta.encoder.layer.3.attention.self.query.lora_A.default.weight\n",
      "Applied shared LoRA A matrix for base_model.model.base_model.model.roberta.encoder.layer.3.attention.self.value.lora_A.default.weight\n",
      "Applied shared LoRA A matrix for base_model.model.base_model.model.roberta.encoder.layer.4.attention.self.query.lora_A.default.weight\n",
      "Applied shared LoRA A matrix for base_model.model.base_model.model.roberta.encoder.layer.4.attention.self.value.lora_A.default.weight\n",
      "Applied shared LoRA A matrix for base_model.model.base_model.model.roberta.encoder.layer.5.attention.self.query.lora_A.default.weight\n",
      "Applied shared LoRA A matrix for base_model.model.base_model.model.roberta.encoder.layer.5.attention.self.value.lora_A.default.weight\n",
      "Applied shared LoRA A matrix for base_model.model.base_model.model.roberta.encoder.layer.6.attention.self.query.lora_A.default.weight\n",
      "Applied shared LoRA A matrix for base_model.model.base_model.model.roberta.encoder.layer.6.attention.self.value.lora_A.default.weight\n",
      "Applied shared LoRA A matrix for base_model.model.base_model.model.roberta.encoder.layer.7.attention.self.query.lora_A.default.weight\n",
      "Applied shared LoRA A matrix for base_model.model.base_model.model.roberta.encoder.layer.7.attention.self.value.lora_A.default.weight\n",
      "Applied shared LoRA A matrix for base_model.model.base_model.model.roberta.encoder.layer.8.attention.self.query.lora_A.default.weight\n",
      "Applied shared LoRA A matrix for base_model.model.base_model.model.roberta.encoder.layer.8.attention.self.value.lora_A.default.weight\n",
      "Applied shared LoRA A matrix for base_model.model.base_model.model.roberta.encoder.layer.9.attention.self.query.lora_A.default.weight\n",
      "Applied shared LoRA A matrix for base_model.model.base_model.model.roberta.encoder.layer.9.attention.self.value.lora_A.default.weight\n",
      "Applied shared LoRA A matrix for base_model.model.base_model.model.roberta.encoder.layer.10.attention.self.query.lora_A.default.weight\n",
      "Applied shared LoRA A matrix for base_model.model.base_model.model.roberta.encoder.layer.10.attention.self.value.lora_A.default.weight\n",
      "Applied shared LoRA A matrix for base_model.model.base_model.model.roberta.encoder.layer.11.attention.self.query.lora_A.default.weight\n",
      "Applied shared LoRA A matrix for base_model.model.base_model.model.roberta.encoder.layer.11.attention.self.value.lora_A.default.weight\n",
      "Applied shared LoRA A matrix for base_model.model.base_model.model.roberta.encoder.layer.12.attention.self.query.lora_A.default.weight\n",
      "Applied shared LoRA A matrix for base_model.model.base_model.model.roberta.encoder.layer.12.attention.self.value.lora_A.default.weight\n",
      "Applied shared LoRA A matrix for base_model.model.base_model.model.roberta.encoder.layer.13.attention.self.query.lora_A.default.weight\n",
      "Applied shared LoRA A matrix for base_model.model.base_model.model.roberta.encoder.layer.13.attention.self.value.lora_A.default.weight\n",
      "Applied shared LoRA A matrix for base_model.model.base_model.model.roberta.encoder.layer.14.attention.self.query.lora_A.default.weight\n",
      "Applied shared LoRA A matrix for base_model.model.base_model.model.roberta.encoder.layer.14.attention.self.value.lora_A.default.weight\n",
      "Applied shared LoRA A matrix for base_model.model.base_model.model.roberta.encoder.layer.15.attention.self.query.lora_A.default.weight\n",
      "Applied shared LoRA A matrix for base_model.model.base_model.model.roberta.encoder.layer.15.attention.self.value.lora_A.default.weight\n",
      "Applied shared LoRA A matrix for base_model.model.base_model.model.roberta.encoder.layer.16.attention.self.query.lora_A.default.weight\n",
      "Applied shared LoRA A matrix for base_model.model.base_model.model.roberta.encoder.layer.16.attention.self.value.lora_A.default.weight\n",
      "Applied shared LoRA A matrix for base_model.model.base_model.model.roberta.encoder.layer.17.attention.self.query.lora_A.default.weight\n",
      "Applied shared LoRA A matrix for base_model.model.base_model.model.roberta.encoder.layer.17.attention.self.value.lora_A.default.weight\n",
      "Applied shared LoRA A matrix for base_model.model.base_model.model.roberta.encoder.layer.18.attention.self.query.lora_A.default.weight\n",
      "Applied shared LoRA A matrix for base_model.model.base_model.model.roberta.encoder.layer.18.attention.self.value.lora_A.default.weight\n",
      "Applied shared LoRA A matrix for base_model.model.base_model.model.roberta.encoder.layer.19.attention.self.query.lora_A.default.weight\n",
      "Applied shared LoRA A matrix for base_model.model.base_model.model.roberta.encoder.layer.19.attention.self.value.lora_A.default.weight\n",
      "Applied shared LoRA A matrix for base_model.model.base_model.model.roberta.encoder.layer.20.attention.self.query.lora_A.default.weight\n",
      "Applied shared LoRA A matrix for base_model.model.base_model.model.roberta.encoder.layer.20.attention.self.value.lora_A.default.weight\n",
      "Applied shared LoRA A matrix for base_model.model.base_model.model.roberta.encoder.layer.21.attention.self.query.lora_A.default.weight\n",
      "Applied shared LoRA A matrix for base_model.model.base_model.model.roberta.encoder.layer.21.attention.self.value.lora_A.default.weight\n",
      "Applied shared LoRA A matrix for base_model.model.base_model.model.roberta.encoder.layer.22.attention.self.query.lora_A.default.weight\n",
      "Applied shared LoRA A matrix for base_model.model.base_model.model.roberta.encoder.layer.22.attention.self.value.lora_A.default.weight\n",
      "Applied shared LoRA A matrix for base_model.model.base_model.model.roberta.encoder.layer.23.attention.self.query.lora_A.default.weight\n",
      "Applied shared LoRA A matrix for base_model.model.base_model.model.roberta.encoder.layer.23.attention.self.value.lora_A.default.weight\n",
      "Active parameter: base_model.model.base_model.model.roberta.encoder.layer.0.attention.self.query.lora_A.default.weight\n",
      "Active parameter: base_model.model.base_model.model.roberta.encoder.layer.0.attention.self.query.lora_B.default.weight\n",
      "Active parameter: base_model.model.base_model.model.roberta.encoder.layer.0.attention.self.value.lora_A.default.weight\n",
      "Active parameter: base_model.model.base_model.model.roberta.encoder.layer.0.attention.self.value.lora_B.default.weight\n",
      "Active parameter: base_model.model.base_model.model.roberta.encoder.layer.1.attention.self.query.lora_A.default.weight\n",
      "Active parameter: base_model.model.base_model.model.roberta.encoder.layer.1.attention.self.query.lora_B.default.weight\n",
      "Active parameter: base_model.model.base_model.model.roberta.encoder.layer.1.attention.self.value.lora_A.default.weight\n",
      "Active parameter: base_model.model.base_model.model.roberta.encoder.layer.1.attention.self.value.lora_B.default.weight\n",
      "Active parameter: base_model.model.base_model.model.roberta.encoder.layer.2.attention.self.query.lora_A.default.weight\n",
      "Active parameter: base_model.model.base_model.model.roberta.encoder.layer.2.attention.self.query.lora_B.default.weight\n",
      "Active parameter: base_model.model.base_model.model.roberta.encoder.layer.2.attention.self.value.lora_A.default.weight\n",
      "Active parameter: base_model.model.base_model.model.roberta.encoder.layer.2.attention.self.value.lora_B.default.weight\n",
      "Active parameter: base_model.model.base_model.model.roberta.encoder.layer.3.attention.self.query.lora_A.default.weight\n",
      "Active parameter: base_model.model.base_model.model.roberta.encoder.layer.3.attention.self.query.lora_B.default.weight\n",
      "Active parameter: base_model.model.base_model.model.roberta.encoder.layer.3.attention.self.value.lora_A.default.weight\n",
      "Active parameter: base_model.model.base_model.model.roberta.encoder.layer.3.attention.self.value.lora_B.default.weight\n",
      "Active parameter: base_model.model.base_model.model.roberta.encoder.layer.4.attention.self.query.lora_A.default.weight\n",
      "Active parameter: base_model.model.base_model.model.roberta.encoder.layer.4.attention.self.query.lora_B.default.weight\n",
      "Active parameter: base_model.model.base_model.model.roberta.encoder.layer.4.attention.self.value.lora_A.default.weight\n",
      "Active parameter: base_model.model.base_model.model.roberta.encoder.layer.4.attention.self.value.lora_B.default.weight\n",
      "Active parameter: base_model.model.base_model.model.roberta.encoder.layer.5.attention.self.query.lora_A.default.weight\n",
      "Active parameter: base_model.model.base_model.model.roberta.encoder.layer.5.attention.self.query.lora_B.default.weight\n",
      "Active parameter: base_model.model.base_model.model.roberta.encoder.layer.5.attention.self.value.lora_A.default.weight\n",
      "Active parameter: base_model.model.base_model.model.roberta.encoder.layer.5.attention.self.value.lora_B.default.weight\n",
      "Active parameter: base_model.model.base_model.model.roberta.encoder.layer.6.attention.self.query.lora_A.default.weight\n",
      "Active parameter: base_model.model.base_model.model.roberta.encoder.layer.6.attention.self.query.lora_B.default.weight\n",
      "Active parameter: base_model.model.base_model.model.roberta.encoder.layer.6.attention.self.value.lora_A.default.weight\n",
      "Active parameter: base_model.model.base_model.model.roberta.encoder.layer.6.attention.self.value.lora_B.default.weight\n",
      "Active parameter: base_model.model.base_model.model.roberta.encoder.layer.7.attention.self.query.lora_A.default.weight\n",
      "Active parameter: base_model.model.base_model.model.roberta.encoder.layer.7.attention.self.query.lora_B.default.weight\n",
      "Active parameter: base_model.model.base_model.model.roberta.encoder.layer.7.attention.self.value.lora_A.default.weight\n",
      "Active parameter: base_model.model.base_model.model.roberta.encoder.layer.7.attention.self.value.lora_B.default.weight\n",
      "Active parameter: base_model.model.base_model.model.roberta.encoder.layer.8.attention.self.query.lora_A.default.weight\n",
      "Active parameter: base_model.model.base_model.model.roberta.encoder.layer.8.attention.self.query.lora_B.default.weight\n",
      "Active parameter: base_model.model.base_model.model.roberta.encoder.layer.8.attention.self.value.lora_A.default.weight\n",
      "Active parameter: base_model.model.base_model.model.roberta.encoder.layer.8.attention.self.value.lora_B.default.weight\n",
      "Active parameter: base_model.model.base_model.model.roberta.encoder.layer.9.attention.self.query.lora_A.default.weight\n",
      "Active parameter: base_model.model.base_model.model.roberta.encoder.layer.9.attention.self.query.lora_B.default.weight\n",
      "Active parameter: base_model.model.base_model.model.roberta.encoder.layer.9.attention.self.value.lora_A.default.weight\n",
      "Active parameter: base_model.model.base_model.model.roberta.encoder.layer.9.attention.self.value.lora_B.default.weight\n",
      "Active parameter: base_model.model.base_model.model.roberta.encoder.layer.10.attention.self.query.lora_A.default.weight\n",
      "Active parameter: base_model.model.base_model.model.roberta.encoder.layer.10.attention.self.query.lora_B.default.weight\n",
      "Active parameter: base_model.model.base_model.model.roberta.encoder.layer.10.attention.self.value.lora_A.default.weight\n",
      "Active parameter: base_model.model.base_model.model.roberta.encoder.layer.10.attention.self.value.lora_B.default.weight\n",
      "Active parameter: base_model.model.base_model.model.roberta.encoder.layer.11.attention.self.query.lora_A.default.weight\n",
      "Active parameter: base_model.model.base_model.model.roberta.encoder.layer.11.attention.self.query.lora_B.default.weight\n",
      "Active parameter: base_model.model.base_model.model.roberta.encoder.layer.11.attention.self.value.lora_A.default.weight\n",
      "Active parameter: base_model.model.base_model.model.roberta.encoder.layer.11.attention.self.value.lora_B.default.weight\n",
      "Active parameter: base_model.model.base_model.model.roberta.encoder.layer.12.attention.self.query.lora_A.default.weight\n",
      "Active parameter: base_model.model.base_model.model.roberta.encoder.layer.12.attention.self.query.lora_B.default.weight\n",
      "Active parameter: base_model.model.base_model.model.roberta.encoder.layer.12.attention.self.value.lora_A.default.weight\n",
      "Active parameter: base_model.model.base_model.model.roberta.encoder.layer.12.attention.self.value.lora_B.default.weight\n",
      "Active parameter: base_model.model.base_model.model.roberta.encoder.layer.13.attention.self.query.lora_A.default.weight\n",
      "Active parameter: base_model.model.base_model.model.roberta.encoder.layer.13.attention.self.query.lora_B.default.weight\n",
      "Active parameter: base_model.model.base_model.model.roberta.encoder.layer.13.attention.self.value.lora_A.default.weight\n",
      "Active parameter: base_model.model.base_model.model.roberta.encoder.layer.13.attention.self.value.lora_B.default.weight\n",
      "Active parameter: base_model.model.base_model.model.roberta.encoder.layer.14.attention.self.query.lora_A.default.weight\n",
      "Active parameter: base_model.model.base_model.model.roberta.encoder.layer.14.attention.self.query.lora_B.default.weight\n",
      "Active parameter: base_model.model.base_model.model.roberta.encoder.layer.14.attention.self.value.lora_A.default.weight\n",
      "Active parameter: base_model.model.base_model.model.roberta.encoder.layer.14.attention.self.value.lora_B.default.weight\n",
      "Active parameter: base_model.model.base_model.model.roberta.encoder.layer.15.attention.self.query.lora_A.default.weight\n",
      "Active parameter: base_model.model.base_model.model.roberta.encoder.layer.15.attention.self.query.lora_B.default.weight\n",
      "Active parameter: base_model.model.base_model.model.roberta.encoder.layer.15.attention.self.value.lora_A.default.weight\n",
      "Active parameter: base_model.model.base_model.model.roberta.encoder.layer.15.attention.self.value.lora_B.default.weight\n",
      "Active parameter: base_model.model.base_model.model.roberta.encoder.layer.16.attention.self.query.lora_A.default.weight\n",
      "Active parameter: base_model.model.base_model.model.roberta.encoder.layer.16.attention.self.query.lora_B.default.weight\n",
      "Active parameter: base_model.model.base_model.model.roberta.encoder.layer.16.attention.self.value.lora_A.default.weight\n",
      "Active parameter: base_model.model.base_model.model.roberta.encoder.layer.16.attention.self.value.lora_B.default.weight\n",
      "Active parameter: base_model.model.base_model.model.roberta.encoder.layer.17.attention.self.query.lora_A.default.weight\n",
      "Active parameter: base_model.model.base_model.model.roberta.encoder.layer.17.attention.self.query.lora_B.default.weight\n",
      "Active parameter: base_model.model.base_model.model.roberta.encoder.layer.17.attention.self.value.lora_A.default.weight\n",
      "Active parameter: base_model.model.base_model.model.roberta.encoder.layer.17.attention.self.value.lora_B.default.weight\n",
      "Active parameter: base_model.model.base_model.model.roberta.encoder.layer.18.attention.self.query.lora_A.default.weight\n",
      "Active parameter: base_model.model.base_model.model.roberta.encoder.layer.18.attention.self.query.lora_B.default.weight\n",
      "Active parameter: base_model.model.base_model.model.roberta.encoder.layer.18.attention.self.value.lora_A.default.weight\n",
      "Active parameter: base_model.model.base_model.model.roberta.encoder.layer.18.attention.self.value.lora_B.default.weight\n",
      "Active parameter: base_model.model.base_model.model.roberta.encoder.layer.19.attention.self.query.lora_A.default.weight\n",
      "Active parameter: base_model.model.base_model.model.roberta.encoder.layer.19.attention.self.query.lora_B.default.weight\n",
      "Active parameter: base_model.model.base_model.model.roberta.encoder.layer.19.attention.self.value.lora_A.default.weight\n",
      "Active parameter: base_model.model.base_model.model.roberta.encoder.layer.19.attention.self.value.lora_B.default.weight\n",
      "Active parameter: base_model.model.base_model.model.roberta.encoder.layer.20.attention.self.query.lora_A.default.weight\n",
      "Active parameter: base_model.model.base_model.model.roberta.encoder.layer.20.attention.self.query.lora_B.default.weight\n",
      "Active parameter: base_model.model.base_model.model.roberta.encoder.layer.20.attention.self.value.lora_A.default.weight\n",
      "Active parameter: base_model.model.base_model.model.roberta.encoder.layer.20.attention.self.value.lora_B.default.weight\n",
      "Active parameter: base_model.model.base_model.model.roberta.encoder.layer.21.attention.self.query.lora_A.default.weight\n",
      "Active parameter: base_model.model.base_model.model.roberta.encoder.layer.21.attention.self.query.lora_B.default.weight\n",
      "Active parameter: base_model.model.base_model.model.roberta.encoder.layer.21.attention.self.value.lora_A.default.weight\n",
      "Active parameter: base_model.model.base_model.model.roberta.encoder.layer.21.attention.self.value.lora_B.default.weight\n",
      "Active parameter: base_model.model.base_model.model.roberta.encoder.layer.22.attention.self.query.lora_A.default.weight\n",
      "Active parameter: base_model.model.base_model.model.roberta.encoder.layer.22.attention.self.query.lora_B.default.weight\n",
      "Active parameter: base_model.model.base_model.model.roberta.encoder.layer.22.attention.self.value.lora_A.default.weight\n",
      "Active parameter: base_model.model.base_model.model.roberta.encoder.layer.22.attention.self.value.lora_B.default.weight\n",
      "Active parameter: base_model.model.base_model.model.roberta.encoder.layer.23.attention.self.query.lora_A.default.weight\n",
      "Active parameter: base_model.model.base_model.model.roberta.encoder.layer.23.attention.self.query.lora_B.default.weight\n",
      "Active parameter: base_model.model.base_model.model.roberta.encoder.layer.23.attention.self.value.lora_A.default.weight\n",
      "Active parameter: base_model.model.base_model.model.roberta.encoder.layer.23.attention.self.value.lora_B.default.weight\n",
      "Active parameter: base_model.model.base_model.model.classifier.modules_to_save.default.dense.weight\n",
      "Active parameter: base_model.model.base_model.model.classifier.modules_to_save.default.dense.bias\n",
      "Active parameter: base_model.model.base_model.model.classifier.modules_to_save.default.out_proj.weight\n",
      "Active parameter: base_model.model.base_model.model.classifier.modules_to_save.default.out_proj.bias\n",
      "new lora, r = 8:\n"
     ]
    },
    {
     "name": "stderr",
     "output_type": "stream",
     "text": [
      "100%|██████████| 719/719 [00:30<00:00, 23.58it/s]\n",
      "100%|██████████| 188/188 [00:02<00:00, 74.11it/s]\n"
     ]
    },
    {
     "name": "stdout",
     "output_type": "stream",
     "text": [
      "epoch 8: {'pearson': 0.9212019704240686, 'spearmanr': 0.918529786095649}\n"
     ]
    },
    {
     "name": "stderr",
     "output_type": "stream",
     "text": [
      "100%|██████████| 719/719 [00:29<00:00, 24.72it/s]\n",
      "100%|██████████| 188/188 [00:02<00:00, 79.43it/s]\n"
     ]
    },
    {
     "name": "stdout",
     "output_type": "stream",
     "text": [
      "epoch 9: {'pearson': 0.9204851367185836, 'spearmanr': 0.9170069914517998}\n"
     ]
    },
    {
     "name": "stderr",
     "output_type": "stream",
     "text": [
      "100%|██████████| 719/719 [00:29<00:00, 24.10it/s]\n",
      "100%|██████████| 188/188 [00:02<00:00, 66.62it/s]\n"
     ]
    },
    {
     "name": "stdout",
     "output_type": "stream",
     "text": [
      "epoch 10: {'pearson': 0.9170480134919688, 'spearmanr': 0.9139787829589986}\n"
     ]
    },
    {
     "name": "stderr",
     "output_type": "stream",
     "text": [
      "100%|██████████| 719/719 [00:30<00:00, 23.53it/s]\n",
      "100%|██████████| 188/188 [00:02<00:00, 77.66it/s]\n"
     ]
    },
    {
     "name": "stdout",
     "output_type": "stream",
     "text": [
      "epoch 11: {'pearson': 0.9185378353908915, 'spearmanr': 0.9173619053232346}\n"
     ]
    },
    {
     "name": "stderr",
     "output_type": "stream",
     "text": [
      "100%|██████████| 719/719 [00:29<00:00, 24.17it/s]\n",
      "100%|██████████| 188/188 [00:02<00:00, 77.51it/s]\n"
     ]
    },
    {
     "name": "stdout",
     "output_type": "stream",
     "text": [
      "epoch 12: {'pearson': 0.917109645475319, 'spearmanr': 0.9152421023350439}\n"
     ]
    },
    {
     "name": "stderr",
     "output_type": "stream",
     "text": [
      "100%|██████████| 719/719 [00:30<00:00, 23.87it/s]\n",
      "100%|██████████| 188/188 [00:02<00:00, 73.40it/s]\n"
     ]
    },
    {
     "name": "stdout",
     "output_type": "stream",
     "text": [
      "epoch 13: {'pearson': 0.9202059254346818, 'spearmanr': 0.9172901197608169}\n"
     ]
    },
    {
     "name": "stderr",
     "output_type": "stream",
     "text": [
      "100%|██████████| 719/719 [00:30<00:00, 23.70it/s]\n",
      "100%|██████████| 188/188 [00:02<00:00, 77.34it/s]\n"
     ]
    },
    {
     "name": "stdout",
     "output_type": "stream",
     "text": [
      "epoch 14: {'pearson': 0.9221988953441175, 'spearmanr': 0.9192400855175872}\n"
     ]
    },
    {
     "name": "stderr",
     "output_type": "stream",
     "text": [
      "100%|██████████| 719/719 [00:29<00:00, 23.97it/s]\n",
      "100%|██████████| 188/188 [00:02<00:00, 78.51it/s]\n"
     ]
    },
    {
     "name": "stdout",
     "output_type": "stream",
     "text": [
      "epoch 15: {'pearson': 0.9218704412983547, 'spearmanr': 0.9195656747099619}\n",
      "Applied shared LoRA A matrix for base_model.model.base_model.model.base_model.model.roberta.encoder.layer.0.attention.self.query.lora_A.default.weight\n",
      "Applied shared LoRA A matrix for base_model.model.base_model.model.base_model.model.roberta.encoder.layer.0.attention.self.value.lora_A.default.weight\n",
      "Applied shared LoRA A matrix for base_model.model.base_model.model.base_model.model.roberta.encoder.layer.1.attention.self.query.lora_A.default.weight\n",
      "Applied shared LoRA A matrix for base_model.model.base_model.model.base_model.model.roberta.encoder.layer.1.attention.self.value.lora_A.default.weight\n",
      "Applied shared LoRA A matrix for base_model.model.base_model.model.base_model.model.roberta.encoder.layer.2.attention.self.query.lora_A.default.weight\n",
      "Applied shared LoRA A matrix for base_model.model.base_model.model.base_model.model.roberta.encoder.layer.2.attention.self.value.lora_A.default.weight\n",
      "Applied shared LoRA A matrix for base_model.model.base_model.model.base_model.model.roberta.encoder.layer.3.attention.self.query.lora_A.default.weight\n",
      "Applied shared LoRA A matrix for base_model.model.base_model.model.base_model.model.roberta.encoder.layer.3.attention.self.value.lora_A.default.weight\n",
      "Applied shared LoRA A matrix for base_model.model.base_model.model.base_model.model.roberta.encoder.layer.4.attention.self.query.lora_A.default.weight\n",
      "Applied shared LoRA A matrix for base_model.model.base_model.model.base_model.model.roberta.encoder.layer.4.attention.self.value.lora_A.default.weight\n",
      "Applied shared LoRA A matrix for base_model.model.base_model.model.base_model.model.roberta.encoder.layer.5.attention.self.query.lora_A.default.weight\n",
      "Applied shared LoRA A matrix for base_model.model.base_model.model.base_model.model.roberta.encoder.layer.5.attention.self.value.lora_A.default.weight\n",
      "Applied shared LoRA A matrix for base_model.model.base_model.model.base_model.model.roberta.encoder.layer.6.attention.self.query.lora_A.default.weight\n",
      "Applied shared LoRA A matrix for base_model.model.base_model.model.base_model.model.roberta.encoder.layer.6.attention.self.value.lora_A.default.weight\n",
      "Applied shared LoRA A matrix for base_model.model.base_model.model.base_model.model.roberta.encoder.layer.7.attention.self.query.lora_A.default.weight\n",
      "Applied shared LoRA A matrix for base_model.model.base_model.model.base_model.model.roberta.encoder.layer.7.attention.self.value.lora_A.default.weight\n",
      "Applied shared LoRA A matrix for base_model.model.base_model.model.base_model.model.roberta.encoder.layer.8.attention.self.query.lora_A.default.weight\n",
      "Applied shared LoRA A matrix for base_model.model.base_model.model.base_model.model.roberta.encoder.layer.8.attention.self.value.lora_A.default.weight\n",
      "Applied shared LoRA A matrix for base_model.model.base_model.model.base_model.model.roberta.encoder.layer.9.attention.self.query.lora_A.default.weight\n",
      "Applied shared LoRA A matrix for base_model.model.base_model.model.base_model.model.roberta.encoder.layer.9.attention.self.value.lora_A.default.weight\n",
      "Applied shared LoRA A matrix for base_model.model.base_model.model.base_model.model.roberta.encoder.layer.10.attention.self.query.lora_A.default.weight\n",
      "Applied shared LoRA A matrix for base_model.model.base_model.model.base_model.model.roberta.encoder.layer.10.attention.self.value.lora_A.default.weight\n",
      "Applied shared LoRA A matrix for base_model.model.base_model.model.base_model.model.roberta.encoder.layer.11.attention.self.query.lora_A.default.weight\n",
      "Applied shared LoRA A matrix for base_model.model.base_model.model.base_model.model.roberta.encoder.layer.11.attention.self.value.lora_A.default.weight\n",
      "Applied shared LoRA A matrix for base_model.model.base_model.model.base_model.model.roberta.encoder.layer.12.attention.self.query.lora_A.default.weight\n",
      "Applied shared LoRA A matrix for base_model.model.base_model.model.base_model.model.roberta.encoder.layer.12.attention.self.value.lora_A.default.weight\n",
      "Applied shared LoRA A matrix for base_model.model.base_model.model.base_model.model.roberta.encoder.layer.13.attention.self.query.lora_A.default.weight\n",
      "Applied shared LoRA A matrix for base_model.model.base_model.model.base_model.model.roberta.encoder.layer.13.attention.self.value.lora_A.default.weight\n",
      "Applied shared LoRA A matrix for base_model.model.base_model.model.base_model.model.roberta.encoder.layer.14.attention.self.query.lora_A.default.weight\n",
      "Applied shared LoRA A matrix for base_model.model.base_model.model.base_model.model.roberta.encoder.layer.14.attention.self.value.lora_A.default.weight\n",
      "Applied shared LoRA A matrix for base_model.model.base_model.model.base_model.model.roberta.encoder.layer.15.attention.self.query.lora_A.default.weight\n",
      "Applied shared LoRA A matrix for base_model.model.base_model.model.base_model.model.roberta.encoder.layer.15.attention.self.value.lora_A.default.weight\n",
      "Applied shared LoRA A matrix for base_model.model.base_model.model.base_model.model.roberta.encoder.layer.16.attention.self.query.lora_A.default.weight\n",
      "Applied shared LoRA A matrix for base_model.model.base_model.model.base_model.model.roberta.encoder.layer.16.attention.self.value.lora_A.default.weight\n",
      "Applied shared LoRA A matrix for base_model.model.base_model.model.base_model.model.roberta.encoder.layer.17.attention.self.query.lora_A.default.weight\n",
      "Applied shared LoRA A matrix for base_model.model.base_model.model.base_model.model.roberta.encoder.layer.17.attention.self.value.lora_A.default.weight\n",
      "Applied shared LoRA A matrix for base_model.model.base_model.model.base_model.model.roberta.encoder.layer.18.attention.self.query.lora_A.default.weight\n",
      "Applied shared LoRA A matrix for base_model.model.base_model.model.base_model.model.roberta.encoder.layer.18.attention.self.value.lora_A.default.weight\n",
      "Applied shared LoRA A matrix for base_model.model.base_model.model.base_model.model.roberta.encoder.layer.19.attention.self.query.lora_A.default.weight\n",
      "Applied shared LoRA A matrix for base_model.model.base_model.model.base_model.model.roberta.encoder.layer.19.attention.self.value.lora_A.default.weight\n",
      "Applied shared LoRA A matrix for base_model.model.base_model.model.base_model.model.roberta.encoder.layer.20.attention.self.query.lora_A.default.weight\n",
      "Applied shared LoRA A matrix for base_model.model.base_model.model.base_model.model.roberta.encoder.layer.20.attention.self.value.lora_A.default.weight\n",
      "Applied shared LoRA A matrix for base_model.model.base_model.model.base_model.model.roberta.encoder.layer.21.attention.self.query.lora_A.default.weight\n",
      "Applied shared LoRA A matrix for base_model.model.base_model.model.base_model.model.roberta.encoder.layer.21.attention.self.value.lora_A.default.weight\n",
      "Applied shared LoRA A matrix for base_model.model.base_model.model.base_model.model.roberta.encoder.layer.22.attention.self.query.lora_A.default.weight\n",
      "Applied shared LoRA A matrix for base_model.model.base_model.model.base_model.model.roberta.encoder.layer.22.attention.self.value.lora_A.default.weight\n",
      "Applied shared LoRA A matrix for base_model.model.base_model.model.base_model.model.roberta.encoder.layer.23.attention.self.query.lora_A.default.weight\n",
      "Applied shared LoRA A matrix for base_model.model.base_model.model.base_model.model.roberta.encoder.layer.23.attention.self.value.lora_A.default.weight\n",
      "Active parameter: base_model.model.base_model.model.base_model.model.roberta.encoder.layer.0.attention.self.query.lora_A.default.weight\n",
      "Active parameter: base_model.model.base_model.model.base_model.model.roberta.encoder.layer.0.attention.self.query.lora_B.default.weight\n",
      "Active parameter: base_model.model.base_model.model.base_model.model.roberta.encoder.layer.0.attention.self.value.lora_A.default.weight\n",
      "Active parameter: base_model.model.base_model.model.base_model.model.roberta.encoder.layer.0.attention.self.value.lora_B.default.weight\n",
      "Active parameter: base_model.model.base_model.model.base_model.model.roberta.encoder.layer.1.attention.self.query.lora_A.default.weight\n",
      "Active parameter: base_model.model.base_model.model.base_model.model.roberta.encoder.layer.1.attention.self.query.lora_B.default.weight\n",
      "Active parameter: base_model.model.base_model.model.base_model.model.roberta.encoder.layer.1.attention.self.value.lora_A.default.weight\n",
      "Active parameter: base_model.model.base_model.model.base_model.model.roberta.encoder.layer.1.attention.self.value.lora_B.default.weight\n",
      "Active parameter: base_model.model.base_model.model.base_model.model.roberta.encoder.layer.2.attention.self.query.lora_A.default.weight\n",
      "Active parameter: base_model.model.base_model.model.base_model.model.roberta.encoder.layer.2.attention.self.query.lora_B.default.weight\n",
      "Active parameter: base_model.model.base_model.model.base_model.model.roberta.encoder.layer.2.attention.self.value.lora_A.default.weight\n",
      "Active parameter: base_model.model.base_model.model.base_model.model.roberta.encoder.layer.2.attention.self.value.lora_B.default.weight\n",
      "Active parameter: base_model.model.base_model.model.base_model.model.roberta.encoder.layer.3.attention.self.query.lora_A.default.weight\n",
      "Active parameter: base_model.model.base_model.model.base_model.model.roberta.encoder.layer.3.attention.self.query.lora_B.default.weight\n",
      "Active parameter: base_model.model.base_model.model.base_model.model.roberta.encoder.layer.3.attention.self.value.lora_A.default.weight\n",
      "Active parameter: base_model.model.base_model.model.base_model.model.roberta.encoder.layer.3.attention.self.value.lora_B.default.weight\n",
      "Active parameter: base_model.model.base_model.model.base_model.model.roberta.encoder.layer.4.attention.self.query.lora_A.default.weight\n",
      "Active parameter: base_model.model.base_model.model.base_model.model.roberta.encoder.layer.4.attention.self.query.lora_B.default.weight\n",
      "Active parameter: base_model.model.base_model.model.base_model.model.roberta.encoder.layer.4.attention.self.value.lora_A.default.weight\n",
      "Active parameter: base_model.model.base_model.model.base_model.model.roberta.encoder.layer.4.attention.self.value.lora_B.default.weight\n",
      "Active parameter: base_model.model.base_model.model.base_model.model.roberta.encoder.layer.5.attention.self.query.lora_A.default.weight\n",
      "Active parameter: base_model.model.base_model.model.base_model.model.roberta.encoder.layer.5.attention.self.query.lora_B.default.weight\n",
      "Active parameter: base_model.model.base_model.model.base_model.model.roberta.encoder.layer.5.attention.self.value.lora_A.default.weight\n",
      "Active parameter: base_model.model.base_model.model.base_model.model.roberta.encoder.layer.5.attention.self.value.lora_B.default.weight\n",
      "Active parameter: base_model.model.base_model.model.base_model.model.roberta.encoder.layer.6.attention.self.query.lora_A.default.weight\n",
      "Active parameter: base_model.model.base_model.model.base_model.model.roberta.encoder.layer.6.attention.self.query.lora_B.default.weight\n",
      "Active parameter: base_model.model.base_model.model.base_model.model.roberta.encoder.layer.6.attention.self.value.lora_A.default.weight\n",
      "Active parameter: base_model.model.base_model.model.base_model.model.roberta.encoder.layer.6.attention.self.value.lora_B.default.weight\n",
      "Active parameter: base_model.model.base_model.model.base_model.model.roberta.encoder.layer.7.attention.self.query.lora_A.default.weight\n",
      "Active parameter: base_model.model.base_model.model.base_model.model.roberta.encoder.layer.7.attention.self.query.lora_B.default.weight\n",
      "Active parameter: base_model.model.base_model.model.base_model.model.roberta.encoder.layer.7.attention.self.value.lora_A.default.weight\n",
      "Active parameter: base_model.model.base_model.model.base_model.model.roberta.encoder.layer.7.attention.self.value.lora_B.default.weight\n",
      "Active parameter: base_model.model.base_model.model.base_model.model.roberta.encoder.layer.8.attention.self.query.lora_A.default.weight\n",
      "Active parameter: base_model.model.base_model.model.base_model.model.roberta.encoder.layer.8.attention.self.query.lora_B.default.weight\n",
      "Active parameter: base_model.model.base_model.model.base_model.model.roberta.encoder.layer.8.attention.self.value.lora_A.default.weight\n",
      "Active parameter: base_model.model.base_model.model.base_model.model.roberta.encoder.layer.8.attention.self.value.lora_B.default.weight\n",
      "Active parameter: base_model.model.base_model.model.base_model.model.roberta.encoder.layer.9.attention.self.query.lora_A.default.weight\n",
      "Active parameter: base_model.model.base_model.model.base_model.model.roberta.encoder.layer.9.attention.self.query.lora_B.default.weight\n",
      "Active parameter: base_model.model.base_model.model.base_model.model.roberta.encoder.layer.9.attention.self.value.lora_A.default.weight\n",
      "Active parameter: base_model.model.base_model.model.base_model.model.roberta.encoder.layer.9.attention.self.value.lora_B.default.weight\n",
      "Active parameter: base_model.model.base_model.model.base_model.model.roberta.encoder.layer.10.attention.self.query.lora_A.default.weight\n",
      "Active parameter: base_model.model.base_model.model.base_model.model.roberta.encoder.layer.10.attention.self.query.lora_B.default.weight\n",
      "Active parameter: base_model.model.base_model.model.base_model.model.roberta.encoder.layer.10.attention.self.value.lora_A.default.weight\n",
      "Active parameter: base_model.model.base_model.model.base_model.model.roberta.encoder.layer.10.attention.self.value.lora_B.default.weight\n",
      "Active parameter: base_model.model.base_model.model.base_model.model.roberta.encoder.layer.11.attention.self.query.lora_A.default.weight\n",
      "Active parameter: base_model.model.base_model.model.base_model.model.roberta.encoder.layer.11.attention.self.query.lora_B.default.weight\n",
      "Active parameter: base_model.model.base_model.model.base_model.model.roberta.encoder.layer.11.attention.self.value.lora_A.default.weight\n",
      "Active parameter: base_model.model.base_model.model.base_model.model.roberta.encoder.layer.11.attention.self.value.lora_B.default.weight\n",
      "Active parameter: base_model.model.base_model.model.base_model.model.roberta.encoder.layer.12.attention.self.query.lora_A.default.weight\n",
      "Active parameter: base_model.model.base_model.model.base_model.model.roberta.encoder.layer.12.attention.self.query.lora_B.default.weight\n",
      "Active parameter: base_model.model.base_model.model.base_model.model.roberta.encoder.layer.12.attention.self.value.lora_A.default.weight\n",
      "Active parameter: base_model.model.base_model.model.base_model.model.roberta.encoder.layer.12.attention.self.value.lora_B.default.weight\n",
      "Active parameter: base_model.model.base_model.model.base_model.model.roberta.encoder.layer.13.attention.self.query.lora_A.default.weight\n",
      "Active parameter: base_model.model.base_model.model.base_model.model.roberta.encoder.layer.13.attention.self.query.lora_B.default.weight\n",
      "Active parameter: base_model.model.base_model.model.base_model.model.roberta.encoder.layer.13.attention.self.value.lora_A.default.weight\n",
      "Active parameter: base_model.model.base_model.model.base_model.model.roberta.encoder.layer.13.attention.self.value.lora_B.default.weight\n",
      "Active parameter: base_model.model.base_model.model.base_model.model.roberta.encoder.layer.14.attention.self.query.lora_A.default.weight\n",
      "Active parameter: base_model.model.base_model.model.base_model.model.roberta.encoder.layer.14.attention.self.query.lora_B.default.weight\n",
      "Active parameter: base_model.model.base_model.model.base_model.model.roberta.encoder.layer.14.attention.self.value.lora_A.default.weight\n",
      "Active parameter: base_model.model.base_model.model.base_model.model.roberta.encoder.layer.14.attention.self.value.lora_B.default.weight\n",
      "Active parameter: base_model.model.base_model.model.base_model.model.roberta.encoder.layer.15.attention.self.query.lora_A.default.weight\n",
      "Active parameter: base_model.model.base_model.model.base_model.model.roberta.encoder.layer.15.attention.self.query.lora_B.default.weight\n",
      "Active parameter: base_model.model.base_model.model.base_model.model.roberta.encoder.layer.15.attention.self.value.lora_A.default.weight\n",
      "Active parameter: base_model.model.base_model.model.base_model.model.roberta.encoder.layer.15.attention.self.value.lora_B.default.weight\n",
      "Active parameter: base_model.model.base_model.model.base_model.model.roberta.encoder.layer.16.attention.self.query.lora_A.default.weight\n",
      "Active parameter: base_model.model.base_model.model.base_model.model.roberta.encoder.layer.16.attention.self.query.lora_B.default.weight\n",
      "Active parameter: base_model.model.base_model.model.base_model.model.roberta.encoder.layer.16.attention.self.value.lora_A.default.weight\n",
      "Active parameter: base_model.model.base_model.model.base_model.model.roberta.encoder.layer.16.attention.self.value.lora_B.default.weight\n",
      "Active parameter: base_model.model.base_model.model.base_model.model.roberta.encoder.layer.17.attention.self.query.lora_A.default.weight\n",
      "Active parameter: base_model.model.base_model.model.base_model.model.roberta.encoder.layer.17.attention.self.query.lora_B.default.weight\n",
      "Active parameter: base_model.model.base_model.model.base_model.model.roberta.encoder.layer.17.attention.self.value.lora_A.default.weight\n",
      "Active parameter: base_model.model.base_model.model.base_model.model.roberta.encoder.layer.17.attention.self.value.lora_B.default.weight\n",
      "Active parameter: base_model.model.base_model.model.base_model.model.roberta.encoder.layer.18.attention.self.query.lora_A.default.weight\n",
      "Active parameter: base_model.model.base_model.model.base_model.model.roberta.encoder.layer.18.attention.self.query.lora_B.default.weight\n",
      "Active parameter: base_model.model.base_model.model.base_model.model.roberta.encoder.layer.18.attention.self.value.lora_A.default.weight\n",
      "Active parameter: base_model.model.base_model.model.base_model.model.roberta.encoder.layer.18.attention.self.value.lora_B.default.weight\n",
      "Active parameter: base_model.model.base_model.model.base_model.model.roberta.encoder.layer.19.attention.self.query.lora_A.default.weight\n",
      "Active parameter: base_model.model.base_model.model.base_model.model.roberta.encoder.layer.19.attention.self.query.lora_B.default.weight\n",
      "Active parameter: base_model.model.base_model.model.base_model.model.roberta.encoder.layer.19.attention.self.value.lora_A.default.weight\n",
      "Active parameter: base_model.model.base_model.model.base_model.model.roberta.encoder.layer.19.attention.self.value.lora_B.default.weight\n",
      "Active parameter: base_model.model.base_model.model.base_model.model.roberta.encoder.layer.20.attention.self.query.lora_A.default.weight\n",
      "Active parameter: base_model.model.base_model.model.base_model.model.roberta.encoder.layer.20.attention.self.query.lora_B.default.weight\n",
      "Active parameter: base_model.model.base_model.model.base_model.model.roberta.encoder.layer.20.attention.self.value.lora_A.default.weight\n",
      "Active parameter: base_model.model.base_model.model.base_model.model.roberta.encoder.layer.20.attention.self.value.lora_B.default.weight\n",
      "Active parameter: base_model.model.base_model.model.base_model.model.roberta.encoder.layer.21.attention.self.query.lora_A.default.weight\n",
      "Active parameter: base_model.model.base_model.model.base_model.model.roberta.encoder.layer.21.attention.self.query.lora_B.default.weight\n",
      "Active parameter: base_model.model.base_model.model.base_model.model.roberta.encoder.layer.21.attention.self.value.lora_A.default.weight\n",
      "Active parameter: base_model.model.base_model.model.base_model.model.roberta.encoder.layer.21.attention.self.value.lora_B.default.weight\n",
      "Active parameter: base_model.model.base_model.model.base_model.model.roberta.encoder.layer.22.attention.self.query.lora_A.default.weight\n",
      "Active parameter: base_model.model.base_model.model.base_model.model.roberta.encoder.layer.22.attention.self.query.lora_B.default.weight\n",
      "Active parameter: base_model.model.base_model.model.base_model.model.roberta.encoder.layer.22.attention.self.value.lora_A.default.weight\n",
      "Active parameter: base_model.model.base_model.model.base_model.model.roberta.encoder.layer.22.attention.self.value.lora_B.default.weight\n",
      "Active parameter: base_model.model.base_model.model.base_model.model.roberta.encoder.layer.23.attention.self.query.lora_A.default.weight\n",
      "Active parameter: base_model.model.base_model.model.base_model.model.roberta.encoder.layer.23.attention.self.query.lora_B.default.weight\n",
      "Active parameter: base_model.model.base_model.model.base_model.model.roberta.encoder.layer.23.attention.self.value.lora_A.default.weight\n",
      "Active parameter: base_model.model.base_model.model.base_model.model.roberta.encoder.layer.23.attention.self.value.lora_B.default.weight\n",
      "Active parameter: base_model.model.base_model.model.base_model.model.classifier.modules_to_save.default.dense.weight\n",
      "Active parameter: base_model.model.base_model.model.base_model.model.classifier.modules_to_save.default.dense.bias\n",
      "Active parameter: base_model.model.base_model.model.base_model.model.classifier.modules_to_save.default.out_proj.weight\n",
      "Active parameter: base_model.model.base_model.model.base_model.model.classifier.modules_to_save.default.out_proj.bias\n",
      "new lora, r = 8:\n"
     ]
    },
    {
     "name": "stderr",
     "output_type": "stream",
     "text": [
      "100%|██████████| 719/719 [00:36<00:00, 19.96it/s]\n",
      "100%|██████████| 188/188 [00:02<00:00, 79.32it/s]\n"
     ]
    },
    {
     "name": "stdout",
     "output_type": "stream",
     "text": [
      "epoch 16: {'pearson': 0.9149693142714489, 'spearmanr': 0.9176299687494966}\n"
     ]
    },
    {
     "name": "stderr",
     "output_type": "stream",
     "text": [
      "100%|██████████| 719/719 [00:35<00:00, 20.00it/s]\n",
      "100%|██████████| 188/188 [00:02<00:00, 77.99it/s]\n"
     ]
    },
    {
     "name": "stdout",
     "output_type": "stream",
     "text": [
      "epoch 17: {'pearson': 0.9176735175766283, 'spearmanr': 0.9164859483880591}\n"
     ]
    },
    {
     "name": "stderr",
     "output_type": "stream",
     "text": [
      "100%|██████████| 719/719 [00:36<00:00, 19.77it/s]\n",
      "100%|██████████| 188/188 [00:02<00:00, 79.72it/s]\n"
     ]
    },
    {
     "name": "stdout",
     "output_type": "stream",
     "text": [
      "epoch 18: {'pearson': 0.9180746915358111, 'spearmanr': 0.9144052031817224}\n"
     ]
    },
    {
     "name": "stderr",
     "output_type": "stream",
     "text": [
      "100%|██████████| 719/719 [00:36<00:00, 19.84it/s]\n",
      "100%|██████████| 188/188 [00:02<00:00, 80.65it/s]\n"
     ]
    },
    {
     "name": "stdout",
     "output_type": "stream",
     "text": [
      "epoch 19: {'pearson': 0.9182799444025239, 'spearmanr': 0.9182325794851138}\n"
     ]
    },
    {
     "name": "stderr",
     "output_type": "stream",
     "text": [
      "100%|██████████| 719/719 [00:35<00:00, 20.01it/s]\n",
      "100%|██████████| 188/188 [00:02<00:00, 73.70it/s]\n"
     ]
    },
    {
     "name": "stdout",
     "output_type": "stream",
     "text": [
      "epoch 20: {'pearson': 0.9206504624082789, 'spearmanr': 0.9181823720816182}\n"
     ]
    },
    {
     "name": "stderr",
     "output_type": "stream",
     "text": [
      "100%|██████████| 719/719 [00:37<00:00, 19.43it/s]\n",
      "100%|██████████| 188/188 [00:02<00:00, 78.29it/s]\n"
     ]
    },
    {
     "name": "stdout",
     "output_type": "stream",
     "text": [
      "epoch 21: {'pearson': 0.9202879318153517, 'spearmanr': 0.917738216155064}\n"
     ]
    },
    {
     "name": "stderr",
     "output_type": "stream",
     "text": [
      "100%|██████████| 719/719 [00:36<00:00, 19.84it/s]\n",
      "100%|██████████| 188/188 [00:02<00:00, 77.14it/s]\n"
     ]
    },
    {
     "name": "stdout",
     "output_type": "stream",
     "text": [
      "epoch 22: {'pearson': 0.9200369904083513, 'spearmanr': 0.9175361786492673}\n"
     ]
    },
    {
     "name": "stderr",
     "output_type": "stream",
     "text": [
      "100%|██████████| 719/719 [00:36<00:00, 19.67it/s]\n",
      "100%|██████████| 188/188 [00:02<00:00, 75.29it/s]\n"
     ]
    },
    {
     "name": "stdout",
     "output_type": "stream",
     "text": [
      "epoch 23: {'pearson': 0.9201190328350677, 'spearmanr': 0.917492315629712}\n",
      "Applied shared LoRA A matrix for base_model.model.base_model.model.base_model.model.base_model.model.roberta.encoder.layer.0.attention.self.query.lora_A.default.weight\n",
      "Applied shared LoRA A matrix for base_model.model.base_model.model.base_model.model.base_model.model.roberta.encoder.layer.0.attention.self.value.lora_A.default.weight\n",
      "Applied shared LoRA A matrix for base_model.model.base_model.model.base_model.model.base_model.model.roberta.encoder.layer.1.attention.self.query.lora_A.default.weight\n",
      "Applied shared LoRA A matrix for base_model.model.base_model.model.base_model.model.base_model.model.roberta.encoder.layer.1.attention.self.value.lora_A.default.weight\n",
      "Applied shared LoRA A matrix for base_model.model.base_model.model.base_model.model.base_model.model.roberta.encoder.layer.2.attention.self.query.lora_A.default.weight\n",
      "Applied shared LoRA A matrix for base_model.model.base_model.model.base_model.model.base_model.model.roberta.encoder.layer.2.attention.self.value.lora_A.default.weight\n",
      "Applied shared LoRA A matrix for base_model.model.base_model.model.base_model.model.base_model.model.roberta.encoder.layer.3.attention.self.query.lora_A.default.weight\n",
      "Applied shared LoRA A matrix for base_model.model.base_model.model.base_model.model.base_model.model.roberta.encoder.layer.3.attention.self.value.lora_A.default.weight\n",
      "Applied shared LoRA A matrix for base_model.model.base_model.model.base_model.model.base_model.model.roberta.encoder.layer.4.attention.self.query.lora_A.default.weight\n",
      "Applied shared LoRA A matrix for base_model.model.base_model.model.base_model.model.base_model.model.roberta.encoder.layer.4.attention.self.value.lora_A.default.weight\n",
      "Applied shared LoRA A matrix for base_model.model.base_model.model.base_model.model.base_model.model.roberta.encoder.layer.5.attention.self.query.lora_A.default.weight\n",
      "Applied shared LoRA A matrix for base_model.model.base_model.model.base_model.model.base_model.model.roberta.encoder.layer.5.attention.self.value.lora_A.default.weight\n",
      "Applied shared LoRA A matrix for base_model.model.base_model.model.base_model.model.base_model.model.roberta.encoder.layer.6.attention.self.query.lora_A.default.weight\n",
      "Applied shared LoRA A matrix for base_model.model.base_model.model.base_model.model.base_model.model.roberta.encoder.layer.6.attention.self.value.lora_A.default.weight\n",
      "Applied shared LoRA A matrix for base_model.model.base_model.model.base_model.model.base_model.model.roberta.encoder.layer.7.attention.self.query.lora_A.default.weight\n",
      "Applied shared LoRA A matrix for base_model.model.base_model.model.base_model.model.base_model.model.roberta.encoder.layer.7.attention.self.value.lora_A.default.weight\n",
      "Applied shared LoRA A matrix for base_model.model.base_model.model.base_model.model.base_model.model.roberta.encoder.layer.8.attention.self.query.lora_A.default.weight\n",
      "Applied shared LoRA A matrix for base_model.model.base_model.model.base_model.model.base_model.model.roberta.encoder.layer.8.attention.self.value.lora_A.default.weight\n",
      "Applied shared LoRA A matrix for base_model.model.base_model.model.base_model.model.base_model.model.roberta.encoder.layer.9.attention.self.query.lora_A.default.weight\n",
      "Applied shared LoRA A matrix for base_model.model.base_model.model.base_model.model.base_model.model.roberta.encoder.layer.9.attention.self.value.lora_A.default.weight\n",
      "Applied shared LoRA A matrix for base_model.model.base_model.model.base_model.model.base_model.model.roberta.encoder.layer.10.attention.self.query.lora_A.default.weight\n",
      "Applied shared LoRA A matrix for base_model.model.base_model.model.base_model.model.base_model.model.roberta.encoder.layer.10.attention.self.value.lora_A.default.weight\n",
      "Applied shared LoRA A matrix for base_model.model.base_model.model.base_model.model.base_model.model.roberta.encoder.layer.11.attention.self.query.lora_A.default.weight\n",
      "Applied shared LoRA A matrix for base_model.model.base_model.model.base_model.model.base_model.model.roberta.encoder.layer.11.attention.self.value.lora_A.default.weight\n",
      "Applied shared LoRA A matrix for base_model.model.base_model.model.base_model.model.base_model.model.roberta.encoder.layer.12.attention.self.query.lora_A.default.weight\n",
      "Applied shared LoRA A matrix for base_model.model.base_model.model.base_model.model.base_model.model.roberta.encoder.layer.12.attention.self.value.lora_A.default.weight\n",
      "Applied shared LoRA A matrix for base_model.model.base_model.model.base_model.model.base_model.model.roberta.encoder.layer.13.attention.self.query.lora_A.default.weight\n",
      "Applied shared LoRA A matrix for base_model.model.base_model.model.base_model.model.base_model.model.roberta.encoder.layer.13.attention.self.value.lora_A.default.weight\n",
      "Applied shared LoRA A matrix for base_model.model.base_model.model.base_model.model.base_model.model.roberta.encoder.layer.14.attention.self.query.lora_A.default.weight\n",
      "Applied shared LoRA A matrix for base_model.model.base_model.model.base_model.model.base_model.model.roberta.encoder.layer.14.attention.self.value.lora_A.default.weight\n",
      "Applied shared LoRA A matrix for base_model.model.base_model.model.base_model.model.base_model.model.roberta.encoder.layer.15.attention.self.query.lora_A.default.weight\n",
      "Applied shared LoRA A matrix for base_model.model.base_model.model.base_model.model.base_model.model.roberta.encoder.layer.15.attention.self.value.lora_A.default.weight\n",
      "Applied shared LoRA A matrix for base_model.model.base_model.model.base_model.model.base_model.model.roberta.encoder.layer.16.attention.self.query.lora_A.default.weight\n",
      "Applied shared LoRA A matrix for base_model.model.base_model.model.base_model.model.base_model.model.roberta.encoder.layer.16.attention.self.value.lora_A.default.weight\n",
      "Applied shared LoRA A matrix for base_model.model.base_model.model.base_model.model.base_model.model.roberta.encoder.layer.17.attention.self.query.lora_A.default.weight\n",
      "Applied shared LoRA A matrix for base_model.model.base_model.model.base_model.model.base_model.model.roberta.encoder.layer.17.attention.self.value.lora_A.default.weight\n",
      "Applied shared LoRA A matrix for base_model.model.base_model.model.base_model.model.base_model.model.roberta.encoder.layer.18.attention.self.query.lora_A.default.weight\n",
      "Applied shared LoRA A matrix for base_model.model.base_model.model.base_model.model.base_model.model.roberta.encoder.layer.18.attention.self.value.lora_A.default.weight\n",
      "Applied shared LoRA A matrix for base_model.model.base_model.model.base_model.model.base_model.model.roberta.encoder.layer.19.attention.self.query.lora_A.default.weight\n",
      "Applied shared LoRA A matrix for base_model.model.base_model.model.base_model.model.base_model.model.roberta.encoder.layer.19.attention.self.value.lora_A.default.weight\n",
      "Applied shared LoRA A matrix for base_model.model.base_model.model.base_model.model.base_model.model.roberta.encoder.layer.20.attention.self.query.lora_A.default.weight\n",
      "Applied shared LoRA A matrix for base_model.model.base_model.model.base_model.model.base_model.model.roberta.encoder.layer.20.attention.self.value.lora_A.default.weight\n",
      "Applied shared LoRA A matrix for base_model.model.base_model.model.base_model.model.base_model.model.roberta.encoder.layer.21.attention.self.query.lora_A.default.weight\n",
      "Applied shared LoRA A matrix for base_model.model.base_model.model.base_model.model.base_model.model.roberta.encoder.layer.21.attention.self.value.lora_A.default.weight\n",
      "Applied shared LoRA A matrix for base_model.model.base_model.model.base_model.model.base_model.model.roberta.encoder.layer.22.attention.self.query.lora_A.default.weight\n",
      "Applied shared LoRA A matrix for base_model.model.base_model.model.base_model.model.base_model.model.roberta.encoder.layer.22.attention.self.value.lora_A.default.weight\n",
      "Applied shared LoRA A matrix for base_model.model.base_model.model.base_model.model.base_model.model.roberta.encoder.layer.23.attention.self.query.lora_A.default.weight\n",
      "Applied shared LoRA A matrix for base_model.model.base_model.model.base_model.model.base_model.model.roberta.encoder.layer.23.attention.self.value.lora_A.default.weight\n",
      "Active parameter: base_model.model.base_model.model.base_model.model.base_model.model.roberta.encoder.layer.0.attention.self.query.lora_A.default.weight\n",
      "Active parameter: base_model.model.base_model.model.base_model.model.base_model.model.roberta.encoder.layer.0.attention.self.query.lora_B.default.weight\n",
      "Active parameter: base_model.model.base_model.model.base_model.model.base_model.model.roberta.encoder.layer.0.attention.self.value.lora_A.default.weight\n",
      "Active parameter: base_model.model.base_model.model.base_model.model.base_model.model.roberta.encoder.layer.0.attention.self.value.lora_B.default.weight\n",
      "Active parameter: base_model.model.base_model.model.base_model.model.base_model.model.roberta.encoder.layer.1.attention.self.query.lora_A.default.weight\n",
      "Active parameter: base_model.model.base_model.model.base_model.model.base_model.model.roberta.encoder.layer.1.attention.self.query.lora_B.default.weight\n",
      "Active parameter: base_model.model.base_model.model.base_model.model.base_model.model.roberta.encoder.layer.1.attention.self.value.lora_A.default.weight\n",
      "Active parameter: base_model.model.base_model.model.base_model.model.base_model.model.roberta.encoder.layer.1.attention.self.value.lora_B.default.weight\n",
      "Active parameter: base_model.model.base_model.model.base_model.model.base_model.model.roberta.encoder.layer.2.attention.self.query.lora_A.default.weight\n",
      "Active parameter: base_model.model.base_model.model.base_model.model.base_model.model.roberta.encoder.layer.2.attention.self.query.lora_B.default.weight\n",
      "Active parameter: base_model.model.base_model.model.base_model.model.base_model.model.roberta.encoder.layer.2.attention.self.value.lora_A.default.weight\n",
      "Active parameter: base_model.model.base_model.model.base_model.model.base_model.model.roberta.encoder.layer.2.attention.self.value.lora_B.default.weight\n",
      "Active parameter: base_model.model.base_model.model.base_model.model.base_model.model.roberta.encoder.layer.3.attention.self.query.lora_A.default.weight\n",
      "Active parameter: base_model.model.base_model.model.base_model.model.base_model.model.roberta.encoder.layer.3.attention.self.query.lora_B.default.weight\n",
      "Active parameter: base_model.model.base_model.model.base_model.model.base_model.model.roberta.encoder.layer.3.attention.self.value.lora_A.default.weight\n",
      "Active parameter: base_model.model.base_model.model.base_model.model.base_model.model.roberta.encoder.layer.3.attention.self.value.lora_B.default.weight\n",
      "Active parameter: base_model.model.base_model.model.base_model.model.base_model.model.roberta.encoder.layer.4.attention.self.query.lora_A.default.weight\n",
      "Active parameter: base_model.model.base_model.model.base_model.model.base_model.model.roberta.encoder.layer.4.attention.self.query.lora_B.default.weight\n",
      "Active parameter: base_model.model.base_model.model.base_model.model.base_model.model.roberta.encoder.layer.4.attention.self.value.lora_A.default.weight\n",
      "Active parameter: base_model.model.base_model.model.base_model.model.base_model.model.roberta.encoder.layer.4.attention.self.value.lora_B.default.weight\n",
      "Active parameter: base_model.model.base_model.model.base_model.model.base_model.model.roberta.encoder.layer.5.attention.self.query.lora_A.default.weight\n",
      "Active parameter: base_model.model.base_model.model.base_model.model.base_model.model.roberta.encoder.layer.5.attention.self.query.lora_B.default.weight\n",
      "Active parameter: base_model.model.base_model.model.base_model.model.base_model.model.roberta.encoder.layer.5.attention.self.value.lora_A.default.weight\n",
      "Active parameter: base_model.model.base_model.model.base_model.model.base_model.model.roberta.encoder.layer.5.attention.self.value.lora_B.default.weight\n",
      "Active parameter: base_model.model.base_model.model.base_model.model.base_model.model.roberta.encoder.layer.6.attention.self.query.lora_A.default.weight\n",
      "Active parameter: base_model.model.base_model.model.base_model.model.base_model.model.roberta.encoder.layer.6.attention.self.query.lora_B.default.weight\n",
      "Active parameter: base_model.model.base_model.model.base_model.model.base_model.model.roberta.encoder.layer.6.attention.self.value.lora_A.default.weight\n",
      "Active parameter: base_model.model.base_model.model.base_model.model.base_model.model.roberta.encoder.layer.6.attention.self.value.lora_B.default.weight\n",
      "Active parameter: base_model.model.base_model.model.base_model.model.base_model.model.roberta.encoder.layer.7.attention.self.query.lora_A.default.weight\n",
      "Active parameter: base_model.model.base_model.model.base_model.model.base_model.model.roberta.encoder.layer.7.attention.self.query.lora_B.default.weight\n",
      "Active parameter: base_model.model.base_model.model.base_model.model.base_model.model.roberta.encoder.layer.7.attention.self.value.lora_A.default.weight\n",
      "Active parameter: base_model.model.base_model.model.base_model.model.base_model.model.roberta.encoder.layer.7.attention.self.value.lora_B.default.weight\n",
      "Active parameter: base_model.model.base_model.model.base_model.model.base_model.model.roberta.encoder.layer.8.attention.self.query.lora_A.default.weight\n",
      "Active parameter: base_model.model.base_model.model.base_model.model.base_model.model.roberta.encoder.layer.8.attention.self.query.lora_B.default.weight\n",
      "Active parameter: base_model.model.base_model.model.base_model.model.base_model.model.roberta.encoder.layer.8.attention.self.value.lora_A.default.weight\n",
      "Active parameter: base_model.model.base_model.model.base_model.model.base_model.model.roberta.encoder.layer.8.attention.self.value.lora_B.default.weight\n",
      "Active parameter: base_model.model.base_model.model.base_model.model.base_model.model.roberta.encoder.layer.9.attention.self.query.lora_A.default.weight\n",
      "Active parameter: base_model.model.base_model.model.base_model.model.base_model.model.roberta.encoder.layer.9.attention.self.query.lora_B.default.weight\n",
      "Active parameter: base_model.model.base_model.model.base_model.model.base_model.model.roberta.encoder.layer.9.attention.self.value.lora_A.default.weight\n",
      "Active parameter: base_model.model.base_model.model.base_model.model.base_model.model.roberta.encoder.layer.9.attention.self.value.lora_B.default.weight\n",
      "Active parameter: base_model.model.base_model.model.base_model.model.base_model.model.roberta.encoder.layer.10.attention.self.query.lora_A.default.weight\n",
      "Active parameter: base_model.model.base_model.model.base_model.model.base_model.model.roberta.encoder.layer.10.attention.self.query.lora_B.default.weight\n",
      "Active parameter: base_model.model.base_model.model.base_model.model.base_model.model.roberta.encoder.layer.10.attention.self.value.lora_A.default.weight\n",
      "Active parameter: base_model.model.base_model.model.base_model.model.base_model.model.roberta.encoder.layer.10.attention.self.value.lora_B.default.weight\n",
      "Active parameter: base_model.model.base_model.model.base_model.model.base_model.model.roberta.encoder.layer.11.attention.self.query.lora_A.default.weight\n",
      "Active parameter: base_model.model.base_model.model.base_model.model.base_model.model.roberta.encoder.layer.11.attention.self.query.lora_B.default.weight\n",
      "Active parameter: base_model.model.base_model.model.base_model.model.base_model.model.roberta.encoder.layer.11.attention.self.value.lora_A.default.weight\n",
      "Active parameter: base_model.model.base_model.model.base_model.model.base_model.model.roberta.encoder.layer.11.attention.self.value.lora_B.default.weight\n",
      "Active parameter: base_model.model.base_model.model.base_model.model.base_model.model.roberta.encoder.layer.12.attention.self.query.lora_A.default.weight\n",
      "Active parameter: base_model.model.base_model.model.base_model.model.base_model.model.roberta.encoder.layer.12.attention.self.query.lora_B.default.weight\n",
      "Active parameter: base_model.model.base_model.model.base_model.model.base_model.model.roberta.encoder.layer.12.attention.self.value.lora_A.default.weight\n",
      "Active parameter: base_model.model.base_model.model.base_model.model.base_model.model.roberta.encoder.layer.12.attention.self.value.lora_B.default.weight\n",
      "Active parameter: base_model.model.base_model.model.base_model.model.base_model.model.roberta.encoder.layer.13.attention.self.query.lora_A.default.weight\n",
      "Active parameter: base_model.model.base_model.model.base_model.model.base_model.model.roberta.encoder.layer.13.attention.self.query.lora_B.default.weight\n",
      "Active parameter: base_model.model.base_model.model.base_model.model.base_model.model.roberta.encoder.layer.13.attention.self.value.lora_A.default.weight\n",
      "Active parameter: base_model.model.base_model.model.base_model.model.base_model.model.roberta.encoder.layer.13.attention.self.value.lora_B.default.weight\n",
      "Active parameter: base_model.model.base_model.model.base_model.model.base_model.model.roberta.encoder.layer.14.attention.self.query.lora_A.default.weight\n",
      "Active parameter: base_model.model.base_model.model.base_model.model.base_model.model.roberta.encoder.layer.14.attention.self.query.lora_B.default.weight\n",
      "Active parameter: base_model.model.base_model.model.base_model.model.base_model.model.roberta.encoder.layer.14.attention.self.value.lora_A.default.weight\n",
      "Active parameter: base_model.model.base_model.model.base_model.model.base_model.model.roberta.encoder.layer.14.attention.self.value.lora_B.default.weight\n",
      "Active parameter: base_model.model.base_model.model.base_model.model.base_model.model.roberta.encoder.layer.15.attention.self.query.lora_A.default.weight\n",
      "Active parameter: base_model.model.base_model.model.base_model.model.base_model.model.roberta.encoder.layer.15.attention.self.query.lora_B.default.weight\n",
      "Active parameter: base_model.model.base_model.model.base_model.model.base_model.model.roberta.encoder.layer.15.attention.self.value.lora_A.default.weight\n",
      "Active parameter: base_model.model.base_model.model.base_model.model.base_model.model.roberta.encoder.layer.15.attention.self.value.lora_B.default.weight\n",
      "Active parameter: base_model.model.base_model.model.base_model.model.base_model.model.roberta.encoder.layer.16.attention.self.query.lora_A.default.weight\n",
      "Active parameter: base_model.model.base_model.model.base_model.model.base_model.model.roberta.encoder.layer.16.attention.self.query.lora_B.default.weight\n",
      "Active parameter: base_model.model.base_model.model.base_model.model.base_model.model.roberta.encoder.layer.16.attention.self.value.lora_A.default.weight\n",
      "Active parameter: base_model.model.base_model.model.base_model.model.base_model.model.roberta.encoder.layer.16.attention.self.value.lora_B.default.weight\n",
      "Active parameter: base_model.model.base_model.model.base_model.model.base_model.model.roberta.encoder.layer.17.attention.self.query.lora_A.default.weight\n",
      "Active parameter: base_model.model.base_model.model.base_model.model.base_model.model.roberta.encoder.layer.17.attention.self.query.lora_B.default.weight\n",
      "Active parameter: base_model.model.base_model.model.base_model.model.base_model.model.roberta.encoder.layer.17.attention.self.value.lora_A.default.weight\n",
      "Active parameter: base_model.model.base_model.model.base_model.model.base_model.model.roberta.encoder.layer.17.attention.self.value.lora_B.default.weight\n",
      "Active parameter: base_model.model.base_model.model.base_model.model.base_model.model.roberta.encoder.layer.18.attention.self.query.lora_A.default.weight\n",
      "Active parameter: base_model.model.base_model.model.base_model.model.base_model.model.roberta.encoder.layer.18.attention.self.query.lora_B.default.weight\n",
      "Active parameter: base_model.model.base_model.model.base_model.model.base_model.model.roberta.encoder.layer.18.attention.self.value.lora_A.default.weight\n",
      "Active parameter: base_model.model.base_model.model.base_model.model.base_model.model.roberta.encoder.layer.18.attention.self.value.lora_B.default.weight\n",
      "Active parameter: base_model.model.base_model.model.base_model.model.base_model.model.roberta.encoder.layer.19.attention.self.query.lora_A.default.weight\n",
      "Active parameter: base_model.model.base_model.model.base_model.model.base_model.model.roberta.encoder.layer.19.attention.self.query.lora_B.default.weight\n",
      "Active parameter: base_model.model.base_model.model.base_model.model.base_model.model.roberta.encoder.layer.19.attention.self.value.lora_A.default.weight\n",
      "Active parameter: base_model.model.base_model.model.base_model.model.base_model.model.roberta.encoder.layer.19.attention.self.value.lora_B.default.weight\n",
      "Active parameter: base_model.model.base_model.model.base_model.model.base_model.model.roberta.encoder.layer.20.attention.self.query.lora_A.default.weight\n",
      "Active parameter: base_model.model.base_model.model.base_model.model.base_model.model.roberta.encoder.layer.20.attention.self.query.lora_B.default.weight\n",
      "Active parameter: base_model.model.base_model.model.base_model.model.base_model.model.roberta.encoder.layer.20.attention.self.value.lora_A.default.weight\n",
      "Active parameter: base_model.model.base_model.model.base_model.model.base_model.model.roberta.encoder.layer.20.attention.self.value.lora_B.default.weight\n",
      "Active parameter: base_model.model.base_model.model.base_model.model.base_model.model.roberta.encoder.layer.21.attention.self.query.lora_A.default.weight\n",
      "Active parameter: base_model.model.base_model.model.base_model.model.base_model.model.roberta.encoder.layer.21.attention.self.query.lora_B.default.weight\n",
      "Active parameter: base_model.model.base_model.model.base_model.model.base_model.model.roberta.encoder.layer.21.attention.self.value.lora_A.default.weight\n",
      "Active parameter: base_model.model.base_model.model.base_model.model.base_model.model.roberta.encoder.layer.21.attention.self.value.lora_B.default.weight\n",
      "Active parameter: base_model.model.base_model.model.base_model.model.base_model.model.roberta.encoder.layer.22.attention.self.query.lora_A.default.weight\n",
      "Active parameter: base_model.model.base_model.model.base_model.model.base_model.model.roberta.encoder.layer.22.attention.self.query.lora_B.default.weight\n",
      "Active parameter: base_model.model.base_model.model.base_model.model.base_model.model.roberta.encoder.layer.22.attention.self.value.lora_A.default.weight\n",
      "Active parameter: base_model.model.base_model.model.base_model.model.base_model.model.roberta.encoder.layer.22.attention.self.value.lora_B.default.weight\n",
      "Active parameter: base_model.model.base_model.model.base_model.model.base_model.model.roberta.encoder.layer.23.attention.self.query.lora_A.default.weight\n",
      "Active parameter: base_model.model.base_model.model.base_model.model.base_model.model.roberta.encoder.layer.23.attention.self.query.lora_B.default.weight\n",
      "Active parameter: base_model.model.base_model.model.base_model.model.base_model.model.roberta.encoder.layer.23.attention.self.value.lora_A.default.weight\n",
      "Active parameter: base_model.model.base_model.model.base_model.model.base_model.model.roberta.encoder.layer.23.attention.self.value.lora_B.default.weight\n",
      "Active parameter: base_model.model.base_model.model.base_model.model.base_model.model.classifier.modules_to_save.default.dense.weight\n",
      "Active parameter: base_model.model.base_model.model.base_model.model.base_model.model.classifier.modules_to_save.default.dense.bias\n",
      "Active parameter: base_model.model.base_model.model.base_model.model.base_model.model.classifier.modules_to_save.default.out_proj.weight\n",
      "Active parameter: base_model.model.base_model.model.base_model.model.base_model.model.classifier.modules_to_save.default.out_proj.bias\n",
      "new lora, r = 8:\n"
     ]
    },
    {
     "name": "stderr",
     "output_type": "stream",
     "text": [
      "100%|██████████| 719/719 [00:44<00:00, 16.30it/s]\n",
      "100%|██████████| 188/188 [00:02<00:00, 78.25it/s]\n"
     ]
    },
    {
     "name": "stdout",
     "output_type": "stream",
     "text": [
      "epoch 24: {'pearson': 0.9163537444858784, 'spearmanr': 0.9139291441347508}\n"
     ]
    },
    {
     "name": "stderr",
     "output_type": "stream",
     "text": [
      "100%|██████████| 719/719 [00:43<00:00, 16.56it/s]\n",
      "100%|██████████| 188/188 [00:02<00:00, 78.87it/s]\n"
     ]
    },
    {
     "name": "stdout",
     "output_type": "stream",
     "text": [
      "epoch 25: {'pearson': 0.9191724866125699, 'spearmanr': 0.9157878553802279}\n"
     ]
    },
    {
     "name": "stderr",
     "output_type": "stream",
     "text": [
      "100%|██████████| 719/719 [00:42<00:00, 16.86it/s]\n",
      "100%|██████████| 188/188 [00:02<00:00, 80.39it/s]\n"
     ]
    },
    {
     "name": "stdout",
     "output_type": "stream",
     "text": [
      "epoch 26: {'pearson': 0.9165651760046348, 'spearmanr': 0.913706617290989}\n"
     ]
    },
    {
     "name": "stderr",
     "output_type": "stream",
     "text": [
      "100%|██████████| 719/719 [00:43<00:00, 16.61it/s]\n",
      "100%|██████████| 188/188 [00:02<00:00, 77.43it/s]\n"
     ]
    },
    {
     "name": "stdout",
     "output_type": "stream",
     "text": [
      "epoch 27: {'pearson': 0.9184705183606894, 'spearmanr': 0.9166881032568133}\n"
     ]
    },
    {
     "name": "stderr",
     "output_type": "stream",
     "text": [
      "100%|██████████| 719/719 [00:42<00:00, 16.82it/s]\n",
      "100%|██████████| 188/188 [00:02<00:00, 77.75it/s]\n"
     ]
    },
    {
     "name": "stdout",
     "output_type": "stream",
     "text": [
      "epoch 28: {'pearson': 0.9171397032289896, 'spearmanr': 0.9150774883425847}\n"
     ]
    },
    {
     "name": "stderr",
     "output_type": "stream",
     "text": [
      "100%|██████████| 719/719 [00:43<00:00, 16.61it/s]\n",
      "100%|██████████| 188/188 [00:02<00:00, 78.99it/s]"
     ]
    },
    {
     "name": "stdout",
     "output_type": "stream",
     "text": [
      "epoch 29: {'pearson': 0.9174715354421523, 'spearmanr': 0.9145238473916083}\n"
     ]
    },
    {
     "name": "stderr",
     "output_type": "stream",
     "text": [
      "\n"
     ]
    }
   ],
   "execution_count": 30
  },
  {
   "metadata": {
    "ExecuteTime": {
     "end_time": "2025-02-14T03:35:21.345163Z",
     "start_time": "2025-02-14T03:35:21.342050Z"
    }
   },
   "cell_type": "code",
   "source": [
    "# 这两个指标值域为[-1, 1]\n",
    "# 通过公式 (score + 1) / 2 对结果进行转换"
   ],
   "id": "b5887096518a4845",
   "outputs": [],
   "execution_count": 31
  },
  {
   "metadata": {
    "ExecuteTime": {
     "end_time": "2025-02-14T03:35:21.400439Z",
     "start_time": "2025-02-14T03:35:21.397909Z"
    }
   },
   "cell_type": "code",
   "source": [
    "# seed 3407\n",
    "# bz 8\n",
    "# num_epochs 30\n",
    "# chain_epoch 8\n",
    "# lambda_lora = 8.0\n",
    "# lambda_orth = 0.5\n",
    "# orth_interval = 5 \n",
    "# lr = 2e-4\n",
    "# 第一组lora A矩阵训练好后共享\n",
    "# best 0.922 -> 0.961"
   ],
   "id": "46a3fc244c06eb9",
   "outputs": [],
   "execution_count": 32
  },
  {
   "metadata": {
    "ExecuteTime": {
     "end_time": "2025-02-14T03:35:21.466237Z",
     "start_time": "2025-02-14T03:35:21.463546Z"
    }
   },
   "cell_type": "code",
   "source": [
    "# seed 42\n",
    "# bz 8\n",
    "# num_epochs 30\n",
    "# chain_epoch 8\n",
    "# lambda_lora = 8.0\n",
    "# lambda_orth = 0.5\n",
    "# orth_interval = 5 \n",
    "# lr = 2e-4\n",
    "# 第一组lora A矩阵训练好后共享\n",
    "# best 0.9206 -> 0.9603"
   ],
   "id": "d7d5385ad6efb0cd",
   "outputs": [],
   "execution_count": 33
  },
  {
   "metadata": {
    "ExecuteTime": {
     "end_time": "2025-02-14T03:35:21.522903Z",
     "start_time": "2025-02-14T03:35:21.520095Z"
    }
   },
   "cell_type": "code",
   "source": [
    "# seed 2345\n",
    "# bz 8\n",
    "# num_epochs 30\n",
    "# chain_epoch 8\n",
    "# lambda_lora = 8.0\n",
    "# lambda_orth = 0.5\n",
    "# orth_interval = 5 \n",
    "# lr = 2e-4\n",
    "# 第一组lora A矩阵训练好后共享\n",
    "# best 0.925"
   ],
   "id": "880bec33b82bb8a3",
   "outputs": [],
   "execution_count": 34
  },
  {
   "metadata": {
    "ExecuteTime": {
     "end_time": "2025-02-14T03:35:21.579482Z",
     "start_time": "2025-02-14T03:35:21.576223Z"
    }
   },
   "cell_type": "code",
   "source": [
    "# seed 114514\n",
    "# bz 8\n",
    "# num_epochs 30\n",
    "# chain_epoch 8\n",
    "# lambda_lora = 8.0\n",
    "# lambda_orth = 0.5\n",
    "# orth_interval = 5 \n",
    "# lr = 2e-4\n",
    "# 第一组lora A矩阵训练好后共享\n",
    "# best 0.92183"
   ],
   "id": "943ed26a547163ae",
   "outputs": [],
   "execution_count": 35
  },
  {
   "metadata": {
    "ExecuteTime": {
     "end_time": "2025-02-14T03:35:21.634945Z",
     "start_time": "2025-02-14T03:35:21.632599Z"
    }
   },
   "cell_type": "code",
   "source": [
    "# seed 2999\n",
    "# bz 8\n",
    "# num_epochs 30\n",
    "# chain_epoch 8\n",
    "# lambda_lora = 8.0\n",
    "# lambda_orth = 0.5\n",
    "# orth_interval = 5 \n",
    "# lr = 2e-4\n",
    "# 第一组lora A矩阵训练好后共享\n",
    "# best 0.922"
   ],
   "id": "3d4e60e2799e70f2",
   "outputs": [],
   "execution_count": null
  },
  {
   "metadata": {
    "ExecuteTime": {
     "end_time": "2025-02-14T03:35:21.697175Z",
     "start_time": "2025-02-14T03:35:21.694804Z"
    }
   },
   "cell_type": "code",
   "source": "",
   "id": "32c8947d8b4d3d1",
   "outputs": [],
   "execution_count": null
  },
  {
   "metadata": {
    "ExecuteTime": {
     "end_time": "2025-02-14T03:35:21.757257Z",
     "start_time": "2025-02-14T03:35:21.755039Z"
    }
   },
   "cell_type": "code",
   "source": "",
   "id": "bf2bf1e2b006be2e",
   "outputs": [],
   "execution_count": null
  },
  {
   "metadata": {
    "ExecuteTime": {
     "end_time": "2025-02-14T03:35:21.813682Z",
     "start_time": "2025-02-14T03:35:21.811647Z"
    }
   },
   "cell_type": "code",
   "source": "",
   "id": "9766b20e1911c729",
   "outputs": [],
   "execution_count": null
  }
 ],
 "metadata": {
  "kernelspec": {
   "display_name": "Python 3",
   "language": "python",
   "name": "python3"
  },
  "language_info": {
   "codemirror_mode": {
    "name": "ipython",
    "version": 2
   },
   "file_extension": ".py",
   "mimetype": "text/x-python",
   "name": "python",
   "nbconvert_exporter": "python",
   "pygments_lexer": "ipython2",
   "version": "2.7.6"
  }
 },
 "nbformat": 4,
 "nbformat_minor": 5
}
